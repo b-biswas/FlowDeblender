{
 "cells": [
  {
   "cell_type": "markdown",
   "id": "214f7c00-664d-4232-bc77-5e9665a955eb",
   "metadata": {},
   "source": [
    "In this notebook we try to use the flow network for simulations"
   ]
  },
  {
   "cell_type": "code",
   "execution_count": null,
   "id": "4a5962cd-3027-496c-8fe9-6fa738ae5e95",
   "metadata": {},
   "outputs": [],
   "source": [
    "import numpy as np\n",
    "import tensorflow as tf\n",
    "import tensorflow_probability as tfp\n",
    "\n",
    "import sys\n",
    "\n",
    "import numpy as np\n",
    "import os\n",
    "\n",
    "import matplotlib.pyplot as plt\n",
    "%matplotlib inline"
   ]
  },
  {
   "cell_type": "code",
   "execution_count": null,
   "id": "3400f98e-e540-449d-8b94-6fecf2f9dbc6",
   "metadata": {},
   "outputs": [],
   "source": [
    "sys.path.insert(0,'../')\n",
    "from maddeb.FlowVAEnet import FlowVAEnet\n",
    "from maddeb.utils import listdir_fullpath"
   ]
  },
  {
   "cell_type": "code",
   "execution_count": null,
   "id": "1dce92f7-6b47-4ea0-a54f-fb7cc5a31102",
   "metadata": {},
   "outputs": [],
   "source": [
    "tfd = tfp.distributions\n",
    "tfb = tfp.bijectors"
   ]
  },
  {
   "cell_type": "markdown",
   "id": "b032b147-c17a-4b55-9c9c-c0b85fd0a5a7",
   "metadata": {},
   "source": [
    "## Load trained models"
   ]
  },
  {
   "cell_type": "code",
   "execution_count": null,
   "id": "763eb8a3-2d1b-4c8f-8f59-4dcb5935002c",
   "metadata": {},
   "outputs": [],
   "source": [
    "from maddeb.utils import get_data_dir_path\n",
    "\n",
    "data_dir = get_data_dir_path()\n",
    "\n",
    "tf.get_logger().setLevel('ERROR')\n",
    "latent_dim = 8\n",
    "flow_net = FlowVAEnet(latent_dim=latent_dim)\n",
    "flow_net.load_flow_weights(weights_path=os.path.join(data_dir, \"cosmos8d/flow/val_loss\"))\n",
    "flow_net.load_vae_weights(weights_path=os.path.join(data_dir, \"cosmos8d/vae/val_loss\"))\n",
    "print(flow_net.vae_model.summary())"
   ]
  },
  {
   "cell_type": "markdown",
   "id": "1793b04a-5f3e-4c4d-a8d1-b1485d28b681",
   "metadata": {},
   "source": [
    "### sample Latent space\n",
    "\n",
    "sample form the base distribution, apply the bijector and then feed it to the decoder. \n",
    "Ideally, it should generate the image of a galaxy"
   ]
  },
  {
   "cell_type": "code",
   "execution_count": null,
   "id": "ff0ba787-88f9-43d7-a2ba-7fc4ea0c9afc",
   "metadata": {},
   "outputs": [],
   "source": [
    "zdist = tfd.Independent(\n",
    "        tfd.Normal(loc=tf.zeros(10), scale=1), reinterpreted_batch_ndims=1\n",
    "    )\n",
    "base_sample = zdist.sample(10)"
   ]
  },
  {
   "cell_type": "code",
   "execution_count": null,
   "id": "279ea43f-cbd2-44c3-b0c3-bde5f9845831",
   "metadata": {
    "tags": []
   },
   "outputs": [],
   "source": [
    "sampled_data = flow_net.td.sample(100000).numpy()\n",
    "data =[]\n",
    "for i in range(latent_dim):\n",
    "    data.append(sampled_data[:, i])"
   ]
  },
  {
   "cell_type": "code",
   "execution_count": null,
   "id": "04e79e29-0631-4a5a-bd83-36bcda306b82",
   "metadata": {},
   "outputs": [],
   "source": [
    "plt.boxplot(data, showfliers=False);\n",
    "plt.xlabel(\"Latent Variable\", fontsize=15)\n",
    "plt.ylabel(\"distribution\", fontsize=15)"
   ]
  },
  {
   "cell_type": "code",
   "execution_count": null,
   "id": "6f28f1f4-19e8-40c6-9227-25a204009211",
   "metadata": {},
   "outputs": [],
   "source": [
    "simulation = flow_net.decoder(flow_net.td.sample(10)).numpy()"
   ]
  },
  {
   "cell_type": "code",
   "execution_count": null,
   "id": "d4e2192d-8183-4aae-8cc8-97976a047b55",
   "metadata": {},
   "outputs": [],
   "source": [
    "np.shape(simulation)"
   ]
  },
  {
   "cell_type": "code",
   "execution_count": null,
   "id": "8d5ac212-f998-4afd-a885-758bb7d1a310",
   "metadata": {},
   "outputs": [],
   "source": [
    "fig, axs = plt.subplots(2, 5, figsize=(20,8))\n",
    "\n",
    "for plot_row in range(2):\n",
    "    for plot_col in range(5):\n",
    "\n",
    "        im = axs[plot_row][plot_col].imshow(simulation[plot_row*5+plot_col, :, :, 2])\n",
    "        fig.colorbar(im, ax=axs[plot_row][plot_col], shrink=0.8)\n",
    "        axs[plot_row][plot_col].set_title(\"image\" + str(plot_row*5+plot_col+1))"
   ]
  },
  {
   "cell_type": "code",
   "execution_count": null,
   "id": "9b74c480-dc48-4d81-822d-70024e69f8dd",
   "metadata": {},
   "outputs": [],
   "source": []
  },
  {
   "cell_type": "code",
   "execution_count": null,
   "id": "9cedec52-ff94-412c-9d5b-2e338b008279",
   "metadata": {},
   "outputs": [],
   "source": []
  }
 ],
 "metadata": {
  "kernelspec": {
   "display_name": "madness",
   "language": "python",
   "name": "madness"
  },
  "language_info": {
   "codemirror_mode": {
    "name": "ipython",
    "version": 3
   },
   "file_extension": ".py",
   "mimetype": "text/x-python",
   "name": "python",
   "nbconvert_exporter": "python",
   "pygments_lexer": "ipython3",
   "version": "3.8.13"
  }
 },
 "nbformat": 4,
 "nbformat_minor": 5
}
