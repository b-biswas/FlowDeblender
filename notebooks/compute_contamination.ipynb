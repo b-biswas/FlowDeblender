{
 "cells": [
  {
   "cell_type": "code",
   "execution_count": null,
   "id": "a071e277-581a-4797-9f84-a30aea227915",
   "metadata": {},
   "outputs": [],
   "source": [
    "%load_ext autoreload\n",
    "%autoreload 2"
   ]
  },
  {
   "cell_type": "code",
   "execution_count": null,
   "id": "3fe4b1d3-5984-4460-9cd5-2305e005eabd",
   "metadata": {},
   "outputs": [],
   "source": [
    "import logging\n",
    "import pickle\n",
    "import numpy as np\n",
    "import matplotlib.pyplot as plt\n",
    "import seaborn as sns\n",
    "import sep\n",
    "import pandas as pd\n",
    "import os\n",
    "from astropy.table import Table, vstack"
   ]
  },
  {
   "cell_type": "code",
   "execution_count": null,
   "id": "050216cb-3292-4833-89ee-dfed60a51ddd",
   "metadata": {},
   "outputs": [],
   "source": [
    "from maddeb.utils import listdir_fullpath, get_data_dir_path"
   ]
  },
  {
   "cell_type": "code",
   "execution_count": null,
   "id": "ff866e0c-5e53-4de1-b74b-de0ce7824203",
   "metadata": {
    "tags": []
   },
   "outputs": [],
   "source": [
    "logging.basicConfig(format=\"%(message)s\", level=logging.INFO)\n",
    "LOG = logging.getLogger(__name__)"
   ]
  },
  {
   "cell_type": "markdown",
   "id": "16c44364-833f-4987-b142-ce073854123e",
   "metadata": {},
   "source": [
    "## load the saved results"
   ]
  },
  {
   "cell_type": "code",
   "execution_count": null,
   "id": "63f6d95d-6eca-47b8-a919-e71f492c6cf0",
   "metadata": {},
   "outputs": [],
   "source": [
    "density_level = \"high\""
   ]
  },
  {
   "cell_type": "code",
   "execution_count": null,
   "id": "8f10da0c-39fb-4bd9-bae8-d1b65f61531b",
   "metadata": {
    "tags": []
   },
   "outputs": [],
   "source": [
    "data_path = \"/sps/lsst/users/bbiswas/MADNESS_results/\" + density_level + \"_density\"\n",
    "run_name = \"kl01\" # 12 to 20 galaxies\n",
    "result_dir_path = os.path.join(data_path, run_name)"
   ]
  },
  {
   "cell_type": "code",
   "execution_count": null,
   "id": "52ef85ee-f939-4280-bf7f-7d1f3295031b",
   "metadata": {},
   "outputs": [],
   "source": [
    "madness_results=[]\n",
    "scarlet_results=[]\n",
    "actual_photometry = []\n",
    "blended_photometry = []\n",
    "\n",
    "for file_num in range(50):\n",
    "\n",
    "    madness_results = pd.read_pickle(os.path.join(result_dir_path, \"madness_results\", str(file_num) + \".pkl\"))\n",
    "\n",
    "    actual_photometry = pd.read_pickle(os.path.join(data_path, \"actual_photometry\", str(file_num) + \".pkl\"))\n",
    "    blended_photometry = pd.read_pickle(os.path.join(data_path, \"blended_photometry\",  str(file_num) + \".pkl\"))\n",
    "    \n",
    "    madness_results[\"r_contamination\"] = ((blended_photometry[\"r_phot_flux\"].values - actual_photometry[\"r_phot_flux\"].values))/actual_photometry[\"r_phot_flux\"].values\n",
    "\n",
    "    madness_results.to_pickle(os.path.join(result_dir_path, \"madness_results\", str(file_num) + \".pkl\"))"
   ]
  },
  {
   "cell_type": "code",
   "execution_count": null,
   "id": "34376097-7fb3-4f06-8657-72f71e2a15e9",
   "metadata": {},
   "outputs": [],
   "source": []
  },
  {
   "cell_type": "markdown",
   "id": "eac063f0-c2b2-494a-9b0e-737aeccab945",
   "metadata": {},
   "source": [
    "# Add magnitude values"
   ]
  },
  {
   "cell_type": "code",
   "execution_count": null,
   "id": "18951e2f-100a-4638-b2dc-f092664d9a36",
   "metadata": {},
   "outputs": [
    {
     "name": "stderr",
     "output_type": "stream",
     "text": [
      "Processing file 0\n"
     ]
    },
    {
     "ename": "KeyboardInterrupt",
     "evalue": "",
     "output_type": "error",
     "traceback": [
      "\u001b[0;31m---------------------------------------------------------------------------\u001b[0m",
      "\u001b[0;31mKeyboardInterrupt\u001b[0m                         Traceback (most recent call last)",
      "Input \u001b[0;32mIn [16]\u001b[0m, in \u001b[0;36m<cell line: 9>\u001b[0;34m()\u001b[0m\n\u001b[1;32m     11\u001b[0m mag_data \u001b[38;5;241m=\u001b[39m []\n\u001b[1;32m     13\u001b[0m LOG\u001b[38;5;241m.\u001b[39minfo(\u001b[38;5;124m\"\u001b[39m\u001b[38;5;124mProcessing file \u001b[39m\u001b[38;5;124m\"\u001b[39m \u001b[38;5;241m+\u001b[39m \u001b[38;5;28mstr\u001b[39m(file_num))\n\u001b[0;32m---> 14\u001b[0m blend \u001b[38;5;241m=\u001b[39m \u001b[43mhickle\u001b[49m\u001b[38;5;241;43m.\u001b[39;49m\u001b[43mload\u001b[49m\u001b[43m(\u001b[49m\n\u001b[1;32m     15\u001b[0m \u001b[43m    \u001b[49m\u001b[43mos\u001b[49m\u001b[38;5;241;43m.\u001b[39;49m\u001b[43mpath\u001b[49m\u001b[38;5;241;43m.\u001b[39;49m\u001b[43mjoin\u001b[49m\u001b[43m(\u001b[49m\n\u001b[1;32m     16\u001b[0m \u001b[43m        \u001b[49m\u001b[43msimulation_path\u001b[49m\u001b[43m,\u001b[49m\n\u001b[1;32m     17\u001b[0m \u001b[43m        \u001b[49m\u001b[38;5;28;43mstr\u001b[39;49m\u001b[43m(\u001b[49m\u001b[43mfile_num\u001b[49m\u001b[43m)\u001b[49m\u001b[43m \u001b[49m\u001b[38;5;241;43m+\u001b[39;49m\u001b[43m \u001b[49m\u001b[38;5;124;43m\"\u001b[39;49m\u001b[38;5;124;43m.hkl\u001b[39;49m\u001b[38;5;124;43m\"\u001b[39;49m\u001b[43m,\u001b[49m\n\u001b[1;32m     18\u001b[0m \u001b[43m    \u001b[49m\u001b[43m)\u001b[49m\n\u001b[1;32m     19\u001b[0m \u001b[43m\u001b[49m\u001b[43m)\u001b[49m\n\u001b[1;32m     21\u001b[0m \u001b[38;5;28;01mfor\u001b[39;00m field_num \u001b[38;5;129;01min\u001b[39;00m \u001b[38;5;28mrange\u001b[39m(\u001b[38;5;28mlen\u001b[39m(blend[\u001b[38;5;124m\"\u001b[39m\u001b[38;5;124mblend_list\u001b[39m\u001b[38;5;124m\"\u001b[39m])):\n\u001b[1;32m     22\u001b[0m     df \u001b[38;5;241m=\u001b[39m blend[\u001b[38;5;124m\"\u001b[39m\u001b[38;5;124mblend_list\u001b[39m\u001b[38;5;124m\"\u001b[39m][field_num]\u001b[38;5;241m.\u001b[39mto_pandas()[mag_col_names]\n",
      "File \u001b[0;32m/pbs/throng/lsst/users/bbiswas/miniconda3/envs/madness/lib/python3.8/site-packages/hickle/hickle.py:379\u001b[0m, in \u001b[0;36mload\u001b[0;34m(file_obj, path, safe, filename)\u001b[0m\n\u001b[1;32m    377\u001b[0m     \u001b[38;5;28;01mwith\u001b[39;00m LoaderManager\u001b[38;5;241m.\u001b[39mcreate_manager( h_root_group,\u001b[38;5;28;01mFalse\u001b[39;00m) \u001b[38;5;28;01mas\u001b[39;00m loader:\n\u001b[1;32m    378\u001b[0m         \u001b[38;5;28;01mwith\u001b[39;00m ReferenceManager\u001b[38;5;241m.\u001b[39mcreate_manager(h_root_group,pickle_loads) \u001b[38;5;28;01mas\u001b[39;00m memo:\n\u001b[0;32m--> 379\u001b[0m             \u001b[43m_load\u001b[49m\u001b[43m(\u001b[49m\u001b[43mpy_container\u001b[49m\u001b[43m,\u001b[49m\u001b[43m \u001b[49m\u001b[38;5;124;43m'\u001b[39;49m\u001b[38;5;124;43mdata\u001b[39;49m\u001b[38;5;124;43m'\u001b[39;49m\u001b[43m,\u001b[49m\u001b[43mh_root_group\u001b[49m\u001b[43m[\u001b[49m\u001b[38;5;124;43m'\u001b[39;49m\u001b[38;5;124;43mdata\u001b[39;49m\u001b[38;5;124;43m'\u001b[39;49m\u001b[43m]\u001b[49m\u001b[43m,\u001b[49m\u001b[43mmemo\u001b[49m\u001b[43m,\u001b[49m\u001b[43mloader\u001b[49m\u001b[43m)\u001b[49m \u001b[38;5;66;03m#load_loader = load_loader)\u001b[39;00m\n\u001b[1;32m    380\u001b[0m     \u001b[38;5;28;01mreturn\u001b[39;00m py_container\u001b[38;5;241m.\u001b[39mconvert()\n\u001b[1;32m    382\u001b[0m \u001b[38;5;66;03m# Else, raise error\u001b[39;00m\n",
      "File \u001b[0;32m/pbs/throng/lsst/users/bbiswas/miniconda3/envs/madness/lib/python3.8/site-packages/hickle/hickle.py:450\u001b[0m, in \u001b[0;36m_load\u001b[0;34m(py_container, h_name, h_node, memo, loader)\u001b[0m\n\u001b[1;32m    447\u001b[0m py_subcontainer \u001b[38;5;241m=\u001b[39m py_container_class(h_node\u001b[38;5;241m.\u001b[39mattrs,base_type,py_obj_type)\n\u001b[1;32m    449\u001b[0m \u001b[38;5;28;01mfor\u001b[39;00m h_key,h_subnode \u001b[38;5;129;01min\u001b[39;00m py_subcontainer\u001b[38;5;241m.\u001b[39mfilter(h_node):\n\u001b[0;32m--> 450\u001b[0m     \u001b[43m_load\u001b[49m\u001b[43m(\u001b[49m\u001b[43mpy_subcontainer\u001b[49m\u001b[43m,\u001b[49m\u001b[43m \u001b[49m\u001b[43mh_key\u001b[49m\u001b[43m,\u001b[49m\u001b[43m \u001b[49m\u001b[43mh_subnode\u001b[49m\u001b[43m,\u001b[49m\u001b[43m \u001b[49m\u001b[43mmemo\u001b[49m\u001b[43m \u001b[49m\u001b[43m,\u001b[49m\u001b[43mloader\u001b[49m\u001b[43m)\u001b[49m\n\u001b[1;32m    452\u001b[0m \u001b[38;5;66;03m# finalize sub item\u001b[39;00m\n\u001b[1;32m    453\u001b[0m sub_data \u001b[38;5;241m=\u001b[39m py_subcontainer\u001b[38;5;241m.\u001b[39mconvert()\n",
      "File \u001b[0;32m/pbs/throng/lsst/users/bbiswas/miniconda3/envs/madness/lib/python3.8/site-packages/hickle/hickle.py:461\u001b[0m, in \u001b[0;36m_load\u001b[0;34m(py_container, h_name, h_node, memo, loader)\u001b[0m\n\u001b[1;32m    455\u001b[0m \u001b[38;5;28;01melse\u001b[39;00m:\n\u001b[1;32m    456\u001b[0m \n\u001b[1;32m    457\u001b[0m     \u001b[38;5;66;03m# must be a dataset load it and append to parent container.\u001b[39;00m\n\u001b[1;32m    458\u001b[0m     \u001b[38;5;66;03m# In case no appropriate loader could be found use recover_custom_dataset\u001b[39;00m\n\u001b[1;32m    459\u001b[0m     \u001b[38;5;66;03m# instead to at least recover the contained data\u001b[39;00m\n\u001b[1;32m    460\u001b[0m     load_fn \u001b[38;5;241m=\u001b[39m loader\u001b[38;5;241m.\u001b[39mhkl_types_dict\u001b[38;5;241m.\u001b[39mget(base_type, recover_custom_dataset)\n\u001b[0;32m--> 461\u001b[0m     sub_data \u001b[38;5;241m=\u001b[39m \u001b[43mload_fn\u001b[49m\u001b[43m(\u001b[49m\u001b[43mh_node\u001b[49m\u001b[43m,\u001b[49m\u001b[43mbase_type\u001b[49m\u001b[43m,\u001b[49m\u001b[43mpy_obj_type\u001b[49m\u001b[43m)\u001b[49m\n\u001b[1;32m    462\u001b[0m     py_container\u001b[38;5;241m.\u001b[39mappend(h_name,sub_data,h_node\u001b[38;5;241m.\u001b[39mattrs)\n\u001b[1;32m    464\u001b[0m \u001b[38;5;66;03m# store loaded object for properly restoring additional references to it\u001b[39;00m\n",
      "File \u001b[0;32m/pbs/throng/lsst/users/bbiswas/miniconda3/envs/madness/lib/python3.8/site-packages/hickle/loaders/load_numpy.py:241\u001b[0m, in \u001b[0;36mload_ndarray_dataset\u001b[0;34m(h_node, base_type, py_obj_type)\u001b[0m\n\u001b[1;32m    237\u001b[0m     \u001b[38;5;28;01mreturn\u001b[39;00m py_obj_type(data\u001b[38;5;241m=\u001b[39mh_node[()],dtype\u001b[38;5;241m=\u001b[39mdtype)\n\u001b[1;32m    238\u001b[0m \u001b[38;5;66;03m# TODO how to restore other ndarray derived object_types\u001b[39;00m\n\u001b[1;32m    239\u001b[0m \u001b[38;5;66;03m# simply using classname for casting does not work, in\u001b[39;00m\n\u001b[1;32m    240\u001b[0m \u001b[38;5;66;03m# case they use the same interface like numpy.ndarray\u001b[39;00m\n\u001b[0;32m--> 241\u001b[0m \u001b[38;5;28;01mreturn\u001b[39;00m np\u001b[38;5;241m.\u001b[39marray(\u001b[43mh_node\u001b[49m\u001b[43m[\u001b[49m\u001b[43m(\u001b[49m\u001b[43m)\u001b[49m\u001b[43m]\u001b[49m, dtype\u001b[38;5;241m=\u001b[39mdtype)\n",
      "File \u001b[0;32mh5py/_objects.pyx:54\u001b[0m, in \u001b[0;36mh5py._objects.with_phil.wrapper\u001b[0;34m()\u001b[0m\n",
      "File \u001b[0;32mh5py/_objects.pyx:55\u001b[0m, in \u001b[0;36mh5py._objects.with_phil.wrapper\u001b[0;34m()\u001b[0m\n",
      "File \u001b[0;32m/pbs/throng/lsst/users/bbiswas/miniconda3/envs/madness/lib/python3.8/site-packages/h5py/_hl/dataset.py:573\u001b[0m, in \u001b[0;36mDataset.__getitem__\u001b[0;34m(self, args)\u001b[0m\n\u001b[1;32m    571\u001b[0m mspace \u001b[38;5;241m=\u001b[39m h5s\u001b[38;5;241m.\u001b[39mcreate_simple(mshape)\n\u001b[1;32m    572\u001b[0m fspace \u001b[38;5;241m=\u001b[39m selection\u001b[38;5;241m.\u001b[39mid\n\u001b[0;32m--> 573\u001b[0m \u001b[38;5;28;43mself\u001b[39;49m\u001b[38;5;241;43m.\u001b[39;49m\u001b[43mid\u001b[49m\u001b[38;5;241;43m.\u001b[39;49m\u001b[43mread\u001b[49m\u001b[43m(\u001b[49m\u001b[43mmspace\u001b[49m\u001b[43m,\u001b[49m\u001b[43m \u001b[49m\u001b[43mfspace\u001b[49m\u001b[43m,\u001b[49m\u001b[43m \u001b[49m\u001b[43marr\u001b[49m\u001b[43m,\u001b[49m\u001b[43m \u001b[49m\u001b[43mmtype\u001b[49m\u001b[43m,\u001b[49m\u001b[43m \u001b[49m\u001b[43mdxpl\u001b[49m\u001b[38;5;241;43m=\u001b[39;49m\u001b[38;5;28;43mself\u001b[39;49m\u001b[38;5;241;43m.\u001b[39;49m\u001b[43m_dxpl\u001b[49m\u001b[43m)\u001b[49m\n\u001b[1;32m    575\u001b[0m \u001b[38;5;66;03m# Patch up the output for NumPy\u001b[39;00m\n\u001b[1;32m    576\u001b[0m \u001b[38;5;28;01mif\u001b[39;00m \u001b[38;5;28mlen\u001b[39m(names) \u001b[38;5;241m==\u001b[39m \u001b[38;5;241m1\u001b[39m:\n",
      "\u001b[0;31mKeyboardInterrupt\u001b[0m: "
     ]
    }
   ],
   "source": [
    "import hickle\n",
    "\n",
    "simulation_path = os.path.join(\n",
    "    \"/sps/lsst/users/bbiswas/simulations/test_data/\", density_level\n",
    ")\n",
    "mag_col_names = ['u_ab', 'g_ab', 'r_ab', 'i_ab', 'z_ab', 'y_ab']\n",
    "num_repetations=300\n",
    "\n",
    "for file_num in range(num_repetations):\n",
    "\n",
    "    mag_data = []\n",
    "\n",
    "    LOG.info(\"Processing file \" + str(file_num))\n",
    "    blend = hickle.load(\n",
    "        os.path.join(\n",
    "            simulation_path,\n",
    "            str(file_num) + \".hkl\",\n",
    "        )\n",
    "    )\n",
    "\n",
    "    for field_num in range(len(blend[\"blend_list\"])):\n",
    "        df = blend[\"blend_list\"][field_num].to_pandas()[mag_col_names]\n",
    "        mag_data.append(df)\n",
    "        \n",
    "    mag_data = pd.concat(mag_data)\n",
    "\n",
    "    madness_results = pd.read_pickle(os.path.join(result_dir_path, \"madness_results\", str(file_num) + \".pkl\"))\n",
    "\n",
    "    for col_name in mag_data.columns:\n",
    "        madness_results[col_name] = mag_data[col_name].values\n",
    "    \n",
    "    madness_results.to_pickle(os.path.join(result_dir_path, \"madness_results\", str(file_num) + \".pkl\"))"
   ]
  },
  {
   "cell_type": "code",
   "execution_count": null,
   "id": "ccbd92cc-414e-4b8f-b80f-47f718c80669",
   "metadata": {},
   "outputs": [],
   "source": []
  },
  {
   "cell_type": "code",
   "execution_count": null,
   "id": "2abcef59-7222-4466-a9f3-77d6fe00c95a",
   "metadata": {},
   "outputs": [],
   "source": []
  }
 ],
 "metadata": {
  "kernelspec": {
   "display_name": "madness",
   "language": "python",
   "name": "madness"
  },
  "language_info": {
   "codemirror_mode": {
    "name": "ipython",
    "version": 3
   },
   "file_extension": ".py",
   "mimetype": "text/x-python",
   "name": "python",
   "nbconvert_exporter": "python",
   "pygments_lexer": "ipython3",
   "version": "3.8.13"
  }
 },
 "nbformat": 4,
 "nbformat_minor": 5
}
