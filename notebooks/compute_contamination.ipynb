{
 "cells": [
  {
   "cell_type": "code",
   "execution_count": null,
   "id": "a071e277-581a-4797-9f84-a30aea227915",
   "metadata": {},
   "outputs": [],
   "source": [
    "%load_ext autoreload\n",
    "%autoreload 2"
   ]
  },
  {
   "cell_type": "code",
   "execution_count": null,
   "id": "3fe4b1d3-5984-4460-9cd5-2305e005eabd",
   "metadata": {},
   "outputs": [],
   "source": [
    "import logging\n",
    "import pickle\n",
    "import numpy as np\n",
    "import matplotlib.pyplot as plt\n",
    "import seaborn as sns\n",
    "import sep\n",
    "import pandas as pd\n",
    "import os\n",
    "from astropy.table import Table, vstack"
   ]
  },
  {
   "cell_type": "code",
   "execution_count": null,
   "id": "050216cb-3292-4833-89ee-dfed60a51ddd",
   "metadata": {},
   "outputs": [],
   "source": [
    "from maddeb.utils import listdir_fullpath, get_data_dir_path"
   ]
  },
  {
   "cell_type": "code",
   "execution_count": null,
   "id": "ff866e0c-5e53-4de1-b74b-de0ce7824203",
   "metadata": {
    "tags": []
   },
   "outputs": [],
   "source": [
    "logging.basicConfig(format=\"%(message)s\", level=logging.INFO)\n",
    "LOG = logging.getLogger(__name__)"
   ]
  },
  {
   "cell_type": "markdown",
   "id": "16c44364-833f-4987-b142-ce073854123e",
   "metadata": {},
   "source": [
    "## load the saved results"
   ]
  },
  {
   "cell_type": "code",
   "execution_count": null,
   "id": "63f6d95d-6eca-47b8-a919-e71f492c6cf0",
   "metadata": {},
   "outputs": [],
   "source": [
    "density_level = \"low\""
   ]
  },
  {
   "cell_type": "code",
   "execution_count": null,
   "id": "8f10da0c-39fb-4bd9-bae8-d1b65f61531b",
   "metadata": {
    "tags": []
   },
   "outputs": [],
   "source": [
    "data_path = \"/sps/lsst/users/bbiswas/MADNESS_results/\" + density_level + \"_density\"\n",
    "run_name = \"kl01\" # 12 to 20 galaxies\n",
    "result_dir_path = os.path.join(data_path, run_name)"
   ]
  },
  {
   "cell_type": "code",
   "execution_count": null,
   "id": "52ef85ee-f939-4280-bf7f-7d1f3295031b",
   "metadata": {},
   "outputs": [],
   "source": [
    "madness_results=[]\n",
    "scarlet_results=[]\n",
    "actual_photometry = []\n",
    "blended_photometry = []\n",
    "\n",
    "for file_num in range(300):\n",
    "\n",
    "    madness_results = pd.read_pickle(os.path.join(result_dir_path, \"madness_results\", str(file_num) + \".pkl\"))\n",
    "\n",
    "    actual_photometry = pd.read_pickle(os.path.join(data_path, \"actual_photometry\", str(file_num) + \".pkl\"))\n",
    "    blended_photometry = pd.read_pickle(os.path.join(data_path, \"blended_photometry\",  str(file_num) + \".pkl\"))\n",
    "    \n",
    "    madness_results[\"r_contamination\"] = ((blended_photometry[\"r_phot_flux\"].values - actual_photometry[\"r_phot_flux\"].values))/actual_photometry[\"r_phot_flux\"].values\n",
    "\n",
    "    madness_results.to_pickle(os.path.join(result_dir_path, \"madness_results\", str(file_num) + \".pkl\"))"
   ]
  },
  {
   "cell_type": "code",
   "execution_count": null,
   "id": "34376097-7fb3-4f06-8657-72f71e2a15e9",
   "metadata": {},
   "outputs": [],
   "source": []
  }
 ],
 "metadata": {
  "kernelspec": {
   "display_name": "madness",
   "language": "python",
   "name": "madness"
  },
  "language_info": {
   "codemirror_mode": {
    "name": "ipython",
    "version": 3
   },
   "file_extension": ".py",
   "mimetype": "text/x-python",
   "name": "python",
   "nbconvert_exporter": "python",
   "pygments_lexer": "ipython3",
   "version": "3.8.13"
  }
 },
 "nbformat": 4,
 "nbformat_minor": 5
}
