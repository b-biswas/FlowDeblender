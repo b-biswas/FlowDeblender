{
 "cells": [
  {
   "cell_type": "code",
   "execution_count": 1,
   "id": "615b3ffc-d8d0-4707-ba2b-8a5efbd88e79",
   "metadata": {},
   "outputs": [],
   "source": [
    "import os\n",
    "import astropy.table"
   ]
  },
  {
   "cell_type": "code",
   "execution_count": 2,
   "id": "ce89ac61-4127-4e3b-a13d-8a69333d9a7e",
   "metadata": {},
   "outputs": [],
   "source": [
    "CATSIM_CATALOG_PATH = \"/sps/lsst/users/bbiswas/OneDegSq.fits\"\n",
    "\n",
    "_, ext = os.path.splitext(CATSIM_CATALOG_PATH)\n",
    "fmt = \"fits\" if ext.lower() == \".fits\" else \"ascii.basic\"\n",
    "catalog = astropy.table.Table.read(CATSIM_CATALOG_PATH, format=fmt)"
   ]
  },
  {
   "cell_type": "code",
   "execution_count": 3,
   "id": "80422180-dd03-4744-a32c-264d8d4022d9",
   "metadata": {},
   "outputs": [
    {
     "data": {
      "text/html": [
       "<div><i>Table length=858502</i>\n",
       "<table id=\"table140461844381456\" class=\"table-striped table-bordered table-condensed\">\n",
       "<thead><tr><th>galtileid</th><th>ra</th><th>dec</th><th>redshift</th><th>fluxnorm_bulge</th><th>fluxnorm_disk</th><th>fluxnorm_agn</th><th>a_b</th><th>a_d</th><th>b_b</th><th>b_d</th><th>pa_bulge</th><th>pa_disk</th><th>u_ab</th><th>g_ab</th><th>r_ab</th><th>i_ab</th><th>z_ab</th><th>y_ab</th></tr></thead>\n",
       "<thead><tr><th>int64</th><th>float64</th><th>float64</th><th>float64</th><th>float64</th><th>float64</th><th>float64</th><th>float64</th><th>float64</th><th>float64</th><th>float64</th><th>float64</th><th>float64</th><th>float64</th><th>float64</th><th>float64</th><th>float64</th><th>float64</th><th>float64</th></tr></thead>\n",
       "<tr><td>2200871446</td><td>0.418319702147</td><td>-0.000148399994941</td><td>0.496377289295</td><td>0.0</td><td>1.4144730572e-17</td><td>0.0</td><td>0.0</td><td>0.278649687767</td><td>0.0</td><td>0.221303001046</td><td>0.0</td><td>307.344329834</td><td>25.9418621063</td><td>25.129743576</td><td>23.9588813782</td><td>23.3607368469</td><td>23.0723800659</td><td>22.9095973969</td></tr>\n",
       "<tr><td>2205921112</td><td>0.420028448104</td><td>-0.00100259995088</td><td>1.89508104324</td><td>0.0</td><td>1.91501907101e-18</td><td>0.0</td><td>0.0</td><td>0.358063697815</td><td>0.0</td><td>0.313674807549</td><td>0.0</td><td>137.791702271</td><td>25.848903656</td><td>25.867565155</td><td>25.9179477692</td><td>25.9851398468</td><td>25.8779563904</td><td>25.7642536163</td></tr>\n",
       "<tr><td>2205010878</td><td>0.423432350157</td><td>-0.00312969996594</td><td>1.93795013428</td><td>0.0</td><td>2.15612608955e-18</td><td>0.0</td><td>0.0</td><td>0.444279909134</td><td>0.0</td><td>0.424689114094</td><td>0.0</td><td>233.972427368</td><td>25.5657653809</td><td>25.5659580231</td><td>25.6165962219</td><td>25.6957893372</td><td>25.6281528473</td><td>25.5399188995</td></tr>\n",
       "<tr><td>2208734677</td><td>0.42108619213</td><td>-7.25999998394e-05</td><td>1.16251754761</td><td>0.0</td><td>1.74001598433e-18</td><td>0.0</td><td>0.0</td><td>0.312852591276</td><td>0.0</td><td>0.180962398648</td><td>0.0</td><td>217.517120361</td><td>27.3159255981</td><td>27.4167633057</td><td>27.051820755</td><td>26.6737632751</td><td>25.9380722046</td><td>25.6458129883</td></tr>\n",
       "<tr><td>2212241881</td><td>0.423181056976</td><td>-0.00218109996058</td><td>1.35479903221</td><td>0.0</td><td>1.11031595423e-18</td><td>0.0</td><td>0.0</td><td>0.414316505194</td><td>0.0</td><td>0.205554202199</td><td>0.0</td><td>226.523849487</td><td>27.3325939178</td><td>27.4470024109</td><td>27.3282527924</td><td>27.0680370331</td><td>26.7419490814</td><td>26.1817016602</td></tr>\n",
       "<tr><td>2204477290</td><td>0.422583341599</td><td>-0.000604000000749</td><td>1.33114361763</td><td>0.0</td><td>5.75775484903e-18</td><td>0.0</td><td>0.0</td><td>0.351797997952</td><td>0.0</td><td>0.126827403903</td><td>0.0</td><td>53.955165863</td><td>25.6527175903</td><td>25.7753200531</td><td>25.4755821228</td><td>25.2793464661</td><td>24.9572029114</td><td>24.4631252289</td></tr>\n",
       "<tr><td>2201104165</td><td>0.422105312347</td><td>-0.00160690001212</td><td>0.812159895897</td><td>6.57883086866e-18</td><td>2.26453001134e-17</td><td>0.0</td><td>0.22702370584</td><td>0.191140606999</td><td>0.20540009439</td><td>0.0433686003089</td><td>24.3779182434</td><td>24.3779182434</td><td>25.9493045807</td><td>25.4186573029</td><td>24.5099773407</td><td>23.527223587</td><td>23.0481529236</td><td>22.813867569</td></tr>\n",
       "<tr><td>2211831084</td><td>0.422278761862</td><td>-0.00242089992389</td><td>1.52316868305</td><td>0.0</td><td>1.06012697736e-18</td><td>0.0</td><td>0.0</td><td>0.216705903411</td><td>0.0</td><td>0.123286098242</td><td>0.0</td><td>13.71824646</td><td>27.2072696686</td><td>27.268491745</td><td>27.2910671234</td><td>27.0573310852</td><td>26.8970832825</td><td>26.4211711884</td></tr>\n",
       "<tr><td>2213920571</td><td>0.428705215453</td><td>-0.00933680031449</td><td>1.01047706604</td><td>0.0</td><td>2.24895700248e-19</td><td>0.0</td><td>0.0</td><td>0.229738906026</td><td>0.0</td><td>0.175429001451</td><td>0.0</td><td>281.466491699</td><td>26.6581230164</td><td>26.9268531799</td><td>27.170211792</td><td>27.3262882233</td><td>27.3432483673</td><td>27.5143566132</td></tr>\n",
       "<tr><td>2209679020</td><td>0.426987767219</td><td>-0.00824970006943</td><td>0.95235222578</td><td>0.0</td><td>1.05405795321e-18</td><td>0.0</td><td>0.0</td><td>0.313734412193</td><td>0.0</td><td>0.129461601377</td><td>0.0</td><td>136.195404053</td><td>26.9098415375</td><td>27.0086174011</td><td>26.8457508087</td><td>26.6200237274</td><td>26.4114837646</td><td>26.3559627533</td></tr>\n",
       "<tr><td>...</td><td>...</td><td>...</td><td>...</td><td>...</td><td>...</td><td>...</td><td>...</td><td>...</td><td>...</td><td>...</td><td>...</td><td>...</td><td>...</td><td>...</td><td>...</td><td>...</td><td>...</td><td>...</td></tr>\n",
       "<tr><td>402709423183</td><td>359.877529502</td><td>0.468313187361</td><td>0.904925823212</td><td>0.0</td><td>1.48694400503e-18</td><td>0.0</td><td>0.0</td><td>0.209693700075</td><td>0.0</td><td>0.074241399765</td><td>0.0</td><td>182.327575684</td><td>28.4648532867</td><td>28.2951965332</td><td>27.5841941833</td><td>26.7117614746</td><td>26.2061023712</td><td>25.9938392639</td></tr>\n",
       "<tr><td>402717225447</td><td>359.873967052</td><td>0.469882488251</td><td>2.87353587151</td><td>0.0</td><td>2.4556720225e-19</td><td>0.0</td><td>0.0</td><td>0.16920889914</td><td>0.0</td><td>0.105639897287</td><td>0.0</td><td>319.952301025</td><td>29.1664733887</td><td>28.1510124207</td><td>27.980638504</td><td>28.0635261536</td><td>28.159286499</td><td>28.0919113159</td></tr>\n",
       "<tr><td>402708240625</td><td>359.874082327</td><td>0.469963699579</td><td>0.73189842701</td><td>0.0</td><td>8.5252547822e-19</td><td>0.0</td><td>0.0</td><td>0.415316998959</td><td>0.0</td><td>0.382323294878</td><td>0.0</td><td>268.864807129</td><td>29.6265830994</td><td>28.6743927002</td><td>27.4818897247</td><td>26.468044281</td><td>26.1617202759</td><td>25.9628505707</td></tr>\n",
       "<tr><td>402715331570</td><td>359.875172257</td><td>0.470767110586</td><td>1.13901436329</td><td>0.0</td><td>6.89243489121e-19</td><td>0.0</td><td>0.0</td><td>0.237239196897</td><td>0.0</td><td>0.0846088975668</td><td>0.0</td><td>179.666900635</td><td>28.4756774902</td><td>28.5343647003</td><td>27.9942626953</td><td>27.6640815735</td><td>26.918012619</td><td>26.7960968018</td></tr>\n",
       "<tr><td>402700244654</td><td>359.875229836</td><td>0.469946593046</td><td>0.648103415966</td><td>3.45350585806e-17</td><td>6.23718269364e-17</td><td>0.0</td><td>0.315796494484</td><td>0.389489203691</td><td>0.315575987101</td><td>0.130392700434</td><td>205.661132812</td><td>205.661132812</td><td>24.8195457458</td><td>23.8537445068</td><td>22.7531909943</td><td>21.8946380615</td><td>21.5558547974</td><td>21.2948169708</td></tr>\n",
       "<tr><td>402714175618</td><td>359.875075817</td><td>0.47013181448</td><td>1.1736562252</td><td>0.0</td><td>4.79943684787e-19</td><td>0.0</td><td>0.0</td><td>0.122124500573</td><td>0.0</td><td>0.111616298556</td><td>0.0</td><td>97.6158218384</td><td>27.4999103546</td><td>27.5811023712</td><td>27.5877017975</td><td>27.4271869659</td><td>26.8473339081</td><td>26.6255302429</td></tr>\n",
       "<tr><td>402709151935</td><td>359.87477541</td><td>0.47007510066</td><td>0.553092181683</td><td>0.0</td><td>7.15231125823e-19</td><td>0.0</td><td>0.0</td><td>0.429201304913</td><td>0.0</td><td>0.326116800308</td><td>0.0</td><td>182.2449646</td><td>29.6542015076</td><td>28.4843139648</td><td>27.1776161194</td><td>26.6372928619</td><td>26.4419765472</td><td>26.3202629089</td></tr>\n",
       "<tr><td>402713323434</td><td>359.87379849</td><td>0.467285513878</td><td>2.40305948257</td><td>0.0</td><td>3.15274798144e-19</td><td>0.0</td><td>0.0</td><td>0.34524589777</td><td>0.0</td><td>0.174394994974</td><td>0.0</td><td>29.6882610321</td><td>27.530134201</td><td>27.0710868835</td><td>27.0720863342</td><td>27.2680912018</td><td>27.1825656891</td><td>27.1724567413</td></tr>\n",
       "<tr><td>402715701509</td><td>359.873594165</td><td>0.467974096537</td><td>3.16279149055</td><td>8.52937724358e-20</td><td>3.33143502038e-19</td><td>0.0</td><td>0.275888293982</td><td>0.470422208309</td><td>0.275514304638</td><td>0.340879589319</td><td>181.812438965</td><td>181.812438965</td><td>29.486618042</td><td>27.923828125</td><td>27.6859416962</td><td>27.6814937592</td><td>27.7269096375</td><td>27.7457923889</td></tr>\n",
       "<tr><td>402713559114</td><td>359.87430954</td><td>0.468111813068</td><td>1.21466243267</td><td>0.0</td><td>7.74479591559e-19</td><td>0.0</td><td>0.0</td><td>0.215126603842</td><td>0.0</td><td>0.206153303385</td><td>0.0</td><td>53.0942153931</td><td>28.0491390228</td><td>28.0230617523</td><td>27.8282909393</td><td>27.3604221344</td><td>26.734916687</td><td>26.2546386719</td></tr>\n",
       "</table></div>"
      ],
      "text/plain": [
       "<Table length=858502>\n",
       " galtileid         ra              dec         ...      z_ab          y_ab    \n",
       "   int64        float64          float64       ...    float64       float64   \n",
       "------------ -------------- ------------------ ... ------------- -------------\n",
       "  2200871446 0.418319702147 -0.000148399994941 ... 23.0723800659 22.9095973969\n",
       "  2205921112 0.420028448104  -0.00100259995088 ... 25.8779563904 25.7642536163\n",
       "  2205010878 0.423432350157  -0.00312969996594 ... 25.6281528473 25.5399188995\n",
       "  2208734677  0.42108619213 -7.25999998394e-05 ... 25.9380722046 25.6458129883\n",
       "  2212241881 0.423181056976  -0.00218109996058 ... 26.7419490814 26.1817016602\n",
       "  2204477290 0.422583341599 -0.000604000000749 ... 24.9572029114 24.4631252289\n",
       "  2201104165 0.422105312347  -0.00160690001212 ... 23.0481529236  22.813867569\n",
       "  2211831084 0.422278761862  -0.00242089992389 ... 26.8970832825 26.4211711884\n",
       "  2213920571 0.428705215453  -0.00933680031449 ... 27.3432483673 27.5143566132\n",
       "  2209679020 0.426987767219  -0.00824970006943 ... 26.4114837646 26.3559627533\n",
       "         ...            ...                ... ...           ...           ...\n",
       "402709423183  359.877529502     0.468313187361 ... 26.2061023712 25.9938392639\n",
       "402717225447  359.873967052     0.469882488251 ...  28.159286499 28.0919113159\n",
       "402708240625  359.874082327     0.469963699579 ... 26.1617202759 25.9628505707\n",
       "402715331570  359.875172257     0.470767110586 ...  26.918012619 26.7960968018\n",
       "402700244654  359.875229836     0.469946593046 ... 21.5558547974 21.2948169708\n",
       "402714175618  359.875075817      0.47013181448 ... 26.8473339081 26.6255302429\n",
       "402709151935   359.87477541      0.47007510066 ... 26.4419765472 26.3202629089\n",
       "402713323434   359.87379849     0.467285513878 ... 27.1825656891 27.1724567413\n",
       "402715701509  359.873594165     0.467974096537 ... 27.7269096375 27.7457923889\n",
       "402713559114   359.87430954     0.468111813068 ...  26.734916687 26.2546386719"
      ]
     },
     "execution_count": 3,
     "metadata": {},
     "output_type": "execute_result"
    }
   ],
   "source": [
    "catalog"
   ]
  },
  {
   "cell_type": "code",
   "execution_count": 4,
   "id": "1399a261-bba2-499d-82bd-41add4df8297",
   "metadata": {},
   "outputs": [],
   "source": [
    "from galcheat.utilities import mag2counts, mean_sky_level\n",
    "import numpy as np"
   ]
  },
  {
   "cell_type": "code",
   "execution_count": 5,
   "id": "55554d8e-75f9-4c57-8866-7ad665c8d26e",
   "metadata": {},
   "outputs": [],
   "source": [
    "snr = []\n",
    "\n",
    "# For calculation of source counts (C) and mean_sky_level (B) refer to https://github.com/aboucaud/galcheat/blob/main/galcheat/utilities.py\n",
    "# For Computaion of SNR, refer to: https://smtn-002.lsst.io/\n",
    "\n",
    "g = 2.3\n",
    "B = mean_sky_level(\"LSST\", \"r\").to_value(\"electron\")/g #ADU?\n",
    "sig_instr = 12.7\n",
    "n_eff = 2.266*((.83/.2)**2)\n",
    "\n",
    "for row in catalog:\n",
    "    #print(row['r_ab'])\n",
    "    C = mag2counts(row['r_ab'], \"LSST\", \"r\").to_value(\"electron\")/g # is this correct?\n",
    "    snr.append(C / np.sqrt(C/g + ( B/g + sig_instr**2 ) * n_eff))"
   ]
  },
  {
   "cell_type": "code",
   "execution_count": 6,
   "id": "f483719e-4b54-455f-83a3-1f9a1d64f784",
   "metadata": {},
   "outputs": [],
   "source": [
    "snr = np.array(snr)"
   ]
  },
  {
   "cell_type": "code",
   "execution_count": 7,
   "id": "5aeb16d5-444c-4ac4-b8c4-8f7e2f6d24f0",
   "metadata": {},
   "outputs": [],
   "source": [
    "import matplotlib.pyplot as plt"
   ]
  },
  {
   "cell_type": "code",
   "execution_count": 8,
   "id": "7be079dd-71d4-475b-8366-12c902270fe1",
   "metadata": {},
   "outputs": [
    {
     "data": {
      "text/plain": [
       "<matplotlib.collections.PathCollection at 0x7fbfc9ef71c0>"
      ]
     },
     "execution_count": 8,
     "metadata": {},
     "output_type": "execute_result"
    },
    {
     "data": {
      "image/png": "[encoded data removed]",
      "text/plain": [
       "<Figure size 432x288 with 1 Axes>"
      ]
     },
     "metadata": {
      "needs_background": "light"
     },
     "output_type": "display_data"
    }
   ],
   "source": [
    "plt.scatter(x=snr, y=catalog[\"r_ab\"])\n"
   ]
  },
  {
   "cell_type": "code",
   "execution_count": 9,
   "id": "713a1b20-70d5-4f57-b6fc-ade1a5653217",
   "metadata": {},
   "outputs": [
    {
     "data": {
      "image/png": "[encoded data removed]",
      "text/plain": [
       "<Figure size 432x288 with 1 Axes>"
      ]
     },
     "metadata": {
      "needs_background": "light"
     },
     "output_type": "display_data"
    }
   ],
   "source": [
    "plt.hist(snr[snr<=200], bins=500);"
   ]
  },
  {
   "cell_type": "code",
   "execution_count": 10,
   "id": "4da4f0ca-0fdc-4b12-8a50-e653ec0a6e5f",
   "metadata": {},
   "outputs": [],
   "source": [
    "import seaborn as sns"
   ]
  },
  {
   "cell_type": "code",
   "execution_count": 11,
   "id": "0ab5ed70-14b0-4257-8dc2-3f845f86f900",
   "metadata": {},
   "outputs": [
    {
     "data": {
      "text/plain": [
       "<AxesSubplot:ylabel='r_ab'>"
      ]
     },
     "execution_count": 11,
     "metadata": {},
     "output_type": "execute_result"
    },
    {
     "data": {
      "image/png": "[encoded data removed]",
      "text/plain": [
       "<Figure size 432x288 with 1 Axes>"
      ]
     },
     "metadata": {
      "needs_background": "light"
     },
     "output_type": "display_data"
    }
   ],
   "source": [
    "x_bins = np.arange(0,200, 200/100.0)\n",
    "y_bins = np.arange(20, 30, 10/100.0)\n",
    "\n",
    "sns.histplot(x=snr, y=catalog[\"r_ab\"], bins=[x_bins, y_bins], kde=True)"
   ]
  },
  {
   "cell_type": "code",
   "execution_count": 12,
   "id": "01903ce1-41fb-416f-8bf9-455787d0ca44",
   "metadata": {},
   "outputs": [
    {
     "name": "stdout",
     "output_type": "stream",
     "text": [
      "Percentage below snr 10 : 57.77400635059674\n"
     ]
    }
   ],
   "source": [
    "frac = np.sum(snr<10)/len(snr)*100\n",
    "print(f\"Percentage below snr 10 : {frac}\")"
   ]
  },
  {
   "cell_type": "code",
   "execution_count": null,
   "id": "230d9494-2ffa-4676-b65f-a13e809e61bb",
   "metadata": {},
   "outputs": [],
   "source": []
  },
  {
   "cell_type": "code",
   "execution_count": null,
   "id": "65e53668-3184-49cc-98d7-763075ffbf4f",
   "metadata": {},
   "outputs": [],
   "source": []
  }
 ],
 "metadata": {
  "kernelspec": {
   "display_name": "madness",
   "language": "python",
   "name": "madness"
  },
  "language_info": {
   "codemirror_mode": {
    "name": "ipython",
    "version": 3
   },
   "file_extension": ".py",
   "mimetype": "text/x-python",
   "name": "python",
   "nbconvert_exporter": "python",
   "pygments_lexer": "ipython3",
   "version": "3.8.13"
  }
 },
 "nbformat": 4,
 "nbformat_minor": 5
}
