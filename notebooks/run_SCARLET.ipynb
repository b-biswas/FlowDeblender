{
 "cells": [
  {
   "cell_type": "code",
   "execution_count": null,
   "id": "f868f1dd-e2ce-4dbe-9350-93a6d0100428",
   "metadata": {},
   "outputs": [
    {
     "name": "stderr",
     "output_type": "stream",
     "text": [
      "2022-09-08 15:40:25.504701: W tensorflow/stream_executor/platform/default/dso_loader.cc:59] Could not load dynamic library 'libcudart.so.10.1'; dlerror: libcudart.so.10.1: cannot open shared object file: No such file or directory; LD_LIBRARY_PATH: /pbs/throng/lsst/users/bbiswas/miniconda3/envs/madness/lib/:\n",
      "2022-09-08 15:40:25.504766: I tensorflow/stream_executor/cuda/cudart_stub.cc:29] Ignore above cudart dlerror if you do not have a GPU set up on your machine.\n"
     ]
    }
   ],
   "source": [
    "import logging\n",
    "import time\n",
    "\n",
    "import btk\n",
    "import galsim\n",
    "import matplotlib.pyplot as plt\n",
    "import numpy as np\n",
    "from scipy.optimize import curve_fit\n",
    "from scipy.stats import norm\n",
    "import scarlet\n",
    "import scarlet.psf\n",
    "import seaborn as sns\n",
    "import sep\n",
    "import tensorflow as tf\n",
    "import tensorflow_probability as tfp\n",
    "\n",
    "from maddeb.Deblender import Deblend\n",
    "from maddeb.extraction import extract_cutouts\n",
    "from maddeb.metrics import (\n",
    "    compute_apperture_photomery,\n",
    "    compute_pixel_covariance_and_flux,\n",
    ")\n",
    "\n",
    "from maddeb.utils import CustomSampling"
   ]
  },
  {
   "cell_type": "code",
   "execution_count": null,
   "id": "e726d59a-2cba-4719-bbcd-e4de6b4daa06",
   "metadata": {},
   "outputs": [],
   "source": [
    "COSMOS_CATALOG_PATHS = [\n",
    "    \"/sps/lsst/users/bbiswas/COSMOS_catalog/COSMOS_25.2_training_sample/real_galaxy_catalog_25.2.fits\",\n",
    "    \"/sps/lsst/users/bbiswas/COSMOS_catalog/COSMOS_25.2_training_sample/real_galaxy_catalog_25.2_fits.fits\",\n",
    "]\n",
    "\n",
    "\n",
    "stamp_size = 100.2\n",
    "max_number = 80\n",
    "batch_size = 1\n",
    "maxshift = 44\n",
    "catalog = btk.catalog.CosmosCatalog.from_file(COSMOS_CATALOG_PATHS)\n",
    "survey = btk.survey.get_surveys(\"LSST\")\n",
    "seed=3\n",
    "\n",
    "galsim_catalog = galsim.COSMOSCatalog(COSMOS_CATALOG_PATHS[0], exclusion_level=\"marginal\")\n",
    "\n",
    "sampling_function = CustomSampling(\n",
    "    index_range=[60000, 80000], max_number=max_number, maxshift=maxshift, stamp_size=stamp_size, seed=seed\n",
    ")\n",
    "\n",
    "draw_generator = btk.draw_blends.CosmosGenerator(\n",
    "    catalog,\n",
    "    sampling_function,\n",
    "    survey,\n",
    "    batch_size=batch_size,\n",
    "    stamp_size=stamp_size,\n",
    "    cpus=1,\n",
    "    add_noise=\"all\",\n",
    "    verbose=False,\n",
    "    gal_type=\"parametric\",\n",
    "    seed=seed,\n",
    ")"
   ]
  },
  {
   "cell_type": "code",
   "execution_count": null,
   "id": "83bbb009-9b82-4a10-b553-f26a6e6e8be1",
   "metadata": {},
   "outputs": [
    {
     "data": {
      "application/vnd.jupyter.widget-view+json": {
       "model_id": "cc87e9e93737458c936c56574d101c6e",
       "version_major": 2,
       "version_minor": 0
      },
      "text/plain": [
       "Generating blends for LSST survey:   0%|          | 0/1 [00:00<?, ?it/s]"
      ]
     },
     "metadata": {},
     "output_type": "display_data"
    }
   ],
   "source": [
    "blend = next(draw_generator)"
   ]
  },
  {
   "cell_type": "code",
   "execution_count": null,
   "id": "97521558-979c-4dee-babc-1248a4f747f9",
   "metadata": {},
   "outputs": [],
   "source": [
    "field_images = blend[\"blend_images\"]\n",
    "isolated_images = blend[\"isolated_images\"]"
   ]
  },
  {
   "cell_type": "markdown",
   "id": "37e72b11-dc60-4d0f-955f-2f77e0fa50e2",
   "metadata": {},
   "source": [
    "# Deblend with Scarlet"
   ]
  },
  {
   "cell_type": "code",
   "execution_count": null,
   "id": "3f0dd345-0704-4a9c-90c4-b4d354c5a306",
   "metadata": {},
   "outputs": [
    {
     "data": {
      "text/plain": [
       "(1, 6, 501, 501)"
      ]
     },
     "execution_count": null,
     "metadata": {},
     "output_type": "execute_result"
    }
   ],
   "source": [
    "np.shape(field_images)"
   ]
  },
  {
   "cell_type": "code",
   "execution_count": null,
   "id": "6566bd77-829d-4cc4-96fe-eb134e59d954",
   "metadata": {},
   "outputs": [],
   "source": [
    "psf = np.array([p.drawImage(galsim.Image(field_images[0].shape[1],field_images[0].shape[2]),scale=survey.pixel_scale.to_value(\"arcsec\")).array for p in blend[\"psf\"]])\n",
    "bands=[f for f in survey._filters]\n",
    "wcs = blend[\"wcs\"]"
   ]
  },
  {
   "cell_type": "code",
   "execution_count": null,
   "id": "90d54cd3-1626-46d8-96b8-addd85fa2dab",
   "metadata": {},
   "outputs": [],
   "source": [
    "import scarlet.psf\n",
    "from scarlet.psf import ImagePSF"
   ]
  },
  {
   "cell_type": "code",
   "execution_count": null,
   "id": "adfb36f1-27ce-41e7-bea1-5c898c424ed5",
   "metadata": {},
   "outputs": [],
   "source": [
    "def predict_with_scarlet(image, x_pos, y_pos, show_scene, show_sources, filters):\n",
    "    sig = []\n",
    "    weights = np.ones_like(image)\n",
    "    for i in range(6):\n",
    "        sig.append(sep.Background(image[i]).globalrms)\n",
    "        weights[i] = weights[i] / (sig[i]**2)\n",
    "    observation = scarlet.Observation(\n",
    "            image, psf=scarlet.psf.ImagePSF(psf), weights= weights, channels=bands, wcs=wcs\n",
    "        )\n",
    "    \n",
    "    model_psf = scarlet.GaussianPSF(sigma=(0.8,) * len(filters))\n",
    "    model_frame = scarlet.Frame(\n",
    "    image.shape,\n",
    "    psf=model_psf,\n",
    "    channels=filters, wcs=wcs)\n",
    "\n",
    "    \n",
    "    observation = observation.match(model_frame)\n",
    "    sources = []\n",
    "    for i in range(len(x_pos)):\n",
    "        result = scarlet.ExtendedSource(\n",
    "            model_frame,\n",
    "            model_frame.get_sky_coord((x_pos[i], y_pos[i])),\n",
    "            observation,\n",
    "            thresh=1,\n",
    "            shifting=True,\n",
    "        )\n",
    "        sources.append(result)\n",
    "\n",
    "    scarlet.initialization.set_spectra_to_match(sources, observation)\n",
    "    \n",
    "    scarlet_blend = scarlet.Blend(sources, observation)\n",
    "    \n",
    "    %time it, logL = scarlet_blend.fit(200, e_rel=1e-5)\n",
    "    #print(f\"scarlet ran for {it} iterations to logL = {logL}\")\n",
    "    #scarlet.display.show_likelihood(scarlet_blend)\n",
    "    #plt.show()\n",
    "    \n",
    "    if show_scene:\n",
    "        scarlet.display.show_scene(sources,\n",
    "                           norm=None,\n",
    "                           observation=observation,\n",
    "                           show_rendered=True,\n",
    "                           show_observed=True,\n",
    "                           show_residual=True)\n",
    "        \n",
    "        plt.show()\n",
    "    \n",
    "    if show_sources:\n",
    "        scarlet.display.show_sources(sources,\n",
    "                                 norm=None,\n",
    "                                 observation=observation,\n",
    "                                 show_rendered=True,\n",
    "                                 show_observed=True,\n",
    "                                 add_boxes=True\n",
    "                                )\n",
    "        plt.show()\n",
    "    \n",
    "    predicted_sources = []\n",
    "    for src in sources:\n",
    "        predicted_sources.append(observation.render(src.get_model(frame=model_frame)))\n",
    "    #print(np.shape(src.get_model(frame=model_frame)))\n",
    "    return predicted_sources"
   ]
  },
  {
   "cell_type": "code",
   "execution_count": null,
   "id": "39bbfc78-09d5-4734-abe1-b0c73794f2f1",
   "metadata": {},
   "outputs": [],
   "source": [
    "image = field_images[0]"
   ]
  },
  {
   "cell_type": "code",
   "execution_count": null,
   "id": "b5b635fb-c107-4b3c-8ec9-ade53ba097b9",
   "metadata": {},
   "outputs": [],
   "source": [
    "x_pos = blend['blend_list'][0]['y_peak']\n",
    "y_pos = blend['blend_list'][0]['x_peak']"
   ]
  },
  {
   "cell_type": "code",
   "execution_count": null,
   "id": "bfa82574-414e-4ab9-9f86-a4313a1774e4",
   "metadata": {
    "tags": []
   },
   "outputs": [],
   "source": [
    "#model = predict_with_scarlet(image, x_pos=x_pos, y_pos=y_pos, show_scene=True, show_sources=True, filters=bands)"
   ]
  },
  {
   "cell_type": "code",
   "execution_count": null,
   "id": "43988da1-8b9c-4cad-8729-4abb2e5feaa5",
   "metadata": {},
   "outputs": [],
   "source": [
    "#plt.imshow(model[0][2])"
   ]
  },
  {
   "cell_type": "code",
   "execution_count": null,
   "id": "3265b821-56db-43a9-ae5c-eaf76861f2b1",
   "metadata": {
    "tags": []
   },
   "outputs": [
    {
     "name": "stderr",
     "output_type": "stream",
     "text": [
      "Zero or negative spectrum [ 7.4461533e+03  5.9583488e+04  9.6527852e+04  7.4653430e+04\n",
      "  4.0954598e+04 -3.6117252e+01] at [0.01029306 0.00174904]\n",
      "Completed 7 iterations and [6, 36, 0, 6, 60, 0, 6, 60, 0, 6, 45, 0, 6, 53, 0, 6, 60, 0, 6, 56, 0, 6, 56, 0, 6, 60, 0, 6, 60, 0, 6, 60, 0, 6, 60, 0, 6, 46, 0, 6, 60, 0, 6, 60, 0, 6, 53, 0, 6, 56, 0, 6, 54, 0, 6, 37, 0, 6, 52, 0, 6, 49, 0, 6, 46, 0, 6, 60, 0, 6, 52, 0, 6, 58, 0, 6, 60, 0, 6, 56, 0, 6, 60, 0, 6, 58, 0, 6, 60, 0, 6, 60, 0, 6, 36, 0, 6, 60, 0, 6, 37, 0, 6, 60, 0, 6, 44, 0, 6, 60, 0, 6, 55, 0, 6, 48, 0, 6, 60, 0, 6, 60, 0, 6, 60, 0, 6, 54, 0, 6, 39, 0, 6, 57, 0, 6, 60, 0, 6, 60, 0, 6, 60, 0, 6, 52, 0, 6, 44, 0, 6, 60, 0, 6, 51, 0, 6, 60, 0, 6, 60, 0, 6, 60, 0, 6, 60, 0, 6, 60, 0, 6, 46, 0, 6, 60, 0, 6, 59, 0, 6, 60, 0, 6, 60, 0, 6, 60, 0, 6, 60, 0, 6, 60, 0] sub-iterations\n",
      "scarlet ran for 46 iterations to logL = -10466831.411764499\n"
     ]
    },
    {
     "name": "stdout",
     "output_type": "stream",
     "text": [
      "CPU times: user 2min 1s, sys: 59.5 s, total: 3min\n",
      "Wall time: 3min\n"
     ]
    }
   ],
   "source": [
    "scarlet_predictions=[]\n",
    "for i, image in enumerate(field_images):\n",
    "    image = field_images[i]\n",
    "    x_pos = blend['blend_list'][i]['y_peak']\n",
    "    y_pos = blend['blend_list'][i]['x_peak']\n",
    "    predicted_sources = predict_with_scarlet(image, x_pos=x_pos, y_pos=y_pos, show_scene=False, show_sources=False, filters=bands)\n",
    "    scarlet_predictions.append(predicted_sources)"
   ]
  },
  {
   "cell_type": "markdown",
   "id": "2ee9b3a6-48e2-43d1-8c2b-422421ab4443",
   "metadata": {},
   "source": [
    "# Deblend with MADNESS"
   ]
  },
  {
   "cell_type": "code",
   "execution_count": null,
   "id": "49496b32-d215-4495-9cfe-12bb9363c179",
   "metadata": {
    "tags": []
   },
   "outputs": [
    {
     "name": "stderr",
     "output_type": "stream",
     "text": [
      "2022-09-08 15:46:55.380797: W tensorflow/stream_executor/platform/default/dso_loader.cc:59] Could not load dynamic library 'libcuda.so.1'; dlerror: libcuda.so.1: cannot open shared object file: No such file or directory; LD_LIBRARY_PATH: /pbs/throng/lsst/users/bbiswas/miniconda3/envs/madness/lib/:\n",
      "2022-09-08 15:46:55.380873: W tensorflow/stream_executor/cuda/cuda_driver.cc:312] failed call to cuInit: UNKNOWN ERROR (303)\n",
      "2022-09-08 15:46:55.380980: I tensorflow/stream_executor/cuda/cuda_diagnostics.cc:156] kernel driver does not appear to be running on this host (jns-bbiswas.cc.in2p3.fr): /proc/driver/nvidia/version does not exist\n",
      "2022-09-08 15:46:55.393900: I tensorflow/core/platform/profile_utils/cpu_utils.cc:104] CPU Frequency: 2499995000 Hz\n",
      "2022-09-08 15:46:55.394819: I tensorflow/compiler/xla/service/service.cc:168] XLA service 0x565070d17a40 initialized for platform Host (this does not guarantee that XLA will be used). Devices:\n",
      "2022-09-08 15:46:55.394854: I tensorflow/compiler/xla/service/service.cc:176]   StreamExecutor device (0): Host, Default Version\n"
     ]
    },
    {
     "name": "stdout",
     "output_type": "stream",
     "text": [
      "WARNING:tensorflow:From /pbs/throng/lsst/users/bbiswas/miniconda3/envs/madness/lib/python3.8/site-packages/tensorflow/python/ops/linalg/linear_operator_lower_triangular.py:151: calling LinearOperator.__init__ (from tensorflow.python.ops.linalg.linear_operator) with graph_parents is deprecated and will be removed in a future version.\n",
      "Instructions for updating:\n",
      "Do not pass `graph_parents`.  They will  no longer be used.\n"
     ]
    },
    {
     "name": "stderr",
     "output_type": "stream",
     "text": [
      "From /pbs/throng/lsst/users/bbiswas/miniconda3/envs/madness/lib/python3.8/site-packages/tensorflow/python/ops/linalg/linear_operator_lower_triangular.py:151: calling LinearOperator.__init__ (from tensorflow.python.ops.linalg.linear_operator) with graph_parents is deprecated and will be removed in a future version.\n",
      "Instructions for updating:\n",
      "Do not pass `graph_parents`.  They will  no longer be used.\n"
     ]
    },
    {
     "name": "stdout",
     "output_type": "stream",
     "text": [
      "WARNING:tensorflow:From /pbs/throng/lsst/users/bbiswas/miniconda3/envs/madness/lib/python3.8/site-packages/tensorflow_probability/python/distributions/distribution.py:334: calling TransformedDistribution.__init__ (from tensorflow_probability.python.distributions.transformed_distribution) with batch_shape is deprecated and will be removed after 2020-06-01.\n",
      "Instructions for updating:\n",
      "`batch_shape` and `event_shape` args are deprecated. Please use `tfd.Sample`, `tfd.Independent`, and broadcasted parameters of the base distribution instead. For example, replace `tfd.TransformedDistribution(tfd.Normal(0., 1.), tfb.Exp(), batch_shape=[2, 3], event_shape=[4])` with `tfd.TransformedDistrbution(tfd.Sample(tfd.Normal(tf.zeros([2, 3]), 1.),sample_shape=[4]), tfb.Exp())` or `tfd.TransformedDistribution(tfd.Independent(tfd.Normal(tf.zeros([2, 3, 4]), 1.), reinterpreted_batch_ndims=1), tfb.Exp())`.\n"
     ]
    },
    {
     "name": "stderr",
     "output_type": "stream",
     "text": [
      "From /pbs/throng/lsst/users/bbiswas/miniconda3/envs/madness/lib/python3.8/site-packages/tensorflow_probability/python/distributions/distribution.py:334: calling TransformedDistribution.__init__ (from tensorflow_probability.python.distributions.transformed_distribution) with batch_shape is deprecated and will be removed after 2020-06-01.\n",
      "Instructions for updating:\n",
      "`batch_shape` and `event_shape` args are deprecated. Please use `tfd.Sample`, `tfd.Independent`, and broadcasted parameters of the base distribution instead. For example, replace `tfd.TransformedDistribution(tfd.Normal(0., 1.), tfb.Exp(), batch_shape=[2, 3], event_shape=[4])` with `tfd.TransformedDistrbution(tfd.Sample(tfd.Normal(tf.zeros([2, 3]), 1.),sample_shape=[4]), tfb.Exp())` or `tfd.TransformedDistribution(tfd.Independent(tfd.Normal(tf.zeros([2, 3, 4]), 1.), reinterpreted_batch_ndims=1), tfb.Exp())`.\n"
     ]
    },
    {
     "name": "stdout",
     "output_type": "stream",
     "text": [
      "WARNING:tensorflow:From /pbs/throng/lsst/users/bbiswas/miniconda3/envs/madness/lib/python3.8/site-packages/tensorflow_probability/python/distributions/distribution.py:334: calling TransformedDistribution.__init__ (from tensorflow_probability.python.distributions.transformed_distribution) with event_shape is deprecated and will be removed after 2020-06-01.\n",
      "Instructions for updating:\n",
      "`batch_shape` and `event_shape` args are deprecated. Please use `tfd.Sample`, `tfd.Independent`, and broadcasted parameters of the base distribution instead. For example, replace `tfd.TransformedDistribution(tfd.Normal(0., 1.), tfb.Exp(), batch_shape=[2, 3], event_shape=[4])` with `tfd.TransformedDistrbution(tfd.Sample(tfd.Normal(tf.zeros([2, 3]), 1.),sample_shape=[4]), tfb.Exp())` or `tfd.TransformedDistribution(tfd.Independent(tfd.Normal(tf.zeros([2, 3, 4]), 1.), reinterpreted_batch_ndims=1), tfb.Exp())`.\n"
     ]
    },
    {
     "name": "stderr",
     "output_type": "stream",
     "text": [
      "From /pbs/throng/lsst/users/bbiswas/miniconda3/envs/madness/lib/python3.8/site-packages/tensorflow_probability/python/distributions/distribution.py:334: calling TransformedDistribution.__init__ (from tensorflow_probability.python.distributions.transformed_distribution) with event_shape is deprecated and will be removed after 2020-06-01.\n",
      "Instructions for updating:\n",
      "`batch_shape` and `event_shape` args are deprecated. Please use `tfd.Sample`, `tfd.Independent`, and broadcasted parameters of the base distribution instead. For example, replace `tfd.TransformedDistribution(tfd.Normal(0., 1.), tfb.Exp(), batch_shape=[2, 3], event_shape=[4])` with `tfd.TransformedDistrbution(tfd.Sample(tfd.Normal(tf.zeros([2, 3]), 1.),sample_shape=[4]), tfb.Exp())` or `tfd.TransformedDistribution(tfd.Independent(tfd.Normal(tf.zeros([2, 3, 4]), 1.), reinterpreted_batch_ndims=1), tfb.Exp())`.\n",
      "2022-09-08 15:47:04.160939: W tensorflow/python/util/util.cc:348] Sets are not currently considered sequences, but this may change in the future, so consider avoiding using them.\n",
      "\n",
      "\n",
      "Using encoder for initial point\n",
      "\n",
      "--- Starting gradient descent in the latent space ---\n",
      "Maximum number of iterations: 300\n",
      "Number of Galaxies: 65\n",
      "Dimensions of latent space: 8\n",
      "--- Gradient descent complete ---\n",
      "\n",
      "Time taken for gradient descent: 66.67982125282288\n"
     ]
    }
   ],
   "source": [
    "from maddeb.Deblender import Deblend\n",
    "import tensorflow as tf\n",
    "import tensorflow_probability as tfp\n",
    "\n",
    "\n",
    "madness_predictions = []\n",
    "for i in range(len(blend['blend_list'])):\n",
    "\n",
    "    current_field_predictions = []\n",
    "    blends = blend['blend_list'][i]\n",
    "    #print(blends)\n",
    "    detected_positions = []\n",
    "    for j in range(len(blends)):\n",
    "        detected_positions.append([blends['y_peak'][j], blends['x_peak'][j]])\n",
    "\n",
    "    deb = Deblend(field_images[i], \n",
    "                  detected_positions,\n",
    "                  latent_dim=8, \n",
    "                  num_components=len(blends), \n",
    "                  use_likelihood=True, \n",
    "                  linear_norm_coeff=80000,\n",
    "                  max_iter=300)\n",
    "    #tf.config.run_functions_eagerly(False)\n",
    "    convergence_criterion = tfp.optimizer.convergence_criteria.LossNotDecreasing(atol=.0000001*45*45*len(blends)*3, min_num_steps=50, window_size=20)\n",
    "    #convergence_criterion = None\n",
    "    lr_scheduler = tf.keras.optimizers.schedules.ExponentialDecay(initial_learning_rate=0.06, decay_steps=15, decay_rate=0.8, staircase=True)\n",
    "    optimizer=tf.keras.optimizers.RMSprop(learning_rate=lr_scheduler, momentum=0.1)\n",
    "\n",
    "    deb(convergence_criterion, optimizer=optimizer, use_debvader=True, compute_sig_dynamically=False)\n",
    "    \n",
    "    padding_infos = deb.get_padding_infos()\n",
    "    for component_num in range(deb.num_components):\n",
    "        prediction = np.pad(deb.components[component_num], padding_infos[component_num])\n",
    "        prediction = np.transpose(prediction, axes=(2, 0, 1))\n",
    "        current_field_predictions.append(prediction)\n",
    "    madness_predictions.append(current_field_predictions)"
   ]
  },
  {
   "cell_type": "code",
   "execution_count": null,
   "id": "fcca44f2-7f13-455c-a6d1-ab5eeb36e164",
   "metadata": {},
   "outputs": [],
   "source": [
    "madness_predictions= np.array(madness_predictions)"
   ]
  },
  {
   "cell_type": "code",
   "execution_count": null,
   "id": "e1eabfd1-9cf2-48da-b066-91cf9db28ffe",
   "metadata": {},
   "outputs": [
    {
     "data": {
      "text/plain": [
       "(1, 65, 6, 501, 501)"
      ]
     },
     "execution_count": null,
     "metadata": {},
     "output_type": "execute_result"
    }
   ],
   "source": [
    "np.shape(madness_predictions)"
   ]
  },
  {
   "cell_type": "code",
   "execution_count": null,
   "id": "c12ccca8-81be-4b01-a2f9-01e956cede12",
   "metadata": {},
   "outputs": [],
   "source": [
    "from maddeb.extraction import extract_cutouts\n",
    "from maddeb.metrics import compute_pixel_covariance_and_flux, compute_pixel_covariance_and_fluxes"
   ]
  },
  {
   "cell_type": "code",
   "execution_count": null,
   "id": "3422a979-5721-44f9-9591-24ac150153be",
   "metadata": {
    "tags": []
   },
   "outputs": [],
   "source": [
    "madness_cov = []\n",
    "madness_actual_flux = []\n",
    "madness_predicted_flux = []\n",
    "for blend_number in range(len(field_images)):\n",
    "\n",
    "    current_galaxies = isolated_images[blend_number]\n",
    "    madness_res = compute_pixel_covariance_and_fluxes(madness_predictions[blend_number], current_galaxies, field_images[0])\n",
    "\n",
    "    madness_cov.append(madness_res[0])\n",
    "    madness_actual_flux.append(madness_res[1])\n",
    "    madness_predicted_flux.append(madness_res[2])"
   ]
  },
  {
   "cell_type": "markdown",
   "id": "8ee8bc64-4c5c-4384-8a81-b15a2d44b0a0",
   "metadata": {},
   "source": [
    "# Compare: Covariance matrix and flux reconstruction"
   ]
  },
  {
   "cell_type": "code",
   "execution_count": null,
   "id": "008a44e9-2634-438f-a922-df7fcbbc800b",
   "metadata": {
    "tags": []
   },
   "outputs": [],
   "source": [
    "scarlet_cov = []\n",
    "scarlet_actual_flux = []\n",
    "scarlet_predicted_flux = []\n",
    "\n",
    "for blend_number in range(len(field_images)):\n",
    "\n",
    "    current_galaxies = isolated_images[blend_number]\n",
    "    scarlet_res = compute_pixel_covariance_and_fluxes(scarlet_predictions[blend_number], current_galaxies, field_images[0])\n",
    "\n",
    "    scarlet_cov.append(scarlet_res[0])\n",
    "    scarlet_actual_flux.append(scarlet_res[1])\n",
    "    scarlet_predicted_flux.append(scarlet_res[2])"
   ]
  },
  {
   "cell_type": "code",
   "execution_count": null,
   "id": "9531d1a8-9e09-416b-b62e-55fd29699416",
   "metadata": {},
   "outputs": [
    {
     "data": {
      "text/plain": [
       "[array([0.99926311, 0.99703961, 0.99655908, 0.99917239, 0.99834474,\n",
       "        0.99889976, 0.99960022, 0.9986943 , 0.99995668, 0.98922567,\n",
       "        0.99989926, 0.99828358, 0.99978049, 0.99766604, 0.9988516 ,\n",
       "        0.5429895 , 0.99823752, 0.99939954, 0.9997308 , 0.99945071,\n",
       "        0.99881369, 0.99929851, 0.99988139, 0.9993915 , 0.99963579,\n",
       "        0.99783023, 0.99920386, 0.99660136, 0.99824188, 0.99868895,\n",
       "        0.99983098, 0.99851339, 0.99164567, 0.99918757, 0.9975851 ,\n",
       "        0.99883615, 0.99887741, 0.99757253, 0.9987579 , 0.99771928,\n",
       "        0.99929273, 0.99928941, 0.99906091, 0.99929468, 0.99954191,\n",
       "        0.99979063, 0.99860413, 0.99989401, 0.99903996, 0.99973091,\n",
       "        0.9932278 , 0.99938525, 0.99642772, 0.99876899, 0.99761738,\n",
       "        0.99576682, 0.99623609, 0.99898533, 0.99817836, 0.99969309,\n",
       "        0.99768442, 0.97307767, 0.99970329, 0.99994373, 0.99756677])]"
      ]
     },
     "execution_count": null,
     "metadata": {},
     "output_type": "execute_result"
    }
   ],
   "source": [
    "scarlet_cov"
   ]
  },
  {
   "cell_type": "code",
   "execution_count": null,
   "id": "631f9f1f-9bff-4da5-86de-77c54132717e",
   "metadata": {},
   "outputs": [
    {
     "data": {
      "text/plain": [
       "(0.95, 1.0)"
      ]
     },
     "execution_count": null,
     "metadata": {},
     "output_type": "execute_result"
    },
    {
     "data": {
      "image/png": "[encoded data removed]",
      "text/plain": [
       "<Figure size 432x288 with 1 Axes>"
      ]
     },
     "metadata": {
      "needs_background": "light"
     },
     "output_type": "display_data"
    }
   ],
   "source": [
    "bins = np.arange(.95, 1, .005)\n",
    "plt.hist(scarlet_cov, bins=bins, alpha=0.5, label=\"scarlet\");\n",
    "plt.hist(madness_cov, bins=bins, alpha=0.7, label=\"MADNESS\");\n",
    "plt.legend()\n",
    "plt.xlim([.95, 1])"
   ]
  },
  {
   "cell_type": "code",
   "execution_count": null,
   "id": "b8bedede-c594-4aab-8c92-c617c79c6b40",
   "metadata": {
    "tags": []
   },
   "outputs": [],
   "source": [
    "scarlet_actual_flux = np.array(scarlet_actual_flux)\n",
    "scarlet_predicted_flux = np.array(scarlet_predicted_flux)\n",
    "\n",
    "scarlet_relative_difference= np.divide(scarlet_predicted_flux - scarlet_actual_flux, scarlet_actual_flux)"
   ]
  },
  {
   "cell_type": "code",
   "execution_count": null,
   "id": "c67254a8-effe-4ceb-bb67-de5c58928b48",
   "metadata": {
    "tags": []
   },
   "outputs": [],
   "source": [
    "madness_actual_flux = np.array(madness_actual_flux)\n",
    "madness_predicted_flux = np.array(madness_predicted_flux)\n",
    "\n",
    "madness_relative_difference= np.divide(madness_predicted_flux - madness_actual_flux, madness_actual_flux)"
   ]
  },
  {
   "cell_type": "code",
   "execution_count": null,
   "id": "f236626c-956e-43ef-ae5a-1cadd2fd6ef6",
   "metadata": {},
   "outputs": [
    {
     "data": {
      "text/plain": [
       "array([ 5.72397160e-03,  4.24337640e-02,  5.08128912e-02,  2.08308118e-02,\n",
       "        4.24564713e-02,  1.59295740e-01,  8.86422284e-03,  2.28034098e-02,\n",
       "        3.24991225e-02,  1.77003172e-02,  9.53434374e-02,  2.90867497e-01,\n",
       "        1.69434407e-02, -1.39159397e-02,  7.79885101e-02,  4.48539257e-03,\n",
       "        9.42228860e-02,  2.64248341e-01, -5.30319409e-02, -1.23131946e-02,\n",
       "        2.71635540e-02, -7.65244134e-03,  2.15532372e-02,  5.24085423e-02,\n",
       "       -5.60802107e-02,  3.92569539e-02, -3.51281174e-02,  1.59364010e-02,\n",
       "       -7.91854730e-02, -9.73433840e-02,  5.35129348e-02,  3.28786432e-02,\n",
       "        3.80506138e-02,  6.94537305e-02,  6.43125788e-02,  1.56472598e-01,\n",
       "        3.38603561e-02,  2.12408519e-02,  6.03420506e-03,  3.07909768e-02,\n",
       "        2.03614378e-02, -1.79314115e-02, -2.91452957e-02,  5.00133105e-02,\n",
       "        1.94866064e-02,  3.90733201e-03, -5.63218673e-03, -1.32401777e-01,\n",
       "       -9.75095091e-03, -7.68257200e-03, -6.68627750e-03, -1.21454061e-02,\n",
       "       -6.63256038e-03,  7.14893981e-03,  7.36275564e-02,  8.95463185e-03,\n",
       "        6.45899846e-02, -9.45538563e-02,  1.05574612e-01,  6.85256752e-01,\n",
       "       -6.64963152e-03, -8.67335269e-03, -8.67325975e-03, -5.57530002e-03,\n",
       "        3.59836890e-03, -1.42859676e-02, -2.66905178e-02, -6.67108451e-05,\n",
       "        1.29702692e-02, -3.57346392e-02,  5.41174720e-02,  1.58660017e-01,\n",
       "        2.26300790e-02,  2.03836044e-02,  1.42988818e-02,  1.44218666e-03,\n",
       "       -1.27484555e-02,  4.22026879e-02, -6.67971439e-02, -8.47922486e-02,\n",
       "       -1.03165954e-01, -6.18271535e-02, -1.28455654e-01,  4.98553412e-02,\n",
       "        2.99166996e-02,  1.46474151e-02,  4.17014294e-02,  1.06975214e-02,\n",
       "       -1.57140241e-02, -1.54097818e-01, -2.64345719e-02, -1.31928093e-01,\n",
       "        3.36256361e-01,  3.33840971e-02, -4.14011533e-01,  2.67336013e+00,\n",
       "       -3.46066805e-02, -4.39878199e-03,  1.02063676e-02, -2.49975985e-02,\n",
       "       -4.51948588e-02, -2.08562712e-01, -1.68121464e-03,  3.39267839e-02,\n",
       "        2.38826338e-02,  2.43861859e-02, -1.49427600e-03, -9.64733545e-02,\n",
       "       -2.33781544e-02,  6.27032679e-03, -2.16203633e-03, -1.56079249e-02,\n",
       "        5.92604294e-03, -3.92285409e-02, -1.09855241e-02,  2.26971891e-02,\n",
       "        5.52461321e-04,  3.03130750e-03,  5.71711269e-03, -4.77993455e-02,\n",
       "        6.56893351e-02, -7.27555451e-03, -3.51520201e-02, -2.26020140e-02,\n",
       "        3.68858300e-02, -1.99098962e-02, -1.03536136e-02,  5.97286515e-03,\n",
       "        1.09065646e-02,  4.22290373e-03, -5.98915060e-02, -8.79577346e-02,\n",
       "       -9.90290034e-03, -1.07125521e-02,  3.88674784e-03,  7.09334724e-03,\n",
       "       -8.76463480e-03, -7.99196261e-03, -2.21078682e-02,  2.03266417e-02,\n",
       "        7.71426354e-03,  2.23529976e-02,  2.63277501e-02, -1.17983120e-02,\n",
       "        1.01388777e-02, -6.60868443e-03,  7.80420137e-03,  2.20915852e-02,\n",
       "        6.60577268e-02,  9.16257991e-03,  9.71286037e-02,  4.22921226e-02,\n",
       "        7.03640205e-02,  2.72133621e-02,  7.72267854e-02,  9.31526773e-02,\n",
       "        2.48450023e-02, -1.25314186e-02,  2.38267997e-02,  4.10249500e-02,\n",
       "       -1.69836637e-02,  1.17772182e-01,  1.91586505e-01,  5.41393619e-02,\n",
       "        7.62324540e-02,  3.56318289e-02,  4.36494410e-02, -1.50972979e-01,\n",
       "        1.27696300e-02,  3.62627613e-02,  7.65644227e-02,  2.23850642e-02,\n",
       "        9.10981212e-02, -8.89053736e-02,  1.65973985e-02, -3.32464691e-02,\n",
       "       -2.71534550e-02,  1.02993033e-02,  6.14294939e-03,  4.97298823e-02,\n",
       "        3.06960029e-03,  2.63917699e-02,  2.27836362e-02,  1.12546186e-02,\n",
       "        4.66797049e-02,  5.40095510e-02, -1.95482430e-02,  1.13995277e-02,\n",
       "       -2.92798514e-02, -1.17495581e-02, -1.26271167e-02, -1.95422088e-01,\n",
       "        1.50930462e-01,  1.60824726e-01,  1.85594445e-01,  1.81521259e-01,\n",
       "        1.33415635e-02, -7.45237050e-02, -5.46941011e-02,  2.00856448e-02,\n",
       "        2.61397627e-02,  8.68436223e-03,  4.93873371e-02,  7.07038144e-02,\n",
       "       -8.14962193e-02, -3.19948559e-03, -4.25897214e-02, -1.24716907e-02,\n",
       "       -9.17904272e-03, -1.58466737e-01,  2.71358781e-02, -5.25883064e-03,\n",
       "       -8.59687720e-03, -1.82626413e-02, -1.56465288e-02,  1.80971985e-01,\n",
       "       -8.61411170e-02, -1.06840166e-02,  7.64383081e-04, -2.62816718e-02,\n",
       "        1.59460858e-02, -1.45541012e-01,  3.72982072e-02,  7.05160264e-02,\n",
       "        4.44759665e-02, -2.62287779e-02,  1.23501528e-01, -1.63926320e-01,\n",
       "       -2.54175233e-02,  4.52183163e-02,  2.01742225e-02,  7.38562484e-02,\n",
       "        1.21941599e-01,  2.16937401e-02,  5.46813355e-02,  2.44233661e-02,\n",
       "        2.83976433e-02,  4.82346874e-02, -6.67943522e-02,  1.38698875e-01,\n",
       "       -2.27523772e-02,  4.30783166e-03,  7.21295188e-03,  1.90357187e-02,\n",
       "       -1.62886063e-03,  5.09832857e-02,  3.75352303e-03,  6.82927476e-04,\n",
       "       -2.40235501e-03, -1.28026380e-02, -5.91028477e-02,  6.47566739e-02,\n",
       "        1.57202657e-02, -3.45223817e-02,  9.64339817e-03,  3.27657308e-02,\n",
       "       -1.11443844e-02,  4.10000333e-02, -1.44588948e-02,  3.76916560e-02,\n",
       "        2.79037517e-02,  1.14967744e-02,  1.44564249e-02, -9.21980702e-02,\n",
       "       -8.23783771e-03, -2.46787755e-02, -3.54278662e-02, -2.39674346e-02,\n",
       "       -2.63308344e-02,  6.21122400e-02, -2.61351818e-02, -1.39992643e-02,\n",
       "       -2.36743883e-02, -7.75285796e-03, -4.29345384e-03, -3.73258365e-02,\n",
       "        1.17356721e-02, -1.69835037e-02,  3.93801114e-02,  2.99414426e-02,\n",
       "        4.97189375e-02, -1.33705837e-01, -9.63942201e-03, -2.11302768e-02,\n",
       "       -2.04320636e-02, -1.07446869e-02, -1.72988650e-02, -3.02550332e-02,\n",
       "       -6.72237175e-02,  1.18023989e-02,  1.22908561e-02,  2.23464904e-02,\n",
       "        1.68076813e-03, -9.57345463e-02,  6.02356541e-02, -1.05236383e-02,\n",
       "        3.34928850e-03,  3.41903701e-02, -1.44525370e-02,  2.42200568e-02,\n",
       "        1.07091512e-02,  9.25460462e-03, -3.74684383e-02,  1.75672989e-03,\n",
       "        5.40700046e-02, -2.89618383e-01, -5.61935259e-02,  6.12998004e-02,\n",
       "        4.15289456e-02,  7.71690468e-02,  2.82414986e-02,  1.59589123e-01,\n",
       "        9.36977800e-02,  9.62103909e-03,  8.81481641e-02,  1.61811179e-01,\n",
       "        2.12595255e-01,  1.15259218e-01,  4.84903600e-02,  5.31112630e-02,\n",
       "        3.96167705e-02,  5.77005398e-02, -4.55634261e-02, -1.03239646e-01,\n",
       "        2.34355473e-01,  5.87858985e-02,  1.12683293e-01,  9.56024226e-02,\n",
       "        2.51310396e-02,  7.75938098e-02, -2.34397273e-02, -7.83249285e-02,\n",
       "       -9.05457745e-02, -7.50106603e-02, -8.11935849e-03,  7.76815676e-02,\n",
       "        2.16705297e-02, -4.26461002e-02, -2.39969306e-02, -1.22170632e-01,\n",
       "       -3.44902873e-02, -2.83411186e-01,  2.40532956e-02,  4.38457034e-02,\n",
       "        5.82085979e-02,  5.70739007e-02,  3.74061340e-02, -8.60447952e-03,\n",
       "       -3.36690060e-02,  5.74666125e-02, -1.97968835e-04,  6.15424133e-02,\n",
       "        3.86742873e-02,  2.42775106e-01, -1.00250915e-03, -2.70399101e-03,\n",
       "       -5.23536165e-03,  7.33022400e-03,  2.17105701e-03, -3.48136263e-02,\n",
       "        5.77171061e-03, -2.09243307e-02, -8.41003421e-03,  2.51412433e-02,\n",
       "       -7.67528185e-02, -1.60626614e-01, -3.36340376e-01, -2.04951382e-01,\n",
       "       -2.72434443e-01, -1.49069606e-01, -1.22620411e-01, -7.91028474e-01,\n",
       "       -3.71765864e-02, -3.20941612e-02, -4.14468263e-02, -1.83450702e-02,\n",
       "       -2.56351706e-02, -6.09392359e-02, -5.44989845e-03, -1.11233613e-02,\n",
       "       -5.47056256e-03, -6.35400858e-03, -3.89381087e-03, -7.01600226e-03,\n",
       "        1.10641367e-01,  6.58916452e-02,  1.06258670e-01,  1.03660364e-01,\n",
       "        1.73879005e-02, -5.82363975e-02])"
      ]
     },
     "execution_count": null,
     "metadata": {},
     "output_type": "execute_result"
    }
   ],
   "source": [
    "scarlet_relative_difference[np.logical_not(np.isnan(scarlet_relative_difference))].reshape(-1)"
   ]
  },
  {
   "cell_type": "code",
   "execution_count": null,
   "id": "bd9ff82d-a45b-4463-8156-f5bc91a86b06",
   "metadata": {},
   "outputs": [
    {
     "data": {
      "text/plain": [
       "True"
      ]
     },
     "execution_count": null,
     "metadata": {},
     "output_type": "execute_result"
    }
   ],
   "source": [
    "np.array_equal(madness_actual_flux, scarlet_actual_flux)"
   ]
  },
  {
   "cell_type": "code",
   "execution_count": null,
   "id": "d6917758-a6c4-4f7d-a358-91b4309e2dac",
   "metadata": {},
   "outputs": [],
   "source": [
    "from scipy.optimize import curve_fit\n",
    "def gauss(x, sig, mu):\n",
    "    return 1/np.sqrt(2.*np.pi)/sig*np.exp(-0.5*(x-mu)**2/sig**2)\n",
    "\n",
    "n_bins=100\n",
    "hist, bin_tmp = np.histogram(madness_relative_difference, n_bins, density=True)\n",
    "bins = np.mean((bin_tmp[:-1], bin_tmp[1:]), 0)\n",
    "madness_fit = curve_fit(gauss, bins, hist, p0=[np.std(bins), np.mean(bins)])\n",
    "\n",
    "hist, bin_tmp = np.histogram(scarlet_relative_difference, n_bins, density=True)\n",
    "bins = np.mean((bin_tmp[:-1], bin_tmp[1:]), 0)\n",
    "scarlet_fit = curve_fit(gauss, bins, hist, p0=[np.std(bins), np.mean(bins)])"
   ]
  },
  {
   "cell_type": "code",
   "execution_count": null,
   "id": "005fde2e-d1e9-4f6a-916b-494d1e6b49ac",
   "metadata": {},
   "outputs": [
    {
     "data": {
      "text/plain": [
       "(array([ 0.02190079, -0.0080039 ]),\n",
       " array([[1.06278322e-06, 3.53884623e-10],\n",
       "        [3.53884623e-10, 1.59329833e-06]]))"
      ]
     },
     "execution_count": null,
     "metadata": {},
     "output_type": "execute_result"
    }
   ],
   "source": [
    "madness_fit"
   ]
  },
  {
   "cell_type": "code",
   "execution_count": null,
   "id": "aea67eb1-5bc6-498e-a5da-6f17332d3a58",
   "metadata": {},
   "outputs": [
    {
     "data": {
      "text/plain": [
       "array([-0.77370653, -0.73906265, -0.70441876, -0.66977487, -0.63513099,\n",
       "       -0.6004871 , -0.56584321, -0.53119933, -0.49655544, -0.46191156,\n",
       "       -0.42726767, -0.39262378, -0.3579799 , -0.32333601, -0.28869213,\n",
       "       -0.25404824, -0.21940435, -0.18476047, -0.15011658, -0.1154727 ,\n",
       "       -0.08082881, -0.04618492, -0.01154104,  0.02310285,  0.05774673,\n",
       "        0.09239062,  0.12703451,  0.16167839,  0.19632228,  0.23096616,\n",
       "        0.26561005,  0.30025394,  0.33489782,  0.36954171,  0.4041856 ,\n",
       "        0.43882948,  0.47347337,  0.50811725,  0.54276114,  0.57740503,\n",
       "        0.61204891,  0.6466928 ,  0.68133668,  0.71598057,  0.75062446,\n",
       "        0.78526834,  0.81991223,  0.85455611,  0.8892    ,  0.92384389,\n",
       "        0.95848777,  0.99313166,  1.02777554,  1.06241943,  1.09706332,\n",
       "        1.1317072 ,  1.16635109,  1.20099498,  1.23563886,  1.27028275,\n",
       "        1.30492663,  1.33957052,  1.37421441,  1.40885829,  1.44350218,\n",
       "        1.47814606,  1.51278995,  1.54743384,  1.58207772,  1.61672161,\n",
       "        1.65136549,  1.68600938,  1.72065327,  1.75529715,  1.78994104,\n",
       "        1.82458492,  1.85922881,  1.8938727 ,  1.92851658,  1.96316047,\n",
       "        1.99780436,  2.03244824,  2.06709213,  2.10173601,  2.1363799 ,\n",
       "        2.17102379,  2.20566767,  2.24031156,  2.27495544,  2.30959933,\n",
       "        2.34424322,  2.3788871 ,  2.41353099,  2.44817487,  2.48281876,\n",
       "        2.51746265,  2.55210653,  2.58675042,  2.6213943 ,  2.65603819])"
      ]
     },
     "execution_count": null,
     "metadata": {},
     "output_type": "execute_result"
    }
   ],
   "source": [
    "bins"
   ]
  },
  {
   "cell_type": "code",
   "execution_count": null,
   "id": "5960aa02-3c0a-47b2-b795-12274ccf72a7",
   "metadata": {},
   "outputs": [
    {
     "data": {
      "image/png": "[encoded data removed]",
      "text/plain": [
       "<Figure size 720x504 with 1 Axes>"
      ]
     },
     "metadata": {},
     "output_type": "display_data"
    }
   ],
   "source": [
    "import seaborn as sns\n",
    "from scipy.stats import norm\n",
    "#print(madness_relative_difference[np.logical_not(np.isinf(madness_relative_difference))].reshape(-1))\n",
    "sns.set_theme(style={\"axes.grid\": True,\n",
    "                     'axes.labelcolor': 'black',\n",
    "                     'figure.facecolor': '1',\n",
    "                     'xtick.color': 'black',\n",
    "                     'ytick.color': 'black',\n",
    "                     'text.color': 'black',\n",
    "                     'image.cmap': 'viridis',})\n",
    "plt.figure(figsize=(10,7))\n",
    "bins = np.arange(-.5,.5, .01)\n",
    "plt.hist(madness_relative_difference[np.logical_not(np.isnan(madness_relative_difference))].reshape(-1), bins=bins, density=True, alpha=0.7, color=\"coral\", label=\"MADNESS\");\n",
    "plt.plot(bins, norm.pdf(bins, madness_fit[0][1], madness_fit[0][0]), color=\"coral\")\n",
    "plt.hist(scarlet_relative_difference[np.logical_not(np.isnan(scarlet_relative_difference))].reshape(-1), bins=bins, density=True, alpha=0.5, color=\"cornflowerblue\", label=\"scarlet\");\n",
    "plt.plot(bins, norm.pdf(bins, scarlet_fit[0][1], scarlet_fit[0][0]), color=\"cornflowerblue\")\n",
    "plt.legend(fontsize=20)\n",
    "ax=plt.gca()\n",
    "plt.xlabel(\"relative flux reconstruction error\", fontsize=20)\n",
    "ax.tick_params(labelsize=15)\n",
    "plt.ylabel(\"number of galaxies\", fontsize=20)\n",
    "plt.xlim([-.5,.5])\n",
    "plt.savefig(\"flux_err\", transparent=True)"
   ]
  },
  {
   "cell_type": "code",
   "execution_count": null,
   "id": "f658d090-dfd7-45f0-b170-452be8184027",
   "metadata": {},
   "outputs": [
    {
     "name": "stdout",
     "output_type": "stream",
     "text": [
      "2.6733601337097808\n",
      "-0.7910284744959054\n"
     ]
    }
   ],
   "source": [
    "print(np.amax(scarlet_relative_difference[np.logical_not(np.isnan(scarlet_relative_difference))]))\n",
    "print(np.amin(scarlet_relative_difference[np.logical_not(np.isnan(scarlet_relative_difference))]))"
   ]
  },
  {
   "cell_type": "code",
   "execution_count": null,
   "id": "9e742fe5-830c-4a58-ac1f-c029e81e21b0",
   "metadata": {},
   "outputs": [
    {
     "name": "stdout",
     "output_type": "stream",
     "text": [
      "0.06019479957578758\n",
      "-0.14613051542028063\n"
     ]
    }
   ],
   "source": [
    "print(np.amax(madness_relative_difference[np.logical_not(np.isnan(madness_relative_difference))]))\n",
    "print(np.amin(madness_relative_difference[np.logical_not(np.isnan(madness_relative_difference))]))"
   ]
  },
  {
   "cell_type": "markdown",
   "id": "d4a97732-10ff-4dd5-90a1-c4dd04159186",
   "metadata": {},
   "source": [
    "# Compute Apperture photometry"
   ]
  },
  {
   "cell_type": "code",
   "execution_count": null,
   "id": "3f23add4-43ff-410d-a1dc-524719f3c874",
   "metadata": {},
   "outputs": [],
   "source": [
    "from maddeb.metrics import compute_apperture_photomery"
   ]
  },
  {
   "cell_type": "code",
   "execution_count": null,
   "id": "b23eca9f-fb09-4fc8-bf7c-65a2c161724c",
   "metadata": {},
   "outputs": [
    {
     "data": {
      "image/png": "[encoded data removed]",
      "text/plain": [
       "<Figure size 720x504 with 1 Axes>"
      ]
     },
     "metadata": {},
     "output_type": "display_data"
    }
   ],
   "source": [
    "actual_residual_field = blend[\"blend_images\"][0]\n",
    "scarlet_residual_field = blend[\"blend_images\"][0]\n",
    "\n",
    "for i in range(len(scarlet_predictions[0])):\n",
    "    actual_residual_field = actual_residual_field - blend[\"isolated_images\"][0][i]\n",
    "    scarlet_residual_field = scarlet_residual_field - scarlet_predictions[0][i]\n",
    "\n",
    "padding_infos = deb.get_padding_infos()\n",
    "madness_residual_field = deb.compute_residual(\n",
    "    blend[\"blend_images\"][0], use_scatter_and_sub=True\n",
    ").numpy()\n",
    "\n",
    "bkg_rms = {}\n",
    "for band in range(6):\n",
    "    bkg_rms[band] = sep.Background(blend[\"blend_images\"][0][band]).globalrms\n",
    "\n",
    "actual_gal_fluxes, actual_gal_fluxerrs, actual_gal_flags = compute_apperture_photomery(\n",
    "    residual_field=actual_residual_field,\n",
    "    predictions=blend[\"isolated_images\"][0],\n",
    "    xpos=blend[\"blend_list\"][0][\"x_peak\"],\n",
    "    ypos=blend[\"blend_list\"][0][\"y_peak\"],\n",
    "    bkg_rms=bkg_rms,\n",
    ")\n",
    "\n",
    "(\n",
    "    madness_gal_fluxes,\n",
    "    madness_gal_fluxerrs,\n",
    "    madness_gal_flags,\n",
    ") = compute_apperture_photomery(\n",
    "    residual_field=np.transpose(madness_residual_field,  axes=(2, 0, 1)),\n",
    "    predictions=madness_predictions[0],\n",
    "    xpos=blend[\"blend_list\"][0][\"x_peak\"],\n",
    "    ypos=blend[\"blend_list\"][0][\"y_peak\"],\n",
    "    bkg_rms=bkg_rms,\n",
    ")\n",
    "\n",
    "(\n",
    "    scarlet_gal_fluxes,\n",
    "    scarlet_gal_fluxerrs,\n",
    "    scarlet_gal_flags,\n",
    ") = compute_apperture_photomery(\n",
    "    residual_field=scarlet_residual_field,\n",
    "    predictions=scarlet_predictions[0],\n",
    "    xpos=blend[\"blend_list\"][0][\"x_peak\"],\n",
    "    ypos=blend[\"blend_list\"][0][\"y_peak\"],\n",
    "    bkg_rms=bkg_rms,\n",
    ")\n",
    "\n",
    "plt.figure(figsize=(10, 7))\n",
    "bins = np.arange(0, 1, 0.005)\n",
    "plt.hist(\n",
    "    np.abs((madness_gal_fluxes - actual_gal_fluxes) / actual_gal_fluxes),\n",
    "    bins=bins,\n",
    "    alpha=0.5,\n",
    "    label=\"MADNESS\",\n",
    ")\n",
    "\n",
    "plt.hist(\n",
    "    np.abs((scarlet_gal_fluxes - actual_gal_fluxes) / actual_gal_fluxes),\n",
    "    bins=bins,\n",
    "    alpha=0.5,\n",
    "    label=\"scarlet\",\n",
    ")\n",
    "\n",
    "plt.legend(fontsize=20)\n",
    "\n",
    "plt.savefig(\"aperturephoto\")\n"
   ]
  },
  {
   "cell_type": "code",
   "execution_count": null,
   "id": "f7da802b-9a87-4790-b9df-455dce695b06",
   "metadata": {},
   "outputs": [
    {
     "data": {
      "text/plain": [
       "(501, 501, 6)"
      ]
     },
     "execution_count": null,
     "metadata": {},
     "output_type": "execute_result"
    }
   ],
   "source": [
    "np.shape(madness_residual_field)"
   ]
  },
  {
   "cell_type": "code",
   "execution_count": null,
   "id": "e3a9c965-d45c-43bc-b36d-51f55ad967dc",
   "metadata": {},
   "outputs": [
    {
     "data": {
      "text/plain": [
       "array([7.66294577e+03, 6.28664936e+04, 1.32282860e+05, 9.89050019e+04,\n",
       "       6.01471584e+04, 3.20264173e+04, 3.42642278e+03, 2.96161926e+04,\n",
       "       6.30903244e+04, 4.77127425e+04, 3.04717118e+04, 1.58270881e+04,\n",
       "       2.98893052e+03, 2.34637174e+04, 5.27156617e+04, 3.88161761e+04,\n",
       "       2.58681425e+04, 1.06277483e+04, 4.33917983e+03, 3.83137757e+04,\n",
       "       8.35385996e+04, 6.24293772e+04, 3.84306629e+04, 1.91630669e+04,\n",
       "       4.13350853e+03, 3.79702694e+04, 7.47469994e+04, 5.74958914e+04,\n",
       "       3.32081052e+04, 1.47504307e+04, 8.64452364e+03, 6.83623962e+04,\n",
       "       1.42856218e+05, 1.09889251e+05, 6.98172331e+04, 3.41557455e+04,\n",
       "       1.07940307e+04, 8.68723885e+04, 1.77808008e+05, 1.38060997e+05,\n",
       "       8.63991169e+04, 4.12391386e+04, 5.35837477e+03, 4.69812649e+04,\n",
       "       9.54224435e+04, 7.07057964e+04, 4.34418251e+04, 1.82171511e+04,\n",
       "       5.57127344e+05, 4.52118301e+06, 9.25017124e+06, 6.95830957e+06,\n",
       "       4.27120521e+06, 1.99257437e+06, 2.94469878e+03, 2.29689788e+04,\n",
       "       5.05679765e+04, 3.31790704e+04, 2.58870058e+04, 1.75683053e+04,\n",
       "       4.30277539e+04, 3.52032878e+05, 7.27851002e+05, 5.51147125e+05,\n",
       "       3.38453326e+05, 1.60357851e+05, 3.74683715e+03, 3.17352910e+04,\n",
       "       6.90302073e+04, 4.87531146e+04, 3.31451155e+04, 1.52855695e+04,\n",
       "       1.01674196e+04, 8.50608397e+04, 1.76399947e+05, 1.34178644e+05,\n",
       "       8.32703103e+04, 4.16039570e+04, 5.86954648e+03, 4.67183268e+04,\n",
       "       9.49932350e+04, 7.42165320e+04, 4.26050574e+04, 2.29246223e+04,\n",
       "       7.54161212e+03, 6.06704412e+04, 1.27922896e+05, 9.58185106e+04,\n",
       "       5.73816452e+04, 2.38092949e+04, 1.65700916e+03, 1.32212064e+04,\n",
       "       4.04608995e+04, 2.51317687e+04, 8.86362827e+03, 2.43512807e+04,\n",
       "       4.33684897e+03, 3.60991172e+04, 7.80860582e+04, 5.50805161e+04,\n",
       "       3.28879146e+04, 1.25610240e+04, 1.08414126e+04, 9.14046878e+04,\n",
       "       1.86191875e+05, 1.42415002e+05, 8.60741117e+04, 3.70072575e+04,\n",
       "       8.26169708e+03, 7.10245575e+04, 1.47398396e+05, 1.08841330e+05,\n",
       "       6.96945006e+04, 3.19392475e+04, 8.48703047e+03, 7.18171817e+04,\n",
       "       1.43206303e+05, 1.08128848e+05, 6.86001143e+04, 3.12952290e+04,\n",
       "       4.86523707e+03, 3.75082861e+04, 7.63210874e+04, 5.73376200e+04,\n",
       "       3.76059916e+04, 1.52333029e+04, 7.92099766e+03, 6.60910013e+04,\n",
       "       1.36600840e+05, 1.04412991e+05, 6.00858407e+04, 2.82452084e+04,\n",
       "       2.45001146e+04, 2.00918688e+05, 4.22216562e+05, 3.18689902e+05,\n",
       "       1.98385906e+05, 9.04104246e+04, 9.04090314e+03, 7.69559131e+04,\n",
       "       1.59223551e+05, 1.22294744e+05, 7.67545710e+04, 3.51347774e+04,\n",
       "       1.33300464e+04, 1.08441096e+05, 2.29210754e+05, 1.74838317e+05,\n",
       "       1.11903783e+05, 5.25530785e+04, 3.84062659e+03, 3.00889308e+04,\n",
       "       6.51946006e+04, 4.72101886e+04, 3.31547261e+04, 1.43779552e+04,\n",
       "       5.58669176e+03, 4.28119066e+04, 9.34013363e+04, 7.07653380e+04,\n",
       "       4.41388124e+04, 2.28115943e+04, 3.60885010e+03, 2.69150247e+04,\n",
       "       5.65377479e+04, 4.04540572e+04, 2.62722657e+04, 9.63224582e+03,\n",
       "       3.97526972e+03, 3.31682232e+04, 7.12470157e+04, 5.28957774e+04,\n",
       "       3.44533949e+04, 1.52953972e+04, 5.83049413e+03, 4.52228265e+04,\n",
       "       9.36037596e+04, 7.37395204e+04, 4.38349628e+04, 2.29925121e+04,\n",
       "       2.18826149e+04, 1.81778926e+05, 3.74744208e+05, 2.81810305e+05,\n",
       "       1.75096593e+05, 8.28157414e+04, 4.61762332e+03, 3.93311840e+04,\n",
       "       7.83752699e+04, 6.06487048e+04, 3.74778277e+04, 1.50224848e+04,\n",
       "       4.36006100e+03, 3.75007225e+04, 7.79533407e+04, 6.03305282e+04,\n",
       "       3.48547763e+04, 1.29571705e+04, 5.68264168e+03, 5.05485584e+04,\n",
       "       1.04259873e+05, 7.98067394e+04, 5.30170310e+04, 2.48150662e+04,\n",
       "       2.80327508e+03, 2.29626456e+04, 4.58464298e+04, 3.67474140e+04,\n",
       "       2.31349313e+04, 9.80967584e+03, 7.04158216e+03, 5.44673488e+04,\n",
       "       1.12771210e+05, 8.72012463e+04, 5.15720449e+04, 2.97754063e+04,\n",
       "       4.10074051e+03, 3.47174484e+04, 7.28016523e+04, 5.30934982e+04,\n",
       "       3.53331551e+04, 1.42024880e+04, 3.92601977e+03, 3.30365313e+04,\n",
       "       6.80121802e+04, 4.85895371e+04, 3.67439447e+04, 1.30988338e+04,\n",
       "       6.70491298e+03, 6.02523976e+04, 1.23748988e+05, 9.75219126e+04,\n",
       "       6.30238241e+04, 2.72933634e+04, 5.44915316e+03, 4.22160213e+04,\n",
       "       8.77383935e+04, 6.68054164e+04, 3.72737109e+04, 2.17938635e+04,\n",
       "       7.48740347e+03, 6.26727033e+04, 1.32380092e+05, 9.85734027e+04,\n",
       "       5.95244817e+04, 2.82752794e+04, 1.15819602e+04, 9.68777412e+04,\n",
       "       1.99552395e+05, 1.51044647e+05, 8.96911558e+04, 4.52445736e+04,\n",
       "       5.46496745e+03, 4.12802686e+04, 8.87560862e+04, 7.16122868e+04,\n",
       "       4.27321960e+04, 1.98232339e+04, 5.41648563e+03, 4.82835826e+04,\n",
       "       9.90530770e+04, 7.50210578e+04, 4.45280787e+04, 1.94397884e+04,\n",
       "       1.96974176e+04, 1.61271310e+05, 3.30531217e+05, 2.51106820e+05,\n",
       "       1.54130472e+05, 7.77241416e+04, 5.29999519e+04, 4.35027432e+05,\n",
       "       8.97721482e+05, 6.78878543e+05, 4.20442353e+05, 1.93460816e+05,\n",
       "       4.63800018e+03, 3.74041012e+04, 7.98665057e+04, 6.15298522e+04,\n",
       "       3.55801554e+04, 1.43736075e+04, 9.29248800e+04, 7.58163270e+05,\n",
       "       1.57410429e+06, 1.18499205e+06, 7.31901511e+05, 3.44852454e+05,\n",
       "       4.99570735e+03, 4.27898806e+04, 8.70723534e+04, 6.79775080e+04,\n",
       "       3.88841860e+04, 1.54880025e+04, 1.01959399e+04, 7.86221297e+04,\n",
       "       1.65156039e+05, 1.28164263e+05, 7.49517106e+04, 3.70422817e+04,\n",
       "       3.28682679e+04, 2.71841178e+05, 5.33757934e+05, 4.18132899e+05,\n",
       "       2.69720012e+05, 8.48335793e+04, 4.44357456e+03, 4.18533641e+04,\n",
       "       8.50168178e+04, 6.78054359e+04, 4.10782423e+04, 2.09658384e+04,\n",
       "       3.43839932e+03, 2.62927459e+04, 5.85374232e+04, 4.71905446e+04,\n",
       "       2.98996584e+04, 1.25668806e+04, 5.07946184e+03, 4.14837008e+04,\n",
       "       8.44829139e+04, 6.61481778e+04, 3.63605893e+04, 1.71323351e+04,\n",
       "       3.77042476e+03, 2.63920307e+04, 5.89922628e+04, 4.44557326e+04,\n",
       "       2.41758574e+04, 1.07526801e+04, 4.73110652e+03, 3.66552478e+04,\n",
       "       7.56224531e+04, 5.74132348e+04, 3.94558319e+04, 1.93817723e+04,\n",
       "       4.56184339e+03, 3.54618673e+04, 7.10514187e+04, 4.69123965e+04,\n",
       "       3.41717137e+04, 1.15864231e+04, 7.23254627e+03, 5.87310956e+04,\n",
       "       1.26122690e+05, 9.30812026e+04, 5.69128236e+04, 2.74497632e+04,\n",
       "       4.10053518e+03, 3.54137593e+04, 6.95948786e+04, 5.65007647e+04,\n",
       "       3.34490082e+04, 1.83921103e+04, 6.46718454e+04, 5.31020508e+05,\n",
       "       1.10406506e+06, 8.32029112e+05, 5.11402152e+05, 2.38636685e+05,\n",
       "       5.79532666e+03, 4.49388563e+04, 9.30207229e+04, 7.40512016e+04,\n",
       "       4.05989591e+04, 1.56332166e+04, 1.54478949e+03, 1.28886112e+04,\n",
       "       2.37974013e+04, 2.17709964e+04, 1.43391886e+04, 9.61688359e+02,\n",
       "       4.60862726e+04, 3.79364540e+05, 7.88587990e+05, 6.01666400e+05,\n",
       "       3.70387978e+05, 1.72531473e+05, 9.69628132e+04, 7.90508124e+05,\n",
       "       1.62292042e+06, 1.21694391e+06, 7.51940869e+05, 3.53239101e+05,\n",
       "       6.19623910e+03, 4.97614993e+04, 1.06981378e+05, 8.15227786e+04,\n",
       "       4.81167350e+04, 2.02304289e+04])"
      ]
     },
     "execution_count": null,
     "metadata": {},
     "output_type": "execute_result"
    }
   ],
   "source": [
    "scarlet_gal_fluxes"
   ]
  },
  {
   "cell_type": "code",
   "execution_count": null,
   "id": "50001891-2c0b-4cf3-ac0a-5643f3587286",
   "metadata": {},
   "outputs": [
    {
     "data": {
      "text/plain": [
       "array([7.66094623e+03, 6.28506903e+04, 1.32251185e+05, 9.88814279e+04,\n",
       "       6.01327944e+04, 3.20196138e+04, 3.42376677e+03, 2.95952186e+04,\n",
       "       6.30491436e+04, 4.76830397e+04, 3.04529965e+04, 1.58174715e+04,\n",
       "       2.98295628e+03, 2.34185951e+04, 5.26286049e+04, 3.87511167e+04,\n",
       "       2.58294473e+04, 1.06080860e+04, 4.34046071e+03, 3.83159459e+04,\n",
       "       8.35374371e+04, 6.24300813e+04, 3.84355836e+04, 1.91632919e+04,\n",
       "       4.13294527e+03, 3.79656614e+04, 7.47379870e+04, 5.74886028e+04,\n",
       "       3.32039665e+04, 1.47488951e+04, 8.59233989e+03, 6.79426909e+04,\n",
       "       1.42035925e+05, 1.09288047e+05, 6.94668724e+04, 3.39999651e+04,\n",
       "       1.07938584e+04, 8.68710055e+04, 1.77805212e+05, 1.38058892e+05,\n",
       "       8.63978342e+04, 4.12385326e+04, 5.35756736e+03, 4.69749831e+04,\n",
       "       9.54100861e+04, 7.06965453e+04, 4.34363231e+04, 1.82145606e+04,\n",
       "       5.57126308e+05, 4.52117478e+06, 9.25015488e+06, 6.95829762e+06,\n",
       "       4.27119797e+06, 1.99257081e+06, 2.94383201e+03, 2.29623720e+04,\n",
       "       5.05545314e+04, 3.31692070e+04, 2.58808109e+04, 1.75653339e+04,\n",
       "       4.30265763e+04, 3.52022492e+05, 7.27831323e+05, 5.51133275e+05,\n",
       "       3.38444158e+05, 1.60355482e+05, 3.74669596e+03, 3.17339109e+04,\n",
       "       6.90279628e+04, 4.87515544e+04, 3.31440127e+04, 1.52851449e+04,\n",
       "       1.01669174e+04, 8.50572031e+04, 1.76391960e+05, 1.34172458e+05,\n",
       "       8.32665188e+04, 4.16016361e+04, 5.86793121e+03, 4.67049705e+04,\n",
       "       9.49679134e+04, 7.41979209e+04, 4.25943142e+04, 2.29195947e+04,\n",
       "       7.53997200e+03, 6.06572197e+04, 1.27896670e+05, 9.57992187e+04,\n",
       "       5.73697258e+04, 2.38037726e+04, 4.27119158e+03, 3.49131762e+04,\n",
       "       7.20753619e+04, 5.86650884e+04, 3.72669436e+04, 1.47047447e+04,\n",
       "       4.33663830e+03, 3.60973351e+04, 7.80828120e+04, 5.50780863e+04,\n",
       "       3.28864461e+04, 1.25604112e+04, 1.08272145e+04, 9.12921937e+04,\n",
       "       1.85967401e+05, 1.42249960e+05, 8.59734770e+04, 3.69595420e+04,\n",
       "       8.26142543e+03, 7.10231849e+04, 1.47395114e+05, 1.08839172e+05,\n",
       "       6.96931306e+04, 3.19381803e+04, 8.47974677e+03, 7.17615124e+04,\n",
       "       1.43096675e+05, 1.08048290e+05, 6.85508941e+04, 3.12700654e+04,\n",
       "       4.86137385e+03, 3.74851783e+04, 7.62880499e+04, 5.73065519e+04,\n",
       "       3.75908968e+04, 1.52279765e+04, 7.92087480e+03, 6.60900982e+04,\n",
       "       1.36598952e+05, 1.04411577e+05, 6.00850092e+04, 2.82447721e+04,\n",
       "       2.44999467e+04, 2.00917257e+05, 4.22213256e+05, 3.18687317e+05,\n",
       "       1.98383834e+05, 9.04093449e+04, 9.04055067e+03, 7.69528410e+04,\n",
       "       1.59217316e+05, 1.22289632e+05, 7.67515026e+04, 3.51332202e+04,\n",
       "       1.33299644e+04, 1.08440435e+05, 2.29209457e+05, 1.74837291e+05,\n",
       "       1.11903160e+05, 5.25527880e+04, 3.83965323e+03, 3.00816812e+04,\n",
       "       6.51797298e+04, 4.71991049e+04, 3.31479733e+04, 1.43744714e+04,\n",
       "       5.58652994e+03, 4.28105010e+04, 9.33983103e+04, 7.07628491e+04,\n",
       "       4.41371497e+04, 2.28107364e+04, 3.59073045e+03, 2.67703495e+04,\n",
       "       5.62514517e+04, 4.02453283e+04, 2.61446130e+04, 9.57132631e+03,\n",
       "       3.97248842e+03, 3.31459102e+04, 7.12031556e+04, 5.28634953e+04,\n",
       "       3.44340103e+04, 1.52863668e+04, 5.80985210e+03, 4.50600202e+04,\n",
       "       9.32834558e+04, 7.35017368e+04, 4.36916671e+04, 2.29263117e+04,\n",
       "       2.18429978e+04, 1.81463885e+05, 3.74115698e+05, 2.81338738e+05,\n",
       "       1.74811072e+05, 8.26845562e+04, 4.61743948e+03, 3.93300306e+04,\n",
       "       7.83729390e+04, 6.06467506e+04, 3.74767518e+04, 1.50220962e+04,\n",
       "       4.27232857e+03, 3.67713924e+04, 7.65184488e+04, 5.93406746e+04,\n",
       "       3.42629903e+04, 1.27934152e+04, 5.68243762e+03, 5.05470770e+04,\n",
       "       1.04256736e+05, 7.98043717e+04, 5.30155702e+04, 2.48142221e+04,\n",
       "       2.80305832e+03, 2.29618273e+04, 4.58444492e+04, 3.67453778e+04,\n",
       "       2.31342058e+04, 9.80884078e+03, 7.04148781e+03, 5.44666158e+04,\n",
       "       1.12769709e+05, 8.72000310e+04, 5.15712681e+04, 2.97750966e+04,\n",
       "       4.09652448e+03, 3.46836195e+04, 7.27366987e+04, 5.30433966e+04,\n",
       "       3.53044312e+04, 1.41895189e+04, 3.91922544e+03, 3.29832071e+04,\n",
       "       6.79068421e+04, 4.85107441e+04, 3.66966283e+04, 1.30766490e+04,\n",
       "       6.70484922e+03, 6.02519091e+04, 1.23747955e+05, 9.75210759e+04,\n",
       "       6.30232449e+04, 2.72930609e+04, 5.44710654e+03, 4.22000251e+04,\n",
       "       8.77068429e+04, 6.67816577e+04, 3.72593968e+04, 2.17875063e+04,\n",
       "       7.48188925e+03, 6.26293581e+04, 1.32294841e+05, 9.85095090e+04,\n",
       "       5.94861331e+04, 2.82582042e+04, 1.15817728e+04, 9.68761637e+04,\n",
       "       1.99549001e+05, 1.51041838e+05, 8.96893619e+04, 4.52436071e+04,\n",
       "       5.46487813e+03, 4.12796688e+04, 8.87550508e+04, 7.16112442e+04,\n",
       "       4.27317444e+04, 1.98230322e+04, 5.40029895e+03, 4.81511651e+04,\n",
       "       9.87963823e+04, 7.48207370e+04, 4.44125639e+04, 1.93790344e+04,\n",
       "       1.99756681e+04, 1.63539411e+05, 3.35250678e+05, 2.54629454e+05,\n",
       "       1.55908624e+05, 7.84630415e+04, 5.30020616e+04, 4.35037205e+05,\n",
       "       8.97746099e+05, 6.78895547e+05, 4.20444627e+05, 1.93458654e+05,\n",
       "       4.63769941e+03, 3.74015963e+04, 7.98611466e+04, 6.15255212e+04,\n",
       "       3.55773895e+04, 1.43722465e+04, 9.29244300e+04, 7.58159093e+05,\n",
       "       1.57409598e+06, 1.18498582e+06, 7.31897634e+05, 3.44850136e+05,\n",
       "       4.99499485e+03, 4.27843575e+04, 8.70612422e+04, 6.79696515e+04,\n",
       "       3.88793368e+04, 1.54856165e+04, 1.01949138e+04, 7.86143024e+04,\n",
       "       1.65140520e+05, 1.28152276e+05, 7.49449112e+04, 3.70392979e+04,\n",
       "       3.44208296e+04, 2.81821747e+05, 5.84715924e+05, 4.42678077e+05,\n",
       "       2.72023912e+05, 1.28049423e+05, 4.44316900e+03, 4.18500994e+04,\n",
       "       8.50102674e+04, 6.78007216e+04, 4.10755449e+04, 2.09647273e+04,\n",
       "       3.43128396e+03, 2.62358062e+04, 5.84285938e+04, 4.71124810e+04,\n",
       "       2.98481466e+04, 1.25410004e+04, 5.07917470e+03, 4.14812904e+04,\n",
       "       8.44785214e+04, 6.61449131e+04, 3.63579559e+04, 1.71311116e+04,\n",
       "       3.73578494e+03, 2.61193688e+04, 5.84536208e+04, 4.40586038e+04,\n",
       "       2.39346939e+04, 1.06380774e+04, 4.73273500e+03, 3.66547449e+04,\n",
       "       7.56082631e+04, 5.74103845e+04, 3.94503831e+04, 1.93882684e+04,\n",
       "       4.55870779e+03, 3.54384626e+04, 7.10047918e+04, 4.68771286e+04,\n",
       "       3.41504517e+04, 1.15756254e+04, 7.18256074e+03, 5.89459370e+04,\n",
       "       1.25969611e+05, 9.37690196e+04, 5.74317288e+04, 2.64917518e+04,\n",
       "       4.10021792e+03, 3.54110946e+04, 6.95893029e+04, 5.64962912e+04,\n",
       "       3.34460536e+04, 1.83906454e+04, 6.46029508e+04, 5.30474655e+05,\n",
       "       1.10298381e+06, 8.31221108e+05, 5.10913653e+05, 2.38411962e+05,\n",
       "       5.79362863e+03, 4.49232555e+04, 9.29923514e+04, 7.40315651e+04,\n",
       "       4.05880051e+04, 1.56274178e+04, 1.51638910e+03, 1.28865535e+04,\n",
       "       2.40931373e+04, 2.19700549e+04, 1.42750196e+04, 7.33422756e+02,\n",
       "       4.60838270e+04, 3.79345422e+05, 7.88549915e+05, 6.01637963e+05,\n",
       "       3.70370426e+05, 1.72522854e+05, 9.69625700e+04, 7.90506188e+05,\n",
       "       1.62291667e+06, 1.21694110e+06, 7.51939188e+05, 3.53238296e+05,\n",
       "       5.89216850e+03, 4.73520917e+04, 1.02082450e+05, 7.79100219e+04,\n",
       "       4.59197888e+04, 1.91783105e+04])"
      ]
     },
     "execution_count": null,
     "metadata": {},
     "output_type": "execute_result"
    }
   ],
   "source": [
    "actual_gal_fluxes"
   ]
  },
  {
   "cell_type": "code",
   "execution_count": null,
   "id": "52bfe41f-b469-462c-8ed9-e1b6b7b2b73c",
   "metadata": {},
   "outputs": [
    {
     "data": {
      "text/plain": [
       "array([7.66426260e+03, 6.28771337e+04, 1.32303998e+05, 9.89215808e+04,\n",
       "       6.01575828e+04, 3.20313703e+04, 3.43347018e+03, 2.96721288e+04,\n",
       "       6.31622948e+04, 4.77724750e+04, 3.05052815e+04, 1.58439679e+04,\n",
       "       2.99275557e+03, 2.34882203e+04, 5.27093337e+04, 3.88014896e+04,\n",
       "       2.58500184e+04, 1.06439080e+04, 4.34273587e+03, 3.83484397e+04,\n",
       "       8.35211891e+04, 6.24255761e+04, 3.84238812e+04, 1.91734879e+04,\n",
       "       4.13439693e+03, 3.79772613e+04, 7.47611695e+04, 5.75064562e+04,\n",
       "       3.32150872e+04, 1.47542276e+04, 8.60245982e+03, 6.79738861e+04,\n",
       "       1.42187305e+05, 1.09441601e+05, 6.94716320e+04, 3.41321561e+04,\n",
       "       1.07946770e+04, 8.68776994e+04, 1.77818927e+05, 1.38069695e+05,\n",
       "       8.64046880e+04, 4.12418679e+04, 5.36007856e+03, 4.69949904e+04,\n",
       "       9.54499830e+04, 7.07272288e+04, 4.34554233e+04, 1.82237141e+04,\n",
       "       5.57130098e+05, 4.52120455e+06, 9.25021283e+06, 6.95834179e+06,\n",
       "       4.27122518e+06, 1.99258371e+06, 2.94587687e+03, 2.29786608e+04,\n",
       "       5.05870105e+04, 3.31940953e+04, 2.58962477e+04, 1.75727076e+04,\n",
       "       4.30378297e+04, 3.52098913e+05, 7.27874356e+05, 5.51175728e+05,\n",
       "       3.38488485e+05, 1.60384618e+05, 3.74892970e+03, 3.17517380e+04,\n",
       "       6.90635647e+04, 4.87791981e+04, 3.31613352e+04, 1.52935188e+04,\n",
       "       1.01693314e+04, 8.50760259e+04, 1.76428618e+05, 1.34200411e+05,\n",
       "       8.32836320e+04, 4.16098055e+04, 5.88666405e+03, 4.68572523e+04,\n",
       "       9.52048436e+04, 7.43813912e+04, 4.26761070e+04, 2.29797695e+04,\n",
       "       7.54452980e+03, 6.06930971e+04, 1.27967243e+05, 9.58528383e+04,\n",
       "       5.74027749e+04, 2.38194791e+04, 4.65403173e+03, 3.79185676e+04,\n",
       "       7.81652566e+04, 6.34111914e+04, 4.03702704e+04, 1.60314400e+04,\n",
       "       4.33819534e+03, 3.61098517e+04, 7.81079939e+04, 5.50977228e+04,\n",
       "       3.28987915e+04, 1.25663812e+04, 1.08381776e+04, 9.13261735e+04,\n",
       "       1.85937503e+05, 1.42242521e+05, 8.59468236e+04, 3.69822844e+04,\n",
       "       8.26056288e+03, 7.10330383e+04, 1.47356290e+05, 1.08805501e+05,\n",
       "       6.96760042e+04, 3.19314518e+04, 8.49043650e+03, 7.18517835e+04,\n",
       "       1.43204448e+05, 1.08112168e+05, 6.85782003e+04, 3.13069887e+04,\n",
       "       4.87073187e+03, 3.75131023e+04, 7.63019878e+04, 5.73141171e+04,\n",
       "       3.75806452e+04, 1.52618008e+04, 7.92148820e+03, 6.60951274e+04,\n",
       "       1.36609269e+05, 1.04419745e+05, 6.00901990e+04, 2.82473126e+04,\n",
       "       2.45007950e+04, 2.00924009e+05, 4.22226683e+05, 3.18697715e+05,\n",
       "       1.98390357e+05, 9.04125003e+04, 9.04178422e+03, 7.69626628e+04,\n",
       "       1.59224651e+05, 1.22296379e+05, 7.67538520e+04, 3.51377767e+04,\n",
       "       1.33305698e+04, 1.08445415e+05, 2.29219763e+05, 1.74845516e+05,\n",
       "       1.11908418e+05, 5.25553593e+04, 3.84253513e+03, 3.01043045e+04,\n",
       "       6.52102302e+04, 4.72189616e+04, 3.31602906e+04, 1.43840388e+04,\n",
       "       5.58696817e+03, 4.28141286e+04, 9.34058292e+04, 7.07688654e+04,\n",
       "       4.41409988e+04, 2.28126326e+04, 3.62911449e+03, 2.70622264e+04,\n",
       "       5.68011588e+04, 4.06520257e+04, 2.64036550e+04, 9.70160776e+03,\n",
       "       3.97865132e+03, 3.31941230e+04, 7.12958820e+04, 5.29310860e+04,\n",
       "       3.44763310e+04, 1.53066976e+04, 5.84267313e+03, 4.53173640e+04,\n",
       "       9.37700496e+04, 7.38728861e+04, 4.39128832e+04, 2.30349974e+04,\n",
       "       2.19279679e+04, 1.82128846e+05, 3.75415035e+05, 2.82312296e+05,\n",
       "       1.75404285e+05, 8.29631922e+04, 4.61887534e+03, 3.93414516e+04,\n",
       "       7.83957142e+04, 6.06644031e+04, 3.74877912e+04, 1.50274213e+04,\n",
       "       4.28491454e+03, 3.68504431e+04, 7.66384253e+04, 5.95176105e+04,\n",
       "       3.43613822e+04, 1.28303675e+04, 5.68358418e+03, 5.05563041e+04,\n",
       "       1.04275373e+05, 7.98189133e+04, 5.30247186e+04, 2.48186566e+04,\n",
       "       2.80633699e+03, 2.29892743e+04, 4.58536536e+04, 3.67413799e+04,\n",
       "       2.31254349e+04, 9.82186123e+03, 7.04232823e+03, 5.44735279e+04,\n",
       "       1.12783989e+05, 8.72114258e+04, 5.15785588e+04, 2.97786727e+04,\n",
       "       4.10189419e+03, 3.47506054e+04, 7.28153609e+04, 5.31102246e+04,\n",
       "       3.53408971e+04, 1.42204536e+04, 3.93126252e+03, 3.30784950e+04,\n",
       "       6.80784174e+04, 4.86441381e+04, 3.67843354e+04, 1.31180235e+04,\n",
       "       6.70534101e+03, 6.02559644e+04, 1.23756344e+05, 9.75277680e+04,\n",
       "       6.30275271e+04, 2.72951639e+04, 5.45452979e+03, 4.22588586e+04,\n",
       "       8.78234833e+04, 6.68711185e+04, 3.73149350e+04, 2.18140789e+04,\n",
       "       7.49975540e+03, 6.27698506e+04, 1.32570793e+05, 9.87192030e+04,\n",
       "       5.96152707e+04, 2.83196215e+04, 1.15823730e+04, 9.68810747e+04,\n",
       "       1.99559072e+05, 1.51049825e+05, 8.96944478e+04, 4.52460921e+04,\n",
       "       5.46640975e+03, 4.12919382e+04, 8.87796437e+04, 7.16304385e+04,\n",
       "       4.27438152e+04, 1.98288791e+04, 5.41645629e+03, 4.82369044e+04,\n",
       "       9.89300331e+04, 7.48860801e+04, 4.44509157e+04, 1.94531999e+04,\n",
       "       1.99961151e+04, 1.63674201e+05, 3.35474366e+05, 2.54759521e+05,\n",
       "       1.55969391e+05, 7.85312542e+04, 5.30032545e+04, 4.35098605e+05,\n",
       "       8.97781575e+05, 6.78909200e+05, 4.20445155e+05, 1.93497755e+05,\n",
       "       4.63830415e+03, 3.74065445e+04, 7.98713336e+04, 6.15335934e+04,\n",
       "       3.55824792e+04, 1.43747363e+04, 9.29277898e+04, 7.58185838e+05,\n",
       "       1.57413140e+06, 1.18500983e+06, 7.31918993e+05, 3.44861141e+05,\n",
       "       4.99832979e+03, 4.28106983e+04, 8.71132838e+04, 6.80093983e+04,\n",
       "       3.89040951e+04, 1.54974387e+04, 1.02019026e+04, 7.86696127e+04,\n",
       "       1.65249998e+05, 1.28236501e+05, 7.49973034e+04, 3.70644503e+04,\n",
       "       3.40620030e+04, 2.79107823e+05, 5.78755789e+05, 4.38212971e+05,\n",
       "       2.69233325e+05, 1.26781739e+05, 4.44464812e+03, 4.18620882e+04,\n",
       "       8.50346697e+04, 6.78195455e+04, 4.10872390e+04, 2.09703525e+04,\n",
       "       3.43888765e+03, 2.62472198e+04, 5.83951037e+04, 4.70696112e+04,\n",
       "       2.98246675e+04, 1.25730757e+04, 5.08243694e+03, 4.15064615e+04,\n",
       "       8.45268086e+04, 6.61812560e+04, 3.63804072e+04, 1.71417478e+04,\n",
       "       3.76896870e+03, 2.62304120e+04, 5.86189961e+04, 4.41866094e+04,\n",
       "       2.40279972e+04, 1.06596953e+04, 4.74897080e+03, 3.67985864e+04,\n",
       "       7.58396168e+04, 5.75740901e+04, 3.94903745e+04, 1.94539795e+04,\n",
       "       4.55975861e+03, 3.54463037e+04, 7.09282200e+04, 4.68295136e+04,\n",
       "       3.41134357e+04, 1.15770718e+04, 6.97884878e+03, 5.71768007e+04,\n",
       "       1.22606479e+05, 9.12827658e+04, 5.59681752e+04, 2.58200473e+04,\n",
       "       4.10100972e+03, 3.54174982e+04, 6.96023241e+04, 5.65065184e+04,\n",
       "       3.34525353e+04, 1.83937987e+04, 6.47307998e+04, 5.31475359e+05,\n",
       "       1.10490439e+06, 8.32653149e+05, 5.11795961e+05, 2.38826654e+05,\n",
       "       5.79992438e+03, 4.49749822e+04, 9.30420484e+04, 7.40803242e+04,\n",
       "       4.06068653e+04, 1.56446697e+04, 1.62207732e+03, 1.37913053e+04,\n",
       "       2.56288197e+04, 2.30898672e+04, 1.49520847e+04, 9.77486231e+02,\n",
       "       4.60917550e+04, 3.79407912e+05, 7.88644014e+05, 6.01702983e+05,\n",
       "       3.70421835e+05, 1.72550037e+05, 9.69634359e+04, 7.90513259e+05,\n",
       "       1.62293112e+06, 1.21695240e+06, 7.51946330e+05, 3.53241787e+05,\n",
       "       5.72213242e+03, 4.64214038e+04, 1.00048186e+05, 7.64302170e+04,\n",
       "       4.49436056e+04, 1.87308830e+04])"
      ]
     },
     "execution_count": null,
     "metadata": {},
     "output_type": "execute_result"
    }
   ],
   "source": [
    "madness_gal_fluxes"
   ]
  },
  {
   "cell_type": "code",
   "execution_count": null,
   "id": "67030bc2-c2fe-4f5f-8859-09f573a9c3c2",
   "metadata": {},
   "outputs": [],
   "source": []
  },
  {
   "cell_type": "code",
   "execution_count": null,
   "id": "beae58e4-24ac-4c7c-9d3b-9502e0f659b7",
   "metadata": {},
   "outputs": [],
   "source": []
  }
 ],
 "metadata": {
  "kernelspec": {
   "display_name": "madness",
   "language": "python",
   "name": "madness"
  },
  "language_info": {
   "codemirror_mode": {
    "name": "ipython",
    "version": 3
   },
   "file_extension": ".py",
   "mimetype": "text/x-python",
   "name": "python",
   "nbconvert_exporter": "python",
   "pygments_lexer": "ipython3",
   "version": "3.8.13"
  }
 },
 "nbformat": 4,
 "nbformat_minor": 5
}
