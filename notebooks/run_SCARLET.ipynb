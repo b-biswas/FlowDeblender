{
 "cells": [
  {
   "cell_type": "code",
   "execution_count": null,
   "id": "f868f1dd-e2ce-4dbe-9350-93a6d0100428",
   "metadata": {},
   "outputs": [
    {
     "name": "stderr",
     "output_type": "stream",
     "text": [
      "2022-07-25 14:23:59.601066: W tensorflow/stream_executor/platform/default/dso_loader.cc:59] Could not load dynamic library 'libcudart.so.10.1'; dlerror: libcudart.so.10.1: cannot open shared object file: No such file or directory; LD_LIBRARY_PATH: /pbs/throng/lsst/users/bbiswas/miniconda3/envs/madness/lib/:\n",
      "2022-07-25 14:23:59.601157: I tensorflow/stream_executor/cuda/cudart_stub.cc:29] Ignore above cudart dlerror if you do not have a GPU set up on your machine.\n"
     ]
    }
   ],
   "source": [
    "import logging\n",
    "import time\n",
    "\n",
    "import btk\n",
    "import galsim\n",
    "import matplotlib.pyplot as plt\n",
    "import numpy as np\n",
    "from scipy.optimize import curve_fit\n",
    "from scipy.stats import norm\n",
    "import scarlet\n",
    "import scarlet.psf\n",
    "import seaborn as sns\n",
    "import sep\n",
    "import tensorflow as tf\n",
    "import tensorflow_probability as tfp\n",
    "\n",
    "from maddeb.Deblender import Deblend\n",
    "from maddeb.extraction import extract_cutouts\n",
    "from maddeb.metrics import (\n",
    "    compute_apperture_photomery,\n",
    "    compute_pixel_covariance_and_flux,\n",
    ")\n"
   ]
  },
  {
   "cell_type": "code",
   "execution_count": null,
   "id": "e726d59a-2cba-4719-bbcd-e4de6b4daa06",
   "metadata": {},
   "outputs": [],
   "source": [
    "COSMOS_CATALOG_PATHS = [\n",
    "    \"/sps/lsst/users/bbiswas/COSMOS_catalog/COSMOS_25.2_training_sample/real_galaxy_catalog_25.2.fits\",\n",
    "    \"/sps/lsst/users/bbiswas/COSMOS_catalog/COSMOS_25.2_training_sample/real_galaxy_catalog_25.2_fits.fits\",\n",
    "]\n",
    "\n",
    "\n",
    "stamp_size = 100.2\n",
    "max_number = 10\n",
    "batch_size = 1\n",
    "max_shift = 44\n",
    "catalog = btk.catalog.CosmosCatalog.from_file(COSMOS_CATALOG_PATHS)\n",
    "survey = btk.survey.get_surveys(\"LSST\")\n",
    "seed=3\n",
    "\n",
    "galsim_catalog = galsim.COSMOSCatalog(COSMOS_CATALOG_PATHS[0], exclusion_level=\"marginal\")\n",
    "\n",
    "sampling_function = btk.sampling_functions.DefaultSampling(max_number=max_number, maxshift=max_shift, stamp_size=stamp_size, seed=seed)\n",
    "\n",
    "draw_generator = btk.draw_blends.CosmosGenerator(\n",
    "    catalog,\n",
    "    sampling_function,\n",
    "    survey,\n",
    "    batch_size=batch_size,\n",
    "    stamp_size=stamp_size,\n",
    "    cpus=1,\n",
    "    add_noise=\"all\",\n",
    "    verbose=False,\n",
    "    gal_type=\"parametric\",\n",
    "    seed=seed,\n",
    ")"
   ]
  },
  {
   "cell_type": "code",
   "execution_count": null,
   "id": "83bbb009-9b82-4a10-b553-f26a6e6e8be1",
   "metadata": {},
   "outputs": [
    {
     "data": {
      "application/vnd.jupyter.widget-view+json": {
       "model_id": "e9f5ca4f0c7e46b78d441cb150144f37",
       "version_major": 2,
       "version_minor": 0
      },
      "text/plain": [
       "Generating blends for LSST survey:   0%|          | 0/1 [00:00<?, ?it/s]"
      ]
     },
     "metadata": {},
     "output_type": "display_data"
    }
   ],
   "source": [
    "blend = next(draw_generator)"
   ]
  },
  {
   "cell_type": "code",
   "execution_count": null,
   "id": "97521558-979c-4dee-babc-1248a4f747f9",
   "metadata": {},
   "outputs": [],
   "source": [
    "field_images = blend[\"blend_images\"]\n",
    "isolated_images = blend[\"isolated_images\"]"
   ]
  },
  {
   "cell_type": "markdown",
   "id": "37e72b11-dc60-4d0f-955f-2f77e0fa50e2",
   "metadata": {},
   "source": [
    "# Deblend with Scarlet"
   ]
  },
  {
   "cell_type": "code",
   "execution_count": null,
   "id": "3f0dd345-0704-4a9c-90c4-b4d354c5a306",
   "metadata": {},
   "outputs": [
    {
     "data": {
      "text/plain": [
       "(1, 6, 501, 501)"
      ]
     },
     "execution_count": null,
     "metadata": {},
     "output_type": "execute_result"
    }
   ],
   "source": [
    "np.shape(field_images)"
   ]
  },
  {
   "cell_type": "code",
   "execution_count": null,
   "id": "6566bd77-829d-4cc4-96fe-eb134e59d954",
   "metadata": {},
   "outputs": [],
   "source": [
    "psf = np.array([p.drawImage(galsim.Image(field_images[0].shape[1],field_images[0].shape[2]),scale=survey.pixel_scale.to_value(\"arcsec\")).array for p in blend[\"psf\"]])\n",
    "bands=[f for f in survey._filters]\n",
    "wcs = blend[\"wcs\"]"
   ]
  },
  {
   "cell_type": "code",
   "execution_count": null,
   "id": "90d54cd3-1626-46d8-96b8-addd85fa2dab",
   "metadata": {},
   "outputs": [],
   "source": [
    "import scarlet.psf\n",
    "from scarlet.psf import ImagePSF"
   ]
  },
  {
   "cell_type": "code",
   "execution_count": null,
   "id": "adfb36f1-27ce-41e7-bea1-5c898c424ed5",
   "metadata": {},
   "outputs": [],
   "source": [
    "def predict_with_scarlet(image, x_pos, y_pos, show_scene, show_sources, filters):\n",
    "    sig = []\n",
    "    weights = np.ones_like(image)\n",
    "    for i in range(6):\n",
    "        sig.append(sep.Background(image[i]).globalrms)\n",
    "        weights[i] = weights[i] / (sig[i]**2)\n",
    "    observation = scarlet.Observation(\n",
    "            image, psf=scarlet.psf.ImagePSF(psf), weights= weights, channels=bands, wcs=wcs\n",
    "        )\n",
    "    \n",
    "    model_psf = scarlet.GaussianPSF(sigma=(0.8,) * len(filters))\n",
    "    model_frame = scarlet.Frame(\n",
    "    image.shape,\n",
    "    psf=model_psf,\n",
    "    channels=filters, wcs=wcs)\n",
    "\n",
    "    \n",
    "    observation = observation.match(model_frame)\n",
    "    sources = []\n",
    "    for i in range(len(x_pos)):\n",
    "        result = scarlet.ExtendedSource(\n",
    "            model_frame,\n",
    "            model_frame.get_sky_coord((x_pos[i], y_pos[i])),\n",
    "            observation,\n",
    "            thresh=1,\n",
    "            shifting=True,\n",
    "        )\n",
    "        sources.append(result)\n",
    "\n",
    "    scarlet.initialization.set_spectra_to_match(sources, observation)\n",
    "    \n",
    "    scarlet_blend = scarlet.Blend(sources, observation)\n",
    "    \n",
    "    %time it, logL = scarlet_blend.fit(200, e_rel=1e-5)\n",
    "    #print(f\"scarlet ran for {it} iterations to logL = {logL}\")\n",
    "    #scarlet.display.show_likelihood(scarlet_blend)\n",
    "    #plt.show()\n",
    "    \n",
    "    if show_scene:\n",
    "        scarlet.display.show_scene(sources,\n",
    "                           norm=None,\n",
    "                           observation=observation,\n",
    "                           show_rendered=True,\n",
    "                           show_observed=True,\n",
    "                           show_residual=True)\n",
    "        \n",
    "        plt.show()\n",
    "    \n",
    "    if show_sources:\n",
    "        scarlet.display.show_sources(sources,\n",
    "                                 norm=None,\n",
    "                                 observation=observation,\n",
    "                                 show_rendered=True,\n",
    "                                 show_observed=True,\n",
    "                                 add_boxes=True\n",
    "                                )\n",
    "        plt.show()\n",
    "    \n",
    "    predicted_sources = []\n",
    "    for src in sources:\n",
    "        predicted_sources.append(observation.render(src.get_model(frame=model_frame)))\n",
    "    #print(np.shape(src.get_model(frame=model_frame)))\n",
    "    return predicted_sources"
   ]
  },
  {
   "cell_type": "code",
   "execution_count": null,
   "id": "39bbfc78-09d5-4734-abe1-b0c73794f2f1",
   "metadata": {},
   "outputs": [],
   "source": [
    "image = field_images[0]"
   ]
  },
  {
   "cell_type": "code",
   "execution_count": null,
   "id": "b5b635fb-c107-4b3c-8ec9-ade53ba097b9",
   "metadata": {},
   "outputs": [],
   "source": [
    "x_pos = blend['blend_list'][0]['y_peak']\n",
    "y_pos = blend['blend_list'][0]['x_peak']"
   ]
  },
  {
   "cell_type": "code",
   "execution_count": null,
   "id": "bfa82574-414e-4ab9-9f86-a4313a1774e4",
   "metadata": {
    "tags": []
   },
   "outputs": [],
   "source": [
    "#model = predict_with_scarlet(image, x_pos=x_pos, y_pos=y_pos, show_scene=True, show_sources=True, filters=bands)"
   ]
  },
  {
   "cell_type": "code",
   "execution_count": null,
   "id": "43988da1-8b9c-4cad-8729-4abb2e5feaa5",
   "metadata": {},
   "outputs": [],
   "source": [
    "#plt.imshow(model[0][2])"
   ]
  },
  {
   "cell_type": "code",
   "execution_count": null,
   "id": "3265b821-56db-43a9-ae5c-eaf76861f2b1",
   "metadata": {
    "tags": []
   },
   "outputs": [
    {
     "name": "stderr",
     "output_type": "stream",
     "text": [
      "Completed 5 iterations and [4, 40, 0, 4, 40, 0, 4, 37, 0, 4, 38, 0, 4, 40, 0, 4, 39, 0, 4, 40, 0, 4, 40, 0, 4, 39, 0] sub-iterations\n",
      "scarlet ran for 14 iterations to logL = -10460664.990487773\n"
     ]
    },
    {
     "name": "stdout",
     "output_type": "stream",
     "text": [
      "CPU times: user 30.3 s, sys: 20.3 s, total: 50.6 s\n",
      "Wall time: 50 s\n"
     ]
    }
   ],
   "source": [
    "scarlet_predictions=[]\n",
    "for i, image in enumerate(field_images):\n",
    "    image = field_images[i]\n",
    "    x_pos = blend['blend_list'][i]['y_peak']\n",
    "    y_pos = blend['blend_list'][i]['x_peak']\n",
    "    predicted_sources = predict_with_scarlet(image, x_pos=x_pos, y_pos=y_pos, show_scene=False, show_sources=False, filters=bands)\n",
    "    scarlet_predictions.append(predicted_sources)"
   ]
  },
  {
   "cell_type": "markdown",
   "id": "2ee9b3a6-48e2-43d1-8c2b-422421ab4443",
   "metadata": {},
   "source": [
    "# Deblend with MADNESS"
   ]
  },
  {
   "cell_type": "code",
   "execution_count": null,
   "id": "49496b32-d215-4495-9cfe-12bb9363c179",
   "metadata": {
    "tags": []
   },
   "outputs": [
    {
     "name": "stderr",
     "output_type": "stream",
     "text": [
      "2022-07-25 14:25:34.205215: W tensorflow/stream_executor/platform/default/dso_loader.cc:59] Could not load dynamic library 'libcuda.so.1'; dlerror: libcuda.so.1: cannot open shared object file: No such file or directory; LD_LIBRARY_PATH: /pbs/throng/lsst/users/bbiswas/miniconda3/envs/madness/lib/:\n",
      "2022-07-25 14:25:34.205339: W tensorflow/stream_executor/cuda/cuda_driver.cc:312] failed call to cuInit: UNKNOWN ERROR (303)\n",
      "2022-07-25 14:25:34.205429: I tensorflow/stream_executor/cuda/cuda_diagnostics.cc:156] kernel driver does not appear to be running on this host (jns-bbiswas.cc.in2p3.fr): /proc/driver/nvidia/version does not exist\n",
      "2022-07-25 14:25:34.220147: I tensorflow/core/platform/profile_utils/cpu_utils.cc:104] CPU Frequency: 2499995000 Hz\n",
      "2022-07-25 14:25:34.221377: I tensorflow/compiler/xla/service/service.cc:168] XLA service 0x5632b02e09a0 initialized for platform Host (this does not guarantee that XLA will be used). Devices:\n",
      "2022-07-25 14:25:34.221418: I tensorflow/compiler/xla/service/service.cc:176]   StreamExecutor device (0): Host, Default Version\n"
     ]
    },
    {
     "name": "stdout",
     "output_type": "stream",
     "text": [
      "WARNING:tensorflow:From /pbs/throng/lsst/users/bbiswas/miniconda3/envs/madness/lib/python3.8/site-packages/tensorflow/python/ops/linalg/linear_operator_lower_triangular.py:151: calling LinearOperator.__init__ (from tensorflow.python.ops.linalg.linear_operator) with graph_parents is deprecated and will be removed in a future version.\n",
      "Instructions for updating:\n",
      "Do not pass `graph_parents`.  They will  no longer be used.\n"
     ]
    },
    {
     "name": "stderr",
     "output_type": "stream",
     "text": [
      "From /pbs/throng/lsst/users/bbiswas/miniconda3/envs/madness/lib/python3.8/site-packages/tensorflow/python/ops/linalg/linear_operator_lower_triangular.py:151: calling LinearOperator.__init__ (from tensorflow.python.ops.linalg.linear_operator) with graph_parents is deprecated and will be removed in a future version.\n",
      "Instructions for updating:\n",
      "Do not pass `graph_parents`.  They will  no longer be used.\n"
     ]
    },
    {
     "name": "stdout",
     "output_type": "stream",
     "text": [
      "WARNING:tensorflow:From /pbs/throng/lsst/users/bbiswas/miniconda3/envs/madness/lib/python3.8/site-packages/tensorflow_probability/python/distributions/distribution.py:334: calling TransformedDistribution.__init__ (from tensorflow_probability.python.distributions.transformed_distribution) with batch_shape is deprecated and will be removed after 2020-06-01.\n",
      "Instructions for updating:\n",
      "`batch_shape` and `event_shape` args are deprecated. Please use `tfd.Sample`, `tfd.Independent`, and broadcasted parameters of the base distribution instead. For example, replace `tfd.TransformedDistribution(tfd.Normal(0., 1.), tfb.Exp(), batch_shape=[2, 3], event_shape=[4])` with `tfd.TransformedDistrbution(tfd.Sample(tfd.Normal(tf.zeros([2, 3]), 1.),sample_shape=[4]), tfb.Exp())` or `tfd.TransformedDistribution(tfd.Independent(tfd.Normal(tf.zeros([2, 3, 4]), 1.), reinterpreted_batch_ndims=1), tfb.Exp())`.\n"
     ]
    },
    {
     "name": "stderr",
     "output_type": "stream",
     "text": [
      "From /pbs/throng/lsst/users/bbiswas/miniconda3/envs/madness/lib/python3.8/site-packages/tensorflow_probability/python/distributions/distribution.py:334: calling TransformedDistribution.__init__ (from tensorflow_probability.python.distributions.transformed_distribution) with batch_shape is deprecated and will be removed after 2020-06-01.\n",
      "Instructions for updating:\n",
      "`batch_shape` and `event_shape` args are deprecated. Please use `tfd.Sample`, `tfd.Independent`, and broadcasted parameters of the base distribution instead. For example, replace `tfd.TransformedDistribution(tfd.Normal(0., 1.), tfb.Exp(), batch_shape=[2, 3], event_shape=[4])` with `tfd.TransformedDistrbution(tfd.Sample(tfd.Normal(tf.zeros([2, 3]), 1.),sample_shape=[4]), tfb.Exp())` or `tfd.TransformedDistribution(tfd.Independent(tfd.Normal(tf.zeros([2, 3, 4]), 1.), reinterpreted_batch_ndims=1), tfb.Exp())`.\n"
     ]
    },
    {
     "name": "stdout",
     "output_type": "stream",
     "text": [
      "WARNING:tensorflow:From /pbs/throng/lsst/users/bbiswas/miniconda3/envs/madness/lib/python3.8/site-packages/tensorflow_probability/python/distributions/distribution.py:334: calling TransformedDistribution.__init__ (from tensorflow_probability.python.distributions.transformed_distribution) with event_shape is deprecated and will be removed after 2020-06-01.\n",
      "Instructions for updating:\n",
      "`batch_shape` and `event_shape` args are deprecated. Please use `tfd.Sample`, `tfd.Independent`, and broadcasted parameters of the base distribution instead. For example, replace `tfd.TransformedDistribution(tfd.Normal(0., 1.), tfb.Exp(), batch_shape=[2, 3], event_shape=[4])` with `tfd.TransformedDistrbution(tfd.Sample(tfd.Normal(tf.zeros([2, 3]), 1.),sample_shape=[4]), tfb.Exp())` or `tfd.TransformedDistribution(tfd.Independent(tfd.Normal(tf.zeros([2, 3, 4]), 1.), reinterpreted_batch_ndims=1), tfb.Exp())`.\n"
     ]
    },
    {
     "name": "stderr",
     "output_type": "stream",
     "text": [
      "From /pbs/throng/lsst/users/bbiswas/miniconda3/envs/madness/lib/python3.8/site-packages/tensorflow_probability/python/distributions/distribution.py:334: calling TransformedDistribution.__init__ (from tensorflow_probability.python.distributions.transformed_distribution) with event_shape is deprecated and will be removed after 2020-06-01.\n",
      "Instructions for updating:\n",
      "`batch_shape` and `event_shape` args are deprecated. Please use `tfd.Sample`, `tfd.Independent`, and broadcasted parameters of the base distribution instead. For example, replace `tfd.TransformedDistribution(tfd.Normal(0., 1.), tfb.Exp(), batch_shape=[2, 3], event_shape=[4])` with `tfd.TransformedDistrbution(tfd.Sample(tfd.Normal(tf.zeros([2, 3]), 1.),sample_shape=[4]), tfb.Exp())` or `tfd.TransformedDistribution(tfd.Independent(tfd.Normal(tf.zeros([2, 3, 4]), 1.), reinterpreted_batch_ndims=1), tfb.Exp())`.\n",
      "2022-07-25 14:25:43.840431: W tensorflow/python/util/util.cc:348] Sets are not currently considered sequences, but this may change in the future, so consider avoiding using them.\n",
      "\n",
      "\n",
      "Using encoder for initial point\n",
      "\n",
      "--- Starting gradient descent in the latent space ---\n",
      "Maximum number of iterations: 300\n",
      "Number of Galaxies: 9\n",
      "Dimensions of latent space: 8\n",
      "--- Gradient descent complete ---\n",
      "\n",
      "Time taken for gradient descent: 11.176744222640991\n"
     ]
    }
   ],
   "source": [
    "from maddeb.Deblender import Deblend\n",
    "import tensorflow as tf\n",
    "import tensorflow_probability as tfp\n",
    "\n",
    "\n",
    "madness_predictions = []\n",
    "for i in range(len(blend['blend_list'])):\n",
    "\n",
    "    current_field_predictions = []\n",
    "    blends = blend['blend_list'][i]\n",
    "    #print(blends)\n",
    "    detected_positions = []\n",
    "    for j in range(len(blends)):\n",
    "        detected_positions.append([blends['y_peak'][j], blends['x_peak'][j]])\n",
    "\n",
    "    deb = Deblend(field_images[i], \n",
    "                  detected_positions,\n",
    "                  latent_dim=8, \n",
    "                  num_components=len(blends), \n",
    "                  use_likelihood=True, \n",
    "                  linear_norm_coeff=80000,\n",
    "                  max_iter=300)\n",
    "    #tf.config.run_functions_eagerly(False)\n",
    "    convergence_criterion = tfp.optimizer.convergence_criteria.LossNotDecreasing(atol=.0000001*45*45*len(blends)*3, min_num_steps=50, window_size=20)\n",
    "    #convergence_criterion = None\n",
    "    lr_scheduler = tf.keras.optimizers.schedules.ExponentialDecay(initial_learning_rate=0.06, decay_steps=15, decay_rate=0.8, staircase=True)\n",
    "    optimizer=tf.keras.optimizers.RMSprop(learning_rate=lr_scheduler, momentum=0.1)\n",
    "\n",
    "    deb(convergence_criterion, optimizer=optimizer, use_debvader=True, compute_sig_dynamically=False)\n",
    "    \n",
    "    padding_infos = deb.get_padding_infos()\n",
    "    for component_num in range(deb.num_components):\n",
    "        prediction = np.pad(deb.components[component_num], padding_infos[component_num])\n",
    "        prediction = np.transpose(prediction, axes=(2, 0, 1))\n",
    "        current_field_predictions.append(prediction)\n",
    "    madness_predictions.append(current_field_predictions)"
   ]
  },
  {
   "cell_type": "code",
   "execution_count": null,
   "id": "fcca44f2-7f13-455c-a6d1-ab5eeb36e164",
   "metadata": {},
   "outputs": [],
   "source": [
    "madness_predictions= np.array(madness_predictions)"
   ]
  },
  {
   "cell_type": "code",
   "execution_count": null,
   "id": "e1eabfd1-9cf2-48da-b066-91cf9db28ffe",
   "metadata": {},
   "outputs": [
    {
     "data": {
      "text/plain": [
       "(1, 9, 6, 501, 501)"
      ]
     },
     "execution_count": null,
     "metadata": {},
     "output_type": "execute_result"
    }
   ],
   "source": [
    "np.shape(madness_predictions)"
   ]
  },
  {
   "cell_type": "code",
   "execution_count": null,
   "id": "c12ccca8-81be-4b01-a2f9-01e956cede12",
   "metadata": {},
   "outputs": [],
   "source": [
    "from maddeb.extraction import extract_cutouts\n",
    "from maddeb.metrics import compute_pixel_covariance_and_flux, compute_pixel_covariance_and_fluxes"
   ]
  },
  {
   "cell_type": "code",
   "execution_count": null,
   "id": "3422a979-5721-44f9-9591-24ac150153be",
   "metadata": {
    "tags": []
   },
   "outputs": [],
   "source": [
    "madness_cov = []\n",
    "madness_actual_flux = []\n",
    "madness_predicted_flux = []\n",
    "for blend_number in range(len(field_images)):\n",
    "\n",
    "    current_galaxies = isolated_images[blend_number]\n",
    "    madness_res = compute_pixel_covariance_and_fluxes(madness_predictions[blend_number], current_galaxies, field_images[0])\n",
    "\n",
    "    madness_cov.append(madness_res[0])\n",
    "    madness_actual_flux.append(madness_res[1])\n",
    "    madness_predicted_flux.append(madness_res[2])"
   ]
  },
  {
   "cell_type": "markdown",
   "id": "8ee8bc64-4c5c-4384-8a81-b15a2d44b0a0",
   "metadata": {},
   "source": [
    "# Compare: Covariance matrix and flux reconstruction"
   ]
  },
  {
   "cell_type": "code",
   "execution_count": null,
   "id": "008a44e9-2634-438f-a922-df7fcbbc800b",
   "metadata": {
    "tags": []
   },
   "outputs": [],
   "source": [
    "scarlet_cov = []\n",
    "scarlet_actual_flux = []\n",
    "scarlet_predicted_flux = []\n",
    "\n",
    "for blend_number in range(len(field_images)):\n",
    "\n",
    "    current_galaxies = isolated_images[blend_number]\n",
    "    scarlet_res = compute_pixel_covariance_and_fluxes(scarlet_predictions[blend_number], current_galaxies, field_images[0])\n",
    "\n",
    "    scarlet_cov.append(scarlet_res[0])\n",
    "    scarlet_actual_flux.append(scarlet_res[1])\n",
    "    scarlet_predicted_flux.append(scarlet_res[2])"
   ]
  },
  {
   "cell_type": "code",
   "execution_count": null,
   "id": "9531d1a8-9e09-416b-b62e-55fd29699416",
   "metadata": {},
   "outputs": [
    {
     "data": {
      "text/plain": [
       "[array([0.99875075, 0.99942939, 0.99536009, 0.99750832, 0.99812185,\n",
       "        0.99750468, 0.99825576, 0.99740119, 0.99910956])]"
      ]
     },
     "execution_count": null,
     "metadata": {},
     "output_type": "execute_result"
    }
   ],
   "source": [
    "scarlet_cov"
   ]
  },
  {
   "cell_type": "code",
   "execution_count": null,
   "id": "631f9f1f-9bff-4da5-86de-77c54132717e",
   "metadata": {},
   "outputs": [
    {
     "ename": "NameError",
     "evalue": "name 'cov_madness' is not defined",
     "output_type": "error",
     "traceback": [
      "\u001b[0;31m---------------------------------------------------------------------------\u001b[0m",
      "\u001b[0;31mNameError\u001b[0m                                 Traceback (most recent call last)",
      "Input \u001b[0;32mIn [22]\u001b[0m, in \u001b[0;36m<cell line: 3>\u001b[0;34m()\u001b[0m\n\u001b[1;32m      1\u001b[0m bins \u001b[38;5;241m=\u001b[39m np\u001b[38;5;241m.\u001b[39marange(\u001b[38;5;241m.95\u001b[39m, \u001b[38;5;241m1\u001b[39m, \u001b[38;5;241m.005\u001b[39m)\n\u001b[1;32m      2\u001b[0m plt\u001b[38;5;241m.\u001b[39mhist(scarlet_cov, bins\u001b[38;5;241m=\u001b[39mbins, alpha\u001b[38;5;241m=\u001b[39m\u001b[38;5;241m0.5\u001b[39m, label\u001b[38;5;241m=\u001b[39m\u001b[38;5;124m\"\u001b[39m\u001b[38;5;124mscarlet\u001b[39m\u001b[38;5;124m\"\u001b[39m);\n\u001b[0;32m----> 3\u001b[0m plt\u001b[38;5;241m.\u001b[39mhist(\u001b[43mcov_madness\u001b[49m, bins\u001b[38;5;241m=\u001b[39mbins, alpha\u001b[38;5;241m=\u001b[39m\u001b[38;5;241m0.7\u001b[39m, label\u001b[38;5;241m=\u001b[39m\u001b[38;5;124m\"\u001b[39m\u001b[38;5;124mMADNESS\u001b[39m\u001b[38;5;124m\"\u001b[39m);\n\u001b[1;32m      4\u001b[0m plt\u001b[38;5;241m.\u001b[39mlegend()\n\u001b[1;32m      5\u001b[0m plt\u001b[38;5;241m.\u001b[39mxlim([\u001b[38;5;241m.95\u001b[39m, \u001b[38;5;241m1\u001b[39m])\n",
      "\u001b[0;31mNameError\u001b[0m: name 'cov_madness' is not defined"
     ]
    },
    {
     "data": {
      "image/png": "[encoded data removed]",
      "text/plain": [
       "<Figure size 432x288 with 1 Axes>"
      ]
     },
     "metadata": {
      "needs_background": "light"
     },
     "output_type": "display_data"
    }
   ],
   "source": [
    "bins = np.arange(.95, 1, .005)\n",
    "plt.hist(scarlet_cov, bins=bins, alpha=0.5, label=\"scarlet\");\n",
    "plt.hist(cov_madness, bins=bins, alpha=0.7, label=\"MADNESS\");\n",
    "plt.legend()\n",
    "plt.xlim([.95, 1])"
   ]
  },
  {
   "cell_type": "code",
   "execution_count": null,
   "id": "b8bedede-c594-4aab-8c92-c617c79c6b40",
   "metadata": {
    "tags": []
   },
   "outputs": [],
   "source": [
    "scarlet_actual_flux = np.array(scarlet_actual_flux)\n",
    "scarlet_predicted_flux = np.array(scarlet_predicted_flux)\n",
    "\n",
    "scarlet_relative_difference= np.divide(scarlet_predicted_flux - scarlet_actual_flux, scarlet_actual_flux)"
   ]
  },
  {
   "cell_type": "code",
   "execution_count": null,
   "id": "c67254a8-effe-4ceb-bb67-de5c58928b48",
   "metadata": {
    "tags": []
   },
   "outputs": [],
   "source": [
    "madness_actual_flux = np.array(madness_actual_flux)\n",
    "madness_predicted_flux = np.array(madness_predicted_flux)\n",
    "\n",
    "madness_relative_difference= np.divide(madness_predicted_flux - madness_actual_flux, madness_actual_flux)"
   ]
  },
  {
   "cell_type": "code",
   "execution_count": null,
   "id": "f236626c-956e-43ef-ae5a-1cadd2fd6ef6",
   "metadata": {},
   "outputs": [],
   "source": [
    "scarlet_relative_difference[np.logical_not(np.isnan(scarlet_relative_difference))].reshape(-1)"
   ]
  },
  {
   "cell_type": "code",
   "execution_count": null,
   "id": "bd9ff82d-a45b-4463-8156-f5bc91a86b06",
   "metadata": {},
   "outputs": [],
   "source": [
    "np.array_equal(madness_actual_flux, scarlet_actual_flux)"
   ]
  },
  {
   "cell_type": "code",
   "execution_count": null,
   "id": "d6917758-a6c4-4f7d-a358-91b4309e2dac",
   "metadata": {},
   "outputs": [],
   "source": [
    "from scipy.optimize import curve_fit\n",
    "def gauss(x, sig, mu):\n",
    "    return 1/np.sqrt(2.*np.pi)/sig*np.exp(-0.5*(x-mu)**2/sig**2)\n",
    "\n",
    "n_bins=100\n",
    "hist, bin_tmp = np.histogram(madness_relative_difference, n_bins, density=True)\n",
    "bins = np.mean((bin_tmp[:-1], bin_tmp[1:]), 0)\n",
    "madness_fit = curve_fit(gauss, bins, hist, p0=[np.std(bins), np.mean(bins)])\n",
    "\n",
    "hist, bin_tmp = np.histogram(scarlet_relative_difference, n_bins, density=True)\n",
    "bins = np.mean((bin_tmp[:-1], bin_tmp[1:]), 0)\n",
    "scarlet_fit = curve_fit(gauss, bins, hist, p0=[np.std(bins), np.mean(bins)])"
   ]
  },
  {
   "cell_type": "code",
   "execution_count": null,
   "id": "005fde2e-d1e9-4f6a-916b-494d1e6b49ac",
   "metadata": {},
   "outputs": [],
   "source": [
    "madness_fit"
   ]
  },
  {
   "cell_type": "code",
   "execution_count": null,
   "id": "aea67eb1-5bc6-498e-a5da-6f17332d3a58",
   "metadata": {},
   "outputs": [],
   "source": [
    "bins"
   ]
  },
  {
   "cell_type": "code",
   "execution_count": null,
   "id": "5960aa02-3c0a-47b2-b795-12274ccf72a7",
   "metadata": {},
   "outputs": [],
   "source": [
    "import seaborn as sns\n",
    "from scipy.stats import norm\n",
    "#print(madness_relative_difference[np.logical_not(np.isinf(madness_relative_difference))].reshape(-1))\n",
    "sns.set_theme(style={\"axes.grid\": True,\n",
    "                     'axes.labelcolor': 'black',\n",
    "                     'figure.facecolor': '1',\n",
    "                     'xtick.color': 'black',\n",
    "                     'ytick.color': 'black',\n",
    "                     'text.color': 'black',\n",
    "                     'image.cmap': 'viridis',})\n",
    "plt.figure(figsize=(10,7))\n",
    "bins = np.arange(-.5,.5, .01)\n",
    "plt.hist(madness_relative_difference[np.logical_not(np.isnan(madness_relative_difference))].reshape(-1), bins=bins, density=True, alpha=0.7, color=\"coral\", label=\"MADNESS\");\n",
    "plt.plot(bins, norm.pdf(bins, madness_fit[0][1], madness_fit[0][0]), color=\"coral\")\n",
    "plt.hist(scarlet_relative_difference[np.logical_not(np.isnan(scarlet_relative_difference))].reshape(-1), bins=bins, density=True, alpha=0.5, color=\"cornflowerblue\", label=\"scarlet\");\n",
    "plt.plot(bins, norm.pdf(bins, scarlet_fit[0][1], scarlet_fit[0][0]), color=\"cornflowerblue\")\n",
    "plt.legend(fontsize=20)\n",
    "ax=plt.gca()\n",
    "plt.xlabel(\"relative flux reconstruction error\", fontsize=20)\n",
    "ax.tick_params(labelsize=15)\n",
    "plt.ylabel(\"number of galaxies\", fontsize=20)\n",
    "plt.xlim([-.5,.5])\n",
    "plt.savefig(\"flux_err\", transparent=True)"
   ]
  },
  {
   "cell_type": "code",
   "execution_count": null,
   "id": "f658d090-dfd7-45f0-b170-452be8184027",
   "metadata": {},
   "outputs": [],
   "source": [
    "print(np.amax(scarlet_relative_difference[np.logical_not(np.isnan(scarlet_relative_difference))]))\n",
    "print(np.amin(scarlet_relative_difference[np.logical_not(np.isnan(scarlet_relative_difference))]))"
   ]
  },
  {
   "cell_type": "code",
   "execution_count": null,
   "id": "9e742fe5-830c-4a58-ac1f-c029e81e21b0",
   "metadata": {},
   "outputs": [],
   "source": [
    "print(np.amax(madness_relative_difference[np.logical_not(np.isnan(madness_relative_difference))]))\n",
    "print(np.amin(madness_relative_difference[np.logical_not(np.isnan(madness_relative_difference))]))"
   ]
  },
  {
   "cell_type": "markdown",
   "id": "d4a97732-10ff-4dd5-90a1-c4dd04159186",
   "metadata": {},
   "source": [
    "# Compute Apperture photometry"
   ]
  },
  {
   "cell_type": "code",
   "execution_count": null,
   "id": "3f23add4-43ff-410d-a1dc-524719f3c874",
   "metadata": {},
   "outputs": [],
   "source": [
    "from maddeb.metrics import compute_apperture_photomery"
   ]
  },
  {
   "cell_type": "code",
   "execution_count": null,
   "id": "b23eca9f-fb09-4fc8-bf7c-65a2c161724c",
   "metadata": {},
   "outputs": [],
   "source": [
    "actual_residual_field = blend[\"blend_images\"][0]\n",
    "scarlet_residual_field = blend[\"blend_images\"][0]\n",
    "\n",
    "for i in range(len(scarlet_predictions[0])):\n",
    "    actual_residual_field = actual_residual_field - blend[\"isolated_images\"][0][i]\n",
    "    scarlet_residual_field = scarlet_residual_field - scarlet_predictions[0][i]\n",
    "\n",
    "padding_infos = deb.get_padding_infos()\n",
    "madness_residual_field = deb.compute_residual(\n",
    "    blend[\"blend_images\"][0], use_scatter_and_sub=True\n",
    ").numpy()\n",
    "\n",
    "bkg_rms = {}\n",
    "for band in range(6):\n",
    "    bkg_rms[band] = sep.Background(blend[\"blend_images\"][0][band]).globalrms\n",
    "\n",
    "print(len(blend[\"isolated_images\"][0]))\n",
    "print(len(blend[\"blend_list\"][0][\"x_peak\"]))\n",
    "print(np.shape(blend[\"isolated_images\"][0]))\n",
    "actual_gal_fluxes, actual_gal_fluxerrs, actual_gal_flags = compute_apperture_photomery(\n",
    "    residual_field=actual_residual_field,\n",
    "    predictions=blend[\"isolated_images\"][0],\n",
    "    xpos=blend[\"blend_list\"][0][\"x_peak\"],\n",
    "    ypos=blend[\"blend_list\"][0][\"y_peak\"],\n",
    "    bkg_rms=bkg_rms,\n",
    ")\n",
    "\n",
    "(\n",
    "    madness_gal_fluxes,\n",
    "    madness_gal_fluxerrs,\n",
    "    madness_gal_flags,\n",
    ") = compute_apperture_photomery(\n",
    "    residual_field=np.transpose(madness_residual_field,  axes=(2, 0, 1)),\n",
    "    predictions=madness_predictions[0],\n",
    "    xpos=blend[\"blend_list\"][0][\"x_peak\"],\n",
    "    ypos=blend[\"blend_list\"][0][\"y_peak\"],\n",
    "    bkg_rms=bkg_rms,\n",
    ")\n",
    "\n",
    "(\n",
    "    scarlet_gal_fluxes,\n",
    "    scarlet_gal_fluxerrs,\n",
    "    scarlet_gal_flags,\n",
    ") = compute_apperture_photomery(\n",
    "    residual_field=scarlet_residual_field,\n",
    "    predictions=scarlet_predictions[0],\n",
    "    xpos=blend[\"blend_list\"][0][\"x_peak\"],\n",
    "    ypos=blend[\"blend_list\"][0][\"y_peak\"],\n",
    "    bkg_rms=bkg_rms,\n",
    ")\n",
    "\n",
    "plt.figure(figsize=(10, 7))\n",
    "bins = np.arange(0, 1, 0.005)\n",
    "plt.hist(\n",
    "    np.abs((madness_gal_fluxes - actual_gal_fluxes) / actual_gal_fluxes),\n",
    "    bins=bins,\n",
    "    alpha=0.5,\n",
    "    label=\"MADNESS\",\n",
    ")\n",
    "print(np.shape(scarlet_gal_fluxes))\n",
    "plt.hist(\n",
    "    np.abs((scarlet_gal_fluxes - actual_gal_fluxes) / actual_gal_fluxes),\n",
    "    bins=bins,\n",
    "    alpha=0.5,\n",
    "    label=\"scarlet\",\n",
    ")\n",
    "\n",
    "plt.legend(fontsize=20)\n",
    "\n",
    "plt.savefig(\"aperturephoto\")\n"
   ]
  },
  {
   "cell_type": "code",
   "execution_count": null,
   "id": "f7da802b-9a87-4790-b9df-455dce695b06",
   "metadata": {},
   "outputs": [],
   "source": [
    "np.shape(madness_residual_field)"
   ]
  },
  {
   "cell_type": "code",
   "execution_count": null,
   "id": "e3a9c965-d45c-43bc-b36d-51f55ad967dc",
   "metadata": {},
   "outputs": [],
   "source": [
    "scarlet_gal_fluxes"
   ]
  },
  {
   "cell_type": "code",
   "execution_count": null,
   "id": "50001891-2c0b-4cf3-ac0a-5643f3587286",
   "metadata": {},
   "outputs": [],
   "source": [
    "actual_gal_fluxes"
   ]
  },
  {
   "cell_type": "code",
   "execution_count": null,
   "id": "52bfe41f-b469-462c-8ed9-e1b6b7b2b73c",
   "metadata": {},
   "outputs": [],
   "source": [
    "madness_gal_fluxes"
   ]
  },
  {
   "cell_type": "code",
   "execution_count": null,
   "id": "67030bc2-c2fe-4f5f-8859-09f573a9c3c2",
   "metadata": {},
   "outputs": [],
   "source": []
  },
  {
   "cell_type": "code",
   "execution_count": null,
   "id": "beae58e4-24ac-4c7c-9d3b-9502e0f659b7",
   "metadata": {},
   "outputs": [],
   "source": []
  }
 ],
 "metadata": {
  "kernelspec": {
   "display_name": "madness",
   "language": "python",
   "name": "madness"
  },
  "language_info": {
   "codemirror_mode": {
    "name": "ipython",
    "version": 3
   },
   "file_extension": ".py",
   "mimetype": "text/x-python",
   "name": "python",
   "nbconvert_exporter": "python",
   "pygments_lexer": "ipython3",
   "version": "3.8.13"
  }
 },
 "nbformat": 4,
 "nbformat_minor": 5
}
