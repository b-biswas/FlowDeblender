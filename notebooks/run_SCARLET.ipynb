{
 "cells": [
  {
   "cell_type": "code",
   "execution_count": null,
   "id": "f868f1dd-e2ce-4dbe-9350-93a6d0100428",
   "metadata": {},
   "outputs": [],
   "source": [
    "import logging\n",
    "import time\n",
    "\n",
    "import btk\n",
    "import galsim\n",
    "import matplotlib.pyplot as plt\n",
    "import numpy as np\n",
    "from scipy.optimize import curve_fit\n",
    "from scipy.stats import norm\n",
    "import scarlet\n",
    "import scarlet.psf\n",
    "import seaborn as sns\n",
    "import sep\n",
    "import tensorflow as tf\n",
    "import tensorflow_probability as tfp\n",
    "\n",
    "from maddeb.Deblender import Deblend\n",
    "from maddeb.extraction import extract_cutouts\n",
    "from maddeb.metrics import (\n",
    "    compute_apperture_photomery,\n",
    "    compute_pixel_covariance_and_flux,\n",
    ")\n",
    "\n",
    "from maddeb.utils import CustomSampling"
   ]
  },
  {
   "cell_type": "code",
   "execution_count": null,
   "id": "e726d59a-2cba-4719-bbcd-e4de6b4daa06",
   "metadata": {},
   "outputs": [],
   "source": [
    "COSMOS_CATALOG_PATHS = [\n",
    "    \"/sps/lsst/users/bbiswas/COSMOS_catalog/COSMOS_25.2_training_sample/real_galaxy_catalog_25.2.fits\",\n",
    "    \"/sps/lsst/users/bbiswas/COSMOS_catalog/COSMOS_25.2_training_sample/real_galaxy_catalog_25.2_fits.fits\",\n",
    "]\n",
    "\n",
    "\n",
    "stamp_size = 100.2\n",
    "max_number = 40\n",
    "batch_size = 1\n",
    "maxshift = 44\n",
    "catalog = btk.catalog.CosmosCatalog.from_file(COSMOS_CATALOG_PATHS)\n",
    "survey = btk.survey.get_surveys(\"LSST\")\n",
    "seed=3\n",
    "\n",
    "galsim_catalog = galsim.COSMOSCatalog(COSMOS_CATALOG_PATHS[0], exclusion_level=\"marginal\")\n",
    "\n",
    "sampling_function = CustomSampling(\n",
    "    index_range=[60000, 80000], max_number=max_number, maxshift=maxshift, stamp_size=stamp_size, seed=seed\n",
    ")\n",
    "\n",
    "draw_generator = btk.draw_blends.CosmosGenerator(\n",
    "    catalog,\n",
    "    sampling_function,\n",
    "    survey,\n",
    "    batch_size=batch_size,\n",
    "    stamp_size=stamp_size,\n",
    "    cpus=1,\n",
    "    add_noise=\"all\",\n",
    "    verbose=False,\n",
    "    gal_type=\"parametric\",\n",
    "    seed=seed,\n",
    ")"
   ]
  },
  {
   "cell_type": "code",
   "execution_count": null,
   "id": "83bbb009-9b82-4a10-b553-f26a6e6e8be1",
   "metadata": {},
   "outputs": [],
   "source": [
    "blend = next(draw_generator)"
   ]
  },
  {
   "cell_type": "code",
   "execution_count": null,
   "id": "97521558-979c-4dee-babc-1248a4f747f9",
   "metadata": {},
   "outputs": [],
   "source": [
    "field_images = blend[\"blend_images\"]\n",
    "isolated_images = blend[\"isolated_images\"]"
   ]
  },
  {
   "cell_type": "markdown",
   "id": "37e72b11-dc60-4d0f-955f-2f77e0fa50e2",
   "metadata": {},
   "source": [
    "# Deblend with Scarlet"
   ]
  },
  {
   "cell_type": "code",
   "execution_count": null,
   "id": "3f0dd345-0704-4a9c-90c4-b4d354c5a306",
   "metadata": {},
   "outputs": [],
   "source": [
    "np.shape(field_images)"
   ]
  },
  {
   "cell_type": "code",
   "execution_count": null,
   "id": "6566bd77-829d-4cc4-96fe-eb134e59d954",
   "metadata": {},
   "outputs": [],
   "source": [
    "psf = np.array([p.drawImage(galsim.Image(field_images[0].shape[1],field_images[0].shape[2]),scale=survey.pixel_scale.to_value(\"arcsec\")).array for p in blend[\"psf\"]])\n",
    "bands=[f for f in survey._filters]\n",
    "wcs = blend[\"wcs\"]"
   ]
  },
  {
   "cell_type": "code",
   "execution_count": null,
   "id": "90d54cd3-1626-46d8-96b8-addd85fa2dab",
   "metadata": {},
   "outputs": [],
   "source": [
    "import scarlet.psf\n",
    "from scarlet.psf import ImagePSF"
   ]
  },
  {
   "cell_type": "code",
   "execution_count": null,
   "id": "adfb36f1-27ce-41e7-bea1-5c898c424ed5",
   "metadata": {},
   "outputs": [],
   "source": [
    "def predict_with_scarlet(image, x_pos, y_pos, show_scene, show_sources, filters):\n",
    "    sig = []\n",
    "    weights = np.ones_like(image)\n",
    "    for i in range(6):\n",
    "        sig.append(sep.Background(image[i]).globalrms)\n",
    "        weights[i] = weights[i] / (sig[i]**2)\n",
    "    observation = scarlet.Observation(\n",
    "            image, psf=scarlet.psf.ImagePSF(psf), weights= weights, channels=bands, wcs=wcs\n",
    "        )\n",
    "    \n",
    "    model_psf = scarlet.GaussianPSF(sigma=(0.382, .365, .344, .335, .327, .323))\n",
    "    model_frame = scarlet.Frame(\n",
    "    image.shape,\n",
    "    psf=model_psf,\n",
    "    channels=filters, wcs=wcs)\n",
    "\n",
    "    \n",
    "    observation = observation.match(model_frame)\n",
    "    sources = []\n",
    "    for i in range(len(x_pos)):\n",
    "        result = scarlet.ExtendedSource(\n",
    "            model_frame,\n",
    "            model_frame.get_sky_coord((x_pos[i], y_pos[i])),\n",
    "            observation,\n",
    "            thresh=1,\n",
    "            shifting=True,\n",
    "        )\n",
    "        sources.append(result)\n",
    "\n",
    "    scarlet.initialization.set_spectra_to_match(sources, observation)\n",
    "    \n",
    "    scarlet_blend = scarlet.Blend(sources, observation)\n",
    "    \n",
    "    %time it, logL = scarlet_blend.fit(200, e_rel=1e-5)\n",
    "    #print(f\"scarlet ran for {it} iterations to logL = {logL}\")\n",
    "    #scarlet.display.show_likelihood(scarlet_blend)\n",
    "    #plt.show()\n",
    "    \n",
    "    if show_scene:\n",
    "        scarlet.display.show_scene(sources,\n",
    "                           norm=None,\n",
    "                           observation=observation,\n",
    "                           show_rendered=True,\n",
    "                           show_observed=True,\n",
    "                           show_residual=True)\n",
    "        \n",
    "        plt.show()\n",
    "    \n",
    "    if show_sources:\n",
    "        scarlet.display.show_sources(sources,\n",
    "                                 norm=None,\n",
    "                                 observation=observation,\n",
    "                                 show_rendered=True,\n",
    "                                 show_observed=True,\n",
    "                                 add_boxes=True\n",
    "                                )\n",
    "        plt.show()\n",
    "    \n",
    "    predicted_sources = []\n",
    "    for src in sources:\n",
    "        predicted_sources.append(observation.render(src.get_model(frame=model_frame)))\n",
    "    #print(np.shape(src.get_model(frame=model_frame)))\n",
    "    return predicted_sources"
   ]
  },
  {
   "cell_type": "code",
   "execution_count": null,
   "id": "39bbfc78-09d5-4734-abe1-b0c73794f2f1",
   "metadata": {},
   "outputs": [],
   "source": [
    "image = field_images[0]"
   ]
  },
  {
   "cell_type": "code",
   "execution_count": null,
   "id": "b5b635fb-c107-4b3c-8ec9-ade53ba097b9",
   "metadata": {},
   "outputs": [],
   "source": [
    "x_pos = blend['blend_list'][0]['y_peak']\n",
    "y_pos = blend['blend_list'][0]['x_peak']"
   ]
  },
  {
   "cell_type": "code",
   "execution_count": null,
   "id": "bfa82574-414e-4ab9-9f86-a4313a1774e4",
   "metadata": {
    "tags": []
   },
   "outputs": [],
   "source": [
    "#model = predict_with_scarlet(image, x_pos=x_pos, y_pos=y_pos, show_scene=True, show_sources=True, filters=bands)"
   ]
  },
  {
   "cell_type": "code",
   "execution_count": null,
   "id": "43988da1-8b9c-4cad-8729-4abb2e5feaa5",
   "metadata": {},
   "outputs": [],
   "source": [
    "#plt.imshow(model[0][2])"
   ]
  },
  {
   "cell_type": "code",
   "execution_count": null,
   "id": "3265b821-56db-43a9-ae5c-eaf76861f2b1",
   "metadata": {
    "tags": []
   },
   "outputs": [],
   "source": [
    "scarlet_predictions=[]\n",
    "for i, image in enumerate(field_images):\n",
    "    image = field_images[i]\n",
    "    x_pos = blend['blend_list'][i]['y_peak']\n",
    "    y_pos = blend['blend_list'][i]['x_peak']\n",
    "    predicted_sources = predict_with_scarlet(image, x_pos=x_pos, y_pos=y_pos, show_scene=False, show_sources=False, filters=bands)\n",
    "    scarlet_predictions.append(predicted_sources)"
   ]
  },
  {
   "cell_type": "markdown",
   "id": "2ee9b3a6-48e2-43d1-8c2b-422421ab4443",
   "metadata": {},
   "source": [
    "# Deblend with MADNESS"
   ]
  },
  {
   "cell_type": "code",
   "execution_count": null,
   "id": "e10f4cf8-8995-44be-863a-5f86d092ef14",
   "metadata": {},
   "outputs": [],
   "source": [
    "linear_norm_coeff = 80000\n",
    "latent_dim = 8"
   ]
  },
  {
   "cell_type": "code",
   "execution_count": null,
   "id": "49496b32-d215-4495-9cfe-12bb9363c179",
   "metadata": {
    "tags": []
   },
   "outputs": [],
   "source": [
    "from maddeb.Deblender import Deblend\n",
    "import tensorflow as tf\n",
    "import tensorflow_probability as tfp\n",
    "\n",
    "madness_predictions = []\n",
    "for i in range(len(blend['blend_list'])):\n",
    "\n",
    "    current_field_predictions = []\n",
    "    blends = blend['blend_list'][i]\n",
    "    #print(blends)\n",
    "    detected_positions = []\n",
    "    for j in range(len(blends)):\n",
    "        detected_positions.append([blends['y_peak'][j], blends['x_peak'][j]])\n",
    "\n",
    "    deb = Deblend(field_images[i], \n",
    "                  detected_positions,\n",
    "                  latent_dim=latent_dim, \n",
    "                  num_components=len(blends), \n",
    "                  use_likelihood=True,\n",
    "                  linear_norm_coeff=linear_norm_coeff,\n",
    "                  max_iter=300)\n",
    "    #tf.config.run_functions_eagerly(False)\n",
    "    convergence_criterion = tfp.optimizer.convergence_criteria.LossNotDecreasing(atol=.0000001*45*45*len(blends)*3, min_num_steps=50, window_size=20)\n",
    "    #convergence_criterion = None\n",
    "    lr_scheduler = tf.keras.optimizers.schedules.ExponentialDecay(initial_learning_rate=1.0, decay_steps=30, decay_rate=0.8, staircase=True)\n",
    "    optimizer=tf.keras.optimizers.Adam(learning_rate=lr_scheduler)\n",
    "\n",
    "    deb(convergence_criterion, optimizer=optimizer, use_debvader=True, compute_sig_dynamically=False)\n",
    "    \n",
    "    padding_infos = deb.get_padding_infos()\n",
    "    for component_num in range(deb.num_components):\n",
    "        prediction = np.pad(deb.components[component_num], padding_infos[component_num])\n",
    "        prediction = np.transpose(prediction, axes=(2, 0, 1))\n",
    "        current_field_predictions.append(prediction)\n",
    "    madness_predictions.append(current_field_predictions)"
   ]
  },
  {
   "cell_type": "code",
   "execution_count": null,
   "id": "fcca44f2-7f13-455c-a6d1-ab5eeb36e164",
   "metadata": {},
   "outputs": [],
   "source": [
    "madness_predictions= np.array(madness_predictions)"
   ]
  },
  {
   "cell_type": "code",
   "execution_count": null,
   "id": "e1eabfd1-9cf2-48da-b066-91cf9db28ffe",
   "metadata": {},
   "outputs": [],
   "source": [
    "np.shape(madness_predictions)"
   ]
  },
  {
   "cell_type": "code",
   "execution_count": null,
   "id": "c12ccca8-81be-4b01-a2f9-01e956cede12",
   "metadata": {},
   "outputs": [],
   "source": [
    "from maddeb.extraction import extract_cutouts\n",
    "from maddeb.metrics import compute_pixel_covariance_and_flux, compute_pixel_covariance_and_fluxes"
   ]
  },
  {
   "cell_type": "code",
   "execution_count": null,
   "id": "3422a979-5721-44f9-9591-24ac150153be",
   "metadata": {
    "tags": []
   },
   "outputs": [],
   "source": [
    "madness_cov = []\n",
    "madness_actual_flux = []\n",
    "madness_predicted_flux = []\n",
    "for blend_number in range(len(field_images)):\n",
    "\n",
    "    current_galaxies = isolated_images[blend_number]\n",
    "    madness_res = compute_pixel_covariance_and_fluxes(madness_predictions[blend_number], current_galaxies, field_images[0])\n",
    "\n",
    "    madness_cov.append(madness_res[0])\n",
    "    madness_actual_flux.append(madness_res[1])\n",
    "    madness_predicted_flux.append(madness_res[2])"
   ]
  },
  {
   "cell_type": "markdown",
   "id": "8ee8bc64-4c5c-4384-8a81-b15a2d44b0a0",
   "metadata": {},
   "source": [
    "# Compare: Covariance matrix and flux reconstruction"
   ]
  },
  {
   "cell_type": "code",
   "execution_count": null,
   "id": "008a44e9-2634-438f-a922-df7fcbbc800b",
   "metadata": {
    "tags": []
   },
   "outputs": [],
   "source": [
    "scarlet_cov = []\n",
    "scarlet_actual_flux = []\n",
    "scarlet_predicted_flux = []\n",
    "\n",
    "for blend_number in range(len(field_images)):\n",
    "\n",
    "    current_galaxies = isolated_images[blend_number]\n",
    "    scarlet_res = compute_pixel_covariance_and_fluxes(scarlet_predictions[blend_number], current_galaxies, field_images[0])\n",
    "\n",
    "    scarlet_cov.append(scarlet_res[0])\n",
    "    scarlet_actual_flux.append(scarlet_res[1])\n",
    "    scarlet_predicted_flux.append(scarlet_res[2])"
   ]
  },
  {
   "cell_type": "code",
   "execution_count": null,
   "id": "9531d1a8-9e09-416b-b62e-55fd29699416",
   "metadata": {},
   "outputs": [],
   "source": [
    "scarlet_cov"
   ]
  },
  {
   "cell_type": "code",
   "execution_count": null,
   "id": "631f9f1f-9bff-4da5-86de-77c54132717e",
   "metadata": {},
   "outputs": [],
   "source": [
    "bins = np.arange(.95, 1, .005)\n",
    "plt.hist(scarlet_cov, bins=bins, alpha=0.5, label=\"scarlet\");\n",
    "plt.hist(madness_cov, bins=bins, alpha=0.7, label=\"MADNESS\");\n",
    "plt.legend()\n",
    "plt.xlim([.95, 1])"
   ]
  },
  {
   "cell_type": "code",
   "execution_count": null,
   "id": "b8bedede-c594-4aab-8c92-c617c79c6b40",
   "metadata": {
    "tags": []
   },
   "outputs": [],
   "source": [
    "scarlet_actual_flux = np.array(scarlet_actual_flux)\n",
    "scarlet_predicted_flux = np.array(scarlet_predicted_flux)\n",
    "\n",
    "scarlet_relative_difference= np.divide(scarlet_predicted_flux - scarlet_actual_flux, scarlet_actual_flux)"
   ]
  },
  {
   "cell_type": "code",
   "execution_count": null,
   "id": "c67254a8-effe-4ceb-bb67-de5c58928b48",
   "metadata": {
    "tags": []
   },
   "outputs": [],
   "source": [
    "madness_actual_flux = np.array(madness_actual_flux)\n",
    "madness_predicted_flux = np.array(madness_predicted_flux)\n",
    "\n",
    "madness_relative_difference= np.divide(madness_predicted_flux - madness_actual_flux, madness_actual_flux)"
   ]
  },
  {
   "cell_type": "code",
   "execution_count": null,
   "id": "f236626c-956e-43ef-ae5a-1cadd2fd6ef6",
   "metadata": {},
   "outputs": [],
   "source": [
    "scarlet_relative_difference[np.logical_not(np.isnan(scarlet_relative_difference))].reshape(-1)"
   ]
  },
  {
   "cell_type": "code",
   "execution_count": null,
   "id": "bd9ff82d-a45b-4463-8156-f5bc91a86b06",
   "metadata": {},
   "outputs": [],
   "source": [
    "np.array_equal(madness_actual_flux, scarlet_actual_flux)"
   ]
  },
  {
   "cell_type": "code",
   "execution_count": null,
   "id": "d6917758-a6c4-4f7d-a358-91b4309e2dac",
   "metadata": {},
   "outputs": [],
   "source": [
    "from scipy.optimize import curve_fit\n",
    "def gauss(x, sig, mu):\n",
    "    return 1/np.sqrt(2.*np.pi)/sig*np.exp(-0.5*(x-mu)**2/sig**2)\n",
    "\n",
    "n_bins=100\n",
    "hist, bin_tmp = np.histogram(madness_relative_difference, n_bins, density=True)\n",
    "bins = np.mean((bin_tmp[:-1], bin_tmp[1:]), 0)\n",
    "madness_fit = curve_fit(gauss, bins, hist, p0=[np.std(bins), np.mean(bins)])\n",
    "\n",
    "hist, bin_tmp = np.histogram(scarlet_relative_difference, n_bins, density=True)\n",
    "bins = np.mean((bin_tmp[:-1], bin_tmp[1:]), 0)\n",
    "scarlet_fit = curve_fit(gauss, bins, hist, p0=[np.std(bins), np.mean(bins)])"
   ]
  },
  {
   "cell_type": "code",
   "execution_count": null,
   "id": "005fde2e-d1e9-4f6a-916b-494d1e6b49ac",
   "metadata": {},
   "outputs": [],
   "source": [
    "madness_fit"
   ]
  },
  {
   "cell_type": "code",
   "execution_count": null,
   "id": "aea67eb1-5bc6-498e-a5da-6f17332d3a58",
   "metadata": {},
   "outputs": [],
   "source": [
    "bins"
   ]
  },
  {
   "cell_type": "code",
   "execution_count": null,
   "id": "5960aa02-3c0a-47b2-b795-12274ccf72a7",
   "metadata": {},
   "outputs": [],
   "source": [
    "import seaborn as sns\n",
    "from scipy.stats import norm\n",
    "#print(madness_relative_difference[np.logical_not(np.isinf(madness_relative_difference))].reshape(-1))\n",
    "sns.set_theme(style={\"axes.grid\": True,\n",
    "                     'axes.labelcolor': 'black',\n",
    "                     'figure.facecolor': '1',\n",
    "                     'xtick.color': 'black',\n",
    "                     'ytick.color': 'black',\n",
    "                     'text.color': 'black',\n",
    "                     'image.cmap': 'viridis',})\n",
    "plt.figure(figsize=(10,7))\n",
    "bins = np.arange(-.5,.5, .01)\n",
    "plt.hist(madness_relative_difference[np.logical_not(np.isnan(madness_relative_difference))].reshape(-1), bins=bins, density=True, alpha=0.7, color=\"coral\", label=\"MADNESS\");\n",
    "plt.plot(bins, norm.pdf(bins, madness_fit[0][1], madness_fit[0][0]), color=\"coral\")\n",
    "plt.hist(scarlet_relative_difference[np.logical_not(np.isnan(scarlet_relative_difference))].reshape(-1), bins=bins, density=True, alpha=0.5, color=\"cornflowerblue\", label=\"scarlet\");\n",
    "plt.plot(bins, norm.pdf(bins, scarlet_fit[0][1], scarlet_fit[0][0]), color=\"cornflowerblue\")\n",
    "plt.legend(fontsize=20)\n",
    "ax=plt.gca()\n",
    "plt.xlabel(\"relative flux reconstruction error\", fontsize=20)\n",
    "ax.tick_params(labelsize=15)\n",
    "plt.ylabel(\"number of galaxies\", fontsize=20)\n",
    "plt.xlim([-.5,.5])\n",
    "plt.savefig(\"flux_err\", transparent=True)"
   ]
  },
  {
   "cell_type": "code",
   "execution_count": null,
   "id": "f658d090-dfd7-45f0-b170-452be8184027",
   "metadata": {},
   "outputs": [],
   "source": [
    "print(np.amax(scarlet_relative_difference[np.logical_not(np.isnan(scarlet_relative_difference))]))\n",
    "print(np.amin(scarlet_relative_difference[np.logical_not(np.isnan(scarlet_relative_difference))]))"
   ]
  },
  {
   "cell_type": "code",
   "execution_count": null,
   "id": "9e742fe5-830c-4a58-ac1f-c029e81e21b0",
   "metadata": {},
   "outputs": [],
   "source": [
    "print(np.amax(madness_relative_difference[np.logical_not(np.isnan(madness_relative_difference))]))\n",
    "print(np.amin(madness_relative_difference[np.logical_not(np.isnan(madness_relative_difference))]))"
   ]
  },
  {
   "cell_type": "markdown",
   "id": "d4a97732-10ff-4dd5-90a1-c4dd04159186",
   "metadata": {},
   "source": [
    "# Compute Apperture photometry"
   ]
  },
  {
   "cell_type": "code",
   "execution_count": null,
   "id": "3f23add4-43ff-410d-a1dc-524719f3c874",
   "metadata": {},
   "outputs": [],
   "source": [
    "from maddeb.metrics import compute_apperture_photomery"
   ]
  },
  {
   "cell_type": "code",
   "execution_count": null,
   "id": "b23eca9f-fb09-4fc8-bf7c-65a2c161724c",
   "metadata": {},
   "outputs": [],
   "source": [
    "actual_residual_field = blend[\"blend_images\"][0]\n",
    "scarlet_residual_field = blend[\"blend_images\"][0]\n",
    "\n",
    "for i in range(len(scarlet_predictions[0])):\n",
    "    actual_residual_field = actual_residual_field - blend[\"isolated_images\"][0][i]\n",
    "    scarlet_residual_field = scarlet_residual_field - scarlet_predictions[0][i]\n",
    "\n",
    "padding_infos = deb.get_padding_infos()\n",
    "madness_residual_field = deb.compute_residual(\n",
    "    blend[\"blend_images\"][0], use_scatter_and_sub=True\n",
    ").numpy()\n",
    "\n",
    "bkg_rms = {}\n",
    "for band in range(6):\n",
    "    bkg_rms[band] = sep.Background(blend[\"blend_images\"][0][band]).globalrms\n",
    "\n",
    "actual_gal_fluxes, actual_gal_fluxerrs, actual_gal_flags = compute_apperture_photomery(\n",
    "    residual_field=actual_residual_field,\n",
    "    predictions=blend[\"isolated_images\"][0],\n",
    "    xpos=blend[\"blend_list\"][0][\"x_peak\"],\n",
    "    ypos=blend[\"blend_list\"][0][\"y_peak\"],\n",
    "    bkg_rms=bkg_rms,\n",
    ")\n",
    "\n",
    "(\n",
    "    madness_gal_fluxes,\n",
    "    madness_gal_fluxerrs,\n",
    "    madness_gal_flags,\n",
    ") = compute_apperture_photomery(\n",
    "    residual_field=np.transpose(madness_residual_field,  axes=(2, 0, 1)),\n",
    "    predictions=madness_predictions[0],\n",
    "    xpos=blend[\"blend_list\"][0][\"x_peak\"],\n",
    "    ypos=blend[\"blend_list\"][0][\"y_peak\"],\n",
    "    bkg_rms=bkg_rms,\n",
    ")\n",
    "\n",
    "(\n",
    "    scarlet_gal_fluxes,\n",
    "    scarlet_gal_fluxerrs,\n",
    "    scarlet_gal_flags,\n",
    ") = compute_apperture_photomery(\n",
    "    residual_field=scarlet_residual_field,\n",
    "    predictions=scarlet_predictions[0],\n",
    "    xpos=blend[\"blend_list\"][0][\"x_peak\"],\n",
    "    ypos=blend[\"blend_list\"][0][\"y_peak\"],\n",
    "    bkg_rms=bkg_rms,\n",
    ")\n",
    "\n",
    "plt.figure(figsize=(10, 7))\n",
    "bins = np.arange(0, 1, 0.005)\n",
    "plt.hist(\n",
    "    np.abs((madness_gal_fluxes - actual_gal_fluxes) / actual_gal_fluxes),\n",
    "    bins=bins,\n",
    "    alpha=0.5,\n",
    "    label=\"MADNESS\",\n",
    ")\n",
    "\n",
    "plt.hist(\n",
    "    np.abs((scarlet_gal_fluxes - actual_gal_fluxes) / actual_gal_fluxes),\n",
    "    bins=bins,\n",
    "    alpha=0.5,\n",
    "    label=\"scarlet\",\n",
    ")\n",
    "\n",
    "plt.legend(fontsize=20)\n",
    "\n",
    "plt.savefig(\"aperturephoto\")\n"
   ]
  },
  {
   "cell_type": "code",
   "execution_count": null,
   "id": "f7da802b-9a87-4790-b9df-455dce695b06",
   "metadata": {},
   "outputs": [],
   "source": [
    "np.shape(madness_residual_field)"
   ]
  },
  {
   "cell_type": "code",
   "execution_count": null,
   "id": "e3a9c965-d45c-43bc-b36d-51f55ad967dc",
   "metadata": {},
   "outputs": [],
   "source": [
    "scarlet_gal_fluxes"
   ]
  },
  {
   "cell_type": "code",
   "execution_count": null,
   "id": "50001891-2c0b-4cf3-ac0a-5643f3587286",
   "metadata": {},
   "outputs": [],
   "source": [
    "actual_gal_fluxes"
   ]
  },
  {
   "cell_type": "code",
   "execution_count": null,
   "id": "52bfe41f-b469-462c-8ed9-e1b6b7b2b73c",
   "metadata": {},
   "outputs": [],
   "source": [
    "madness_gal_fluxes"
   ]
  },
  {
   "cell_type": "code",
   "execution_count": null,
   "id": "8201833c-243c-4d71-9493-0b6e25dfa6ad",
   "metadata": {},
   "outputs": [],
   "source": []
  }
 ],
 "metadata": {
  "kernelspec": {
   "display_name": "madness",
   "language": "python",
   "name": "madness"
  },
  "language_info": {
   "codemirror_mode": {
    "name": "ipython",
    "version": 3
   },
   "file_extension": ".py",
   "mimetype": "text/x-python",
   "name": "python",
   "nbconvert_exporter": "python",
   "pygments_lexer": "ipython3",
   "version": "3.8.13"
  }
 },
 "nbformat": 4,
 "nbformat_minor": 5
}
