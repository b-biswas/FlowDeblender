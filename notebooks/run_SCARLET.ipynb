{
 "cells": [
  {
   "cell_type": "code",
   "execution_count": 1,
   "id": "f868f1dd-e2ce-4dbe-9350-93a6d0100428",
   "metadata": {},
   "outputs": [
    {
     "name": "stderr",
     "output_type": "stream",
     "text": [
      "2022-09-26 13:41:53.629305: W tensorflow/stream_executor/platform/default/dso_loader.cc:59] Could not load dynamic library 'libcudart.so.10.1'; dlerror: libcudart.so.10.1: cannot open shared object file: No such file or directory; LD_LIBRARY_PATH: /pbs/throng/lsst/users/bbiswas/miniconda3/envs/madness/lib/:\n",
      "2022-09-26 13:41:53.629517: I tensorflow/stream_executor/cuda/cudart_stub.cc:29] Ignore above cudart dlerror if you do not have a GPU set up on your machine.\n"
     ]
    }
   ],
   "source": [
    "import logging\n",
    "import time\n",
    "\n",
    "import btk\n",
    "import galsim\n",
    "import matplotlib.pyplot as plt\n",
    "import numpy as np\n",
    "from scipy.optimize import curve_fit\n",
    "from scipy.stats import norm\n",
    "import scarlet\n",
    "import scarlet.psf\n",
    "import seaborn as sns\n",
    "import sep\n",
    "import tensorflow as tf\n",
    "import tensorflow_probability as tfp\n",
    "\n",
    "from maddeb.Deblender import Deblend\n",
    "from maddeb.extraction import extract_cutouts\n",
    "from maddeb.metrics import (\n",
    "    compute_apperture_photometry,\n",
    "    compute_pixel_covariance_and_flux,\n",
    ")\n",
    "\n",
    "from maddeb.utils import CustomSampling"
   ]
  },
  {
   "cell_type": "code",
   "execution_count": 2,
   "id": "e726d59a-2cba-4719-bbcd-e4de6b4daa06",
   "metadata": {},
   "outputs": [],
   "source": [
    "COSMOS_CATALOG_PATHS = [\n",
    "    \"/sps/lsst/users/bbiswas/COSMOS_catalog/COSMOS_25.2_training_sample/real_galaxy_catalog_25.2.fits\",\n",
    "    \"/sps/lsst/users/bbiswas/COSMOS_catalog/COSMOS_25.2_training_sample/real_galaxy_catalog_25.2_fits.fits\",\n",
    "]\n",
    "\n",
    "\n",
    "stamp_size = 45\n",
    "max_number = 100\n",
    "batch_size = 1\n",
    "maxshift = 17\n",
    "catalog = btk.catalog.CosmosCatalog.from_file(COSMOS_CATALOG_PATHS)\n",
    "survey = btk.survey.get_surveys(\"LSST\")\n",
    "seed=3\n",
    "\n",
    "galsim_catalog = galsim.COSMOSCatalog(COSMOS_CATALOG_PATHS[0], exclusion_level=\"marginal\")\n",
    "\n",
    "sampling_function = CustomSampling(\n",
    "    index_range=[60000, 80000], max_number=max_number, maxshift=maxshift, stamp_size=stamp_size, seed=seed\n",
    ")\n",
    "\n",
    "draw_generator = btk.draw_blends.CosmosGenerator(\n",
    "    catalog,\n",
    "    sampling_function,\n",
    "    survey,\n",
    "    batch_size=batch_size,\n",
    "    stamp_size=stamp_size,\n",
    "    cpus=1,\n",
    "    add_noise=\"all\",\n",
    "    verbose=False,\n",
    "    gal_type=\"parametric\",\n",
    "    seed=seed,\n",
    ")"
   ]
  },
  {
   "cell_type": "code",
   "execution_count": 3,
   "id": "83bbb009-9b82-4a10-b553-f26a6e6e8be1",
   "metadata": {},
   "outputs": [
    {
     "data": {
      "application/vnd.jupyter.widget-view+json": {
       "model_id": "639d5f5de5964108876bddca04856ee9",
       "version_major": 2,
       "version_minor": 0
      },
      "text/plain": [
       "Generating blends for LSST survey:   0%|          | 0/1 [00:00<?, ?it/s]"
      ]
     },
     "metadata": {},
     "output_type": "display_data"
    }
   ],
   "source": [
    "blend = next(draw_generator)"
   ]
  },
  {
   "cell_type": "code",
   "execution_count": 4,
   "id": "97521558-979c-4dee-babc-1248a4f747f9",
   "metadata": {},
   "outputs": [],
   "source": [
    "field_images = blend[\"blend_images\"]\n",
    "isolated_images = blend[\"isolated_images\"]"
   ]
  },
  {
   "cell_type": "markdown",
   "id": "37e72b11-dc60-4d0f-955f-2f77e0fa50e2",
   "metadata": {},
   "source": [
    "# Deblend with Scarlet"
   ]
  },
  {
   "cell_type": "code",
   "execution_count": 5,
   "id": "3f0dd345-0704-4a9c-90c4-b4d354c5a306",
   "metadata": {},
   "outputs": [
    {
     "data": {
      "text/plain": [
       "(1, 6, 225, 225)"
      ]
     },
     "execution_count": 5,
     "metadata": {},
     "output_type": "execute_result"
    }
   ],
   "source": [
    "np.shape(field_images)"
   ]
  },
  {
   "cell_type": "code",
   "execution_count": 6,
   "id": "6566bd77-829d-4cc4-96fe-eb134e59d954",
   "metadata": {},
   "outputs": [],
   "source": [
    "psf = np.array([p.drawImage(galsim.Image(field_images[0].shape[1],field_images[0].shape[2]),scale=survey.pixel_scale.to_value(\"arcsec\")).array for p in blend[\"psf\"]])\n",
    "bands=[f for f in survey._filters]\n",
    "wcs = blend[\"wcs\"]"
   ]
  },
  {
   "cell_type": "code",
   "execution_count": 7,
   "id": "90d54cd3-1626-46d8-96b8-addd85fa2dab",
   "metadata": {},
   "outputs": [],
   "source": [
    "import scarlet.psf\n",
    "from scarlet.psf import ImagePSF"
   ]
  },
  {
   "cell_type": "code",
   "execution_count": 8,
   "id": "adfb36f1-27ce-41e7-bea1-5c898c424ed5",
   "metadata": {},
   "outputs": [],
   "source": [
    "def predict_with_scarlet(image, x_pos, y_pos, show_scene, show_sources, filters):\n",
    "    sig = []\n",
    "    weights = np.ones_like(image)\n",
    "    for i in range(6):\n",
    "        sig.append(sep.Background(image[i]).globalrms)\n",
    "        weights[i] = weights[i] / (sig[i]**2)\n",
    "    observation = scarlet.Observation(\n",
    "            image, psf=scarlet.psf.ImagePSF(psf), weights= weights, channels=bands, wcs=wcs\n",
    "        )\n",
    "    \n",
    "    model_psf = scarlet.GaussianPSF(sigma=(0.382, .365, .344, .335, .327, .323))\n",
    "    model_frame = scarlet.Frame(\n",
    "    image.shape,\n",
    "    psf=model_psf,\n",
    "    channels=filters, wcs=wcs)\n",
    "\n",
    "    \n",
    "    observation = observation.match(model_frame)\n",
    "    sources = []\n",
    "    for i in range(len(x_pos)):\n",
    "        result = scarlet.ExtendedSource(\n",
    "            model_frame,\n",
    "            model_frame.get_sky_coord((x_pos[i], y_pos[i])),\n",
    "            observation,\n",
    "            thresh=1,\n",
    "            shifting=True,\n",
    "        )\n",
    "        sources.append(result)\n",
    "\n",
    "    scarlet.initialization.set_spectra_to_match(sources, observation)\n",
    "    \n",
    "    scarlet_blend = scarlet.Blend(sources, observation)\n",
    "    \n",
    "    %time it, logL = scarlet_blend.fit(200, e_rel=1e-5)\n",
    "    #print(f\"scarlet ran for {it} iterations to logL = {logL}\")\n",
    "    #scarlet.display.show_likelihood(scarlet_blend)\n",
    "    #plt.show()\n",
    "    \n",
    "    if show_scene:\n",
    "        scarlet.display.show_scene(sources,\n",
    "                           norm=None,\n",
    "                           observation=observation,\n",
    "                           show_rendered=True,\n",
    "                           show_observed=True,\n",
    "                           show_residual=True)\n",
    "        \n",
    "        plt.show()\n",
    "    \n",
    "    if show_sources:\n",
    "        scarlet.display.show_sources(sources,\n",
    "                                 norm=None,\n",
    "                                 observation=observation,\n",
    "                                 show_rendered=True,\n",
    "                                 show_observed=True,\n",
    "                                 add_boxes=True\n",
    "                                )\n",
    "        plt.show()\n",
    "    \n",
    "    predicted_sources = []\n",
    "    for src in sources:\n",
    "        predicted_sources.append(observation.render(src.get_model(frame=model_frame)))\n",
    "    #print(np.shape(src.get_model(frame=model_frame)))\n",
    "    return predicted_sources"
   ]
  },
  {
   "cell_type": "code",
   "execution_count": 9,
   "id": "39bbfc78-09d5-4734-abe1-b0c73794f2f1",
   "metadata": {},
   "outputs": [],
   "source": [
    "image = field_images[0]"
   ]
  },
  {
   "cell_type": "code",
   "execution_count": 10,
   "id": "b5b635fb-c107-4b3c-8ec9-ade53ba097b9",
   "metadata": {},
   "outputs": [],
   "source": [
    "x_pos = blend['blend_list'][0]['y_peak']\n",
    "y_pos = blend['blend_list'][0]['x_peak']"
   ]
  },
  {
   "cell_type": "code",
   "execution_count": 11,
   "id": "bfa82574-414e-4ab9-9f86-a4313a1774e4",
   "metadata": {
    "tags": []
   },
   "outputs": [],
   "source": [
    "#model = predict_with_scarlet(image, x_pos=x_pos, y_pos=y_pos, show_scene=True, show_sources=True, filters=bands)"
   ]
  },
  {
   "cell_type": "code",
   "execution_count": 12,
   "id": "43988da1-8b9c-4cad-8729-4abb2e5feaa5",
   "metadata": {},
   "outputs": [],
   "source": [
    "#plt.imshow(model[0][2])"
   ]
  },
  {
   "cell_type": "code",
   "execution_count": 13,
   "id": "3265b821-56db-43a9-ae5c-eaf76861f2b1",
   "metadata": {
    "tags": []
   },
   "outputs": [
    {
     "name": "stderr",
     "output_type": "stream",
     "text": [
      "Completed 50 iterations and [50, 474, 0, 50, 500, 0, 50, 500, 0, 50, 500, 0, 50, 500, 0, 50, 500, 0, 50, 419, 0, 50, 500, 0, 50, 500, 0, 50, 500, 0, 50, 500, 0, 50, 500, 0, 50, 500, 0, 50, 500, 0, 50, 500, 0, 50, 500, 0, 50, 500, 0, 50, 247, 0, 50, 382, 0, 50, 500, 0, 50, 500, 0, 50, 500, 0, 50, 500, 0, 50, 500, 0, 50, 323, 0, 50, 500, 0, 50, 383, 0, 50, 500, 0, 50, 500, 0, 50, 493, 0, 50, 500, 0, 50, 500, 0, 50, 500, 0, 50, 500, 0, 50, 500, 0, 50, 411, 0, 50, 500, 0, 50, 500, 0, 50, 411, 0, 50, 500, 0, 50, 500, 0, 50, 500, 0, 50, 500, 0, 50, 500, 0, 50, 482, 0, 50, 450, 0, 50, 500, 0, 50, 500, 0, 50, 500, 0, 50, 434, 0, 50, 500, 0, 50, 500, 0, 50, 500, 0, 50, 500, 0, 50, 500, 0, 50, 500, 0, 50, 500, 0, 82, 376, 0, 50, 500, 0, 50, 500, 0, 50, 500, 0, 50, 500, 0, 50, 500, 0, 50, 500, 0, 50, 347, 0, 50, 500, 0, 50, 500, 0, 50, 500, 0, 50, 500, 0, 50, 500, 0, 50, 250, 0, 50, 150, 0, 50, 500, 0, 50, 477, 0, 50, 500, 0, 50, 500, 0, 50, 500, 0, 50, 500, 0, 50, 252, 0, 50, 286, 0, 50, 390, 0, 50, 409, 0] sub-iterations\n",
      "scarlet ran for 200 iterations to logL = -2118150.9013141305\n"
     ]
    },
    {
     "name": "stdout",
     "output_type": "stream",
     "text": [
      "CPU times: user 5min 8s, sys: 42.3 s, total: 5min 50s\n",
      "Wall time: 5min 50s\n"
     ]
    }
   ],
   "source": [
    "scarlet_predictions=[]\n",
    "for i, image in enumerate(field_images):\n",
    "    image = field_images[i]\n",
    "    x_pos = blend['blend_list'][i]['y_peak']\n",
    "    y_pos = blend['blend_list'][i]['x_peak']\n",
    "    predicted_sources = predict_with_scarlet(image, x_pos=x_pos, y_pos=y_pos, show_scene=False, show_sources=False, filters=bands)\n",
    "    scarlet_predictions.append(predicted_sources)"
   ]
  },
  {
   "cell_type": "markdown",
   "id": "2ee9b3a6-48e2-43d1-8c2b-422421ab4443",
   "metadata": {},
   "source": [
    "# Deblend with MADNESS"
   ]
  },
  {
   "cell_type": "code",
   "execution_count": 14,
   "id": "e10f4cf8-8995-44be-863a-5f86d092ef14",
   "metadata": {},
   "outputs": [],
   "source": [
    "linear_norm_coeff = 80000\n",
    "latent_dim = 8"
   ]
  },
  {
   "cell_type": "code",
   "execution_count": null,
   "id": "49496b32-d215-4495-9cfe-12bb9363c179",
   "metadata": {
    "tags": []
   },
   "outputs": [
    {
     "name": "stderr",
     "output_type": "stream",
     "text": [
      "2022-09-26 13:49:07.946437: W tensorflow/stream_executor/platform/default/dso_loader.cc:59] Could not load dynamic library 'libcuda.so.1'; dlerror: libcuda.so.1: cannot open shared object file: No such file or directory; LD_LIBRARY_PATH: /pbs/throng/lsst/users/bbiswas/miniconda3/envs/madness/lib/:\n",
      "2022-09-26 13:49:07.946898: W tensorflow/stream_executor/cuda/cuda_driver.cc:312] failed call to cuInit: UNKNOWN ERROR (303)\n",
      "2022-09-26 13:49:07.947314: I tensorflow/stream_executor/cuda/cuda_diagnostics.cc:156] kernel driver does not appear to be running on this host (jns-bbiswas.cc.in2p3.fr): /proc/driver/nvidia/version does not exist\n",
      "2022-09-26 13:49:07.949435: I tensorflow/core/platform/cpu_feature_guard.cc:142] This TensorFlow binary is optimized with oneAPI Deep Neural Network Library (oneDNN)to use the following CPU instructions in performance-critical operations:  AVX2 FMA\n",
      "To enable them in other operations, rebuild TensorFlow with the appropriate compiler flags.\n",
      "2022-09-26 13:49:07.979477: I tensorflow/core/platform/profile_utils/cpu_utils.cc:104] CPU Frequency: 2399995000 Hz\n",
      "2022-09-26 13:49:07.982378: I tensorflow/compiler/xla/service/service.cc:168] XLA service 0x55772744d230 initialized for platform Host (this does not guarantee that XLA will be used). Devices:\n",
      "2022-09-26 13:49:07.982436: I tensorflow/compiler/xla/service/service.cc:176]   StreamExecutor device (0): Host, Default Version\n"
     ]
    },
    {
     "name": "stdout",
     "output_type": "stream",
     "text": [
      "WARNING:tensorflow:From /pbs/throng/lsst/users/bbiswas/miniconda3/envs/madness/lib/python3.8/site-packages/tensorflow/python/ops/linalg/linear_operator_lower_triangular.py:151: calling LinearOperator.__init__ (from tensorflow.python.ops.linalg.linear_operator) with graph_parents is deprecated and will be removed in a future version.\n",
      "Instructions for updating:\n",
      "Do not pass `graph_parents`.  They will  no longer be used.\n"
     ]
    },
    {
     "name": "stderr",
     "output_type": "stream",
     "text": [
      "From /pbs/throng/lsst/users/bbiswas/miniconda3/envs/madness/lib/python3.8/site-packages/tensorflow/python/ops/linalg/linear_operator_lower_triangular.py:151: calling LinearOperator.__init__ (from tensorflow.python.ops.linalg.linear_operator) with graph_parents is deprecated and will be removed in a future version.\n",
      "Instructions for updating:\n",
      "Do not pass `graph_parents`.  They will  no longer be used.\n"
     ]
    },
    {
     "name": "stdout",
     "output_type": "stream",
     "text": [
      "WARNING:tensorflow:From /pbs/throng/lsst/users/bbiswas/miniconda3/envs/madness/lib/python3.8/site-packages/tensorflow_probability/python/distributions/distribution.py:334: calling TransformedDistribution.__init__ (from tensorflow_probability.python.distributions.transformed_distribution) with batch_shape is deprecated and will be removed after 2020-06-01.\n",
      "Instructions for updating:\n",
      "`batch_shape` and `event_shape` args are deprecated. Please use `tfd.Sample`, `tfd.Independent`, and broadcasted parameters of the base distribution instead. For example, replace `tfd.TransformedDistribution(tfd.Normal(0., 1.), tfb.Exp(), batch_shape=[2, 3], event_shape=[4])` with `tfd.TransformedDistrbution(tfd.Sample(tfd.Normal(tf.zeros([2, 3]), 1.),sample_shape=[4]), tfb.Exp())` or `tfd.TransformedDistribution(tfd.Independent(tfd.Normal(tf.zeros([2, 3, 4]), 1.), reinterpreted_batch_ndims=1), tfb.Exp())`.\n"
     ]
    },
    {
     "name": "stderr",
     "output_type": "stream",
     "text": [
      "From /pbs/throng/lsst/users/bbiswas/miniconda3/envs/madness/lib/python3.8/site-packages/tensorflow_probability/python/distributions/distribution.py:334: calling TransformedDistribution.__init__ (from tensorflow_probability.python.distributions.transformed_distribution) with batch_shape is deprecated and will be removed after 2020-06-01.\n",
      "Instructions for updating:\n",
      "`batch_shape` and `event_shape` args are deprecated. Please use `tfd.Sample`, `tfd.Independent`, and broadcasted parameters of the base distribution instead. For example, replace `tfd.TransformedDistribution(tfd.Normal(0., 1.), tfb.Exp(), batch_shape=[2, 3], event_shape=[4])` with `tfd.TransformedDistrbution(tfd.Sample(tfd.Normal(tf.zeros([2, 3]), 1.),sample_shape=[4]), tfb.Exp())` or `tfd.TransformedDistribution(tfd.Independent(tfd.Normal(tf.zeros([2, 3, 4]), 1.), reinterpreted_batch_ndims=1), tfb.Exp())`.\n"
     ]
    },
    {
     "name": "stdout",
     "output_type": "stream",
     "text": [
      "WARNING:tensorflow:From /pbs/throng/lsst/users/bbiswas/miniconda3/envs/madness/lib/python3.8/site-packages/tensorflow_probability/python/distributions/distribution.py:334: calling TransformedDistribution.__init__ (from tensorflow_probability.python.distributions.transformed_distribution) with event_shape is deprecated and will be removed after 2020-06-01.\n",
      "Instructions for updating:\n",
      "`batch_shape` and `event_shape` args are deprecated. Please use `tfd.Sample`, `tfd.Independent`, and broadcasted parameters of the base distribution instead. For example, replace `tfd.TransformedDistribution(tfd.Normal(0., 1.), tfb.Exp(), batch_shape=[2, 3], event_shape=[4])` with `tfd.TransformedDistrbution(tfd.Sample(tfd.Normal(tf.zeros([2, 3]), 1.),sample_shape=[4]), tfb.Exp())` or `tfd.TransformedDistribution(tfd.Independent(tfd.Normal(tf.zeros([2, 3, 4]), 1.), reinterpreted_batch_ndims=1), tfb.Exp())`.\n"
     ]
    },
    {
     "name": "stderr",
     "output_type": "stream",
     "text": [
      "From /pbs/throng/lsst/users/bbiswas/miniconda3/envs/madness/lib/python3.8/site-packages/tensorflow_probability/python/distributions/distribution.py:334: calling TransformedDistribution.__init__ (from tensorflow_probability.python.distributions.transformed_distribution) with event_shape is deprecated and will be removed after 2020-06-01.\n",
      "Instructions for updating:\n",
      "`batch_shape` and `event_shape` args are deprecated. Please use `tfd.Sample`, `tfd.Independent`, and broadcasted parameters of the base distribution instead. For example, replace `tfd.TransformedDistribution(tfd.Normal(0., 1.), tfb.Exp(), batch_shape=[2, 3], event_shape=[4])` with `tfd.TransformedDistrbution(tfd.Sample(tfd.Normal(tf.zeros([2, 3]), 1.),sample_shape=[4]), tfb.Exp())` or `tfd.TransformedDistribution(tfd.Independent(tfd.Normal(tf.zeros([2, 3, 4]), 1.), reinterpreted_batch_ndims=1), tfb.Exp())`.\n",
      "2022-09-26 13:49:14.405862: W tensorflow/python/util/util.cc:348] Sets are not currently considered sequences, but this may change in the future, so consider avoiding using them.\n",
      "\n",
      "\n",
      "Using encoder for initial point\n",
      "\n",
      "--- Starting gradient descent in the latent space ---\n",
      "Maximum number of iterations: 300\n",
      "Number of Galaxies: 82\n",
      "Dimensions of latent space: 8\n"
     ]
    }
   ],
   "source": [
    "from maddeb.Deblender import Deblend\n",
    "import tensorflow as tf\n",
    "import tensorflow_probability as tfp\n",
    "\n",
    "madness_predictions = []\n",
    "for i in range(len(blend['blend_list'])):\n",
    "\n",
    "    current_field_predictions = []\n",
    "    blends = blend['blend_list'][i]\n",
    "    #print(blends)\n",
    "    detected_positions = []\n",
    "    for j in range(len(blends)):\n",
    "        detected_positions.append([blends['y_peak'][j], blends['x_peak'][j]])\n",
    "\n",
    "    deb = Deblend(field_images[i], \n",
    "                  detected_positions,\n",
    "                  latent_dim=latent_dim, \n",
    "                  num_components=len(blends), \n",
    "                  use_likelihood=True,\n",
    "                  linear_norm_coeff=linear_norm_coeff,\n",
    "                  max_iter=300)\n",
    "\n",
    "    # tf.config.run_functions_eagerly(False)\n",
    "    convergence_criterion = tfp.optimizer.convergence_criteria.LossNotDecreasing(\n",
    "        atol=0.00001 * 45 * 45 * len(blends) * 3, min_num_steps=50, window_size=20\n",
    "    )\n",
    "    # convergence_criterion = None\n",
    "    lr_scheduler = tf.keras.optimizers.schedules.ExponentialDecay(\n",
    "        initial_learning_rate=0.08, decay_steps=12, decay_rate=0.9, staircase=True\n",
    "    )\n",
    "    optimizer = tf.keras.optimizers.Adam(learning_rate=lr_scheduler)\n",
    "\n",
    "    deb(\n",
    "        convergence_criterion,\n",
    "        optimizer=optimizer,\n",
    "        use_debvader=True,\n",
    "        compute_sig_dynamically=False,\n",
    "    )\n",
    "    \n",
    "    padding_infos = deb.get_padding_infos()\n",
    "    for component_num in range(deb.num_components):\n",
    "        prediction = np.pad(deb.components[component_num], padding_infos[component_num])\n",
    "        prediction = np.transpose(prediction, axes=(2, 0, 1))\n",
    "        current_field_predictions.append(prediction)\n",
    "    madness_predictions.append(current_field_predictions)"
   ]
  },
  {
   "cell_type": "code",
   "execution_count": null,
   "id": "fcca44f2-7f13-455c-a6d1-ab5eeb36e164",
   "metadata": {},
   "outputs": [],
   "source": [
    "madness_predictions= np.array(madness_predictions)"
   ]
  },
  {
   "cell_type": "code",
   "execution_count": null,
   "id": "e1eabfd1-9cf2-48da-b066-91cf9db28ffe",
   "metadata": {},
   "outputs": [],
   "source": [
    "np.shape(madness_predictions)"
   ]
  },
  {
   "cell_type": "code",
   "execution_count": null,
   "id": "c12ccca8-81be-4b01-a2f9-01e956cede12",
   "metadata": {},
   "outputs": [],
   "source": [
    "from maddeb.extraction import extract_cutouts\n",
    "from maddeb.metrics import compute_pixel_covariance_and_flux, compute_pixel_covariance_and_fluxes"
   ]
  },
  {
   "cell_type": "code",
   "execution_count": null,
   "id": "3422a979-5721-44f9-9591-24ac150153be",
   "metadata": {
    "tags": []
   },
   "outputs": [],
   "source": [
    "madness_cov = []\n",
    "madness_actual_flux = []\n",
    "madness_predicted_flux = []\n",
    "for blend_number in range(len(field_images)):\n",
    "\n",
    "    current_galaxies = isolated_images[blend_number]\n",
    "    madness_res = compute_pixel_covariance_and_fluxes(madness_predictions[blend_number], current_galaxies, field_images[0])\n",
    "\n",
    "    madness_cov.append(madness_res[0])\n",
    "    madness_actual_flux.append(madness_res[1])\n",
    "    madness_predicted_flux.append(madness_res[2])"
   ]
  },
  {
   "cell_type": "markdown",
   "id": "8ee8bc64-4c5c-4384-8a81-b15a2d44b0a0",
   "metadata": {},
   "source": [
    "# Compare: Covariance matrix and flux reconstruction"
   ]
  },
  {
   "cell_type": "code",
   "execution_count": 20,
   "id": "008a44e9-2634-438f-a922-df7fcbbc800b",
   "metadata": {
    "tags": []
   },
   "outputs": [],
   "source": [
    "scarlet_cov = []\n",
    "scarlet_actual_flux = []\n",
    "scarlet_predicted_flux = []\n",
    "\n",
    "for blend_number in range(len(field_images)):\n",
    "\n",
    "    current_galaxies = isolated_images[blend_number]\n",
    "    scarlet_res = compute_pixel_covariance_and_fluxes(scarlet_predictions[blend_number], current_galaxies, field_images[0])\n",
    "\n",
    "    scarlet_cov.append(scarlet_res[0])\n",
    "    scarlet_actual_flux.append(scarlet_res[1])\n",
    "    scarlet_predicted_flux.append(scarlet_res[2])"
   ]
  },
  {
   "cell_type": "code",
   "execution_count": 21,
   "id": "9531d1a8-9e09-416b-b62e-55fd29699416",
   "metadata": {},
   "outputs": [
    {
     "data": {
      "text/plain": [
       "[array([0.99865769, 0.99841192, 0.58650616, 0.99821126, 0.99834988,\n",
       "        0.99793319, 0.87106199, 0.46834064, 0.99771054, 0.99667663,\n",
       "        0.9629612 , 0.9981223 , 0.99932915, 0.99551379, 0.99951426,\n",
       "        0.54568038, 0.99171019, 0.99959905, 0.99934214, 0.99894672,\n",
       "        0.99873689, 0.99656236, 0.99986562, 0.99959815, 0.9157861 ,\n",
       "        0.99806539, 0.99787393, 0.9964376 , 0.99952171, 0.99862944,\n",
       "        0.9963513 , 0.99665356, 0.99978243, 0.99877179, 0.99299135,\n",
       "        0.99855155, 0.99854148, 0.98286777, 0.88889079, 0.9987378 ,\n",
       "        0.99593487, 0.97487616, 0.93526361, 0.99945034, 0.99978071,\n",
       "        0.93566036, 0.99589483, 0.99987718, 0.67788388, 0.99966677,\n",
       "        0.99819792, 0.99859606, 0.94730248, 0.97395142, 0.2375987 ,\n",
       "        0.83949724, 0.20829437, 0.88626222, 0.94137852, 0.96801332,\n",
       "        0.98748675, 0.99117502, 0.99966135, 0.99985084, 0.90375759,\n",
       "        0.99903886, 0.59339463, 0.81641845, 0.99928642, 0.97738814,\n",
       "        0.98438977, 0.03066544, 0.4226724 , 0.9985009 , 0.93571329,\n",
       "        0.99787265, 0.85145541, 0.99404081, 0.98974022, 0.98203586,\n",
       "        0.99932577, 0.99770805])]"
      ]
     },
     "execution_count": 21,
     "metadata": {},
     "output_type": "execute_result"
    }
   ],
   "source": [
    "scarlet_cov"
   ]
  },
  {
   "cell_type": "code",
   "execution_count": 22,
   "id": "631f9f1f-9bff-4da5-86de-77c54132717e",
   "metadata": {},
   "outputs": [
    {
     "data": {
      "text/plain": [
       "(0.95, 1.0)"
      ]
     },
     "execution_count": 22,
     "metadata": {},
     "output_type": "execute_result"
    },
    {
     "data": {
      "image/png": "[encoded data removed]",
      "text/plain": [
       "<Figure size 432x288 with 1 Axes>"
      ]
     },
     "metadata": {
      "needs_background": "light"
     },
     "output_type": "display_data"
    }
   ],
   "source": [
    "bins = np.arange(.95, 1, .005)\n",
    "plt.hist(scarlet_cov, bins=bins, alpha=0.5, label=\"scarlet\");\n",
    "plt.hist(madness_cov, bins=bins, alpha=0.7, label=\"MADNESS\");\n",
    "plt.legend()\n",
    "plt.xlim([.95, 1])"
   ]
  },
  {
   "cell_type": "code",
   "execution_count": 23,
   "id": "b8bedede-c594-4aab-8c92-c617c79c6b40",
   "metadata": {
    "tags": []
   },
   "outputs": [],
   "source": [
    "scarlet_actual_flux = np.array(scarlet_actual_flux)\n",
    "scarlet_predicted_flux = np.array(scarlet_predicted_flux)\n",
    "\n",
    "scarlet_relative_difference= np.divide(scarlet_predicted_flux - scarlet_actual_flux, scarlet_actual_flux)"
   ]
  },
  {
   "cell_type": "code",
   "execution_count": 24,
   "id": "c67254a8-effe-4ceb-bb67-de5c58928b48",
   "metadata": {
    "tags": []
   },
   "outputs": [],
   "source": [
    "madness_actual_flux = np.array(madness_actual_flux)\n",
    "madness_predicted_flux = np.array(madness_predicted_flux)\n",
    "\n",
    "madness_relative_difference= np.divide(madness_predicted_flux - madness_actual_flux, madness_actual_flux)"
   ]
  },
  {
   "cell_type": "code",
   "execution_count": 25,
   "id": "f236626c-956e-43ef-ae5a-1cadd2fd6ef6",
   "metadata": {},
   "outputs": [
    {
     "data": {
      "text/plain": [
       "array([ 9.84369148e-02,  9.76423645e-02,  6.60713964e-02,  8.62732083e-02,\n",
       "        4.31097443e-02,  1.95971585e-01, -9.59188788e-03,  1.57482325e-02,\n",
       "       -3.07902396e-02, -9.19058124e-02, -4.67707482e-02, -6.11131194e-02,\n",
       "        1.25261933e+01,  1.03137139e+01,  9.76199765e+00,  9.58583834e+00,\n",
       "        1.09415935e+01,  8.97688370e+00,  1.23885698e-01,  3.82267321e-02,\n",
       "        6.40621494e-02,  8.06421931e-02,  5.95475864e-02, -1.66804856e-01,\n",
       "        9.04039080e-03,  4.39073338e-02,  1.85648860e-02, -2.74523533e-02,\n",
       "        7.78016667e-02, -2.31443649e-02,  1.01238095e-01,  1.33325698e-01,\n",
       "        1.08641196e-01,  1.23345176e-01,  6.60052733e-02,  1.32031455e-01,\n",
       "       -8.07388457e-02, -1.83473677e-01, -1.18779205e-01, -1.35287997e-02,\n",
       "       -2.08189415e-01, -8.33528567e-02,  8.13374403e+00,  8.17091562e+00,\n",
       "        8.21381342e+00,  7.80427949e+00,  7.79764417e+00,  7.84771655e+00,\n",
       "       -1.59825826e-01, -1.60606090e-01, -1.62323636e-01, -1.59395119e-01,\n",
       "       -1.59286159e-01, -1.62909959e-01,  1.00049135e-01,  1.77317733e-03,\n",
       "       -5.43300213e-03, -1.27204970e-02,  8.03579452e-02,  3.35935516e-02,\n",
       "       -3.02475070e-01, -3.11865011e-01, -3.05035571e-01, -2.98275166e-01,\n",
       "       -2.88885196e-01, -2.97727916e-01,  3.25507568e-02,  8.98873273e-02,\n",
       "        4.09338882e-02,  2.91041221e-02,  8.72608901e-02,  2.68524750e-01,\n",
       "        6.58600061e-03,  2.49299284e-02,  1.83853877e-02,  3.65208835e-02,\n",
       "        1.99711389e-02,  1.19423370e-01, -1.02109162e-01, -1.15957711e-01,\n",
       "       -9.39103617e-02, -5.71181369e-02, -8.10787868e-02, -1.59081430e-01,\n",
       "        3.29820767e-02,  4.37532050e-02,  3.86449785e-02,  6.51743729e-02,\n",
       "        3.87261984e-02, -2.43704353e-02,  5.43326817e+00,  5.11777393e+00,\n",
       "        4.36852834e+00,  4.23949742e+00,  4.43870201e+00,  6.16596767e+00,\n",
       "        1.20325230e-01,  1.01492481e-01,  1.15573437e-01,  1.65654195e-01,\n",
       "        1.49754995e-01,  1.05006172e-01,  2.67690621e-02,  1.48237128e-02,\n",
       "        1.97365657e-02,  1.63388006e-02,  1.54531422e-02, -2.75938366e-02,\n",
       "       -3.09660861e-03,  1.30047269e-02,  2.37776224e-02,  3.25893674e-02,\n",
       "       -9.67900460e-04, -2.68330330e-02, -4.63657371e-02, -1.17578637e-02,\n",
       "       -1.67369313e-02, -3.53223928e-02, -6.91139341e-03, -7.61948672e-02,\n",
       "        6.44700895e-02, -2.24337882e-02,  6.16472788e-03, -5.70156836e-02,\n",
       "        3.49780670e-02, -1.32161937e-02,  1.54990886e-01,  1.52709445e-01,\n",
       "        1.60978931e-01,  1.68529433e-01,  2.01182505e-01,  2.22154229e-01,\n",
       "       -3.09295568e-02, -4.62618522e-03, -1.43120998e-03,  3.59592937e-03,\n",
       "        3.37864068e-03, -6.40516631e-03,  2.18587219e-03,  2.01682056e-03,\n",
       "        8.66010554e-03,  1.78851052e-02,  1.21377234e-02,  7.86397108e-02,\n",
       "        6.68456556e-02,  1.28474468e-01,  8.06299209e-02,  1.86282314e-03,\n",
       "        1.96123745e-01,  2.57071427e-02,  5.86046147e-02,  3.80400351e-02,\n",
       "        2.14771065e-02, -1.39025538e-02,  1.35697126e-02,  2.39501860e-01,\n",
       "        1.43034992e-02,  8.08997259e-02,  5.22112138e-02,  6.93028477e-02,\n",
       "        4.85860514e-02,  2.69574365e-01,  8.44664475e-02,  8.72654940e-02,\n",
       "        1.01631117e-01,  1.29882169e-01,  1.47587860e-01,  5.06197071e-01,\n",
       "       -3.66475621e-02,  2.51300363e-02, -1.94123292e-03,  1.24673361e-02,\n",
       "        5.56632517e-02,  1.34562195e-01,  8.71087036e-03, -2.66385023e-03,\n",
       "        3.34714389e-02,  3.70783336e-02,  4.60767320e-02,  2.46210194e-01,\n",
       "        2.20096478e-01,  2.29287015e-01,  2.25149274e-01,  2.32838241e-01,\n",
       "        2.18312785e-01,  2.03190041e-01,  1.19142747e-01,  1.21304173e-01,\n",
       "        7.71265428e-02,  1.05293079e-01,  7.91731368e-02,  3.97730570e-01,\n",
       "       -3.17013426e-02, -1.63547103e-02, -3.10431853e-02, -3.36150495e-02,\n",
       "       -4.75689439e-02, -4.71683691e-03,  7.00477933e-02,  7.95069052e-02,\n",
       "        7.72952928e-02,  8.21229654e-02,  1.06322172e-01,  6.44592604e-03,\n",
       "       -1.07468235e-01, -9.83622820e-02, -1.10718469e-01,  5.34810540e-02,\n",
       "       -1.64455089e-01, -3.09623956e-01,  4.42901473e-02,  3.25788896e-02,\n",
       "        4.96119189e-02,  6.54700565e-02,  3.62931049e-02,  1.40477343e-02,\n",
       "        8.44647031e-02, -4.91704301e-04,  1.37024131e-02,  6.62543102e-02,\n",
       "       -6.05741745e-02,  1.40967941e-01,  5.11461472e-01,  5.10026467e-01,\n",
       "        4.85677772e-01,  4.53170315e-01,  5.41698353e-01,  7.41245576e-01,\n",
       "       -1.63861445e-01,  2.42943829e-01,  1.55956725e-01,  1.64014978e-01,\n",
       "        2.01306433e-02,  1.16307601e+00,  7.97310226e-02,  7.25273541e-02,\n",
       "        5.07163834e-02,  1.62280257e-02,  7.08878096e-02,  8.77501787e-02,\n",
       "       -5.27231079e-03, -1.44096600e-02, -1.65722996e-02, -3.41850977e-02,\n",
       "        9.57400685e-03,  7.42507524e-02,  6.81213105e-01,  5.16453885e-01,\n",
       "        5.11122358e-01,  4.57823836e-01,  4.83908451e-01,  2.83641628e-01,\n",
       "        4.98560706e-01,  3.99303720e-01,  4.10098944e-01,  3.98367680e-01,\n",
       "        6.46843016e-01,  5.55461108e-01,  5.88741220e-02,  9.69576829e-03,\n",
       "        6.99191462e-03, -2.54695910e-03,  3.36062792e-02,  1.35296152e-01,\n",
       "        1.87082642e-02,  9.13246760e-03,  1.49583924e-02,  1.32188152e-02,\n",
       "        1.80222497e-02, -1.93684396e-02,  9.54193619e-03, -1.43676405e-02,\n",
       "       -3.55642274e-03,  2.07637003e-03, -1.96314794e-02, -1.00285726e-02,\n",
       "        8.57256719e-02,  1.10641492e-01,  7.12025905e-02,  1.01845707e-01,\n",
       "        5.97301390e-02,  3.05842866e-01, -2.35865220e-02, -1.89854641e-02,\n",
       "       -1.65526446e-02, -1.56649245e-02, -1.31148405e-02, -1.84752205e-02,\n",
       "        5.08319019e+00,  5.34036592e+00,  5.24993022e+00,  5.08274396e+00,\n",
       "        4.98219711e+00,  5.55340904e+00,  1.51955646e-02,  5.77924069e-03,\n",
       "       -2.49099949e-03,  1.39583774e-02,  7.26741907e-02,  4.20193599e-02,\n",
       "        8.69055010e-02,  8.33799665e-02,  8.64346237e-02,  8.71730437e-02,\n",
       "        9.79881639e-02,  8.39477094e-02,  3.14607953e-02, -2.31397845e-03,\n",
       "        4.16779304e-02,  1.61493792e-02,  4.43331205e-02,  1.51022762e-01,\n",
       "        9.12854809e-01,  9.27508717e-01,  9.34499455e-01,  1.00013909e+00,\n",
       "        1.10587914e+00,  2.69899846e-01,  5.13061673e-01,  5.17051283e-01,\n",
       "        5.14202896e-01,  5.58099157e-01,  3.06710549e-01,  6.29921510e-01,\n",
       "       -5.00414688e-01, -6.69961555e-01, -8.32789474e-01, -8.11799644e-01,\n",
       "       -8.34262933e-01,  2.83066745e-02, -6.84537331e-01, -4.37654500e-01,\n",
       "       -3.55408670e-01, -3.69244868e-01, -3.24475702e-01,  3.85759504e-01,\n",
       "        2.29676439e+00,  3.01664668e+00,  3.62687331e+00,  3.17019043e+00,\n",
       "        3.25578288e+00,  3.80941522e+00,  2.63407142e-01, -1.32685397e-01,\n",
       "       -7.83220923e-02, -5.36206930e-02,  4.33977078e-02, -1.00000000e+00,\n",
       "        3.59862274e-01,  9.54039048e-01,  1.10754499e+00,  1.24628870e+00,\n",
       "        1.08565941e+00,  8.72615865e-01, -5.79222934e-02, -3.84733502e-02,\n",
       "       -4.78416274e-02, -4.53132678e-02, -3.02773403e-02, -3.02449231e-02,\n",
       "       -2.47520676e-01, -2.37351611e-01, -2.27876598e-01, -2.13894045e-01,\n",
       "       -2.75954924e-01, -2.83751083e-01, -2.15631667e-01, -1.57775799e-01,\n",
       "       -1.33429183e-01, -2.21765658e-01, -2.91261098e-01, -8.16261999e-02,\n",
       "       -5.78851639e-02, -4.95499810e-02, -4.71842422e-02, -4.20036233e-02,\n",
       "       -3.83700440e-02, -2.50790396e-02, -2.30243290e-02, -1.76350918e-02,\n",
       "       -1.72874873e-02, -1.89656269e-02, -2.13400882e-02, -1.17100001e-02,\n",
       "        8.60046468e-01,  5.40024440e-01,  4.27888718e-01,  4.66358627e-01,\n",
       "        4.53494685e-01, -1.84015327e-01,  9.15393452e-02,  7.28460816e-02,\n",
       "        6.92267624e-02,  7.79017753e-02,  9.27342884e-02,  1.24127230e-01,\n",
       "        7.59180146e+00,  9.08658482e+00,  9.59401202e+00,  1.02574813e+01,\n",
       "        9.24965044e+00,  7.76209170e+00,  2.85083492e+00,  3.69650937e+00,\n",
       "        3.39771093e+00,  3.27136534e+00,  3.57080420e+00,  3.61989739e+00,\n",
       "       -1.49492761e-02, -9.79357274e-03,  1.61676883e-02,  4.10273865e-02,\n",
       "        2.52066516e-02,  9.88089554e-02, -9.93847887e-04, -1.83571115e-01,\n",
       "       -1.15610418e-01, -6.29596606e-02, -1.49731924e-01, -2.63962968e-01,\n",
       "        3.50972499e-01,  3.30962674e-01,  3.20745668e-01,  3.28009045e-01,\n",
       "        3.33283743e-01,  3.48372194e-01, -1.00000000e+00, -9.98673594e-01,\n",
       "       -9.99997313e-01, -9.99030611e-01, -9.99301474e-01, -9.99999928e-01,\n",
       "        2.52639746e+01,  2.51827167e+01,  2.55358537e+01,  2.56107853e+01,\n",
       "        2.52276219e+01,  2.43283813e+01,  8.74806112e-02,  7.56296868e-02,\n",
       "        4.02348962e-02,  4.11216507e-02,  1.03033014e-01, -2.04622996e-02,\n",
       "       -3.80229539e-01, -3.85098963e-01, -3.89896027e-01, -3.94519804e-01,\n",
       "       -3.84083546e-01, -3.57167108e-01,  6.45828489e-02,  1.01465327e-01,\n",
       "        6.83012839e-02,  9.39817155e-02,  6.75281457e-02, -6.33990370e-02,\n",
       "        1.25562381e+00,  1.36955315e+00,  1.37404116e+00,  1.36723246e+00,\n",
       "        1.60971029e+00,  1.12186924e+00, -2.78133863e-02, -2.79034227e-02,\n",
       "       -3.00947970e-02, -3.16362482e-02, -3.38086294e-02, -3.32203983e-02,\n",
       "       -3.30467459e-01, -2.88932479e-01, -2.67875479e-01, -2.61580892e-01,\n",
       "       -3.66459678e-01, -3.88363141e-01, -7.03262853e-01, -5.21793006e-01,\n",
       "       -5.05213113e-01, -4.62859553e-01, -4.67234128e-01, -3.63443219e-01,\n",
       "       -4.58737925e-02, -3.03640739e-02, -5.01830958e-02, -4.49891647e-02,\n",
       "       -7.81727056e-02,  1.99586641e-02, -1.71023845e-01, -1.68690623e-01,\n",
       "       -1.75826228e-01, -1.71079388e-01, -1.71045285e-01, -1.74774348e-01])"
      ]
     },
     "execution_count": 25,
     "metadata": {},
     "output_type": "execute_result"
    }
   ],
   "source": [
    "scarlet_relative_difference[np.logical_not(np.isnan(scarlet_relative_difference))].reshape(-1)"
   ]
  },
  {
   "cell_type": "code",
   "execution_count": 26,
   "id": "bd9ff82d-a45b-4463-8156-f5bc91a86b06",
   "metadata": {},
   "outputs": [
    {
     "data": {
      "text/plain": [
       "True"
      ]
     },
     "execution_count": 26,
     "metadata": {},
     "output_type": "execute_result"
    }
   ],
   "source": [
    "np.array_equal(madness_actual_flux, scarlet_actual_flux)"
   ]
  },
  {
   "cell_type": "code",
   "execution_count": 27,
   "id": "d6917758-a6c4-4f7d-a358-91b4309e2dac",
   "metadata": {},
   "outputs": [],
   "source": [
    "from scipy.optimize import curve_fit\n",
    "def gauss(x, sig, mu):\n",
    "    return 1/np.sqrt(2.*np.pi)/sig*np.exp(-0.5*(x-mu)**2/sig**2)\n",
    "\n",
    "n_bins=100\n",
    "hist, bin_tmp = np.histogram(madness_relative_difference, n_bins, density=True)\n",
    "bins = np.mean((bin_tmp[:-1], bin_tmp[1:]), 0)\n",
    "madness_fit = curve_fit(gauss, bins, hist, p0=[np.std(bins), np.mean(bins)])\n",
    "\n",
    "hist, bin_tmp = np.histogram(scarlet_relative_difference, n_bins, density=True)\n",
    "bins = np.mean((bin_tmp[:-1], bin_tmp[1:]), 0)\n",
    "scarlet_fit = curve_fit(gauss, bins, hist, p0=[np.std(bins), np.mean(bins)])"
   ]
  },
  {
   "cell_type": "code",
   "execution_count": 28,
   "id": "005fde2e-d1e9-4f6a-916b-494d1e6b49ac",
   "metadata": {},
   "outputs": [
    {
     "data": {
      "text/plain": [
       "(array([ 0.10616617, -0.02168849]),\n",
       " array([[2.85198852e-06, 8.18221390e-07],\n",
       "        [8.18221390e-07, 1.23400323e-05]]))"
      ]
     },
     "execution_count": 28,
     "metadata": {},
     "output_type": "execute_result"
    }
   ],
   "source": [
    "madness_fit"
   ]
  },
  {
   "cell_type": "code",
   "execution_count": 29,
   "id": "aea67eb1-5bc6-498e-a5da-6f17332d3a58",
   "metadata": {},
   "outputs": [
    {
     "data": {
      "text/plain": [
       "array([-0.86694607, -0.60083822, -0.33473037, -0.06862251,  0.19748534,\n",
       "        0.46359319,  0.72970105,  0.9958089 ,  1.26191675,  1.52802461,\n",
       "        1.79413246,  2.06024031,  2.32634817,  2.59245602,  2.85856387,\n",
       "        3.12467173,  3.39077958,  3.65688743,  3.92299529,  4.18910314,\n",
       "        4.45521099,  4.72131885,  4.9874267 ,  5.25353455,  5.51964241,\n",
       "        5.78575026,  6.05185811,  6.31796597,  6.58407382,  6.85018167,\n",
       "        7.11628952,  7.38239738,  7.64850523,  7.91461308,  8.18072094,\n",
       "        8.44682879,  8.71293664,  8.9790445 ,  9.24515235,  9.5112602 ,\n",
       "        9.77736806, 10.04347591, 10.30958376, 10.57569162, 10.84179947,\n",
       "       11.10790732, 11.37401518, 11.64012303, 11.90623088, 12.17233874,\n",
       "       12.43844659, 12.70455444, 12.9706623 , 13.23677015, 13.502878  ,\n",
       "       13.76898586, 14.03509371, 14.30120156, 14.56730942, 14.83341727,\n",
       "       15.09952512, 15.36563298, 15.63174083, 15.89784868, 16.16395654,\n",
       "       16.43006439, 16.69617224, 16.9622801 , 17.22838795, 17.4944958 ,\n",
       "       17.76060366, 18.02671151, 18.29281936, 18.55892722, 18.82503507,\n",
       "       19.09114292, 19.35725078, 19.62335863, 19.88946648, 20.15557434,\n",
       "       20.42168219, 20.68779004, 20.9538979 , 21.22000575, 21.4861136 ,\n",
       "       21.75222145, 22.01832931, 22.28443716, 22.55054501, 22.81665287,\n",
       "       23.08276072, 23.34886857, 23.61497643, 23.88108428, 24.14719213,\n",
       "       24.41329999, 24.67940784, 24.94551569, 25.21162355, 25.4777314 ])"
      ]
     },
     "execution_count": 29,
     "metadata": {},
     "output_type": "execute_result"
    }
   ],
   "source": [
    "bins"
   ]
  },
  {
   "cell_type": "code",
   "execution_count": 30,
   "id": "5960aa02-3c0a-47b2-b795-12274ccf72a7",
   "metadata": {},
   "outputs": [
    {
     "data": {
      "image/png": "[encoded data removed]",
      "text/plain": [
       "<Figure size 720x504 with 1 Axes>"
      ]
     },
     "metadata": {},
     "output_type": "display_data"
    }
   ],
   "source": [
    "import seaborn as sns\n",
    "from scipy.stats import norm\n",
    "#print(madness_relative_difference[np.logical_not(np.isinf(madness_relative_difference))].reshape(-1))\n",
    "sns.set_theme(style={\"axes.grid\": True,\n",
    "                     'axes.labelcolor': 'black',\n",
    "                     'figure.facecolor': '1',\n",
    "                     'xtick.color': 'black',\n",
    "                     'ytick.color': 'black',\n",
    "                     'text.color': 'black',\n",
    "                     'image.cmap': 'viridis',})\n",
    "plt.figure(figsize=(10,7))\n",
    "bins = np.arange(-.5,.5, .01)\n",
    "plt.hist(madness_relative_difference[np.logical_not(np.isnan(madness_relative_difference))].reshape(-1), bins=bins, density=True, alpha=0.7, color=\"coral\", label=\"MADNESS\");\n",
    "plt.plot(bins, norm.pdf(bins, madness_fit[0][1], madness_fit[0][0]), color=\"coral\")\n",
    "plt.hist(scarlet_relative_difference[np.logical_not(np.isnan(scarlet_relative_difference))].reshape(-1), bins=bins, density=True, alpha=0.5, color=\"cornflowerblue\", label=\"scarlet\");\n",
    "plt.plot(bins, norm.pdf(bins, scarlet_fit[0][1], scarlet_fit[0][0]), color=\"cornflowerblue\")\n",
    "plt.legend(fontsize=20)\n",
    "ax=plt.gca()\n",
    "plt.xlabel(\"relative flux reconstruction error\", fontsize=20)\n",
    "ax.tick_params(labelsize=15)\n",
    "plt.ylabel(\"number of galaxies\", fontsize=20)\n",
    "plt.xlim([-.5,.5])\n",
    "plt.savefig(\"flux_err\", transparent=True)"
   ]
  },
  {
   "cell_type": "code",
   "execution_count": 31,
   "id": "f658d090-dfd7-45f0-b170-452be8184027",
   "metadata": {},
   "outputs": [
    {
     "name": "stdout",
     "output_type": "stream",
     "text": [
      "25.610785327299343\n",
      "-1.0\n"
     ]
    }
   ],
   "source": [
    "print(np.amax(scarlet_relative_difference[np.logical_not(np.isnan(scarlet_relative_difference))]))\n",
    "print(np.amin(scarlet_relative_difference[np.logical_not(np.isnan(scarlet_relative_difference))]))"
   ]
  },
  {
   "cell_type": "code",
   "execution_count": 32,
   "id": "9e742fe5-830c-4a58-ac1f-c029e81e21b0",
   "metadata": {},
   "outputs": [
    {
     "name": "stdout",
     "output_type": "stream",
     "text": [
      "17.705827852151472\n",
      "-0.4689399593580199\n"
     ]
    }
   ],
   "source": [
    "print(np.amax(madness_relative_difference[np.logical_not(np.isnan(madness_relative_difference))]))\n",
    "print(np.amin(madness_relative_difference[np.logical_not(np.isnan(madness_relative_difference))]))"
   ]
  },
  {
   "cell_type": "markdown",
   "id": "d4a97732-10ff-4dd5-90a1-c4dd04159186",
   "metadata": {},
   "source": [
    "# Compute Apperture photometry"
   ]
  },
  {
   "cell_type": "code",
   "execution_count": 33,
   "id": "3f23add4-43ff-410d-a1dc-524719f3c874",
   "metadata": {},
   "outputs": [],
   "source": [
    "from maddeb.metrics import compute_apperture_photometry"
   ]
  },
  {
   "cell_type": "code",
   "execution_count": 34,
   "id": "b23eca9f-fb09-4fc8-bf7c-65a2c161724c",
   "metadata": {},
   "outputs": [
    {
     "data": {
      "image/png": "[encoded data removed]",
      "text/plain": [
       "<Figure size 720x504 with 1 Axes>"
      ]
     },
     "metadata": {},
     "output_type": "display_data"
    }
   ],
   "source": [
    "actual_residual_field = blend[\"blend_images\"][0]\n",
    "scarlet_residual_field = blend[\"blend_images\"][0]\n",
    "\n",
    "for i in range(len(scarlet_predictions[0])):\n",
    "    actual_residual_field = actual_residual_field - blend[\"isolated_images\"][0][i]\n",
    "    scarlet_residual_field = scarlet_residual_field - scarlet_predictions[0][i]\n",
    "\n",
    "padding_infos = deb.get_padding_infos()\n",
    "madness_residual_field = deb.compute_residual(\n",
    "    blend[\"blend_images\"][0], use_scatter_and_sub=True\n",
    ").numpy()\n",
    "\n",
    "bkg_rms = {}\n",
    "for band in range(6):\n",
    "    bkg_rms[band] = sep.Background(blend[\"blend_images\"][0][band]).globalrms\n",
    "\n",
    "actual_gal_fluxes, actual_gal_fluxerrs, actual_gal_flags = compute_apperture_photometry(\n",
    "    residual_field=actual_residual_field,\n",
    "    predictions=blend[\"isolated_images\"][0],\n",
    "    xpos=blend[\"blend_list\"][0][\"x_peak\"],\n",
    "    ypos=blend[\"blend_list\"][0][\"y_peak\"],\n",
    "    bkg_rms=bkg_rms,\n",
    ")\n",
    "\n",
    "(\n",
    "    madness_gal_fluxes,\n",
    "    madness_gal_fluxerrs,\n",
    "    madness_gal_flags,\n",
    ") = compute_apperture_photometry(\n",
    "    residual_field=np.transpose(madness_residual_field,  axes=(2, 0, 1)),\n",
    "    predictions=madness_predictions[0],\n",
    "    xpos=blend[\"blend_list\"][0][\"x_peak\"],\n",
    "    ypos=blend[\"blend_list\"][0][\"y_peak\"],\n",
    "    bkg_rms=bkg_rms,\n",
    ")\n",
    "\n",
    "(\n",
    "    scarlet_gal_fluxes,\n",
    "    scarlet_gal_fluxerrs,\n",
    "    scarlet_gal_flags,\n",
    ") = compute_apperture_photometry(\n",
    "    residual_field=scarlet_residual_field,\n",
    "    predictions=scarlet_predictions[0],\n",
    "    xpos=blend[\"blend_list\"][0][\"x_peak\"],\n",
    "    ypos=blend[\"blend_list\"][0][\"y_peak\"],\n",
    "    bkg_rms=bkg_rms,\n",
    ")\n",
    "\n",
    "plt.figure(figsize=(10, 7))\n",
    "bins = np.arange(0, 1, 0.005)\n",
    "plt.hist(\n",
    "    np.abs((madness_gal_fluxes - actual_gal_fluxes) / actual_gal_fluxes),\n",
    "    bins=bins,\n",
    "    alpha=0.5,\n",
    "    label=\"MADNESS\",\n",
    ")\n",
    "\n",
    "plt.hist(\n",
    "    np.abs((scarlet_gal_fluxes - actual_gal_fluxes) / actual_gal_fluxes),\n",
    "    bins=bins,\n",
    "    alpha=0.5,\n",
    "    label=\"scarlet\",\n",
    ")\n",
    "\n",
    "plt.legend(fontsize=20)\n",
    "\n",
    "plt.savefig(\"aperturephoto\")\n"
   ]
  },
  {
   "cell_type": "code",
   "execution_count": null,
   "id": "8201833c-243c-4d71-9493-0b6e25dfa6ad",
   "metadata": {},
   "outputs": [],
   "source": []
  }
 ],
 "metadata": {
  "kernelspec": {
   "display_name": "madness",
   "language": "python",
   "name": "madness"
  },
  "language_info": {
   "codemirror_mode": {
    "name": "ipython",
    "version": 3
   },
   "file_extension": ".py",
   "mimetype": "text/x-python",
   "name": "python",
   "nbconvert_exporter": "python",
   "pygments_lexer": "ipython3",
   "version": "3.8.13"
  }
 },
 "nbformat": 4,
 "nbformat_minor": 5
}
