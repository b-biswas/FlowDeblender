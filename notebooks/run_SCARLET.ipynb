{
 "cells": [
  {
   "cell_type": "code",
   "execution_count": 1,
   "id": "14583d92-5128-4ea7-8350-042c51f13c05",
   "metadata": {},
   "outputs": [],
   "source": [
    "%load_ext autoreload\n",
    "%autoreload 2\n",
    "\n",
    "import astropy\n",
    "import galsim\n",
    "import matplotlib.pyplot as plt\n",
    "import numpy as np\n",
    "import scarlet\n",
    "import sep\n",
    "\n",
    "import btk"
   ]
  },
  {
   "cell_type": "code",
   "execution_count": 2,
   "id": "e726d59a-2cba-4719-bbcd-e4de6b4daa06",
   "metadata": {},
   "outputs": [],
   "source": [
    "COSMOS_CATALOG_PATHS = [\n",
    "    \"/sps/lsst/users/bbiswas/COSMOS_catalog/COSMOS_25.2_training_sample/real_galaxy_catalog_25.2.fits\",\n",
    "    \"/sps/lsst/users/bbiswas/COSMOS_catalog/COSMOS_25.2_training_sample/real_galaxy_catalog_25.2_fits.fits\",\n",
    "]\n",
    "\n",
    "\n",
    "stamp_size = 100\n",
    "max_number = 60\n",
    "batch_size = 1\n",
    "max_shift = 44\n",
    "catalog = btk.catalog.CosmosCatalog.from_file(COSMOS_CATALOG_PATHS)\n",
    "survey = btk.survey.get_surveys(\"LSST\")\n",
    "seed=3\n",
    "\n",
    "import galsim \n",
    "galsim_catalog = galsim.COSMOSCatalog(COSMOS_CATALOG_PATHS[0], exclusion_level=\"marginal\")\n",
    "\n",
    "sampling_function = btk.sampling_functions.DefaultSampling(max_number=max_number, maxshift=max_shift, stamp_size=stamp_size, seed=seed)\n",
    "\n",
    "draw_generator = btk.draw_blends.CosmosGenerator(\n",
    "    catalog,\n",
    "    sampling_function,\n",
    "    survey,\n",
    "    batch_size=batch_size,\n",
    "    stamp_size=stamp_size,\n",
    "    cpus=1,\n",
    "    add_noise=\"all\",\n",
    "    verbose=False,\n",
    "    gal_type=\"parametric\",\n",
    "    seed=seed,\n",
    ")"
   ]
  },
  {
   "cell_type": "code",
   "execution_count": 3,
   "id": "83bbb009-9b82-4a10-b553-f26a6e6e8be1",
   "metadata": {},
   "outputs": [
    {
     "data": {
      "application/vnd.jupyter.widget-view+json": {
       "model_id": "01e6b94a46154da38335152789bdd445",
       "version_major": 2,
       "version_minor": 0
      },
      "text/plain": [
       "Generating blends for LSST survey:   0%|          | 0/1 [00:00<?, ?it/s]"
      ]
     },
     "metadata": {},
     "output_type": "display_data"
    }
   ],
   "source": [
    "blend = next(draw_generator)"
   ]
  },
  {
   "cell_type": "code",
   "execution_count": 4,
   "id": "97521558-979c-4dee-babc-1248a4f747f9",
   "metadata": {},
   "outputs": [],
   "source": [
    "field_images = blend[\"blend_images\"]\n",
    "isolated_images = blend[\"isolated_images\"]"
   ]
  },
  {
   "cell_type": "code",
   "execution_count": 5,
   "id": "8b2363c8-f5ef-4238-86e3-8621abda5b9b",
   "metadata": {},
   "outputs": [],
   "source": [
    "def compute_pixel_covariance_and_flux(predicted_galaxy, simulated_galaxy, field_image):\n",
    "    ground_truth_pixels = []\n",
    "    predicted_pixels = []\n",
    "    sig = []\n",
    "    \n",
    "    actual_flux = []\n",
    "    predicted_flux = []\n",
    "\n",
    "    for band_number in range(len(bands)):\n",
    "        sig.append(sep.Background(field_image[band_number]).globalrms)\n",
    "        #print(sig[band_number])\n",
    "        mask1 = simulated_galaxy[band_number]>0 * sig[band_number]\n",
    "        mask2 = predicted_galaxy[band_number]>0 * sig[band_number]\n",
    "        mask = np.logical_or(mask1, mask2)\n",
    "#             fig, ax = plt.subplots(1, 2)\n",
    "#             plt.subplot(1,2,1)\n",
    "#             plt.imshow(cutout_galaxy[:, :, band_number])\n",
    "#             plt.subplot(1, 2, 2)\n",
    "#             plt.imshow(madness_predictions[blend_number][galaxy_number][band_number])\n",
    "#             plt.show()\n",
    "        ground_truth_pixels.extend(simulated_galaxy[band_number][mask])\n",
    "        predicted_pixels.extend(predicted_galaxy[band_number][mask])\n",
    "        \n",
    "        actual_flux.append(np.sum(simulated_galaxy[band_number][mask1]))\n",
    "        predicted_flux.append(np.sum(predicted_galaxy[band_number][mask2]))\n",
    "                              \n",
    "    pixel_covariance = np.sum(np.multiply(predicted_pixels, ground_truth_pixels))/(np.sqrt(np.sum(np.square(predicted_pixels)))*np.sqrt(np.sum(np.square(ground_truth_pixels))))\n",
    "\n",
    "    return pixel_covariance, actual_flux, predicted_flux"
   ]
  },
  {
   "cell_type": "markdown",
   "id": "37e72b11-dc60-4d0f-955f-2f77e0fa50e2",
   "metadata": {},
   "source": [
    "# Use Scarlet"
   ]
  },
  {
   "cell_type": "code",
   "execution_count": 6,
   "id": "3f0dd345-0704-4a9c-90c4-b4d354c5a306",
   "metadata": {},
   "outputs": [
    {
     "data": {
      "text/plain": [
       "(1, 6, 500, 500)"
      ]
     },
     "execution_count": 6,
     "metadata": {},
     "output_type": "execute_result"
    }
   ],
   "source": [
    "np.shape(field_images)"
   ]
  },
  {
   "cell_type": "code",
   "execution_count": 7,
   "id": "6566bd77-829d-4cc4-96fe-eb134e59d954",
   "metadata": {},
   "outputs": [],
   "source": [
    "psf = np.array([p.drawImage(galsim.Image(field_images[0].shape[1],field_images[0].shape[2]),scale=survey.pixel_scale.to_value(\"arcsec\")).array for p in blend[\"psf\"]])\n",
    "bands=[f for f in survey._filters]\n",
    "wcs = blend[\"wcs\"]"
   ]
  },
  {
   "cell_type": "code",
   "execution_count": 8,
   "id": "90d54cd3-1626-46d8-96b8-addd85fa2dab",
   "metadata": {},
   "outputs": [],
   "source": [
    "import scarlet.psf\n",
    "from scarlet.psf import ImagePSF"
   ]
  },
  {
   "cell_type": "code",
   "execution_count": 9,
   "id": "adfb36f1-27ce-41e7-bea1-5c898c424ed5",
   "metadata": {},
   "outputs": [],
   "source": [
    "def predict_with_scarlet(image, x_pos, y_pos, show_scene, show_sources, filters):\n",
    "    sig = []\n",
    "    weights = np.ones_like(image)\n",
    "    for i in range(6):\n",
    "        sig.append(sep.Background(image[i]).globalrms)\n",
    "        weights[i] = weights[i] / (sig[i]**2)\n",
    "    observation = scarlet.Observation(\n",
    "            image, psf=scarlet.psf.ImagePSF(psf), weights= weights, channels=bands, wcs=wcs\n",
    "        )\n",
    "    \n",
    "    model_psf = scarlet.GaussianPSF(sigma=(0.8,) * len(filters))\n",
    "    model_frame = scarlet.Frame(\n",
    "    image.shape,\n",
    "    psf=model_psf,\n",
    "    channels=filters, wcs=wcs)\n",
    "\n",
    "    \n",
    "    observation = observation.match(model_frame)\n",
    "    sources = []\n",
    "    for i in range(len(x_pos)):\n",
    "        result = scarlet.ExtendedSource(\n",
    "            model_frame,\n",
    "            model_frame.get_sky_coord((x_pos[i], y_pos[i])),\n",
    "            observation,\n",
    "            thresh=1,\n",
    "            shifting=True,\n",
    "        )\n",
    "        sources.append(result)\n",
    "\n",
    "    scarlet.initialization.set_spectra_to_match(sources, observation)\n",
    "    \n",
    "    scarlet_blend = scarlet.Blend(sources, observation)\n",
    "    \n",
    "    %time it, logL = scarlet_blend.fit(200, e_rel=1e-5)\n",
    "    #print(f\"scarlet ran for {it} iterations to logL = {logL}\")\n",
    "    #scarlet.display.show_likelihood(scarlet_blend)\n",
    "    #plt.show()\n",
    "    \n",
    "    if show_scene:\n",
    "        scarlet.display.show_scene(sources,\n",
    "                           norm=None,\n",
    "                           observation=observation,\n",
    "                           show_rendered=True,\n",
    "                           show_observed=True,\n",
    "                           show_residual=True)\n",
    "        \n",
    "        plt.show()\n",
    "    \n",
    "    if show_sources:\n",
    "        scarlet.display.show_sources(sources,\n",
    "                                 norm=None,\n",
    "                                 observation=observation,\n",
    "                                 show_rendered=True,\n",
    "                                 show_observed=True,\n",
    "                                 add_boxes=True\n",
    "                                )\n",
    "        plt.show()\n",
    "    \n",
    "    predicted_sources = []\n",
    "    for src in sources:\n",
    "        predicted_sources.append(observation.render(src.get_model(frame=model_frame)))\n",
    "    #print(np.shape(src.get_model(frame=model_frame)))\n",
    "    return predicted_sources"
   ]
  },
  {
   "cell_type": "code",
   "execution_count": 10,
   "id": "39bbfc78-09d5-4734-abe1-b0c73794f2f1",
   "metadata": {},
   "outputs": [],
   "source": [
    "image = field_images[0]"
   ]
  },
  {
   "cell_type": "code",
   "execution_count": 11,
   "id": "b5b635fb-c107-4b3c-8ec9-ade53ba097b9",
   "metadata": {},
   "outputs": [],
   "source": [
    "x_pos = blend['blend_list'][0]['y_peak']\n",
    "y_pos = blend['blend_list'][0]['x_peak']"
   ]
  },
  {
   "cell_type": "code",
   "execution_count": 12,
   "id": "bfa82574-414e-4ab9-9f86-a4313a1774e4",
   "metadata": {
    "tags": []
   },
   "outputs": [],
   "source": [
    "#model = predict_with_scarlet(image, x_pos=x_pos, y_pos=y_pos, show_scene=True, show_sources=True, filters=bands)"
   ]
  },
  {
   "cell_type": "code",
   "execution_count": 13,
   "id": "43988da1-8b9c-4cad-8729-4abb2e5feaa5",
   "metadata": {},
   "outputs": [],
   "source": [
    "#plt.imshow(model[0][2])"
   ]
  },
  {
   "cell_type": "code",
   "execution_count": 14,
   "id": "3265b821-56db-43a9-ae5c-eaf76861f2b1",
   "metadata": {
    "tags": []
   },
   "outputs": [
    {
     "name": "stdout",
     "output_type": "stream",
     "text": [
      "CPU times: user 41.2 s, sys: 21.7 s, total: 1min 2s\n",
      "Wall time: 1min 2s\n"
     ]
    }
   ],
   "source": [
    "scarlet_predictions=[]\n",
    "for i, image in enumerate(field_images):\n",
    "    image = field_images[i]\n",
    "    x_pos = blend['blend_list'][i]['y_peak']\n",
    "    y_pos = blend['blend_list'][i]['x_peak']\n",
    "    predicted_sources = predict_with_scarlet(image, x_pos=x_pos, y_pos=y_pos, show_scene=False, show_sources=False, filters=bands)\n",
    "    scarlet_predictions.append(predicted_sources)"
   ]
  },
  {
   "cell_type": "code",
   "execution_count": 16,
   "id": "c56d980b-7fd2-4987-a579-e648689ec703",
   "metadata": {},
   "outputs": [
    {
     "name": "stdout",
     "output_type": "stream",
     "text": [
      "[0.9985434615918748, 0.9961349289111954, 0.9908217435125237, 0.9983317951783361, 0.999708913586973, 0.9983715222906828, 0.9977827819949683, 0.9954039513690053, 0.9960699822456909, 0.9994924486359339, 0.9966059780103118, 0.995937573184579, 0.9953520205677886, 0.997945854936406, 0.9969232573121592, 0.9993267833048887, 0.9974410935018544, 0.9983803734687577, 0.9951533295393991, 0.9661557554816765, 0.9989942145623887, 0.9981261517959953, 0.9985551605615065, 0.9978299093046928, 0.9950805507633195, 0.9981472519307887, 0.995861860796629, 0.9978471824528472, 0.9963992969302978, 0.999014757303596, 0.9927747140627198, 0.9982234832224552, 0.9977763406870274, 0.9764139057406432, 0.9908793508525549, 0.9990689838515514, 0.9972005555163868, 0.9979883366449777, 0.99187470259957, 0.9969566023418532, 0.9955106002802034, 0.9921793487672178, 0.9990064119107277, 0.9966304024055342, 0.9951308276143516, 0.5836721523683478, 0.9973841365816105, 0.9991886568121585, 0.9979355732202885]\n"
     ]
    }
   ],
   "source": [
    "print(scarlet_cov)"
   ]
  },
  {
   "cell_type": "markdown",
   "id": "2ee9b3a6-48e2-43d1-8c2b-422421ab4443",
   "metadata": {},
   "source": [
    "# Use MADNESS"
   ]
  },
  {
   "cell_type": "code",
   "execution_count": 101,
   "id": "49496b32-d215-4495-9cfe-12bb9363c179",
   "metadata": {
    "tags": []
   },
   "outputs": [
    {
     "name": "stderr",
     "output_type": "stream",
     "text": [
      "\n",
      "--- Starting gradient descent in the latent space ---\n",
      "Maximum number of iterations: 300\n",
      "Number of Galaxies: 49\n",
      "Dimensions of latent space: 8\n",
      "--- Gradient descent complete ---\n",
      "\n",
      "Time taken for gradient descent: 48.31159853935242\n"
     ]
    }
   ],
   "source": [
    "import sys \n",
    "sys.path.insert(0,'../')\n",
    "from scripts.Deblender import Deblend\n",
    "import tensorflow as tf\n",
    "import tensorflow_probability as tfp\n",
    "\n",
    "\n",
    "madness_predictions = []\n",
    "for i in range(len(blend['blend_list'])):\n",
    "    blends = blend['blend_list'][i]\n",
    "    #print(blends)\n",
    "    detected_positions = []\n",
    "    for j in range(len(blends)):\n",
    "        detected_positions.append([blends['y_peak'][j], blends['x_peak'][j]])\n",
    "\n",
    "    deb = Deblend(field_images[i]/80000, \n",
    "                  detected_positions,\n",
    "                  latent_dim=8, \n",
    "                  num_components=len(blends), \n",
    "                  use_likelihood=True, \n",
    "                  max_iter=300)\n",
    "    #tf.config.run_functions_eagerly(False)\n",
    "    convergence_criterion = tfp.optimizer.convergence_criteria.LossNotDecreasing(atol=.0000001*45*45*len(blends)*3, min_num_steps=50, window_size=20)\n",
    "    #convergence_criterion = None\n",
    "    lr_scheduler = tf.keras.optimizers.schedules.ExponentialDecay(initial_learning_rate=0.05, decay_steps=15, decay_rate=0.8, staircase=True)\n",
    "    optimizer=tf.keras.optimizers.RMSprop(learning_rate=lr_scheduler, momentum=0.05)\n",
    "\n",
    "    deb(convergence_criterion, optimizer=optimizer, use_deblender=False, compute_sig_dynamically=False)\n",
    "    madness_predictions.append(deb.get_components()*80000)\n",
    "    del(deb)"
   ]
  },
  {
   "cell_type": "code",
   "execution_count": 102,
   "id": "e1eabfd1-9cf2-48da-b066-91cf9db28ffe",
   "metadata": {},
   "outputs": [
    {
     "data": {
      "text/plain": [
       "(49, 6, 45, 45)"
      ]
     },
     "execution_count": 102,
     "metadata": {},
     "output_type": "execute_result"
    }
   ],
   "source": [
    "np.shape(madness_predictions[0])"
   ]
  },
  {
   "cell_type": "code",
   "execution_count": 103,
   "id": "c12ccca8-81be-4b01-a2f9-01e956cede12",
   "metadata": {},
   "outputs": [],
   "source": [
    "import sys \n",
    "sys.path.insert(0,'../')\n",
    "from scripts.extraction import extract_cutouts"
   ]
  },
  {
   "cell_type": "code",
   "execution_count": 104,
   "id": "3422a979-5721-44f9-9591-24ac150153be",
   "metadata": {
    "tags": []
   },
   "outputs": [],
   "source": [
    "cov_madness = []\n",
    "madness_actual_flux = []\n",
    "madness_predicted_flux = []\n",
    "for blend_number in range(len(field_images)):\n",
    "    blends_meta_data = blend['blend_list'][blend_number]\n",
    "    #print(blends)\n",
    "    \n",
    "    for galaxy_number in range(len(blends_meta_data)):\n",
    "        detected_position = [[blends_meta_data['y_peak'][galaxy_number], blends_meta_data['x_peak'][galaxy_number]]]\n",
    "        distances_to_center = list(\n",
    "            np.array(detected_position) - int((np.shape(field_images[0])[1] - 1) / 2)\n",
    "        )\n",
    "        cutout_galaxy, idx = extract_cutouts(isolated_images[blend_number][galaxy_number], distances_to_center, cutout_size=45)\n",
    "        #print(idx)\n",
    "        if idx == [] :\n",
    "            continue\n",
    "        cutout_galaxy = cutout_galaxy[0]\n",
    "        cutout_galaxy = np.transpose(cutout_galaxy, axes=(2, 0, 1))\n",
    "        #print(np.shape(cutout_galaxy))\n",
    "        ground_truth_pixels = []\n",
    "        predicted_pixels = []\n",
    "        sig = []\n",
    "#         fig, ax = plt.subplots(1, 2)\n",
    "#         plt.subplot(1,2,1)\n",
    "#         plt.imshow(cutout_galaxy[band_number])\n",
    "#         plt.subplot(1, 2, 2)\n",
    "#         plt.imshow(madness_predictions[blend_number][galaxy_number][band_number])\n",
    "#         plt.show()\n",
    "        cov, actual, predicted = compute_pixel_covariance_and_flux(madness_predictions[blend_number][galaxy_number], cutout_galaxy, field_images[0])\n",
    "        \n",
    "        cov_madness.append(cov)\n",
    "        madness_actual_flux.append(actual)\n",
    "        madness_predicted_flux.append(predicted)"
   ]
  },
  {
   "cell_type": "markdown",
   "id": "8ee8bc64-4c5c-4384-8a81-b15a2d44b0a0",
   "metadata": {},
   "source": [
    "# Compare: Covariance matrix and flux reconstruction"
   ]
  },
  {
   "cell_type": "code",
   "execution_count": 105,
   "id": "008a44e9-2634-438f-a922-df7fcbbc800b",
   "metadata": {},
   "outputs": [
    {
     "name": "stdout",
     "output_type": "stream",
     "text": [
      "1\n"
     ]
    }
   ],
   "source": [
    "scarlet_cov = []\n",
    "scarlet_actual_flux = []\n",
    "scarlet_predicted_flux = []\n",
    "\n",
    "print(len(field_images))\n",
    "\n",
    "for blend_number in range(len(field_images)):\n",
    "\n",
    "    for galaxy_number in range(len(blend['blend_list'][blend_number])):\n",
    "\n",
    "        ground_truth_pixels = []\n",
    "        predicted_pixels = []\n",
    "        sig = []\n",
    "        \n",
    "        current_galaxy = isolated_images[blend_number][galaxy_number]\n",
    "        cov, actual, predicted = compute_pixel_covariance_and_flux(scarlet_predictions[blend_number][galaxy_number], current_galaxy, field_images[0])\n",
    "        \n",
    "        scarlet_cov.append(cov)\n",
    "        scarlet_actual_flux.append(actual)\n",
    "        scarlet_predicted_flux.append(predicted)"
   ]
  },
  {
   "cell_type": "code",
   "execution_count": 106,
   "id": "631f9f1f-9bff-4da5-86de-77c54132717e",
   "metadata": {},
   "outputs": [
    {
     "data": {
      "text/plain": [
       "(array([ 1.,  0.,  0.,  0.,  0.,  0.,  0.,  0.,  0., 48.]),\n",
       " array([0.58367215, 0.62527583, 0.6668795 , 0.70848318, 0.75008686,\n",
       "        0.79169053, 0.83329421, 0.87489789, 0.91650156, 0.95810524,\n",
       "        0.99970891]),\n",
       " <BarContainer object of 10 artists>)"
      ]
     },
     "execution_count": 106,
     "metadata": {},
     "output_type": "execute_result"
    },
    {
     "data": {
      "image/png": "[encoded data removed]",
      "text/plain": [
       "<Figure size 432x288 with 1 Axes>"
      ]
     },
     "metadata": {
      "needs_background": "light"
     },
     "output_type": "display_data"
    }
   ],
   "source": [
    "plt.hist(scarlet_cov)"
   ]
  },
  {
   "cell_type": "code",
   "execution_count": 107,
   "id": "3fad438e-a163-43bb-b33b-90000ab5b906",
   "metadata": {},
   "outputs": [
    {
     "data": {
      "image/png": "[encoded data removed]",
      "text/plain": [
       "<Figure size 432x288 with 1 Axes>"
      ]
     },
     "metadata": {
      "needs_background": "light"
     },
     "output_type": "display_data"
    }
   ],
   "source": [
    "plt.hist(cov_madness);"
   ]
  },
  {
   "cell_type": "code",
   "execution_count": 108,
   "id": "b8bedede-c594-4aab-8c92-c617c79c6b40",
   "metadata": {
    "tags": []
   },
   "outputs": [],
   "source": [
    "scarlet_actual_flux = np.array(scarlet_actual_flux)\n",
    "scarlet_predicted_flux = np.array(scarlet_predicted_flux)\n",
    "\n",
    "scarlet_relative_difference= np.abs(np.divide(scarlet_predicted_flux - scarlet_actual_flux, scarlet_actual_flux))"
   ]
  },
  {
   "cell_type": "code",
   "execution_count": 109,
   "id": "c67254a8-effe-4ceb-bb67-de5c58928b48",
   "metadata": {
    "tags": []
   },
   "outputs": [],
   "source": [
    "madness_actual_flux = np.array(madness_actual_flux)\n",
    "madness_predicted_flux = np.array(madness_predicted_flux)\n",
    "\n",
    "madness_relative_difference= np.abs(np.divide(madness_predicted_flux - madness_actual_flux, madness_actual_flux))"
   ]
  },
  {
   "cell_type": "code",
   "execution_count": null,
   "id": "3367b067-fce0-4677-88aa-68160688640b",
   "metadata": {},
   "outputs": [],
   "source": []
  },
  {
   "cell_type": "code",
   "execution_count": 110,
   "id": "5960aa02-3c0a-47b2-b795-12274ccf72a7",
   "metadata": {},
   "outputs": [
    {
     "data": {
      "text/plain": [
       "Text(0, 0.5, 'number of galaxies')"
      ]
     },
     "execution_count": 110,
     "metadata": {},
     "output_type": "execute_result"
    },
    {
     "data": {
      "image/png": "[encoded data removed]",
      "text/plain": [
       "<Figure size 432x288 with 1 Axes>"
      ]
     },
     "metadata": {
      "needs_background": "light"
     },
     "output_type": "display_data"
    }
   ],
   "source": [
    "import seaborn as sns\n",
    "#print(madness_relative_difference[np.logical_not(np.isinf(madness_relative_difference))].reshape(-1))\n",
    "bins = plt.hist(madness_relative_difference[np.logical_not(np.isnan(madness_relative_difference))].reshape(-1), bins=50, alpha=0.5, label=\"MADNESS\");\n",
    "plt.hist(scarlet_relative_difference[np.logical_not(np.isnan(scarlet_relative_difference))].reshape(-1), bins=bins[1], alpha=0.5, label=\"scarlet\");\n",
    "plt.legend()\n",
    "ax=plt.gca()\n",
    "plt.xlabel(\"relative flux reconstruction error\")\n",
    "plt.ylabel(\"number of galaxies\")"
   ]
  },
  {
   "cell_type": "code",
   "execution_count": 111,
   "id": "30fc3849-a91a-471e-86f8-f09ed478f989",
   "metadata": {},
   "outputs": [
    {
     "data": {
      "text/plain": [
       "1.3093482377956747"
      ]
     },
     "execution_count": 111,
     "metadata": {},
     "output_type": "execute_result"
    }
   ],
   "source": [
    "np.amax(madness_relative_difference.reshape(-1))"
   ]
  },
  {
   "cell_type": "code",
   "execution_count": 112,
   "id": "6bf0ca58-f606-4e2a-ad82-793c6e212e5f",
   "metadata": {},
   "outputs": [
    {
     "data": {
      "text/plain": [
       "0.7769560570410466"
      ]
     },
     "execution_count": 112,
     "metadata": {},
     "output_type": "execute_result"
    }
   ],
   "source": [
    "np.amax(scarlet_relative_difference.reshape(-1))"
   ]
  },
  {
   "cell_type": "code",
   "execution_count": null,
   "id": "f658d090-dfd7-45f0-b170-452be8184027",
   "metadata": {},
   "outputs": [],
   "source": []
  }
 ],
 "metadata": {
  "kernelspec": {
   "display_name": "debvader",
   "language": "python",
   "name": "debvader"
  },
  "language_info": {
   "codemirror_mode": {
    "name": "ipython",
    "version": 3
   },
   "file_extension": ".py",
   "mimetype": "text/x-python",
   "name": "python",
   "nbconvert_exporter": "python",
   "pygments_lexer": "ipython3",
   "version": "3.8.12"
  }
 },
 "nbformat": 4,
 "nbformat_minor": 5
}
