{
 "cells": [
  {
   "cell_type": "code",
   "execution_count": 1,
   "id": "14583d92-5128-4ea7-8350-042c51f13c05",
   "metadata": {},
   "outputs": [],
   "source": [
    "%load_ext autoreload\n",
    "%autoreload 2\n",
    "\n",
    "import astropy\n",
    "import galsim\n",
    "import matplotlib.pyplot as plt\n",
    "import numpy as np\n",
    "import scarlet\n",
    "import sep\n",
    "\n",
    "import btk"
   ]
  },
  {
   "cell_type": "code",
   "execution_count": 2,
   "id": "e726d59a-2cba-4719-bbcd-e4de6b4daa06",
   "metadata": {},
   "outputs": [],
   "source": [
    "COSMOS_CATALOG_PATHS = [\n",
    "    \"/sps/lsst/users/bbiswas/COSMOS_catalog/COSMOS_25.2_training_sample/real_galaxy_catalog_25.2.fits\",\n",
    "    \"/sps/lsst/users/bbiswas/COSMOS_catalog/COSMOS_25.2_training_sample/real_galaxy_catalog_25.2_fits.fits\",\n",
    "]\n",
    "\n",
    "\n",
    "stamp_size = 11\n",
    "max_number = 1\n",
    "batch_size = 10\n",
    "max_shift = 0\n",
    "catalog = btk.catalog.CosmosCatalog.from_file(COSMOS_CATALOG_PATHS)\n",
    "survey = btk.survey.get_surveys(\"LSST\")\n",
    "seed=31\n",
    "\n",
    "import galsim \n",
    "galsim_catalog = galsim.COSMOSCatalog(COSMOS_CATALOG_PATHS[0], exclusion_level=\"marginal\")\n",
    "\n",
    "sampling_function = btk.sampling_functions.DefaultSampling(max_number=max_number, maxshift=max_shift, stamp_size=stamp_size, seed=seed)\n",
    "\n",
    "draw_generator = btk.draw_blends.CosmosGenerator(\n",
    "    catalog,\n",
    "    sampling_function,\n",
    "    survey,\n",
    "    batch_size=batch_size,\n",
    "    stamp_size=stamp_size,\n",
    "    cpus=1,\n",
    "    add_noise=\"all\",\n",
    "    verbose=False,\n",
    "    gal_type=\"parametric\",\n",
    "    seed=seed,\n",
    ")"
   ]
  },
  {
   "cell_type": "code",
   "execution_count": 3,
   "id": "83bbb009-9b82-4a10-b553-f26a6e6e8be1",
   "metadata": {},
   "outputs": [
    {
     "data": {
      "application/vnd.jupyter.widget-view+json": {
       "model_id": "aee847a1311a4fa69bd167265c1c6f2c",
       "version_major": 2,
       "version_minor": 0
      },
      "text/plain": [
       "Generating blends for LSST survey:   0%|          | 0/10 [00:00<?, ?it/s]"
      ]
     },
     "metadata": {},
     "output_type": "display_data"
    }
   ],
   "source": [
    "blend = next(draw_generator)\n"
   ]
  },
  {
   "cell_type": "code",
   "execution_count": 4,
   "id": "97521558-979c-4dee-babc-1248a4f747f9",
   "metadata": {},
   "outputs": [],
   "source": [
    "field_images = blend[\"blend_images\"]\n",
    "isolated_images = blend[\"isolated_images\"]"
   ]
  },
  {
   "cell_type": "markdown",
   "id": "37e72b11-dc60-4d0f-955f-2f77e0fa50e2",
   "metadata": {},
   "source": [
    "# Use Scarlet"
   ]
  },
  {
   "cell_type": "code",
   "execution_count": 5,
   "id": "6566bd77-829d-4cc4-96fe-eb134e59d954",
   "metadata": {},
   "outputs": [],
   "source": [
    "psf = np.array([p.drawImage(galsim.Image(field_images[0].shape[1],field_images[0].shape[2]),scale=survey.pixel_scale.to_value(\"arcsec\")).array for p in blend[\"psf\"]])\n",
    "bands=[f for f in survey._filters]\n",
    "wcs = blend[\"wcs\"]"
   ]
  },
  {
   "cell_type": "code",
   "execution_count": 6,
   "id": "90d54cd3-1626-46d8-96b8-addd85fa2dab",
   "metadata": {},
   "outputs": [],
   "source": [
    "import scarlet.psf\n",
    "from scarlet.psf import ImagePSF"
   ]
  },
  {
   "cell_type": "code",
   "execution_count": 7,
   "id": "adfb36f1-27ce-41e7-bea1-5c898c424ed5",
   "metadata": {},
   "outputs": [],
   "source": [
    "def predict_with_scarlet(image, x_pos, y_pos, show_scene, show_sources, filters):\n",
    "    sig = []\n",
    "    weights = np.ones_like(image)\n",
    "    for i in range(6):\n",
    "        sig.append(sep.Background(image[i]).globalrms)\n",
    "        weights[i] = weights[i] / (sig[i]**2)\n",
    "    observation = scarlet.Observation(\n",
    "            image, psf=scarlet.psf.ImagePSF(psf), weights= weights, channels=bands, wcs=wcs\n",
    "        )\n",
    "    \n",
    "    model_psf = scarlet.GaussianPSF(sigma=(0.8,) * len(filters))\n",
    "    model_frame = scarlet.Frame(\n",
    "    image.shape,\n",
    "    psf=model_psf,\n",
    "    channels=filters, wcs=wcs)\n",
    "\n",
    "    \n",
    "    observation = observation.match(model_frame)\n",
    "    sources = []\n",
    "    for i in range(len(x_pos)):\n",
    "        result = scarlet.ExtendedSource(\n",
    "            model_frame,\n",
    "            model_frame.get_sky_coord((x_pos[i], y_pos[i])),\n",
    "            observation,\n",
    "            thresh=1,\n",
    "            shifting=True,\n",
    "        )\n",
    "        sources.append(result)\n",
    "\n",
    "    scarlet.initialization.set_spectra_to_match(sources, observation)\n",
    "    \n",
    "    scarlet_blend = scarlet.Blend(sources, observation)\n",
    "    \n",
    "    %time it, logL = scarlet_blend.fit(200, e_rel=1e-5)\n",
    "    #print(f\"scarlet ran for {it} iterations to logL = {logL}\")\n",
    "    #scarlet.display.show_likelihood(scarlet_blend)\n",
    "    #plt.show()\n",
    "    \n",
    "    if show_scene:\n",
    "        scarlet.display.show_scene(sources,\n",
    "                           norm=None,\n",
    "                           observation=observation,\n",
    "                           show_rendered=True,\n",
    "                           show_observed=True,\n",
    "                           show_residual=True)\n",
    "        \n",
    "        plt.show()\n",
    "    \n",
    "    if show_sources:\n",
    "        scarlet.display.show_sources(sources,\n",
    "                                 norm=None,\n",
    "                                 observation=observation,\n",
    "                                 show_rendered=True,\n",
    "                                 show_observed=True,\n",
    "                                 add_boxes=True\n",
    "                                )\n",
    "        plt.show()\n",
    "    \n",
    "    model = np.zeros(model_frame.shape)\n",
    "    for src in sources:\n",
    "        np.shape(src.get_model)\n",
    "        model += src.get_model(frame=model_frame)\n",
    "    #print(np.shape(src.get_model(frame=model_frame)))\n",
    "    return observation.render(model)"
   ]
  },
  {
   "cell_type": "code",
   "execution_count": 8,
   "id": "39bbfc78-09d5-4734-abe1-b0c73794f2f1",
   "metadata": {},
   "outputs": [],
   "source": [
    "image = field_images[0]"
   ]
  },
  {
   "cell_type": "code",
   "execution_count": 9,
   "id": "b5b635fb-c107-4b3c-8ec9-ade53ba097b9",
   "metadata": {},
   "outputs": [],
   "source": [
    "x_pos = blend['blend_list'][0]['y_peak']\n",
    "y_pos = blend['blend_list'][0]['x_peak']"
   ]
  },
  {
   "cell_type": "code",
   "execution_count": 10,
   "id": "bfa82574-414e-4ab9-9f86-a4313a1774e4",
   "metadata": {},
   "outputs": [
    {
     "name": "stdout",
     "output_type": "stream",
     "text": [
      "CPU times: user 819 ms, sys: 0 ns, total: 819 ms\n",
      "Wall time: 819 ms\n"
     ]
    },
    {
     "data": {
      "image/png": "[encoded data removed]",
      "text/plain": [
       "<Figure size 1152x288 with 4 Axes>"
      ]
     },
     "metadata": {
      "needs_background": "light"
     },
     "output_type": "display_data"
    },
    {
     "data": {
      "image/png": "[encoded data removed]",
      "text/plain": [
       "<Figure size 1152x288 with 4 Axes>"
      ]
     },
     "metadata": {
      "needs_background": "light"
     },
     "output_type": "display_data"
    }
   ],
   "source": [
    "model = predict_with_scarlet(image, x_pos=x_pos, y_pos=y_pos, show_scene=True, show_sources=True, filters=bands)"
   ]
  },
  {
   "cell_type": "code",
   "execution_count": 11,
   "id": "3265b821-56db-43a9-ae5c-eaf76861f2b1",
   "metadata": {
    "tags": []
   },
   "outputs": [
    {
     "name": "stdout",
     "output_type": "stream",
     "text": [
      "CPU times: user 820 ms, sys: 1.47 ms, total: 822 ms\n",
      "Wall time: 822 ms\n",
      "CPU times: user 115 ms, sys: 0 ns, total: 115 ms\n",
      "Wall time: 115 ms\n",
      "CPU times: user 352 ms, sys: 1.59 ms, total: 354 ms\n",
      "Wall time: 353 ms\n",
      "CPU times: user 701 ms, sys: 6.11 ms, total: 707 ms\n",
      "Wall time: 707 ms\n",
      "CPU times: user 462 ms, sys: 0 ns, total: 462 ms\n",
      "Wall time: 462 ms\n",
      "CPU times: user 156 ms, sys: 0 ns, total: 156 ms\n",
      "Wall time: 156 ms\n",
      "CPU times: user 1 s, sys: 329 µs, total: 1 s\n",
      "Wall time: 1 s\n",
      "CPU times: user 161 ms, sys: 153 µs, total: 161 ms\n",
      "Wall time: 161 ms\n",
      "CPU times: user 798 ms, sys: 3.62 ms, total: 801 ms\n",
      "Wall time: 804 ms\n",
      "CPU times: user 859 ms, sys: 572 µs, total: 860 ms\n",
      "Wall time: 859 ms\n"
     ]
    }
   ],
   "source": [
    "predictions=[]\n",
    "for i, image in enumerate(field_images):\n",
    "    image = field_images[i]\n",
    "    x_pos = blend['blend_list'][i]['y_peak']\n",
    "    y_pos = blend['blend_list'][i]['x_peak']\n",
    "    model = predict_with_scarlet(image, x_pos=x_pos, y_pos=y_pos, show_scene=False, show_sources=False, filters=bands)\n",
    "    predictions.append(model)"
   ]
  },
  {
   "cell_type": "code",
   "execution_count": 19,
   "id": "42f8f515-7841-4c80-b816-0c84eb1336c1",
   "metadata": {},
   "outputs": [],
   "source": [
    "cov = []\n",
    "for blend_number in range(len(field_images)):\n",
    "    for galaxy_number in range(len(blend['blend_list'][blend_number])):\n",
    "        ground_truth_pixels = []\n",
    "        predicted_pixels = []\n",
    "        sig = []\n",
    "        current_galaxy = isolated_images[blend_number][galaxy_number]\n",
    "        for band_number in range(len(bands)):\n",
    "            sig.append(sep.Background(field_images[blend_number][band_number]).globalrms)\n",
    "            #print(np.shape(current_galaxy))\n",
    "            mask1 = current_galaxy[band_number]>5 * sig[band_number]\n",
    "            mask2 = predictions[blend_number][band_number]>5 * sig[band_number]\n",
    "            mask = mask1|mask2\n",
    "            ground_truth_pixels.extend(current_galaxy[band_number][mask])\n",
    "            predicted_pixels.extend(predictions[blend_number][band_number][mask])\n",
    "        cov.append(np.sum(np.multiply(predicted_pixels, ground_truth_pixels))/(np.sqrt(np.sum(np.square(predicted_pixels)))*np.sqrt(np.sum(np.square(ground_truth_pixels)))))"
   ]
  },
  {
   "cell_type": "code",
   "execution_count": 13,
   "id": "631f9f1f-9bff-4da5-86de-77c54132717e",
   "metadata": {},
   "outputs": [
    {
     "data": {
      "text/plain": [
       "(array([1., 0., 0., 0., 0., 0., 2., 0., 1., 6.]),\n",
       " array([0.9917175 , 0.99253916, 0.99336081, 0.99418247, 0.99500413,\n",
       "        0.99582578, 0.99664744, 0.99746909, 0.99829075, 0.9991124 ,\n",
       "        0.99993406]),\n",
       " <BarContainer object of 10 artists>)"
      ]
     },
     "execution_count": 13,
     "metadata": {},
     "output_type": "execute_result"
    },
    {
     "data": {
      "image/png": "[encoded data removed]",
      "text/plain": [
       "<Figure size 432x288 with 1 Axes>"
      ]
     },
     "metadata": {
      "needs_background": "light"
     },
     "output_type": "display_data"
    }
   ],
   "source": [
    "plt.hist(cov)"
   ]
  },
  {
   "cell_type": "markdown",
   "id": "2ee9b3a6-48e2-43d1-8c2b-422421ab4443",
   "metadata": {},
   "source": [
    "# Use MADNESS"
   ]
  },
  {
   "cell_type": "code",
   "execution_count": 20,
   "id": "49496b32-d215-4495-9cfe-12bb9363c179",
   "metadata": {
    "collapsed": true,
    "jupyter": {
     "outputs_hidden": true
    },
    "tags": []
   },
   "outputs": [
    {
     "name": "stdout",
     "output_type": "stream",
     "text": [
      "IDENT_1          ra                dec         ... not_drawn_z not_drawn_y\n",
      "------- ------------------- ------------------ ... ----------- -----------\n",
      "  80168 -0.9511078228044072 0.3800077910208013 ...         0.0         0.0\n"
     ]
    },
    {
     "name": "stderr",
     "output_type": "stream",
     "text": [
      "\n",
      "--- Starting gradient descent in the latent space ---\n",
      "Maximum number of iterations: 300\n",
      "Number of Galaxies: 1\n",
      "Dimensions of latent space: 8\n"
     ]
    },
    {
     "name": "stdout",
     "output_type": "stream",
     "text": [
      "10295.3877\n",
      "15.3131485\n",
      "156689.391\n",
      "-21.1038857\n",
      "11080.7988\n",
      "-60.420105\n",
      "9885.33691\n",
      "-67.0485535\n",
      "9720.49609\n",
      "-63.5008\n",
      "9601.39844\n",
      "-60.252079\n",
      "9492.35938\n",
      "-56.0018425\n",
      "9425.30859\n",
      "-52.304142\n",
      "9383.21484\n",
      "-49.0125275\n",
      "9356.35352\n",
      "-46.1148\n",
      "9335.44629\n",
      "-43.4457855\n",
      "9319.8623\n",
      "-41.3410797\n",
      "9305.1084\n",
      "-39.3132324\n",
      "9289.45703\n",
      "-37.3104935\n",
      "9271.9209\n",
      "-35.2008934\n",
      "9254.35938\n",
      "-33.1034622\n",
      "9237.17188\n",
      "-31.0717049\n",
      "9219.37695\n",
      "-29.0634174\n",
      "9201.45605\n",
      "-27.0456905\n",
      "9183.38086\n",
      "-25.0451794\n",
      "9165.07\n",
      "-23.081316\n",
      "9149.03125\n",
      "-21.4146576\n",
      "9132.25684\n",
      "-19.7576027\n",
      "9115.84277\n",
      "-18.1803684\n",
      "9099.74414\n",
      "-16.6481266\n",
      "9082.6748\n",
      "-15.1444149\n",
      "9065.1875\n",
      "-13.5757961\n",
      "9046.28809\n",
      "-12.0950089\n",
      "9027.17188\n",
      "-10.7944317\n",
      "9009.2168\n",
      "-9.65315247\n",
      "8992.10742\n",
      "-8.68028641\n",
      "8978.75488\n",
      "-8.01126671\n",
      "8966.37109\n",
      "-7.44036293\n",
      "8955.10156\n",
      "-6.82718468\n",
      "8944.73\n",
      "-6.26811218\n",
      "8934.34473\n",
      "-5.78885078\n",
      "8924.30762\n",
      "-5.48298264\n",
      "8914.32422\n",
      "-5.3611927\n",
      "8904.89355\n",
      "-5.25405312\n",
      "8895.00586\n",
      "-5.11445808\n",
      "8885.0293\n",
      "-5.14114761\n",
      "8878.92871\n",
      "-5.22234344\n",
      "8874.32715\n",
      "-5.2766819\n",
      "8870.81445\n",
      "-5.19122505\n",
      "8868.13574\n",
      "-5.06107712\n",
      "8866.26172\n",
      "-4.87570953\n",
      "8865.00684\n",
      "-4.672575\n",
      "8864.24121\n",
      "-4.37013435\n",
      "8863.75586\n",
      "-4.03107834\n",
      "8863.51172\n",
      "-3.58712\n",
      "8863.21582\n",
      "-3.25749969\n",
      "8863.14\n",
      "-2.82936478\n",
      "8862.97461\n",
      "-2.50374603\n",
      "8862.96777\n",
      "-2.03550148\n",
      "8862.79688\n",
      "-1.74640083\n",
      "8862.89453\n",
      "-1.20891953\n",
      "8862.71289\n",
      "-1.00684166\n",
      "8863.23633\n",
      "-0.286315918\n",
      "8863.71\n",
      "-0.429170609\n",
      "8869.59082\n",
      "1.07309914\n",
      "8891.12207\n",
      "-0.861841202\n",
      "8922.08\n",
      "2.93439102\n",
      "8994.15723\n",
      "-1.34450722\n",
      "9054.06641\n",
      "4.59063911\n",
      "9157.99219\n",
      "-1.17661476\n"
     ]
    },
    {
     "name": "stderr",
     "output_type": "stream",
     "text": [
      "--- Gradient descent complete ---\n",
      "\n",
      "Time taken for gradient descent: 6.100647687911987\n"
     ]
    },
    {
     "name": "stdout",
     "output_type": "stream",
     "text": [
      "IDENT_1          ra                 dec         ... not_drawn_z not_drawn_y\n",
      "------- -------------------- ------------------ ... ----------- -----------\n",
      " 569705 -0.06040164684567961 0.3903411092653897 ...         0.0         0.0\n"
     ]
    },
    {
     "name": "stderr",
     "output_type": "stream",
     "text": [
      "\n",
      "--- Starting gradient descent in the latent space ---\n",
      "Maximum number of iterations: 300\n",
      "Number of Galaxies: 1\n",
      "Dimensions of latent space: 8\n"
     ]
    },
    {
     "name": "stdout",
     "output_type": "stream",
     "text": [
      "179896.703\n",
      "3.18706226\n",
      "41775.5469\n",
      "-76.0826\n",
      "15196.002\n",
      "-92.8018188\n",
      "11976.7695\n",
      "-89.7853\n",
      "11039.1455\n",
      "-96.5467148\n",
      "10519.4834\n",
      "-103.115799\n",
      "10168.3477\n",
      "-108.681007\n",
      "9917.46289\n",
      "-113.17009\n",
      "9741.1416\n",
      "-115.37384\n",
      "9611.83398\n",
      "-116.339455\n",
      "9513.12695\n",
      "-116.375938\n",
      "9450.12305\n",
      "-115.671555\n",
      "9398.17\n",
      "-114.360313\n",
      "9353.31152\n",
      "-112.695702\n",
      "9314.08594\n",
      "-110.431534\n",
      "9280.0127\n",
      "-107.807541\n",
      "9251.1748\n",
      "-104.802628\n",
      "9226.54785\n",
      "-101.596458\n",
      "9205.64648\n",
      "-98.1195068\n",
      "9187.48242\n",
      "-94.2793121\n",
      "9171.44824\n",
      "-90.1924133\n",
      "9159.74512\n",
      "-86.621994\n",
      "9149.47559\n",
      "-83.1659851\n",
      "9139.9043\n",
      "-79.6853867\n",
      "9131.06543\n",
      "-76.1593399\n",
      "9123.04\n",
      "-72.6265259\n",
      "9115.6875\n",
      "-69.1080093\n",
      "9108.8916\n",
      "-65.6962051\n",
      "9102.66699\n",
      "-62.2816849\n",
      "9097.06445\n",
      "-58.7930412\n",
      "9091.88379\n",
      "-55.3752\n",
      "9087.89941\n",
      "-52.5215073\n",
      "9084.1709\n",
      "-49.7343941\n",
      "9080.71289\n",
      "-46.989563\n",
      "9077.54\n",
      "-44.3090248\n",
      "9074.52637\n",
      "-41.7343826\n",
      "9071.74902\n",
      "-39.2072144\n",
      "9069.18848\n",
      "-36.6748161\n",
      "9066.77\n",
      "-34.1578941\n",
      "9064.48\n",
      "-31.6755047\n",
      "9062.33887\n",
      "-29.242939\n",
      "9060.69824\n",
      "-27.2991257\n",
      "9059.12\n",
      "-25.4199257\n",
      "9057.5\n",
      "-23.5377769\n",
      "9055.85254\n",
      "-21.6777401\n",
      "9054.19141\n",
      "-19.808403\n",
      "9052.56\n",
      "-17.9747925\n",
      "9050.88867\n",
      "-16.1447468\n",
      "9049.27539\n",
      "-14.4159317\n",
      "9047.49609\n",
      "-12.8034153\n",
      "9045.68164\n",
      "-11.1960545\n",
      "9044.30566\n",
      "-9.92671204\n",
      "9042.94\n",
      "-8.65450668\n",
      "9041.41504\n",
      "-7.39236259\n",
      "9039.6416\n",
      "-6.12850189\n",
      "9037.92188\n",
      "-4.85708427\n",
      "9036.24316\n",
      "-3.61507797\n",
      "9034.7\n",
      "-2.35204506\n",
      "9033.14648\n",
      "-1.10919952\n",
      "9031.52734\n",
      "0.117275238\n",
      "9029.60938\n",
      "1.27437973\n",
      "9027.84375\n",
      "2.16669273\n",
      "9026.27734\n",
      "3.02739525\n",
      "9024.73633\n",
      "3.89561653\n",
      "9023.21094\n",
      "4.72433662\n",
      "9021.88867\n",
      "5.5982\n",
      "9020.60938\n",
      "6.48679733\n",
      "9019.24\n",
      "7.33981895\n",
      "9018.09375\n",
      "8.25341225\n",
      "9016.97266\n",
      "9.13129234\n",
      "9016.05566\n",
      "10.0055943\n",
      "9015.41504\n",
      "10.7046051\n",
      "9014.90527\n",
      "11.4056454\n",
      "9014.41406\n",
      "12.0753803\n",
      "9013.94141\n",
      "12.7129669\n",
      "9013.51172\n",
      "13.3233032\n",
      "9013.13281\n",
      "13.9269505\n",
      "9012.75293\n",
      "14.5066614\n",
      "9012.35254\n",
      "15.0651798\n",
      "9011.98145\n",
      "15.5879917\n",
      "9011.60938\n",
      "16.0807171\n",
      "9011.32422\n",
      "16.4614754\n",
      "9011.04785\n",
      "16.8076572\n",
      "9010.81738\n",
      "17.1595039\n",
      "9010.60254\n",
      "17.4860153\n",
      "9010.41\n",
      "17.7867126\n",
      "9010.24707\n",
      "18.0737114\n",
      "9010.07812\n",
      "18.3276634\n",
      "9009.91406\n",
      "18.5624428\n",
      "9009.76562\n",
      "18.7745342\n",
      "9009.63379\n",
      "18.9564075\n",
      "9009.54199\n",
      "19.0875664\n",
      "9009.47656\n",
      "19.20644\n",
      "9009.42\n",
      "19.2988377\n",
      "9009.38086\n",
      "19.383831\n",
      "9009.34082\n",
      "19.4482536\n",
      "9009.31152\n",
      "19.4999733\n",
      "9009.29688\n",
      "19.5287476\n",
      "9009.47266\n",
      "19.6309032\n",
      "9010.07227\n",
      "19.5320911\n",
      "9015.01758\n",
      "19.8222389\n",
      "9020.45312\n",
      "19.037571\n",
      "9028.22363\n",
      "19.7394409\n",
      "9016.01855\n",
      "19.0249786\n",
      "9014.28418\n",
      "19.8181\n",
      "9012.12598\n",
      "19.3968277\n",
      "9011.98926\n",
      "19.7964935\n",
      "9011.30762\n",
      "19.443634\n",
      "9012.52637\n",
      "19.8610706\n",
      "9013.12\n",
      "19.3479366\n",
      "9015.80859\n",
      "19.8611298\n",
      "9011.34375\n",
      "19.36343\n",
      "9010.39062\n",
      "19.7396221\n",
      "9009.58594\n",
      "19.5649567\n",
      "9009.69141\n",
      "19.7680721\n",
      "9009.72461\n",
      "19.6493702\n",
      "9010.18066\n",
      "19.8039398\n",
      "9010.61816\n",
      "19.5132847\n",
      "9012.42578\n",
      "19.8950768\n",
      "9014.00391\n",
      "19.3060722\n",
      "9017.88086\n",
      "19.9739\n",
      "9010.95508\n",
      "19.4154587\n",
      "9009.93848\n",
      "19.7901459\n",
      "9009.33789\n",
      "19.626049\n",
      "9009.35742\n",
      "19.7678242\n",
      "9009.27\n",
      "19.7059288\n",
      "9009.35742\n",
      "19.7580872\n",
      "9009.44238\n",
      "19.6897717\n",
      "9009.91602\n",
      "19.8007317\n",
      "9010.70117\n",
      "19.6293888\n",
      "9013.03125\n",
      "19.9078827\n",
      "9010.9375\n",
      "19.4420166\n",
      "9010.65\n",
      "19.87043\n",
      "9009.85547\n",
      "19.6364517\n",
      "9009.91113\n",
      "19.8620491\n",
      "9009.61719\n",
      "19.6443748\n",
      "9009.94531\n",
      "19.8629475\n",
      "9009.9248\n",
      "19.6449604\n",
      "9010.53906\n",
      "19.9019451\n",
      "9010.73535\n",
      "19.5699348\n",
      "9011.92188\n",
      "19.9589062\n",
      "9009.7793\n",
      "19.6244793\n",
      "9009.50195\n",
      "19.8582382\n",
      "9009.18\n",
      "19.7155\n",
      "9009.21875\n",
      "19.8067913\n",
      "9009.11816\n",
      "19.738224\n",
      "9009.17871\n",
      "19.7918434\n",
      "9009.11133\n",
      "19.7041969\n",
      "9009.28711\n",
      "19.8136272\n",
      "9009.30176\n",
      "19.7014084\n",
      "9009.83203\n",
      "19.8555641\n",
      "9009.64258\n",
      "19.6722889\n",
      "9009.85352\n",
      "19.8679237\n",
      "9009.60645\n",
      "19.6682777\n",
      "9009.83203\n",
      "19.8721275\n",
      "9009.56445\n",
      "19.6280365\n",
      "9009.94727\n",
      "19.8995209\n"
     ]
    },
    {
     "name": "stderr",
     "output_type": "stream",
     "text": [
      "--- Gradient descent complete ---\n",
      "\n",
      "Time taken for gradient descent: 7.681558847427368\n"
     ]
    },
    {
     "name": "stdout",
     "output_type": "stream",
     "text": [
      "IDENT_1          ra                 dec         ... not_drawn_z not_drawn_y\n",
      "------- ------------------- ------------------- ... ----------- -----------\n",
      " 993032 -0.9873359895296562 -0.7116336936876613 ...         0.0         0.0\n"
     ]
    },
    {
     "name": "stderr",
     "output_type": "stream",
     "text": [
      "\n",
      "--- Starting gradient descent in the latent space ---\n",
      "Maximum number of iterations: 300\n",
      "Number of Galaxies: 1\n",
      "Dimensions of latent space: 8\n"
     ]
    },
    {
     "name": "stdout",
     "output_type": "stream",
     "text": [
      "9695.71875\n",
      "12.4137259\n",
      "82837.3359\n",
      "-228.282623\n",
      "9431.98828\n",
      "-8.88959694\n",
      "9612.85352\n",
      "9.53513\n",
      "9497.84082\n",
      "-0.330152512\n",
      "9472.37891\n",
      "-5.54550743\n",
      "9453.04785\n",
      "0.0085144043\n",
      "9423.63477\n",
      "-4.04715157\n",
      "9401.0957\n",
      "-2.74612236\n",
      "9376.04199\n",
      "-3.39554977\n",
      "9348.42676\n",
      "-3.68803978\n",
      "9325.14355\n",
      "-3.62877083\n",
      "9302.28711\n",
      "-5.31689453\n",
      "9279.15723\n",
      "-6.98742485\n",
      "9255.52344\n",
      "-8.1455307\n",
      "9217.98828\n",
      "-6.08089066\n",
      "9175.70801\n",
      "-6.00615501\n",
      "9145.15\n",
      "-6.12825\n",
      "9125.62305\n",
      "-6.58676529\n",
      "9111.04297\n",
      "-7.91990471\n",
      "9097.79883\n",
      "-9.90361595\n",
      "9087.29492\n",
      "-11.8322105\n",
      "9078.65\n",
      "-13.7020588\n",
      "9072.6543\n",
      "-15.3402386\n",
      "9068.95312\n",
      "-15.861412\n",
      "9066.17676\n",
      "-15.9766369\n",
      "9064.08301\n",
      "-15.6364288\n",
      "9062.29883\n",
      "-15.0634842\n",
      "9060.67773\n",
      "-14.3318844\n",
      "9058.94824\n",
      "-13.6076374\n",
      "9057.44727\n",
      "-12.7074356\n",
      "9056.29199\n",
      "-11.8965797\n",
      "9055.35547\n",
      "-11.0004177\n",
      "9054.76465\n",
      "-10.1602879\n",
      "9056.58\n",
      "-9.27613068\n",
      "9073.4248\n",
      "-8.3151722\n",
      "9114.66895\n",
      "-6.43909454\n",
      "9058.81445\n",
      "-2.34736824\n",
      "9053.91504\n",
      "-2.45260429\n",
      "9050.81348\n",
      "-3.10480309\n",
      "9053.1416\n",
      "-1.62152863\n",
      "9050.54395\n",
      "-1.93005562\n",
      "9054.00586\n",
      "0.387237549\n",
      "9050.96582\n",
      "-0.506446838\n",
      "9057.82617\n",
      "2.51604843\n",
      "9050.56348\n",
      "0.88908577\n",
      "9057.40332\n",
      "4.91110039\n",
      "9047.56152\n",
      "2.63981056\n",
      "9053.88379\n",
      "6.91308784\n",
      "9044.70898\n",
      "4.31818962\n",
      "9050.57227\n",
      "8.59653664\n",
      "9037.87598\n",
      "6.64273453\n",
      "9037.38184\n",
      "8.86092377\n",
      "9035.23438\n",
      "8.60681438\n",
      "9035.38672\n",
      "9.98057175\n",
      "9034.16797\n",
      "9.84092\n",
      "9034.70117\n",
      "11.337534\n",
      "9033.62109\n",
      "11.0154686\n",
      "9035.79883\n",
      "13.0558462\n",
      "9036.12109\n",
      "11.6494894\n",
      "9046.98242\n",
      "15.2771206\n",
      "9038.21777\n",
      "13.0977154\n",
      "9040.62695\n",
      "15.9556732\n",
      "9038.00586\n",
      "14.0285187\n",
      "9042.62402\n",
      "16.70051\n",
      "9038.33\n",
      "14.779604\n",
      "9043.79199\n",
      "17.3891869\n",
      "9038.61426\n",
      "15.4280243\n",
      "9045.8584\n",
      "17.8854542\n",
      "9042.10449\n",
      "15.8994665\n",
      "9052.25098\n",
      "18.3843803\n",
      "9034.42773\n",
      "16.9677\n",
      "9033.1582\n",
      "18.2725849\n",
      "9030.74121\n",
      "17.7321091\n",
      "9031.04688\n",
      "18.5420113\n",
      "9030.27344\n",
      "18.2014\n",
      "9030.78516\n",
      "18.8025799\n",
      "9030.46191\n",
      "18.4559135\n",
      "9031.66504\n",
      "19.0917168\n",
      "9032.43945\n",
      "18.5390701\n",
      "9037.73\n",
      "19.4625874\n",
      "9036.35742\n",
      "18.5567741\n",
      "9039.33301\n",
      "19.5874634\n",
      "9037.75684\n",
      "18.6944046\n",
      "9040.83\n",
      "19.7820015\n",
      "9040.24121\n",
      "18.7710838\n",
      "9046.19238\n",
      "19.853157\n",
      "9044.22363\n",
      "18.6606483\n",
      "9051.30469\n",
      "20.0602875\n",
      "9045.22266\n",
      "18.6562901\n",
      "9048.78418\n",
      "19.9945488\n",
      "9032.24609\n",
      "19.2911453\n",
      "9030.25586\n",
      "19.8016701\n",
      "9029.59668\n",
      "19.6388683\n",
      "9029.63379\n",
      "19.8091259\n",
      "9029.52539\n",
      "19.7554646\n",
      "9029.62\n",
      "19.8787117\n",
      "9029.55859\n",
      "19.8356304\n",
      "9029.71191\n",
      "19.9721088\n",
      "9029.69727\n",
      "19.8777504\n",
      "9030.20117\n",
      "20.1072769\n",
      "9030.07227\n",
      "19.8872147\n",
      "9030.64355\n",
      "20.1923447\n",
      "9030.90527\n",
      "19.8609886\n",
      "9032.9\n",
      "20.3434105\n",
      "9035.15137\n",
      "19.6488457\n",
      "9042.51758\n",
      "20.5424786\n"
     ]
    },
    {
     "name": "stderr",
     "output_type": "stream",
     "text": [
      "--- Gradient descent complete ---\n",
      "\n",
      "Time taken for gradient descent: 7.695529937744141\n"
     ]
    },
    {
     "name": "stdout",
     "output_type": "stream",
     "text": [
      "IDENT_1         ra                 dec          ... not_drawn_z not_drawn_y\n",
      "------- ------------------ -------------------- ... ----------- -----------\n",
      " 106761 1.0530732487228538 -0.43525145986752334 ...         0.0         0.0\n"
     ]
    },
    {
     "name": "stderr",
     "output_type": "stream",
     "text": [
      "\n",
      "--- Starting gradient descent in the latent space ---\n",
      "Maximum number of iterations: 300\n",
      "Number of Galaxies: 1\n",
      "Dimensions of latent space: 8\n"
     ]
    },
    {
     "name": "stdout",
     "output_type": "stream",
     "text": [
      "27309.2207\n",
      "18.8041611\n",
      "90176.2578\n",
      "-73.9113083\n",
      "21989.6016\n",
      "11.5159512\n",
      "17575.4492\n",
      "4.98584175\n",
      "10451.0088\n",
      "-15.0187626\n",
      "9613.72\n",
      "-13.3157272\n",
      "9236.51562\n",
      "-4.60174\n",
      "9140.79\n",
      "-3.00325012\n",
      "9091.04785\n",
      "-2.15631294\n",
      "9056.80469\n",
      "-1.42508698\n",
      "9030.23\n",
      "-0.954082489\n",
      "9011.41602\n",
      "-0.603773117\n",
      "8996.28516\n",
      "-0.323753357\n",
      "8983.96\n",
      "-0.0714378357\n",
      "8974.23926\n",
      "0.172689438\n",
      "8966.58789\n",
      "0.431316376\n",
      "8960.79688\n",
      "0.673582077\n",
      "8956.52344\n",
      "0.918685913\n",
      "8953.33301\n",
      "1.1951313\n",
      "8950.91309\n",
      "1.48857117\n",
      "8949.06\n",
      "1.82249641\n",
      "8947.81055\n",
      "2.09099388\n",
      "8946.75\n",
      "2.37351799\n",
      "8945.76758\n",
      "2.652668\n",
      "8944.81543\n",
      "2.95647049\n",
      "8943.85156\n",
      "3.26415443\n",
      "8942.85645\n",
      "3.57701492\n",
      "8941.82812\n",
      "3.90212059\n",
      "8940.76465\n",
      "4.2586441\n",
      "8939.62207\n",
      "4.56267929\n",
      "8938.63477\n",
      "4.99907684\n",
      "8937.65625\n",
      "5.12991619\n",
      "8937.51562\n",
      "5.69788\n",
      "8938.10156\n",
      "5.53769875\n",
      "8947.5166\n",
      "6.69554901\n",
      "8989.95312\n",
      "5.26028347\n",
      "9254.83887\n",
      "9.33636665\n",
      "10624.166\n",
      "1.302948\n",
      "15248.1279\n",
      "16.5274754\n",
      "10095.8906\n",
      "7.15665627\n",
      "10366.0762\n",
      "14.1929693\n",
      "9188.98438\n",
      "8.33558083\n",
      "9019.10449\n",
      "11.2549992\n",
      "8958.26074\n",
      "9.32392693\n",
      "8944.03223\n",
      "10.793869\n",
      "8936.70703\n",
      "9.64884567\n",
      "8939.82227\n",
      "10.9723969\n",
      "8945.32422\n",
      "9.76869106\n",
      "8971.1377\n",
      "11.5725079\n",
      "9024.59277\n",
      "9.41249466\n",
      "9198.98438\n",
      "12.8864059\n",
      "9189.30566\n",
      "9.06413937\n",
      "9285.34668\n",
      "13.2979164\n",
      "9272.65527\n",
      "9.17668724\n",
      "9395.22852\n",
      "13.7184782\n",
      "9359.03906\n",
      "9.17141914\n",
      "9452.57422\n",
      "13.9987822\n",
      "9286.18555\n",
      "9.88345337\n",
      "9298.20508\n",
      "13.7834969\n",
      "9195.79688\n",
      "10.4567242\n",
      "9221.67285\n",
      "13.8504601\n",
      "8980.0791\n",
      "11.5455399\n",
      "8928.35352\n",
      "12.951231\n",
      "8912.32129\n",
      "12.2948599\n",
      "8908.53613\n",
      "12.8272848\n",
      "8906.33691\n",
      "12.5218983\n",
      "8906.18945\n",
      "12.9331398\n",
      "8906.33691\n",
      "12.6394329\n",
      "8909.25391\n",
      "13.1457863\n",
      "8915.40527\n",
      "12.6418839\n",
      "8936.00195\n",
      "13.5536461\n",
      "8937.03125\n",
      "12.6078377\n",
      "8950.4\n",
      "13.7887754\n",
      "8967.72363\n",
      "12.5794373\n",
      "9017.14746\n",
      "14.2000551\n",
      "9082.77832\n",
      "12.2764969\n",
      "9212.26\n",
      "14.7264919\n",
      "9213.00586\n",
      "12.1280766\n",
      "9228.99121\n",
      "14.86796\n"
     ]
    },
    {
     "name": "stderr",
     "output_type": "stream",
     "text": [
      "--- Gradient descent complete ---\n",
      "\n",
      "Time taken for gradient descent: 6.325443267822266\n"
     ]
    },
    {
     "name": "stdout",
     "output_type": "stream",
     "text": [
      "IDENT_1         ra                dec         ... not_drawn_z not_drawn_y\n",
      "------- ----------------- ------------------- ... ----------- -----------\n",
      " 140683 1.064427064918653 0.45118884973764706 ...         0.0         0.0\n"
     ]
    },
    {
     "name": "stderr",
     "output_type": "stream",
     "text": [
      "\n",
      "--- Starting gradient descent in the latent space ---\n",
      "Maximum number of iterations: 300\n",
      "Number of Galaxies: 1\n",
      "Dimensions of latent space: 8\n"
     ]
    },
    {
     "name": "stdout",
     "output_type": "stream",
     "text": [
      "4017845.5\n",
      "-3.14971066\n",
      "2075248.5\n",
      "-1.32047462\n",
      "1170977.62\n",
      "-4.49874258\n",
      "733738.5\n",
      "-7.88515949\n",
      "486703.031\n",
      "-10.704771\n",
      "339364.719\n",
      "-12.5751572\n",
      "249725.844\n",
      "-13.5697756\n",
      "188797\n",
      "-14.3350143\n",
      "147383.812\n",
      "-14.6559715\n",
      "117217.719\n",
      "-14.9010963\n",
      "94583.5312\n",
      "-14.5866604\n",
      "80015.9922\n",
      "-14.1108551\n",
      "69087.7422\n",
      "-13.6090269\n",
      "60503.4883\n",
      "-13.2241592\n",
      "53733.9102\n",
      "-12.9432\n",
      "48177.0859\n",
      "-12.2889442\n",
      "43550.6133\n",
      "-11.9747715\n",
      "39415.5547\n",
      "-11.7526817\n",
      "35749.9492\n",
      "-11.5318193\n",
      "32522.7715\n",
      "-11.3228741\n",
      "29666.4238\n",
      "-11.122406\n",
      "27608.8438\n",
      "-10.9651537\n",
      "25796.5352\n",
      "-10.7009859\n",
      "24182.6758\n",
      "-10.5168819\n",
      "22741.4375\n",
      "-10.320632\n",
      "21427.6621\n",
      "-10.1485109\n",
      "20205.8945\n",
      "-9.95383358\n",
      "19104.1016\n",
      "-9.81722355\n",
      "18099.2305\n",
      "-9.71389198\n",
      "17201.7344\n",
      "-9.61755276\n",
      "16388.9082\n",
      "-9.5395546\n",
      "15781.6953\n",
      "-9.50132656\n",
      "15237.0117\n",
      "-9.47859764\n",
      "14731.459\n",
      "-9.46056271\n",
      "14266.4893\n",
      "-9.43874931\n",
      "13846.6055\n",
      "-9.43816471\n",
      "13469.4873\n",
      "-9.40873051\n",
      "13121.1758\n",
      "-9.41400623\n",
      "12809.7559\n",
      "-9.39091873\n",
      "12539.9385\n",
      "-9.30382824\n",
      "12301.3447\n",
      "-9.29044914\n",
      "12124.7715\n",
      "-9.29169273\n",
      "11965.3174\n",
      "-9.2936306\n",
      "11819.3535\n",
      "-9.31336212\n",
      "11685.5088\n",
      "-9.33498192\n",
      "11561.8906\n",
      "-9.37746048\n",
      "11448.9727\n",
      "-9.41977882\n",
      "11345.9609\n",
      "-9.49632454\n",
      "11251.9414\n",
      "-9.56091595\n",
      "11165.6836\n",
      "-9.61850834\n",
      "11086.5195\n",
      "-9.66559696\n",
      "11019.582\n",
      "-9.733078\n",
      "10956.8584\n",
      "-9.81856537\n",
      "10899.2695\n",
      "-9.87565231\n",
      "10846.4131\n",
      "-9.87858486\n",
      "10796.4092\n",
      "-9.90997219\n",
      "10749.3213\n",
      "-9.94291115\n",
      "10704.9473\n",
      "-9.98249722\n",
      "10659.7598\n",
      "-9.95144939\n",
      "10614.418\n",
      "-9.92729\n",
      "10566.6895\n",
      "-9.90338135\n",
      "10528.0312\n",
      "-9.8188715\n",
      "10491.6592\n",
      "-9.66801453\n",
      "10457.3203\n",
      "-9.5127182\n",
      "10424.1787\n",
      "-9.34490585\n",
      "10390.3301\n",
      "-9.23302841\n",
      "10358.2861\n",
      "-9.06543255\n",
      "10327.5625\n",
      "-8.88408089\n",
      "10298.1572\n",
      "-8.70542622\n",
      "10269.415\n",
      "-8.54254627\n",
      "10241.1807\n",
      "-8.29714775\n",
      "10218.1211\n",
      "-8.10796738\n",
      "10195.4\n",
      "-7.93207169\n",
      "10168.7354\n",
      "-7.81943893\n",
      "10135.5508\n",
      "-7.67357254\n",
      "10102.9717\n",
      "-7.42441177\n",
      "10068.8105\n",
      "-7.00170898\n",
      "10034.6465\n",
      "-6.63170433\n",
      "10001.8174\n",
      "-6.22246933\n",
      "9968.74219\n",
      "-5.87609482\n",
      "9932.72852\n",
      "-5.56411171\n",
      "9901.3252\n",
      "-5.21781349\n",
      "9867.1084\n",
      "-4.92639923\n",
      "9828.70898\n",
      "-4.55189323\n",
      "9789.98242\n",
      "-4.00422478\n",
      "9750.0625\n",
      "-3.58260345\n",
      "9706.92578\n",
      "-2.95192337\n",
      "9663.24121\n",
      "-2.4640522\n",
      "9619.83496\n",
      "-1.87754822\n",
      "9574.4375\n",
      "-1.44254494\n",
      "9528.93555\n",
      "-0.731735229\n",
      "9492.34082\n",
      "-0.230651855\n",
      "9460.38\n",
      "0.630508423\n",
      "9428.16504\n",
      "0.61179924\n",
      "9394.29102\n",
      "1.69889069\n",
      "9362.89\n",
      "2.03695679\n",
      "9330.98633\n",
      "2.66402531\n",
      "9295.44141\n",
      "3.23750496\n",
      "9260.95801\n",
      "3.76309204\n",
      "9227.99902\n",
      "4.45468235\n",
      "9196.77539\n",
      "4.92344761\n",
      "9172.21191\n",
      "5.50906754\n",
      "9148.30273\n",
      "5.97156811\n",
      "9124.45605\n",
      "6.36613\n",
      "9100.12891\n",
      "6.81906796\n",
      "9076.27051\n",
      "7.32320881\n",
      "9053.63379\n",
      "7.88652134\n",
      "9031.33594\n",
      "8.43298626\n",
      "9010.04785\n",
      "8.71737385\n",
      "8990.34277\n",
      "9.23443699\n",
      "8971.75684\n",
      "9.80754089\n",
      "8957.68848\n",
      "10.1278572\n",
      "8944.88574\n",
      "10.6677876\n",
      "8933.13379\n",
      "10.8998833\n",
      "8922.40625\n",
      "11.5372257\n",
      "8912.09668\n",
      "11.5951176\n",
      "8902.70312\n",
      "12.1705713\n",
      "8893.37891\n",
      "12.2451067\n",
      "8885.53613\n",
      "12.6237497\n",
      "8878.1377\n",
      "12.7662964\n",
      "8872.02148\n",
      "13.0700874\n",
      "8865.60547\n",
      "13.152091\n",
      "8860.66406\n",
      "13.3398132\n",
      "8856.31738\n",
      "13.4117022\n",
      "8852.65332\n",
      "13.5606279\n",
      "8849.39648\n",
      "13.5958157\n",
      "8846.53223\n",
      "13.7129135\n",
      "8843.81641\n",
      "13.7036095\n",
      "8841.52539\n",
      "13.8287621\n",
      "8839.66309\n",
      "13.7325201\n",
      "8839.34766\n",
      "13.9349947\n",
      "8837.5166\n",
      "13.7028704\n",
      "8836.66895\n",
      "13.9282475\n",
      "8835.10449\n",
      "13.6714\n",
      "8834.76758\n",
      "13.9139404\n",
      "8833.60547\n",
      "13.6100712\n",
      "8833.26\n",
      "13.8628893\n",
      "8832.25195\n",
      "13.5345345\n",
      "8832.07422\n",
      "13.7974329\n",
      "8831.0918\n",
      "13.485528\n",
      "8830.98438\n",
      "13.7439709\n",
      "8827.71777\n",
      "13.4918032\n",
      "8826.6748\n",
      "13.5917845\n",
      "8826.08594\n",
      "13.4910622\n",
      "8825.82617\n",
      "13.5183125\n",
      "8825.55\n",
      "13.4503174\n",
      "8825.41\n",
      "13.4650545\n",
      "8825.26074\n",
      "13.3957453\n",
      "8825.30762\n",
      "13.4335976\n",
      "8825.43359\n",
      "13.3318043\n",
      "8826.31445\n",
      "13.4282055\n",
      "8826.125\n",
      "13.2758102\n",
      "8826.32422\n",
      "13.4044466\n",
      "8826.2041\n",
      "13.238348\n",
      "8826.65723\n",
      "13.3976049\n",
      "8826.62305\n",
      "13.1922598\n",
      "8827.20898\n",
      "13.4082022\n",
      "8826.95898\n",
      "13.1421528\n",
      "8827.33301\n",
      "13.4155121\n",
      "8826.66797\n",
      "13.1212931\n",
      "8826.7793\n",
      "13.3896761\n",
      "8824.71191\n",
      "13.1887732\n",
      "8824.33301\n",
      "13.2780523\n",
      "8824.16113\n",
      "13.2247982\n",
      "8824.14746\n",
      "13.2560635\n",
      "8824.09082\n",
      "13.2237921\n",
      "8824.09375\n",
      "13.243722\n",
      "8824.05664\n",
      "13.2180185\n",
      "8824.08105\n",
      "13.2390604\n",
      "8824.07617\n",
      "13.207819\n",
      "8824.24707\n",
      "13.2510118\n",
      "8824.23633\n",
      "13.1952295\n",
      "8824.38867\n",
      "13.2520752\n",
      "8824.51074\n",
      "13.1842022\n",
      "8824.93\n",
      "13.26964\n",
      "8825.19336\n",
      "13.1463671\n",
      "8825.82227\n",
      "13.3341618\n",
      "8825.67383\n",
      "13.0947266\n",
      "8825.89258\n",
      "13.386652\n",
      "8825.00586\n",
      "13.1371346\n",
      "8824.87402\n",
      "13.3339272\n",
      "8824.05371\n",
      "13.2195635\n",
      "8823.96387\n",
      "13.2442465\n",
      "8823.94336\n",
      "13.2475605\n",
      "8823.92676\n",
      "13.2373056\n",
      "8823.9375\n",
      "13.251194\n",
      "8823.92\n",
      "13.2384892\n",
      "8823.93848\n",
      "13.2576866\n",
      "8823.92285\n",
      "13.236886\n",
      "8824.00684\n",
      "13.282711\n",
      "8824.00293\n",
      "13.2210407\n",
      "8824.02246\n",
      "13.2873955\n",
      "8823.95312\n",
      "13.2451077\n",
      "8823.97754\n",
      "13.2770672\n",
      "8823.98\n",
      "13.2637272\n",
      "8824.0332\n",
      "13.2708473\n",
      "8824.19\n",
      "13.290411\n",
      "8824.45703\n",
      "13.240675\n",
      "8825.10254\n",
      "13.3497667\n",
      "8825.0332\n",
      "13.1998091\n",
      "8824.96484\n",
      "13.3953695\n",
      "8823.99121\n",
      "13.2740078\n",
      "8823.93359\n",
      "13.2986794\n",
      "8823.92578\n",
      "13.2993374\n",
      "8823.9209\n",
      "13.295435\n",
      "8823.92188\n",
      "13.2992363\n",
      "8823.92285\n",
      "13.3007069\n",
      "8823.92188\n",
      "13.303545\n"
     ]
    },
    {
     "name": "stderr",
     "output_type": "stream",
     "text": [
      "--- Gradient descent complete ---\n",
      "\n",
      "Time taken for gradient descent: 8.235671281814575\n"
     ]
    },
    {
     "name": "stdout",
     "output_type": "stream",
     "text": [
      "IDENT_1          ra                 dec         ... not_drawn_z not_drawn_y\n",
      "------- ------------------- ------------------- ... ----------- -----------\n",
      "  19877 -0.6379257157789342 -0.1663390124240306 ...         0.0         0.0\n"
     ]
    },
    {
     "name": "stderr",
     "output_type": "stream",
     "text": [
      "\n",
      "--- Starting gradient descent in the latent space ---\n",
      "Maximum number of iterations: 300\n",
      "Number of Galaxies: 1\n",
      "Dimensions of latent space: 8\n"
     ]
    },
    {
     "name": "stdout",
     "output_type": "stream",
     "text": [
      "39143.9961\n",
      "10.2365723\n",
      "19444.9512\n",
      "-165.860764\n",
      "11338.5234\n",
      "-199.81665\n",
      "10701.0703\n",
      "-172.289658\n",
      "10445.0938\n",
      "-151.514786\n",
      "10122.2354\n",
      "-131.435471\n",
      "9644.61914\n",
      "-109.283936\n",
      "9504.92383\n",
      "-97.258728\n",
      "9470.48145\n",
      "-93.5622253\n",
      "9437.44824\n",
      "-90.5068588\n",
      "9406.3\n",
      "-86.4192276\n",
      "9375.64\n",
      "-82.51297\n",
      "9341.0918\n",
      "-77.8819504\n",
      "9309.6543\n",
      "-73.4029465\n",
      "9282.08203\n",
      "-68.8371506\n",
      "9260.69727\n",
      "-64.2971725\n",
      "9242.97266\n",
      "-59.5807076\n",
      "9228.38184\n",
      "-54.8813477\n",
      "9215.84668\n",
      "-50.0857925\n",
      "9204.79688\n",
      "-45.641716\n",
      "9194.22168\n",
      "-41.1607437\n",
      "9185.60352\n",
      "-37.2840118\n",
      "9177.33203\n",
      "-33.3368454\n",
      "9169.48\n",
      "-29.3312\n",
      "9161.53613\n",
      "-25.5312214\n",
      "9153.16211\n",
      "-21.5141449\n",
      "9144.56934\n",
      "-17.5809898\n",
      "9136.24902\n",
      "-13.7021275\n",
      "9127.93457\n",
      "-9.74349403\n",
      "9120.49316\n",
      "-6.21478653\n",
      "9114.4\n",
      "-3.127882\n",
      "9109.8\n",
      "-0.786182404\n",
      "9105.57324\n",
      "1.36817169\n",
      "9101.88867\n",
      "3.31490898\n",
      "9098.60352\n",
      "5.19961166\n",
      "9095.66113\n",
      "6.89750099\n",
      "9093.0293\n",
      "8.44147396\n",
      "9090.78223\n",
      "9.81283\n",
      "9088.80176\n",
      "11.0862274\n",
      "9087.07617\n",
      "12.2300911\n",
      "9085.57812\n",
      "13.3173065\n",
      "9084.61426\n",
      "14.0985126\n",
      "9084.45605\n",
      "14.8446407\n",
      "9086.87891\n",
      "15.5187788\n",
      "9100.17578\n",
      "16.1044044\n",
      "9166.86328\n",
      "16.5023727\n",
      "9342.93457\n",
      "16.6574173\n",
      "9563.33496\n",
      "13.6833448\n",
      "9232.46484\n",
      "18.1452942\n",
      "9186.26\n",
      "15.9752712\n",
      "9141.8252\n",
      "17.9477787\n",
      "9099.2041\n",
      "17.3810596\n",
      "9083.69629\n",
      "18.3075218\n",
      "9080.25293\n",
      "18.329874\n",
      "9079.37598\n",
      "18.6766624\n",
      "9078.9248\n",
      "18.7569103\n",
      "9078.81543\n",
      "18.9595528\n",
      "9078.70605\n",
      "19.002697\n",
      "9078.89648\n",
      "19.1801548\n",
      "9079.33887\n",
      "19.1841011\n",
      "9081.07\n",
      "19.3971462\n",
      "9081.9541\n",
      "19.3051014\n",
      "9083.72656\n",
      "19.5260811\n",
      "9088.49\n",
      "19.3569794\n",
      "9099.26758\n",
      "19.6377373\n",
      "9128.18555\n",
      "19.1911697\n",
      "9177.25781\n",
      "19.6235104\n",
      "9267.83496\n",
      "17.5717697\n",
      "9199.44727\n",
      "19.7957764\n",
      "9180.27441\n",
      "17.2638588\n",
      "9119.5127\n",
      "19.7217236\n",
      "9084.01855\n",
      "19.354084\n",
      "9078.42676\n",
      "19.6200085\n",
      "9077.90723\n",
      "19.6390133\n",
      "9077.88086\n",
      "19.704689\n",
      "9077.85645\n",
      "19.723135\n",
      "9077.86523\n",
      "19.7587872\n",
      "9077.85449\n",
      "19.7733345\n",
      "9077.86\n",
      "19.8061428\n",
      "9077.84668\n",
      "19.8168278\n",
      "9077.86328\n",
      "19.8463898\n",
      "9077.85254\n",
      "19.8465118\n",
      "9077.87\n",
      "19.8736134\n",
      "9077.86523\n",
      "19.867054\n",
      "9077.91602\n",
      "19.8984661\n",
      "9077.96094\n",
      "19.8754807\n",
      "9078.24805\n",
      "19.9294624\n",
      "9079.04\n",
      "19.8656769\n",
      "9082.57715\n",
      "19.9664879\n",
      "9097.37402\n",
      "19.5568218\n",
      "9152.73242\n",
      "19.7949562\n",
      "9145.54297\n",
      "18.683\n",
      "9091.76758\n",
      "19.9432411\n",
      "9081.14062\n",
      "19.8347244\n",
      "9078.81055\n",
      "19.9044819\n",
      "9078.27637\n",
      "19.893343\n",
      "9078.16113\n",
      "19.9361877\n",
      "9078.11\n",
      "19.9234276\n",
      "9078.19531\n",
      "19.9576683\n",
      "9078.33789\n",
      "19.9430733\n",
      "9078.7959\n",
      "19.9849606\n",
      "9078.63672\n",
      "19.955658\n",
      "9078.70801\n",
      "20.0024967\n",
      "9078.87109\n",
      "19.9611855\n",
      "9079.53516\n",
      "20.0211296\n",
      "9080.9873\n",
      "19.9232559\n",
      "9084.64453\n",
      "20.0338745\n",
      "9093.39453\n",
      "19.7161636\n",
      "9104.66797\n",
      "19.9901409\n"
     ]
    },
    {
     "name": "stderr",
     "output_type": "stream",
     "text": [
      "--- Gradient descent complete ---\n",
      "\n",
      "Time taken for gradient descent: 6.495847702026367\n"
     ]
    },
    {
     "name": "stdout",
     "output_type": "stream",
     "text": [
      "IDENT_1          ra                  dec         ... not_drawn_z not_drawn_y\n",
      "------- -------------------- ------------------- ... ----------- -----------\n",
      " 161377 -0.47331438255402924 -0.4351007352092223 ...         0.0         0.0\n"
     ]
    },
    {
     "name": "stderr",
     "output_type": "stream",
     "text": [
      "\n",
      "--- Starting gradient descent in the latent space ---\n",
      "Maximum number of iterations: 300\n",
      "Number of Galaxies: 1\n",
      "Dimensions of latent space: 8\n"
     ]
    },
    {
     "name": "stdout",
     "output_type": "stream",
     "text": [
      "75458.8672\n",
      "21.0108452\n",
      "43156.4648\n",
      "-99.878006\n",
      "57968.8828\n",
      "15.8719597\n",
      "13821.0098\n",
      "3.3453846\n",
      "22658.2383\n",
      "-7.24616432\n",
      "30699.7793\n",
      "14.3208809\n",
      "11554.4746\n",
      "3.34705544\n",
      "11592.7812\n",
      "9.06231308\n",
      "11544.002\n",
      "4.16120052\n",
      "13692.2695\n",
      "10.7502804\n",
      "12700.9414\n",
      "4.82313156\n",
      "12279.1797\n",
      "11.0902138\n",
      "9759.28711\n",
      "7.65428925\n",
      "9758.30273\n",
      "10.499773\n",
      "9752.85156\n",
      "7.88862514\n",
      "10345.2441\n",
      "11.3085537\n",
      "10819.6367\n",
      "7.66311\n",
      "12432.8662\n",
      "12.5479698\n",
      "11203.5176\n",
      "8.70876884\n",
      "12861.3203\n",
      "13.1640472\n",
      "11470.0898\n",
      "9.3618269\n",
      "10792.2314\n",
      "12.8591824\n",
      "9266.68\n",
      "11.04107\n",
      "9177.81934\n",
      "12.3856373\n",
      "9153.69434\n",
      "11.2889709\n",
      "9269.8457\n",
      "12.6468163\n",
      "9370.03516\n",
      "11.2021313\n",
      "9828.60938\n",
      "13.1728\n",
      "10185.1943\n",
      "10.8953638\n",
      "11571.3398\n",
      "13.8820887\n",
      "11188.9941\n",
      "10.9336681\n",
      "10544.3926\n",
      "13.6933107\n",
      "9178.47\n",
      "12.175024\n",
      "9030.99902\n",
      "13.0960026\n",
      "8988.14648\n",
      "12.4113379\n",
      "9004.05371\n",
      "13.1050949\n",
      "9036.15\n",
      "12.4091921\n",
      "9154.27734\n",
      "13.2618361\n",
      "9323.61\n",
      "12.2122173\n",
      "9946.38281\n",
      "13.6679783\n",
      "10421.5752\n",
      "11.7218332\n",
      "10278.5449\n",
      "13.7541828\n",
      "9169.89648\n",
      "12.579\n",
      "9053.56055\n",
      "13.3489304\n",
      "8974.50293\n",
      "12.7731638\n",
      "8976.50488\n",
      "13.2702341\n",
      "8978.64062\n",
      "12.7858047\n",
      "9047.91797\n",
      "13.3106165\n",
      "9140.84473\n",
      "12.6728544\n",
      "9477.74219\n",
      "13.4708204\n",
      "9876.0459\n",
      "12.3179455\n",
      "9642.44434\n",
      "13.456934\n",
      "9118.31152\n",
      "12.7163801\n",
      "9023.81738\n",
      "13.2581024\n",
      "8946.99414\n",
      "12.852664\n",
      "8945.16211\n",
      "13.1820736\n",
      "8939.72656\n",
      "12.8609085\n",
      "8983.77441\n",
      "13.1888943\n",
      "9032.27051\n",
      "12.7844868\n",
      "9187.91211\n",
      "13.2257404\n",
      "9392.73145\n",
      "12.5930243\n",
      "9262.77637\n",
      "13.2280045\n",
      "9017.6084\n",
      "12.7759018\n",
      "8948.7334\n",
      "13.0802479\n",
      "8901.55078\n",
      "12.8443356\n",
      "8897.03223\n",
      "13.0368156\n",
      "8893.6709\n",
      "12.8435659\n",
      "8920.00098\n",
      "13.0332613\n",
      "8953.9707\n",
      "12.7886391\n",
      "9060.33789\n",
      "13.0426064\n",
      "9192.56152\n",
      "12.6539335\n",
      "9076.23145\n",
      "13.0194778\n",
      "8936.50391\n",
      "12.7609148\n",
      "8898.45\n",
      "12.9491959\n",
      "8872.47168\n",
      "12.8070631\n",
      "8871.51465\n",
      "12.9331207\n",
      "8875.27832\n",
      "12.7932892\n",
      "8898.08\n",
      "12.9223537\n",
      "8929.55859\n",
      "12.7483873\n",
      "9016.40527\n",
      "12.9341869\n",
      "9112.67383\n",
      "12.6449184\n",
      "8997.28711\n",
      "12.9044304\n",
      "8886.86719\n",
      "12.7381096\n",
      "8853.37891\n",
      "12.8624954\n",
      "8841.97168\n",
      "12.7807703\n",
      "8838.54785\n",
      "12.8425436\n",
      "8839.36328\n",
      "12.7774591\n",
      "8844.54\n",
      "12.8407831\n",
      "8857.32812\n",
      "12.7542391\n",
      "8885.9668\n",
      "12.8484688\n",
      "8943.90625\n",
      "12.6977148\n",
      "8928.19141\n",
      "12.8561277\n",
      "8886.58789\n",
      "12.7113218\n",
      "8867.79883\n",
      "12.8226423\n",
      "8856.9375\n",
      "12.7290955\n",
      "8855.76758\n",
      "12.815444\n",
      "8860.42285\n",
      "12.7212019\n",
      "8872.04199\n",
      "12.8089275\n",
      "8889.07422\n",
      "12.6980267\n",
      "8926.93555\n",
      "12.8120461\n",
      "8952.81152\n",
      "12.6487246\n",
      "8881.06152\n",
      "12.7874784\n",
      "8839.26855\n",
      "12.7065525\n",
      "8828.56\n",
      "12.7554874\n",
      "8825.1709\n",
      "12.7246389\n",
      "8824.22168\n",
      "12.7475567\n",
      "8824.06543\n",
      "12.7224083\n",
      "8824.79102\n",
      "12.7445536\n",
      "8826.60254\n",
      "12.713378\n",
      "8831.45605\n",
      "12.746933\n",
      "8843.45508\n",
      "12.6901741\n",
      "8843.86719\n",
      "12.7467813\n",
      "8844.27539\n",
      "12.6830177\n",
      "8847.01855\n",
      "12.7434578\n",
      "8851.25\n",
      "12.6740808\n",
      "8857.66\n",
      "12.7445803\n",
      "8861.68457\n",
      "12.6650791\n",
      "8867.11523\n",
      "12.7489424\n",
      "8865.85156\n",
      "12.6624355\n",
      "8865.1543\n",
      "12.7457228\n",
      "8858.7793\n",
      "12.6651783\n",
      "8831.52148\n",
      "12.7297878\n",
      "8823.49414\n",
      "12.6966858\n",
      "8821.77441\n",
      "12.7112522\n",
      "8821.29785\n",
      "12.699192\n",
      "8821.16211\n",
      "12.7056828\n",
      "8821.12402\n",
      "12.6967812\n",
      "8821.18359\n",
      "12.7026901\n",
      "8821.35254\n",
      "12.6920929\n",
      "8821.8418\n",
      "12.7017803\n",
      "8823.15723\n",
      "12.6830692\n",
      "8823.58789\n",
      "12.7021179\n",
      "8824.45508\n",
      "12.6777649\n",
      "8826.53906\n",
      "12.703413\n",
      "8830.68848\n",
      "12.6664677\n",
      "8838.83594\n",
      "12.7088184\n",
      "8848.03613\n",
      "12.6484547\n"
     ]
    },
    {
     "name": "stderr",
     "output_type": "stream",
     "text": [
      "--- Gradient descent complete ---\n",
      "\n",
      "Time taken for gradient descent: 6.845148324966431\n"
     ]
    },
    {
     "name": "stdout",
     "output_type": "stream",
     "text": [
      "IDENT_1         ra                dec         ... not_drawn_z not_drawn_y\n",
      "------- ------------------ ------------------ ... ----------- -----------\n",
      " 105372 -1.057497957058063 0.7534322901076422 ...         0.0         0.0\n"
     ]
    },
    {
     "name": "stderr",
     "output_type": "stream",
     "text": [
      "\n",
      "--- Starting gradient descent in the latent space ---\n",
      "Maximum number of iterations: 300\n",
      "Number of Galaxies: 1\n",
      "Dimensions of latent space: 8\n"
     ]
    },
    {
     "name": "stdout",
     "output_type": "stream",
     "text": [
      "15461.249\n",
      "19.1429863\n",
      "107620.523\n",
      "-115.830444\n",
      "13953.6504\n",
      "14.5790443\n",
      "14472.3574\n",
      "18.3267841\n",
      "13637.498\n",
      "16.4568138\n",
      "12603.166\n",
      "13.8390007\n",
      "11431.0107\n",
      "10.8321333\n",
      "10738.3682\n",
      "7.95324135\n",
      "10251.6924\n",
      "4.12872314\n",
      "9671.64648\n",
      "-4.53487396\n",
      "9285.36914\n",
      "-18.6831684\n",
      "9184.49707\n",
      "-24.5333214\n",
      "9127.3877\n",
      "-24.9645863\n",
      "9085.83789\n",
      "-24.5945816\n",
      "9054.38184\n",
      "-24.4428368\n",
      "9029.46875\n",
      "-24.1596813\n",
      "9010.67383\n",
      "-24.0178757\n",
      "8998.80371\n",
      "-23.4250755\n",
      "8990.71582\n",
      "-23.0892029\n",
      "8985.39\n",
      "-22.5780525\n",
      "8981.58\n",
      "-21.9785728\n",
      "8979.25293\n",
      "-21.4205952\n",
      "8977.40625\n",
      "-20.8552227\n",
      "8975.88184\n",
      "-20.2867508\n",
      "8974.66\n",
      "-19.6816368\n",
      "8973.60352\n",
      "-19.0827217\n",
      "8972.68164\n",
      "-18.4728813\n",
      "8971.92773\n",
      "-17.7855434\n",
      "8971.22266\n",
      "-17.0601559\n",
      "8970.51855\n",
      "-16.296524\n",
      "8969.79688\n",
      "-15.5163212\n",
      "8969.23438\n",
      "-14.7757111\n",
      "8968.60254\n",
      "-14.0291138\n",
      "8968.0127\n",
      "-13.1969471\n",
      "8967.36621\n",
      "-12.3892059\n",
      "8966.86328\n",
      "-11.4471684\n",
      "8966.26\n",
      "-10.5924\n",
      "8965.65\n",
      "-9.73239326\n",
      "8964.9043\n",
      "-8.92682648\n",
      "8964.27832\n",
      "-7.9482708\n",
      "8963.46387\n",
      "-7.21821594\n",
      "8963.41602\n",
      "-6.1355648\n",
      "8963.0459\n",
      "-6.05086136\n",
      "8967.37109\n",
      "-4.11538696\n",
      "8979.99902\n",
      "-5.45448494\n",
      "9068.78613\n",
      "-0.259712219\n",
      "9383.18066\n",
      "-7.30698\n",
      "10372.5391\n",
      "10.5174036\n",
      "9016.39648\n",
      "-6.17929077\n",
      "8990.7627\n",
      "3.31205559\n",
      "9016.16211\n",
      "1.22208405\n",
      "9051.46191\n",
      "3.8854084\n",
      "8990.56934\n",
      "1.34273911\n",
      "9013.2793\n",
      "4.43592453\n",
      "8991.26074\n",
      "2.22595215\n",
      "9028.53125\n",
      "5.3276062\n",
      "9010.58\n",
      "2.62980652\n",
      "9082.93164\n",
      "6.66456699\n",
      "9045.17578\n",
      "2.98830605\n",
      "9161.02246\n",
      "8.23890591\n",
      "9096.80078\n",
      "2.43955231\n",
      "9095.5\n",
      "8.93695736\n",
      "8963.45898\n",
      "5.07962608\n",
      "8953.23438\n",
      "6.81368065\n",
      "8946.86719\n",
      "6.42445946\n",
      "8945.66309\n",
      "7.45267868\n",
      "8944.15234\n",
      "7.22967339\n",
      "8944.61719\n",
      "8.19523811\n",
      "8944.43555\n",
      "7.85554028\n",
      "8948.05469\n",
      "9.07586193\n",
      "8953.64941\n",
      "8.12973785\n",
      "8965.81152\n",
      "9.79889107\n",
      "8967.26172\n",
      "8.22700214\n",
      "9000.69531\n",
      "10.6004105\n",
      "9004.23438\n",
      "7.73769093\n",
      "9092.47852\n",
      "11.7718906\n",
      "9035.68555\n",
      "7.51172638\n",
      "9095.61\n",
      "11.9562311\n",
      "8993.83\n",
      "8.25348663\n",
      "8985.78125\n",
      "11.4741144\n",
      "8960.41406\n",
      "9.17029858\n",
      "8948.31738\n",
      "10.8469048\n",
      "8941.70605\n",
      "10.1532574\n",
      "8941.10742\n",
      "10.7256355\n",
      "8940.52051\n",
      "10.6605148\n",
      "8940.53906\n",
      "10.9707727\n",
      "8940.32227\n",
      "10.9753551\n",
      "8940.5127\n",
      "11.2873068\n",
      "8940.51758\n",
      "11.2570381\n",
      "8941.37891\n",
      "11.6828651\n",
      "8942.81445\n",
      "11.4082193\n",
      "8945.19141\n",
      "12.0619\n",
      "8946.86426\n",
      "11.45965\n",
      "8955.4082\n",
      "12.4430895\n",
      "8966.19531\n",
      "11.2446012\n",
      "9000.28906\n",
      "13.1840811\n"
     ]
    },
    {
     "name": "stderr",
     "output_type": "stream",
     "text": [
      "--- Gradient descent complete ---\n",
      "\n",
      "Time taken for gradient descent: 7.00981879234314\n"
     ]
    },
    {
     "name": "stdout",
     "output_type": "stream",
     "text": [
      "IDENT_1         ra                dec         ... not_drawn_z not_drawn_y\n",
      "------- ------------------ ------------------ ... ----------- -----------\n",
      " 200310 0.0387242629820137 0.2978946647787597 ...         0.0         0.0\n"
     ]
    },
    {
     "name": "stderr",
     "output_type": "stream",
     "text": [
      "\n",
      "--- Starting gradient descent in the latent space ---\n",
      "Maximum number of iterations: 300\n",
      "Number of Galaxies: 1\n",
      "Dimensions of latent space: 8\n"
     ]
    },
    {
     "name": "stdout",
     "output_type": "stream",
     "text": [
      "58066.8125\n",
      "8.62317657\n",
      "22084.4043\n",
      "-64.771019\n",
      "18591.1738\n",
      "-59.4884033\n",
      "15458.4443\n",
      "-23.5597019\n",
      "14850.1641\n",
      "-10.9247131\n",
      "14638.5508\n",
      "-6.50639153\n",
      "14508.6523\n",
      "-4.57474899\n",
      "14411.4395\n",
      "-3.63704681\n",
      "14324.7373\n",
      "-3.39848137\n",
      "14240.5293\n",
      "-3.46704865\n",
      "14142.1729\n",
      "-3.71859741\n",
      "14049.8926\n",
      "-3.91738319\n",
      "13940.5156\n",
      "-4.18390465\n",
      "13818.2295\n",
      "-4.18576431\n",
      "13678.3477\n",
      "-4.31676197\n",
      "13484.7832\n",
      "-4.26716518\n",
      "13210.1426\n",
      "-5.10118771\n",
      "12785.585\n",
      "-5.53607941\n",
      "12051.1338\n",
      "-3.86444569\n",
      "10812.4131\n",
      "-1.14271927\n",
      "9662.37\n",
      "0.366235733\n",
      "9221.33789\n",
      "1.4191761\n",
      "9015.85547\n",
      "1.91051865\n",
      "8921.40527\n",
      "2.15614223\n",
      "8873.16699\n",
      "1.9924221\n",
      "8847.49\n",
      "2.03153801\n",
      "8860.72656\n",
      "1.32492924\n",
      "9036.25\n",
      "1.90675163\n",
      "9835.33\n",
      "-0.355162621\n",
      "13214.0596\n",
      "-1.61990356\n",
      "10784.8477\n",
      "1.02083302\n",
      "9813.90234\n",
      "-0.593585968\n",
      "8919.76367\n",
      "-1.0036478\n",
      "8837.83\n",
      "-0.668084145\n",
      "8805.48633\n",
      "-1.1747694\n",
      "8789.08496\n",
      "-1.39539909\n",
      "8775.18848\n",
      "-1.77866364\n",
      "8763.9\n",
      "-2.05509377\n",
      "8754.6084\n",
      "-2.44111443\n",
      "8747.76074\n",
      "-2.65509033\n",
      "8743.68555\n",
      "-3.09345245\n",
      "8740.75684\n",
      "-3.07161331\n",
      "8738.89746\n",
      "-3.56948853\n",
      "8742.34\n",
      "-3.36904335\n",
      "8758.12793\n",
      "-4.1072464\n",
      "8835.85156\n",
      "-3.38403702\n",
      "9114.11816\n",
      "-5.01080894\n",
      "10392.7656\n",
      "-3.64548111\n",
      "9989.01074\n",
      "-4.63956547\n",
      "10447.5674\n",
      "-6.12861061\n",
      "8963.44531\n",
      "-4.84121323\n",
      "8754.75\n",
      "-4.36842155\n",
      "8751.13\n",
      "-4.46252251\n",
      "8744.67\n",
      "-4.61098862\n",
      "8740.22461\n",
      "-4.70252419\n",
      "8736.49316\n",
      "-4.8381176\n",
      "8733.09473\n",
      "-4.97582436\n",
      "8730.22168\n",
      "-5.10228539\n",
      "8727.8125\n",
      "-5.20828629\n",
      "8725.71582\n",
      "-5.28294945\n",
      "8723.91797\n",
      "-5.34911156\n",
      "8722.68945\n",
      "-5.38290596\n",
      "8721.68848\n",
      "-5.39100075\n",
      "8720.82617\n",
      "-5.37974739\n",
      "8720.06152\n",
      "-5.35220909\n",
      "8719.37891\n",
      "-5.30758476\n",
      "8718.82\n",
      "-5.23517609\n",
      "8718.36133\n",
      "-5.14680862\n",
      "8718.00781\n",
      "-5.03756523\n",
      "8717.78613\n",
      "-4.92045\n",
      "8718.26367\n",
      "-4.7619133\n",
      "8720.6709\n",
      "-4.65491486\n",
      "8732.89941\n",
      "-4.43063927\n",
      "8781.8418\n",
      "-4.59730911\n",
      "9018.84766\n",
      "-4.29512024\n",
      "9356.7334\n",
      "-4.98946762\n"
     ]
    },
    {
     "name": "stderr",
     "output_type": "stream",
     "text": [
      "--- Gradient descent complete ---\n",
      "\n",
      "Time taken for gradient descent: 6.028473854064941\n"
     ]
    },
    {
     "name": "stdout",
     "output_type": "stream",
     "text": [
      "IDENT_1          ra                dec         ... not_drawn_z not_drawn_y\n",
      "------- ------------------- ------------------ ... ----------- -----------\n",
      " 145691 0.20971225115633696 0.3546521723027187 ...         0.0         0.0\n"
     ]
    },
    {
     "name": "stderr",
     "output_type": "stream",
     "text": [
      "\n",
      "--- Starting gradient descent in the latent space ---\n",
      "Maximum number of iterations: 300\n",
      "Number of Galaxies: 1\n",
      "Dimensions of latent space: 8\n"
     ]
    },
    {
     "name": "stdout",
     "output_type": "stream",
     "text": [
      "71765.3672\n",
      "10.972333\n",
      "81593.2656\n",
      "-6.81545734\n",
      "27815.6621\n",
      "8.56742096\n",
      "11036.918\n",
      "4.48283768\n",
      "9627.27344\n",
      "6.11297321\n",
      "9225.6709\n",
      "6.657444\n",
      "9017.125\n",
      "6.51443481\n",
      "8900.46191\n",
      "6.63985729\n",
      "8837.18359\n",
      "6.54376793\n",
      "8802.05273\n",
      "6.73604679\n",
      "8780.99414\n",
      "6.67128658\n",
      "8765.37695\n",
      "6.86915302\n",
      "8754.95312\n",
      "6.80663109\n",
      "8747.59\n",
      "7.01133156\n",
      "8743.12891\n",
      "6.93753862\n",
      "8745.29688\n",
      "7.22850847\n",
      "8764.46094\n",
      "6.98224354\n",
      "8844.86523\n",
      "7.57231569\n",
      "9144.50879\n",
      "6.73274946\n",
      "10264.3486\n",
      "8.36459923\n",
      "14108.3887\n",
      "5.24803352\n",
      "14977.1855\n",
      "9.19988632\n",
      "12111.8242\n",
      "5.57417202\n",
      "11028.124\n",
      "8.56278896\n",
      "9923.29395\n",
      "6.56251431\n",
      "9750.43359\n",
      "8.28185272\n",
      "9655.13574\n",
      "6.81568146\n",
      "9888.81836\n",
      "8.44666481\n",
      "10140.5332\n",
      "6.77672911\n",
      "10841.7031\n",
      "8.68848324\n",
      "11509.1934\n",
      "6.42307091\n",
      "10016.9336\n",
      "8.45964\n",
      "9165.51367\n",
      "7.21133518\n",
      "8961.91797\n",
      "8.15606\n",
      "8850.35742\n",
      "7.49949741\n",
      "8844.97461\n",
      "8.09008789\n",
      "8850.2627\n",
      "7.52196455\n",
      "8930.20898\n",
      "8.16806\n",
      "9071.99414\n",
      "7.39685774\n",
      "9494.79\n",
      "8.42723465\n",
      "10244.5713\n",
      "6.99063969\n",
      "9994.64258\n",
      "8.5595932\n",
      "9449.4873\n",
      "7.29319334\n",
      "9259.49609\n",
      "8.34888\n",
      "9084.38672\n",
      "7.47266817\n",
      "9074.18262\n",
      "8.28026772\n",
      "9059.57129\n",
      "7.50563431\n",
      "9172.61816\n",
      "8.32280254\n",
      "9298.66113\n",
      "7.41024685\n",
      "9645.05078\n",
      "8.47276402\n",
      "9970.5459\n",
      "7.18910408\n",
      "9326.95117\n",
      "8.35874176\n",
      "8893.25195\n",
      "7.62922764\n",
      "8773.01758\n",
      "8.11237812\n",
      "8722.33887\n",
      "7.78559256\n",
      "8705.48828\n",
      "8.03763294\n",
      "8701.31641\n",
      "7.81435108\n",
      "8707.32\n",
      "8.04366875\n",
      "8726.48926\n",
      "7.7823782\n",
      "8787.31641\n",
      "8.13215065\n",
      "8925.4541\n",
      "7.63107204\n",
      "8960.30469\n",
      "8.23048\n",
      "8947.20801\n",
      "7.62321949\n",
      "8995.49414\n",
      "8.24883461\n",
      "9011.1875\n",
      "7.59255314\n",
      "9094.70801\n",
      "8.28812\n",
      "9123.12695\n",
      "7.53655052\n",
      "9203.53809\n",
      "8.32488155\n",
      "9170.36\n",
      "7.5174489\n",
      "9177.71289\n",
      "8.31461525\n",
      "9086.59863\n",
      "7.56872082\n",
      "8787.04\n",
      "8.12925339\n",
      "8691.04199\n",
      "7.8533721\n",
      "8673.14258\n",
      "7.98520851\n",
      "8669.0332\n",
      "7.91586161\n",
      "8667.85449\n",
      "7.96177197\n",
      "8667.38086\n",
      "7.92471409\n",
      "8667.35156\n",
      "7.96116209\n",
      "8667.58398\n",
      "7.92222691\n",
      "8668.53125\n",
      "7.97188187\n",
      "8670.97852\n",
      "7.90472174\n",
      "8671.5791\n",
      "7.98621082\n",
      "8672.97266\n",
      "7.8984046\n",
      "8677.25879\n",
      "8.0056057\n",
      "8687.31738\n",
      "7.86334229\n",
      "8718.88672\n",
      "8.07511902\n",
      "8801.8623\n",
      "7.73467541\n",
      "9031.72949\n",
      "8.27485275\n"
     ]
    },
    {
     "name": "stderr",
     "output_type": "stream",
     "text": [
      "--- Gradient descent complete ---\n",
      "\n",
      "Time taken for gradient descent: 6.166344404220581\n"
     ]
    }
   ],
   "source": [
    "import sys \n",
    "sys.path.insert(0,'../')\n",
    "from scripts.Deblender import Deblend\n",
    "import tensorflow as tf\n",
    "import tensorflow_probability as tfp\n",
    "\n",
    "\n",
    "madness_predictions = []\n",
    "for i in range(len(blend['blend_list'])):\n",
    "    blends = blend['blend_list'][i]\n",
    "    print(blends)\n",
    "    detected_positions = []\n",
    "    for j in range(len(blends)):\n",
    "        detected_positions.append([blends['y_peak'][j], blends['x_peak'][j]])\n",
    "\n",
    "    deb = Deblend(field_images[i]/80000, \n",
    "                  detected_positions,\n",
    "                  latent_dim=8, \n",
    "                  num_components=len(blends), \n",
    "                  use_likelihood=True, \n",
    "                  max_iter=300)\n",
    "    #tf.config.run_functions_eagerly(False)\n",
    "    convergence_criterion = tfp.optimizer.convergence_criteria.LossNotDecreasing(atol=.00005*45*45*len(blends)*3, min_num_steps=50, window_size=15)\n",
    "    #convergence_criterion = None\n",
    "    lr_scheduler = tf.keras.optimizers.schedules.ExponentialDecay(initial_learning_rate=0.05, decay_steps=10, decay_rate=0.8, staircase=True)\n",
    "    optimizer=tf.keras.optimizers.RMSprop(learning_rate=lr_scheduler, momentum=0.1)\n",
    "\n",
    "    deb(convergence_criterion, optimizer=optimizer, use_deblender=False, compute_sig_dynamically=False)\n",
    "    madness_predictions.append(deb.get_components())\n",
    "    del(deb)"
   ]
  },
  {
   "cell_type": "code",
   "execution_count": 21,
   "id": "e1eabfd1-9cf2-48da-b066-91cf9db28ffe",
   "metadata": {},
   "outputs": [
    {
     "data": {
      "text/plain": [
       "(1, 6, 45, 45)"
      ]
     },
     "execution_count": 21,
     "metadata": {},
     "output_type": "execute_result"
    }
   ],
   "source": [
    "np.shape(madness_predictions[0])"
   ]
  },
  {
   "cell_type": "code",
   "execution_count": 22,
   "id": "c12ccca8-81be-4b01-a2f9-01e956cede12",
   "metadata": {},
   "outputs": [],
   "source": [
    "import sys \n",
    "sys.path.insert(0,'../')\n",
    "from scripts.extraction import extract_cutouts"
   ]
  },
  {
   "cell_type": "code",
   "execution_count": 23,
   "id": "3422a979-5721-44f9-9591-24ac150153be",
   "metadata": {
    "tags": []
   },
   "outputs": [
    {
     "name": "stdout",
     "output_type": "stream",
     "text": [
      "IDENT_1          ra                dec         ... not_drawn_z not_drawn_y\n",
      "------- ------------------- ------------------ ... ----------- -----------\n",
      " 145691 0.20971225115633696 0.3546521723027187 ...         0.0         0.0\n",
      "[0]\n",
      "(45, 45, 6)\n"
     ]
    },
    {
     "data": {
      "image/png": "[encoded data removed]",
      "text/plain": [
       "<Figure size 432x288 with 2 Axes>"
      ]
     },
     "metadata": {
      "needs_background": "light"
     },
     "output_type": "display_data"
    },
    {
     "data": {
      "image/png": "[encoded data removed]",
      "text/plain": [
       "<Figure size 432x288 with 2 Axes>"
      ]
     },
     "metadata": {
      "needs_background": "light"
     },
     "output_type": "display_data"
    },
    {
     "data": {
      "image/png": "[encoded data removed]",
      "text/plain": [
       "<Figure size 432x288 with 2 Axes>"
      ]
     },
     "metadata": {
      "needs_background": "light"
     },
     "output_type": "display_data"
    },
    {
     "data": {
      "image/png": "[encoded data removed]",
      "text/plain": [
       "<Figure size 432x288 with 2 Axes>"
      ]
     },
     "metadata": {
      "needs_background": "light"
     },
     "output_type": "display_data"
    },
    {
     "data": {
      "image/png": "[encoded data removed]",
      "text/plain": [
       "<Figure size 432x288 with 2 Axes>"
      ]
     },
     "metadata": {
      "needs_background": "light"
     },
     "output_type": "display_data"
    },
    {
     "data": {
      "image/png": "[encoded data removed]",
      "text/plain": [
       "<Figure size 432x288 with 2 Axes>"
      ]
     },
     "metadata": {
      "needs_background": "light"
     },
     "output_type": "display_data"
    },
    {
     "name": "stdout",
     "output_type": "stream",
     "text": [
      "IDENT_1          ra                dec         ... not_drawn_z not_drawn_y\n",
      "------- ------------------- ------------------ ... ----------- -----------\n",
      " 145691 0.20971225115633696 0.3546521723027187 ...         0.0         0.0\n",
      "[0]\n",
      "(45, 45, 6)\n"
     ]
    },
    {
     "data": {
      "image/png": "[encoded data removed]",
      "text/plain": [
       "<Figure size 432x288 with 2 Axes>"
      ]
     },
     "metadata": {
      "needs_background": "light"
     },
     "output_type": "display_data"
    },
    {
     "data": {
      "image/png": "[encoded data removed]",
      "text/plain": [
       "<Figure size 432x288 with 2 Axes>"
      ]
     },
     "metadata": {
      "needs_background": "light"
     },
     "output_type": "display_data"
    },
    {
     "data": {
      "image/png": "[encoded data removed]",
      "text/plain": [
       "<Figure size 432x288 with 2 Axes>"
      ]
     },
     "metadata": {
      "needs_background": "light"
     },
     "output_type": "display_data"
    },
    {
     "data": {
      "image/png": "[encoded data removed]",
      "text/plain": [
       "<Figure size 432x288 with 2 Axes>"
      ]
     },
     "metadata": {
      "needs_background": "light"
     },
     "output_type": "display_data"
    },
    {
     "data": {
      "image/png": "[encoded data removed]",
      "text/plain": [
       "<Figure size 432x288 with 2 Axes>"
      ]
     },
     "metadata": {
      "needs_background": "light"
     },
     "output_type": "display_data"
    },
    {
     "data": {
      "image/png": "[encoded data removed]",
      "text/plain": [
       "<Figure size 432x288 with 2 Axes>"
      ]
     },
     "metadata": {
      "needs_background": "light"
     },
     "output_type": "display_data"
    },
    {
     "name": "stdout",
     "output_type": "stream",
     "text": [
      "IDENT_1          ra                dec         ... not_drawn_z not_drawn_y\n",
      "------- ------------------- ------------------ ... ----------- -----------\n",
      " 145691 0.20971225115633696 0.3546521723027187 ...         0.0         0.0\n",
      "[0]\n",
      "(45, 45, 6)\n"
     ]
    },
    {
     "data": {
      "image/png": "[encoded data removed]",
      "text/plain": [
       "<Figure size 432x288 with 2 Axes>"
      ]
     },
     "metadata": {
      "needs_background": "light"
     },
     "output_type": "display_data"
    },
    {
     "data": {
      "image/png": "[encoded data removed]",
      "text/plain": [
       "<Figure size 432x288 with 2 Axes>"
      ]
     },
     "metadata": {
      "needs_background": "light"
     },
     "output_type": "display_data"
    },
    {
     "data": {
      "image/png": "[encoded data removed]",
      "text/plain": [
       "<Figure size 432x288 with 2 Axes>"
      ]
     },
     "metadata": {
      "needs_background": "light"
     },
     "output_type": "display_data"
    },
    {
     "data": {
      "image/png": "[encoded data removed]",
      "text/plain": [
       "<Figure size 432x288 with 2 Axes>"
      ]
     },
     "metadata": {
      "needs_background": "light"
     },
     "output_type": "display_data"
    },
    {
     "data": {
      "image/png": "[encoded data removed]",
      "text/plain": [
       "<Figure size 432x288 with 2 Axes>"
      ]
     },
     "metadata": {
      "needs_background": "light"
     },
     "output_type": "display_data"
    },
    {
     "data": {
      "image/png": "[encoded data removed]",
      "text/plain": [
       "<Figure size 432x288 with 2 Axes>"
      ]
     },
     "metadata": {
      "needs_background": "light"
     },
     "output_type": "display_data"
    },
    {
     "name": "stdout",
     "output_type": "stream",
     "text": [
      "IDENT_1          ra                dec         ... not_drawn_z not_drawn_y\n",
      "------- ------------------- ------------------ ... ----------- -----------\n",
      " 145691 0.20971225115633696 0.3546521723027187 ...         0.0         0.0\n",
      "[0]\n",
      "(45, 45, 6)\n"
     ]
    },
    {
     "data": {
      "image/png": "[encoded data removed]",
      "text/plain": [
       "<Figure size 432x288 with 2 Axes>"
      ]
     },
     "metadata": {
      "needs_background": "light"
     },
     "output_type": "display_data"
    },
    {
     "data": {
      "image/png": "[encoded data removed]",
      "text/plain": [
       "<Figure size 432x288 with 2 Axes>"
      ]
     },
     "metadata": {
      "needs_background": "light"
     },
     "output_type": "display_data"
    },
    {
     "data": {
      "image/png": "[encoded data removed]",
      "text/plain": [
       "<Figure size 432x288 with 2 Axes>"
      ]
     },
     "metadata": {
      "needs_background": "light"
     },
     "output_type": "display_data"
    },
    {
     "data": {
      "image/png": "[encoded data removed]",
      "text/plain": [
       "<Figure size 432x288 with 2 Axes>"
      ]
     },
     "metadata": {
      "needs_background": "light"
     },
     "output_type": "display_data"
    },
    {
     "data": {
      "image/png": "[encoded data removed]",
      "text/plain": [
       "<Figure size 432x288 with 2 Axes>"
      ]
     },
     "metadata": {
      "needs_background": "light"
     },
     "output_type": "display_data"
    },
    {
     "data": {
      "image/png": "[encoded data removed]",
      "text/plain": [
       "<Figure size 432x288 with 2 Axes>"
      ]
     },
     "metadata": {
      "needs_background": "light"
     },
     "output_type": "display_data"
    },
    {
     "name": "stdout",
     "output_type": "stream",
     "text": [
      "IDENT_1          ra                dec         ... not_drawn_z not_drawn_y\n",
      "------- ------------------- ------------------ ... ----------- -----------\n",
      " 145691 0.20971225115633696 0.3546521723027187 ...         0.0         0.0\n",
      "[0]\n",
      "(45, 45, 6)\n"
     ]
    },
    {
     "data": {
      "image/png": "[encoded data removed]",
      "text/plain": [
       "<Figure size 432x288 with 2 Axes>"
      ]
     },
     "metadata": {
      "needs_background": "light"
     },
     "output_type": "display_data"
    },
    {
     "data": {
      "image/png": "[encoded data removed]",
      "text/plain": [
       "<Figure size 432x288 with 2 Axes>"
      ]
     },
     "metadata": {
      "needs_background": "light"
     },
     "output_type": "display_data"
    },
    {
     "data": {
      "image/png": "[encoded data removed]",
      "text/plain": [
       "<Figure size 432x288 with 2 Axes>"
      ]
     },
     "metadata": {
      "needs_background": "light"
     },
     "output_type": "display_data"
    },
    {
     "data": {
      "image/png": "[encoded data removed]",
      "text/plain": [
       "<Figure size 432x288 with 2 Axes>"
      ]
     },
     "metadata": {
      "needs_background": "light"
     },
     "output_type": "display_data"
    },
    {
     "data": {
      "image/png": "[encoded data removed]",
      "text/plain": [
       "<Figure size 432x288 with 2 Axes>"
      ]
     },
     "metadata": {
      "needs_background": "light"
     },
     "output_type": "display_data"
    },
    {
     "data": {
      "image/png": "[encoded data removed]",
      "text/plain": [
       "<Figure size 432x288 with 2 Axes>"
      ]
     },
     "metadata": {
      "needs_background": "light"
     },
     "output_type": "display_data"
    },
    {
     "name": "stdout",
     "output_type": "stream",
     "text": [
      "IDENT_1          ra                dec         ... not_drawn_z not_drawn_y\n",
      "------- ------------------- ------------------ ... ----------- -----------\n",
      " 145691 0.20971225115633696 0.3546521723027187 ...         0.0         0.0\n",
      "[0]\n",
      "(45, 45, 6)\n"
     ]
    },
    {
     "data": {
      "image/png": "[encoded data removed]",
      "text/plain": [
       "<Figure size 432x288 with 2 Axes>"
      ]
     },
     "metadata": {
      "needs_background": "light"
     },
     "output_type": "display_data"
    },
    {
     "data": {
      "image/png": "[encoded data removed]",
      "text/plain": [
       "<Figure size 432x288 with 2 Axes>"
      ]
     },
     "metadata": {
      "needs_background": "light"
     },
     "output_type": "display_data"
    },
    {
     "data": {
      "image/png": "[encoded data removed]",
      "text/plain": [
       "<Figure size 432x288 with 2 Axes>"
      ]
     },
     "metadata": {
      "needs_background": "light"
     },
     "output_type": "display_data"
    },
    {
     "data": {
      "image/png": "[encoded data removed]",
      "text/plain": [
       "<Figure size 432x288 with 2 Axes>"
      ]
     },
     "metadata": {
      "needs_background": "light"
     },
     "output_type": "display_data"
    },
    {
     "data": {
      "image/png": "[encoded data removed]",
      "text/plain": [
       "<Figure size 432x288 with 2 Axes>"
      ]
     },
     "metadata": {
      "needs_background": "light"
     },
     "output_type": "display_data"
    },
    {
     "data": {
      "image/png": "[encoded data removed]",
      "text/plain": [
       "<Figure size 432x288 with 2 Axes>"
      ]
     },
     "metadata": {
      "needs_background": "light"
     },
     "output_type": "display_data"
    },
    {
     "name": "stdout",
     "output_type": "stream",
     "text": [
      "IDENT_1          ra                dec         ... not_drawn_z not_drawn_y\n",
      "------- ------------------- ------------------ ... ----------- -----------\n",
      " 145691 0.20971225115633696 0.3546521723027187 ...         0.0         0.0\n",
      "[0]\n",
      "(45, 45, 6)\n"
     ]
    },
    {
     "data": {
      "image/png": "[encoded data removed]",
      "text/plain": [
       "<Figure size 432x288 with 2 Axes>"
      ]
     },
     "metadata": {
      "needs_background": "light"
     },
     "output_type": "display_data"
    },
    {
     "data": {
      "image/png": "[encoded data removed]",
      "text/plain": [
       "<Figure size 432x288 with 2 Axes>"
      ]
     },
     "metadata": {
      "needs_background": "light"
     },
     "output_type": "display_data"
    },
    {
     "data": {
      "image/png": "[encoded data removed]",
      "text/plain": [
       "<Figure size 432x288 with 2 Axes>"
      ]
     },
     "metadata": {
      "needs_background": "light"
     },
     "output_type": "display_data"
    },
    {
     "data": {
      "image/png": "[encoded data removed]",
      "text/plain": [
       "<Figure size 432x288 with 2 Axes>"
      ]
     },
     "metadata": {
      "needs_background": "light"
     },
     "output_type": "display_data"
    },
    {
     "data": {
      "image/png": "[encoded data removed]",
      "text/plain": [
       "<Figure size 432x288 with 2 Axes>"
      ]
     },
     "metadata": {
      "needs_background": "light"
     },
     "output_type": "display_data"
    },
    {
     "data": {
      "image/png": "[encoded data removed]",
      "text/plain": [
       "<Figure size 432x288 with 2 Axes>"
      ]
     },
     "metadata": {
      "needs_background": "light"
     },
     "output_type": "display_data"
    },
    {
     "name": "stdout",
     "output_type": "stream",
     "text": [
      "IDENT_1          ra                dec         ... not_drawn_z not_drawn_y\n",
      "------- ------------------- ------------------ ... ----------- -----------\n",
      " 145691 0.20971225115633696 0.3546521723027187 ...         0.0         0.0\n",
      "[0]\n",
      "(45, 45, 6)\n"
     ]
    },
    {
     "data": {
      "image/png": "[encoded data removed]",
      "text/plain": [
       "<Figure size 432x288 with 2 Axes>"
      ]
     },
     "metadata": {
      "needs_background": "light"
     },
     "output_type": "display_data"
    },
    {
     "data": {
      "image/png": "[encoded data removed]",
      "text/plain": [
       "<Figure size 432x288 with 2 Axes>"
      ]
     },
     "metadata": {
      "needs_background": "light"
     },
     "output_type": "display_data"
    },
    {
     "data": {
      "image/png": "[encoded data removed]",
      "text/plain": [
       "<Figure size 432x288 with 2 Axes>"
      ]
     },
     "metadata": {
      "needs_background": "light"
     },
     "output_type": "display_data"
    },
    {
     "data": {
      "image/png": "[encoded data removed]",
      "text/plain": [
       "<Figure size 432x288 with 2 Axes>"
      ]
     },
     "metadata": {
      "needs_background": "light"
     },
     "output_type": "display_data"
    },
    {
     "data": {
      "image/png": "[encoded data removed]",
      "text/plain": [
       "<Figure size 432x288 with 2 Axes>"
      ]
     },
     "metadata": {
      "needs_background": "light"
     },
     "output_type": "display_data"
    },
    {
     "data": {
      "image/png": "[encoded data removed]",
      "text/plain": [
       "<Figure size 432x288 with 2 Axes>"
      ]
     },
     "metadata": {
      "needs_background": "light"
     },
     "output_type": "display_data"
    },
    {
     "name": "stdout",
     "output_type": "stream",
     "text": [
      "IDENT_1          ra                dec         ... not_drawn_z not_drawn_y\n",
      "------- ------------------- ------------------ ... ----------- -----------\n",
      " 145691 0.20971225115633696 0.3546521723027187 ...         0.0         0.0\n",
      "[0]\n",
      "(45, 45, 6)\n"
     ]
    },
    {
     "data": {
      "image/png": "[encoded data removed]",
      "text/plain": [
       "<Figure size 432x288 with 2 Axes>"
      ]
     },
     "metadata": {
      "needs_background": "light"
     },
     "output_type": "display_data"
    },
    {
     "data": {
      "image/png": "[encoded data removed]",
      "text/plain": [
       "<Figure size 432x288 with 2 Axes>"
      ]
     },
     "metadata": {
      "needs_background": "light"
     },
     "output_type": "display_data"
    },
    {
     "data": {
      "image/png": "[encoded data removed]",
      "text/plain": [
       "<Figure size 432x288 with 2 Axes>"
      ]
     },
     "metadata": {
      "needs_background": "light"
     },
     "output_type": "display_data"
    },
    {
     "data": {
      "image/png": "[encoded data removed]",
      "text/plain": [
       "<Figure size 432x288 with 2 Axes>"
      ]
     },
     "metadata": {
      "needs_background": "light"
     },
     "output_type": "display_data"
    },
    {
     "data": {
      "image/png": "[encoded data removed]",
      "text/plain": [
       "<Figure size 432x288 with 2 Axes>"
      ]
     },
     "metadata": {
      "needs_background": "light"
     },
     "output_type": "display_data"
    },
    {
     "data": {
      "image/png": "[encoded data removed]",
      "text/plain": [
       "<Figure size 432x288 with 2 Axes>"
      ]
     },
     "metadata": {
      "needs_background": "light"
     },
     "output_type": "display_data"
    },
    {
     "name": "stdout",
     "output_type": "stream",
     "text": [
      "IDENT_1          ra                dec         ... not_drawn_z not_drawn_y\n",
      "------- ------------------- ------------------ ... ----------- -----------\n",
      " 145691 0.20971225115633696 0.3546521723027187 ...         0.0         0.0\n",
      "[0]\n",
      "(45, 45, 6)\n"
     ]
    },
    {
     "data": {
      "image/png": "[encoded data removed]",
      "text/plain": [
       "<Figure size 432x288 with 2 Axes>"
      ]
     },
     "metadata": {
      "needs_background": "light"
     },
     "output_type": "display_data"
    },
    {
     "data": {
      "image/png": "[encoded data removed]",
      "text/plain": [
       "<Figure size 432x288 with 2 Axes>"
      ]
     },
     "metadata": {
      "needs_background": "light"
     },
     "output_type": "display_data"
    },
    {
     "data": {
      "image/png": "[encoded data removed]",
      "text/plain": [
       "<Figure size 432x288 with 2 Axes>"
      ]
     },
     "metadata": {
      "needs_background": "light"
     },
     "output_type": "display_data"
    },
    {
     "data": {
      "image/png": "[encoded data removed]",
      "text/plain": [
       "<Figure size 432x288 with 2 Axes>"
      ]
     },
     "metadata": {
      "needs_background": "light"
     },
     "output_type": "display_data"
    },
    {
     "data": {
      "image/png": "[encoded data removed]",
      "text/plain": [
       "<Figure size 432x288 with 2 Axes>"
      ]
     },
     "metadata": {
      "needs_background": "light"
     },
     "output_type": "display_data"
    },
    {
     "data": {
      "image/png": "[encoded data removed]",
      "text/plain": [
       "<Figure size 432x288 with 2 Axes>"
      ]
     },
     "metadata": {
      "needs_background": "light"
     },
     "output_type": "display_data"
    }
   ],
   "source": [
    "cov_madness = []\n",
    "for blend_number in range(len(field_images)):\n",
    "    blends_meta_data = blend['blend_list'][blend_number]\n",
    "    print(blends)\n",
    "    \n",
    "    for galaxy_number in range(len(blends_meta_data)):\n",
    "        detected_position = [[blends_meta_data['y_peak'][galaxy_number], blends_meta_data['x_peak'][galaxy_number]]]\n",
    "        distances_to_center = list(\n",
    "            np.array(detected_position) - int((np.shape(field_images[0])[1] - 1) / 2)\n",
    "        )\n",
    "        cutout_galaxy, idx = extract_cutouts(isolated_images[blend_number][galaxy_number], distances_to_center, cutout_size=45)\n",
    "        print(idx)\n",
    "        if idx == [] :\n",
    "            continue\n",
    "        cutout_galaxy = cutout_galaxy[0]\n",
    "        #cutout_galaxy = np.transpose(cutout_galaxy, axes=(1, 2, 0))\n",
    "        print(np.shape(cutout_galaxy))\n",
    "        ground_truth_pixels = []\n",
    "        predicted_pixels = []\n",
    "        sig = []\n",
    "\n",
    "        for band_number in range(len(bands)):\n",
    "            sig.append(sep.Background(isolated_images[blend_number][galaxy_number][band_number]).globalrms)\n",
    "            mask1 = cutout_galaxy[:, :, band_number]>5 * sig[band_number]\n",
    "            mask2 = madness_predictions[blend_number][galaxy_number][band_number]>5 * sig[band_number]\n",
    "            mask = mask1|mask2\n",
    "            fig, ax = plt.subplots(1, 2)\n",
    "            plt.subplot(1,2,1)\n",
    "            plt.imshow(cutout_galaxy[:, :, band_number])\n",
    "            plt.subplot(1, 2, 2)\n",
    "            plt.imshow(madness_predictions[blend_number][galaxy_number][band_number])\n",
    "            ground_truth_pixels.extend(cutout_galaxy[:, :, band_number][mask])\n",
    "            predicted_pixels.extend(madness_predictions[blend_number][galaxy_number][band_number][mask])\n",
    "            plt.show()\n",
    "\n",
    "        cov_madness.append(np.sum(np.multiply(predicted_pixels, ground_truth_pixels))/(np.sqrt(np.sum(np.square(predicted_pixels)))*np.sqrt(np.sum(np.square(ground_truth_pixels)))))"
   ]
  },
  {
   "cell_type": "code",
   "execution_count": 24,
   "id": "3fad438e-a163-43bb-b33b-90000ab5b906",
   "metadata": {},
   "outputs": [
    {
     "data": {
      "image/png": "[encoded data removed]",
      "text/plain": [
       "<Figure size 432x288 with 1 Axes>"
      ]
     },
     "metadata": {
      "needs_background": "light"
     },
     "output_type": "display_data"
    }
   ],
   "source": [
    "plt.hist(cov_madness);"
   ]
  },
  {
   "cell_type": "code",
   "execution_count": null,
   "id": "5ebafecd-9134-42cd-b255-c33bfc7f80db",
   "metadata": {},
   "outputs": [],
   "source": []
  }
 ],
 "metadata": {
  "kernelspec": {
   "display_name": "debvader",
   "language": "python",
   "name": "debvader"
  },
  "language_info": {
   "codemirror_mode": {
    "name": "ipython",
    "version": 3
   },
   "file_extension": ".py",
   "mimetype": "text/x-python",
   "name": "python",
   "nbconvert_exporter": "python",
   "pygments_lexer": "ipython3",
   "version": "3.8.12"
  }
 },
 "nbformat": 4,
 "nbformat_minor": 5
}
