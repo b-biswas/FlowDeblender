{
 "cells": [
  {
   "cell_type": "code",
   "execution_count": 1,
   "id": "ac026102-8715-491c-8261-3601c873f4c3",
   "metadata": {},
   "outputs": [
    {
     "name": "stderr",
     "output_type": "stream",
     "text": [
      "2022-01-18 12:42:59.380915: W tensorflow/stream_executor/platform/default/dso_loader.cc:59] Could not load dynamic library 'libcudart.so.10.1'; dlerror: libcudart.so.10.1: cannot open shared object file: No such file or directory; LD_LIBRARY_PATH: /pbs/throng/lsst/users/bbiswas/miniconda3/envs/fvae_miniconda/lib/:\n",
      "2022-01-18 12:42:59.380980: I tensorflow/stream_executor/cuda/cudart_stub.cc:29] Ignore above cudart dlerror if you do not have a GPU set up on your machine.\n"
     ]
    }
   ],
   "source": [
    "import numpy as np\n",
    "import tensorflow as tf\n",
    "import sys\n",
    "\n",
    "import numpy as np\n",
    "import os\n",
    "\n",
    "import matplotlib.pyplot as plt\n",
    "%matplotlib inline"
   ]
  },
  {
   "cell_type": "code",
   "execution_count": 2,
   "id": "d255cd48-74d4-4d03-a478-f167985cd964",
   "metadata": {},
   "outputs": [],
   "source": [
    "sys.path.insert(0,'../')\n",
    "from scripts.FlowVAEnet import FlowVAEnet\n",
    "from scripts.utils import listdir_fullpath\n",
    "from scripts.utils import norm, denorm, convert_to_linear_norm"
   ]
  },
  {
   "cell_type": "markdown",
   "id": "31e4fc74-8b1f-4241-89de-06bd87b1cb3f",
   "metadata": {},
   "source": [
    "## Load images"
   ]
  },
  {
   "cell_type": "code",
   "execution_count": 3,
   "id": "a8e54042-b8b5-4965-8b13-e59bc4cac7f7",
   "metadata": {},
   "outputs": [
    {
     "name": "stdout",
     "output_type": "stream",
     "text": [
      "Shape of loaded image(1000, 2, 10, 64, 64)\n"
     ]
    }
   ],
   "source": [
    "bands = [4,5,6,7,8,9]\n",
    "\n",
    "######## List of data samples\n",
    "images_dir = '/sps/lsst/users/barcelin/data/isolated_galaxies/' + '27.5/centered/'\n",
    "list_of_samples = [x for x in listdir_fullpath(os.path.join(images_dir,'training')) if x.endswith('.npy')]\n",
    "list_of_samples_val = [x for x in listdir_fullpath(os.path.join(images_dir,'validation')) if x.endswith('.npy')]\n",
    "\n",
    "# Take 1000 images from the first file.\n",
    "images = np.load(list_of_samples_val[0],  mmap_mode = 'c')[:1000]\n",
    "\n",
    "normalization_weights_path = '/sps/lsst/users/barcelin/data/blended_galaxies/' + '27.5/centered/test' \n",
    "print(\"Shape of loaded image\" + str(np.shape(images)))"
   ]
  },
  {
   "cell_type": "markdown",
   "id": "1468edb1-c77f-41bb-8a66-3962e210e157",
   "metadata": {},
   "source": [
    "## Convernt image to linear normalization\n",
    "Note that the images were non-linearly normalized before being saved. So do denormalization first."
   ]
  },
  {
   "cell_type": "code",
   "execution_count": 4,
   "id": "f721fdc5-8d18-42e4-b30f-e6035781d7c3",
   "metadata": {},
   "outputs": [],
   "source": [
    "# noisy or blended galaxies\n",
    "images_noisy_normed = convert_to_linear_norm(images[:, 1, 4:])\n",
    "images_noisy_normed = np.transpose(images_noisy_normed, axes = (0,2,3,1))\n",
    "\n",
    "# isolated central galaxies\n",
    "images_isolated_normed = convert_to_linear_norm(images[:, 0, 4:])\n",
    "images_isolated_normed = np.transpose(images_isolated_normed, axes = (0,2,3,1))"
   ]
  },
  {
   "cell_type": "code",
   "execution_count": 5,
   "id": "5716904c-7450-4be2-a12c-3cc5354588f2",
   "metadata": {},
   "outputs": [
    {
     "data": {
      "text/plain": [
       "(1000, 64, 64, 6)"
      ]
     },
     "execution_count": 5,
     "metadata": {},
     "output_type": "execute_result"
    }
   ],
   "source": [
    "np.shape(images_isolated_normed)"
   ]
  },
  {
   "cell_type": "markdown",
   "id": "29f7d5b6-20aa-4999-8dd1-65ca3cb5bb6a",
   "metadata": {},
   "source": [
    "## Load trained models"
   ]
  },
  {
   "cell_type": "code",
   "execution_count": 6,
   "id": "acfb8c90-79ba-48c9-9f3e-593f6b7628ad",
   "metadata": {},
   "outputs": [
    {
     "name": "stderr",
     "output_type": "stream",
     "text": [
      "2022-01-18 12:43:20.752593: W tensorflow/stream_executor/platform/default/dso_loader.cc:59] Could not load dynamic library 'libcuda.so.1'; dlerror: libcuda.so.1: cannot open shared object file: No such file or directory; LD_LIBRARY_PATH: /pbs/throng/lsst/users/bbiswas/miniconda3/envs/fvae_miniconda/lib/:\n",
      "2022-01-18 12:43:20.752658: W tensorflow/stream_executor/cuda/cuda_driver.cc:312] failed call to cuInit: UNKNOWN ERROR (303)\n",
      "2022-01-18 12:43:20.752695: I tensorflow/stream_executor/cuda/cuda_diagnostics.cc:156] kernel driver does not appear to be running on this host (jns-bbiswas.cc.in2p3.fr): /proc/driver/nvidia/version does not exist\n",
      "2022-01-18 12:43:20.753215: I tensorflow/core/platform/cpu_feature_guard.cc:142] This TensorFlow binary is optimized with oneAPI Deep Neural Network Library (oneDNN)to use the following CPU instructions in performance-critical operations:  AVX2 AVX512F FMA\n",
      "To enable them in other operations, rebuild TensorFlow with the appropriate compiler flags.\n",
      "2022-01-18 12:43:20.763129: I tensorflow/core/platform/profile_utils/cpu_utils.cc:104] CPU Frequency: 2494140000 Hz\n",
      "2022-01-18 12:43:20.763725: I tensorflow/compiler/xla/service/service.cc:168] XLA service 0x55970ffbb280 initialized for platform Host (this does not guarantee that XLA will be used). Devices:\n",
      "2022-01-18 12:43:20.763756: I tensorflow/compiler/xla/service/service.cc:176]   StreamExecutor device (0): Host, Default Version\n"
     ]
    },
    {
     "name": "stdout",
     "output_type": "stream",
     "text": [
      "WARNING:tensorflow:From /pbs/throng/lsst/users/bbiswas/miniconda3/envs/fvae_miniconda/lib/python3.7/site-packages/tensorflow_probability/python/bijectors/batch_normalization.py:210: Layer.apply (from tensorflow.python.keras.engine.base_layer) is deprecated and will be removed in a future version.\n",
      "Instructions for updating:\n",
      "Please use `layer.__call__` method instead.\n",
      "WARNING:tensorflow:From /pbs/throng/lsst/users/bbiswas/miniconda3/envs/fvae_miniconda/lib/python3.7/site-packages/tensorflow/python/ops/linalg/linear_operator_lower_triangular.py:158: calling LinearOperator.__init__ (from tensorflow.python.ops.linalg.linear_operator) with graph_parents is deprecated and will be removed in a future version.\n",
      "Instructions for updating:\n",
      "Do not pass `graph_parents`.  They will  no longer be used.\n",
      "WARNING:tensorflow:From /pbs/throng/lsst/users/bbiswas/miniconda3/envs/fvae_miniconda/lib/python3.7/site-packages/tensorflow_probability/python/distributions/distribution.py:334: calling TransformedDistribution.__init__ (from tensorflow_probability.python.distributions.transformed_distribution) with batch_shape is deprecated and will be removed after 2020-06-01.\n",
      "Instructions for updating:\n",
      "`batch_shape` and `event_shape` args are deprecated. Please use `tfd.Sample`, `tfd.Independent`, and broadcasted parameters of the base distribution instead. For example, replace `tfd.TransformedDistribution(tfd.Normal(0., 1.), tfb.Exp(), batch_shape=[2, 3], event_shape=[4])` with `tfd.TransformedDistrbution(tfd.Sample(tfd.Normal(tf.zeros([2, 3]), 1.),sample_shape=[4]), tfb.Exp())` or `tfd.TransformedDistribution(tfd.Independent(tfd.Normal(tf.zeros([2, 3, 4]), 1.), reinterpreted_batch_ndims=1), tfb.Exp())`.\n",
      "WARNING:tensorflow:From /pbs/throng/lsst/users/bbiswas/miniconda3/envs/fvae_miniconda/lib/python3.7/site-packages/tensorflow_probability/python/distributions/distribution.py:334: calling TransformedDistribution.__init__ (from tensorflow_probability.python.distributions.transformed_distribution) with event_shape is deprecated and will be removed after 2020-06-01.\n",
      "Instructions for updating:\n",
      "`batch_shape` and `event_shape` args are deprecated. Please use `tfd.Sample`, `tfd.Independent`, and broadcasted parameters of the base distribution instead. For example, replace `tfd.TransformedDistribution(tfd.Normal(0., 1.), tfb.Exp(), batch_shape=[2, 3], event_shape=[4])` with `tfd.TransformedDistrbution(tfd.Sample(tfd.Normal(tf.zeros([2, 3]), 1.),sample_shape=[4]), tfb.Exp())` or `tfd.TransformedDistribution(tfd.Independent(tfd.Normal(tf.zeros([2, 3, 4]), 1.), reinterpreted_batch_ndims=1), tfb.Exp())`.\n"
     ]
    },
    {
     "name": "stderr",
     "output_type": "stream",
     "text": [
      "2022-01-18 12:43:24.379321: W tensorflow/python/util/util.cc:348] Sets are not currently considered sequences, but this may change in the future, so consider avoiding using them.\n"
     ]
    },
    {
     "name": "stdout",
     "output_type": "stream",
     "text": [
      "WARNING:tensorflow:Inconsistent references when loading the checkpoint into this object graph. Either the Trackable object references in the Python program have changed in an incompatible way, or the checkpoint was generated in an incompatible program.\n",
      "\n",
      "Two checkpoint references resolved to different objects (<tensorflow.python.keras.layers.normalization_v2.BatchNormalization object at 0x7f0e1847dad0> and <tensorflow.python.keras.engine.base_layer.TensorFlowOpLayer object at 0x7f0e180ee9d0>).\n",
      "Model: \"functional_1\"\n",
      "_________________________________________________________________\n",
      "Layer (type)                 Output Shape              Param #   \n",
      "=================================================================\n",
      "input_9 (InputLayer)         [(None, 64, 64, 6)]       0         \n",
      "_________________________________________________________________\n",
      "encoder (Functional)         (None, 560)               3778760   \n",
      "_________________________________________________________________\n",
      "multivariate_normal_tri_l (M ((None, 32), (None, 32))  0         \n",
      "_________________________________________________________________\n",
      "decoder (Functional)         (None, 64, 64, 6)         4577228   \n",
      "=================================================================\n",
      "Total params: 8,355,988\n",
      "Trainable params: 8,355,976\n",
      "Non-trainable params: 12\n",
      "_________________________________________________________________\n",
      "None\n"
     ]
    }
   ],
   "source": [
    "flow_net = FlowVAEnet(latent_dim=32, linear_norm=True)\n",
    "flow_net.load_vae_weights(weights_path='/sps/lsst/users/bbiswas/weights/LSST/FlowDeblender/separated_architecture/vae/')\n",
    "flow_net.load_flow_weights(weights_path='/sps/lsst/users/bbiswas/weights/LSST/FlowDeblender/separated_architecture/fvae/')\n",
    "print(flow_net.vae_model.summary())"
   ]
  },
  {
   "cell_type": "markdown",
   "id": "38a58839-33a0-4e5e-ad89-7013bbfbf96c",
   "metadata": {},
   "source": [
    "## Test if VAE works"
   ]
  },
  {
   "cell_type": "markdown",
   "id": "bce121aa-5a3f-4e8e-afc0-36939bba299f",
   "metadata": {},
   "source": [
    "### Looking at image reconstruction"
   ]
  },
  {
   "cell_type": "code",
   "execution_count": 7,
   "id": "69efb2d9-64d8-4b3e-b292-eac61de72fe8",
   "metadata": {},
   "outputs": [],
   "source": [
    "model_vae_output_isolated = flow_net.vae_model(images_isolated_normed)"
   ]
  },
  {
   "cell_type": "code",
   "execution_count": 8,
   "id": "f7ce0121-f556-4076-82b3-1184acf602fc",
   "metadata": {},
   "outputs": [
    {
     "data": {
      "image/png": "[encoded data removed]",
      "text/plain": [
       "<Figure size 864x288 with 6 Axes>"
      ]
     },
     "metadata": {
      "needs_background": "light"
     },
     "output_type": "display_data"
    }
   ],
   "source": [
    "fig, axs = plt.subplots(1, 3, figsize=(12,4))\n",
    "\n",
    "image_num = 1\n",
    "\n",
    "im = axs[0].imshow(images_isolated_normed[image_num][:, :, 2])\n",
    "fig.colorbar(im, ax=axs[0], shrink=0.8)\n",
    "axs[0].set_title(\"original image\")\n",
    "\n",
    "im = axs[1].imshow(model_vae_output_isolated[0].mean().numpy()[image_num][ :, :, 2])\n",
    "fig.colorbar(im, ax=axs[1], shrink=0.8)\n",
    "axs[1].set_title(\"output image\")\n",
    "\n",
    "\n",
    "difference = images_isolated_normed[image_num][:, :, 2] - model_vae_output_isolated[0].mean().numpy()[image_num][ :, :, 2]\n",
    "im = axs[2].imshow(difference)\n",
    "fig.colorbar(im, ax=axs[2],shrink=0.8)\n",
    "axs[2].set_title(\"difference\")\n",
    "\n",
    "plt.tight_layout()"
   ]
  },
  {
   "cell_type": "code",
   "execution_count": 9,
   "id": "9b5256d3-7693-4917-a3a8-9de6ffde33f3",
   "metadata": {},
   "outputs": [
    {
     "data": {
      "image/png": "[encoded data removed]",
      "text/plain": [
       "<Figure size 432x288 with 1 Axes>"
      ]
     },
     "metadata": {
      "needs_background": "light"
     },
     "output_type": "display_data"
    }
   ],
   "source": [
    "plt.imshow(images_noisy_normed[0][ :, :, 2])\n",
    "plt.title(\"original r band image\");"
   ]
  },
  {
   "cell_type": "markdown",
   "id": "f5f55d7f-c5fd-4377-b38e-46fe0074060d",
   "metadata": {
    "tags": []
   },
   "source": [
    "## Test if flow network works\n",
    "\n",
    "The likelihood should be higher for isolated galaxies:"
   ]
  },
  {
   "cell_type": "code",
   "execution_count": 10,
   "id": "e0b651cd-7218-471a-8518-cc1bd43b41cc",
   "metadata": {},
   "outputs": [],
   "source": [
    "isolated_likelihood = flow_net.flow_model(images_isolated_normed)\n",
    "noisy_likelihood = flow_net.flow_model(images_noisy_normed)\n",
    "\n",
    "likelihood_difference=isolated_likelihood-noisy_likelihood"
   ]
  },
  {
   "cell_type": "code",
   "execution_count": 11,
   "id": "322e5d51-2c3f-4ce5-bab2-36591270584f",
   "metadata": {},
   "outputs": [
    {
     "data": {
      "image/png": "[encoded data removed]",
      "text/plain": [
       "<Figure size 432x288 with 1 Axes>"
      ]
     },
     "metadata": {
      "needs_background": "light"
     },
     "output_type": "display_data"
    }
   ],
   "source": [
    "plt.hist(likelihood_difference.numpy(), bins=30);"
   ]
  },
  {
   "cell_type": "code",
   "execution_count": null,
   "id": "e9e71726-5708-4dd8-8850-1595ac419194",
   "metadata": {},
   "outputs": [],
   "source": []
  }
 ],
 "metadata": {
  "kernelspec": {
   "display_name": "fvae_miniconda",
   "language": "python",
   "name": "fvae_miniconda"
  },
  "language_info": {
   "codemirror_mode": {
    "name": "ipython",
    "version": 3
   },
   "file_extension": ".py",
   "mimetype": "text/x-python",
   "name": "python",
   "nbconvert_exporter": "python",
   "pygments_lexer": "ipython3",
   "version": "3.7.11"
  }
 },
 "nbformat": 4,
 "nbformat_minor": 5
}
