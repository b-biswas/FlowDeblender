{
 "cells": [
  {
   "cell_type": "code",
   "execution_count": null,
   "id": "ce148f92-73e6-4496-a01c-0a02557847a4",
   "metadata": {},
   "outputs": [
    {
     "name": "stderr",
     "output_type": "stream",
     "text": [
      "2022-05-03 23:03:07.912606: W tensorflow/stream_executor/platform/default/dso_loader.cc:59] Could not load dynamic library 'libcudart.so.10.1'; dlerror: libcudart.so.10.1: cannot open shared object file: No such file or directory; LD_LIBRARY_PATH: /pbs/throng/lsst/users/bbiswas/miniconda3/envs/debvader/lib/:\n",
      "2022-05-03 23:03:07.912754: I tensorflow/stream_executor/cuda/cudart_stub.cc:29] Ignore above cudart dlerror if you do not have a GPU set up on your machine.\n"
     ]
    }
   ],
   "source": [
    "import sys \n",
    "sys.path.insert(0,'../')\n",
    "\n",
    "%matplotlib inline\n",
    "from scripts.Deblender import Deblend\n",
    "from scripts.utils import listdir_fullpath\n",
    "\n",
    "import numpy as np\n",
    "import os\n",
    "\n",
    "import matplotlib.pyplot as plt\n",
    "\n",
    "import btk\n",
    "import btk.plot_utils\n",
    "import btk.survey\n",
    "import btk.draw_blends\n",
    "import btk.catalog\n",
    "import btk.sampling_functions\n",
    "import astropy.table\n",
    "\n",
    "import tensorflow as tf\n",
    "import tensorflow_probability as tfp\n",
    "tf.get_logger().setLevel('ERROR')"
   ]
  },
  {
   "cell_type": "code",
   "execution_count": null,
   "id": "7b95154a-ec07-4d51-bd2b-0d7d5a5c98f8",
   "metadata": {},
   "outputs": [],
   "source": [
    "import seaborn as sns\n",
    "sns.set_theme(style={\"axes.grid\": True,\n",
    "                     'axes.labelcolor': 'white',\n",
    "                     'figure.facecolor': '.15',\n",
    "                     'xtick.color': 'white',\n",
    "                     'ytick.color': 'white',\n",
    "                     'text.color': 'white',\n",
    "                     'image.cmap': 'viridis',})"
   ]
  },
  {
   "cell_type": "code",
   "execution_count": null,
   "id": "bb1cab59-95f9-4f28-bceb-5c3ebf61afb6",
   "metadata": {},
   "outputs": [],
   "source": [
    "COSMOS_CATALOG_PATHS = [\n",
    "    \"/sps/lsst/users/bbiswas/COSMOS_catalog/COSMOS_25.2_training_sample/real_galaxy_catalog_25.2.fits\",\n",
    "    \"/sps/lsst/users/bbiswas/COSMOS_catalog/COSMOS_25.2_training_sample/real_galaxy_catalog_25.2_fits.fits\",\n",
    "]\n",
    "\n",
    "\n",
    "stamp_size = 100\n",
    "max_number = 60\n",
    "batch_size = 1\n",
    "max_shift = 44\n",
    "catalog = btk.catalog.CosmosCatalog.from_file(COSMOS_CATALOG_PATHS)\n",
    "survey = btk.survey.get_surveys(\"Rubin\")\n",
    "seed=3\n",
    "\n",
    "import galsim \n",
    "galsim_catalog = galsim.COSMOSCatalog(COSMOS_CATALOG_PATHS[0], exclusion_level=\"marginal\")\n",
    "\n",
    "sampling_function = btk.sampling_functions.DefaultSampling(max_number=max_number, maxshift=max_shift, stamp_size=stamp_size, seed=seed)\n",
    "\n",
    "draw_generator = btk.draw_blends.CosmosGenerator(\n",
    "    catalog,\n",
    "    sampling_function,\n",
    "    survey,\n",
    "    batch_size=batch_size,\n",
    "    stamp_size=stamp_size,\n",
    "    cpus=1,\n",
    "    add_noise=\"all\",\n",
    "    verbose=False,\n",
    "    gal_type=\"parametric\",\n",
    "    seed=seed,\n",
    ")"
   ]
  },
  {
   "cell_type": "code",
   "execution_count": null,
   "id": "dea87ec2-19f0-4286-97e7-ab47ac8c7fa1",
   "metadata": {},
   "outputs": [],
   "source": [
    "def crop_image(image, pos, cutout_size):\n",
    "    \"\"\"\n",
    "    crops a portion of the image.\n",
    "    \n",
    "    Parameters\n",
    "    ----------\n",
    "    image:\n",
    "    \n",
    "    pos:\n",
    "    \n",
    "    cutout_size: float\n",
    "        cutout size in arcminutes\n",
    "    \n",
    "    Returns\n",
    "    -------\n",
    "    cropped image\n",
    "    \"\"\"\n",
    "    \n",
    "    cutout_pixel_size = int(cutout_size * 5)\n",
    "    \n",
    "    x_crop_start = int(pos[0] - (cutout_pixel_size-1)/2)\n",
    "    x_crop_end = int(pos[0] + (cutout_pixel_size-1)/2)\n",
    "    \n",
    "    y_crop_start = int(pos[1] - (cutout_pixel_size-1)/2)\n",
    "    y_crop_end = int(pos[1] + (cutout_pixel_size-1)/2)\n",
    "    \n",
    "    #print(np.shape(image))\n",
    "    #print(pos)\n",
    "    #print(x_crop_start)\n",
    "    #print(x_crop_end+1)\n",
    "    cropped_image = image[2, x_crop_start:x_crop_end+1, y_crop_start:y_crop_end+1]\n",
    "    \n",
    "    #print(np.shape(crop_image))\n",
    "    return cropped_image.copy()\n"
   ]
  },
  {
   "cell_type": "code",
   "execution_count": null,
   "id": "18eb710f-8d26-44a8-9a31-9db76e05cc8c",
   "metadata": {},
   "outputs": [],
   "source": [
    "blend = next(draw_generator)\n",
    "\n",
    "blend['blend_list'][0]['x_peak']\n",
    "\n",
    "np.shape(blend['blend_images'][0])"
   ]
  },
  {
   "cell_type": "code",
   "execution_count": null,
   "id": "8cef4724-9a51-454c-bc2a-addd3181aa52",
   "metadata": {},
   "outputs": [],
   "source": [
    "print(\"input_image\")\n",
    "plt.imshow(blend['blend_images'][0, 2])\n",
    "for i in range(len(blend['blend_list'][0])):\n",
    "    plt.text(blend['blend_list'][0]['x_peak'][i], blend['blend_list'][0]['y_peak'][i], str(i))"
   ]
  },
  {
   "cell_type": "code",
   "execution_count": null,
   "id": "77c9fd37-ee04-4a57-b0ae-27b1f51e6ae4",
   "metadata": {
    "tags": []
   },
   "outputs": [],
   "source": [
    "print(\"input_image\")\n",
    "fig=plt.figure(figsize=(10,10))\n",
    "ax=fig.gca()\n",
    "im1 = ax.imshow(blend['blend_images'][0, 2]/80000)\n",
    "for i in range(len(blend['blend_list'][0])):\n",
    "    plt.scatter(blend['blend_list'][0]['x_peak'][i], \n",
    "                blend['blend_list'][0]['y_peak'][i], marker=\"x\", c=\"r\")\n",
    "    #plt.text(blend['blend_list'][0]['x_peak'][i]-1, blend['blend_list'][0]['y_peak'][i]-1, str(i), c='black', fontsize=15)\n",
    "cbar = fig.colorbar(im1, ax=ax)\n",
    "cbar.ax.tick_params(labelsize=20)\n",
    "plt.axis(\"off\")\n",
    "plt.savefig(\"input field\")\n"
   ]
  },
  {
   "cell_type": "code",
   "execution_count": null,
   "id": "aca05e2d-7b70-49ca-9ca8-e3251f84f4ac",
   "metadata": {},
   "outputs": [],
   "source": []
  },
  {
   "cell_type": "code",
   "execution_count": null,
   "id": "04b669e8-ef0a-481a-bcff-a381fcbeaca5",
   "metadata": {
    "tags": []
   },
   "outputs": [],
   "source": [
    "tf.get_logger().setLevel('ERROR')\n",
    "\n",
    "detected_positions = []\n",
    "for i in range(len(blend['blend_list'][0])):\n",
    "    detected_positions.append([blend['blend_list'][0]['y_peak'][i], blend['blend_list'][0]['x_peak'][i]])\n",
    "\n",
    "deb = Deblend(blend['blend_images'][0]/80000, \n",
    "              detected_positions,\n",
    "              latent_dim=8, \n",
    "              num_components=len(blend['blend_list'][0]), \n",
    "              use_likelihood=True, \n",
    "              max_iter=300)"
   ]
  },
  {
   "cell_type": "code",
   "execution_count": null,
   "id": "e520476b-fb74-423e-ade7-a623018a7590",
   "metadata": {},
   "outputs": [],
   "source": [
    "#deb.run_debvader()"
   ]
  },
  {
   "cell_type": "code",
   "execution_count": null,
   "id": "6372d283-7ebb-4809-9c55-9e2f3ad18ff9",
   "metadata": {
    "tags": []
   },
   "outputs": [],
   "source": [
    "#fig, ax = plt.subplots(len(blend['blend_list'][0]), 3, figsize=(5*3,5*len(blend['blend_list'][0])))\n",
    "\n",
    "#for i in range(len(blend['blend_list'][0])):\n",
    "\n",
    "    #print(\"image number: \" + str(i))\n",
    "    #image_index = shuffled_indices[i]\n",
    "#     im1 = ax[i, 0].imshow(crop_image(blend['isolated_images'][0][i]/80000, detected_positions[i], 9))\n",
    "#     cbar = fig.colorbar(im1, ax=ax[i, 0])\n",
    "#     cbar.ax.tick_params(labelsize=15)\n",
    "#     ax[i, 0].set_title(\"ground truth\")\n",
    "#     ax[i, 0].scatter(22, 22, c=\"r\", marker=\"x\")\n",
    "\n",
    "#     im2 = ax[i, 1].imshow(deb.components[i][:, :, 2])\n",
    "#     cbar = fig.colorbar(im2, ax=ax[i, 1])\n",
    "#     cbar.ax.tick_params(labelsize=15)\n",
    "#     ax[i, 1].set_title(\"predicted\")\n",
    "    \n",
    "#     im3 = ax[i, 2].imshow(crop_image(blend['isolated_images'][0][i]/80000, detected_positions[i], 9) - deb.components[i][:, :, 2])\n",
    "#     cbar = fig.colorbar(im3, ax=ax[i, 2])\n",
    "#     cbar.ax.tick_params(labelsize=15)\n",
    "#     ax[i, 2].set_title(\"actual - predicted\")\n",
    "    \n",
    "# plt.show()"
   ]
  },
  {
   "cell_type": "code",
   "execution_count": null,
   "id": "a7f31283-319a-434f-8570-31f7ff2a5773",
   "metadata": {},
   "outputs": [],
   "source": [
    "# fig = plt.figure(figsize=(10,10))\n",
    "# ax = fig.gca()\n",
    "# padding_infos = deb.get_padding_infos()\n",
    "# residual = deb.compute_residual(blend['blend_images'][0]/80000, use_scatter_and_sub=True).numpy()\n",
    "# #residual = np.transpose(deb.postage_stamp, \n",
    "# im1 = ax.imshow(residual[:, :, 2])\n",
    "# cbar =fig.colorbar(im1, ax=ax)\n",
    "# cbar.ax.tick_params(labelsize=20)\n",
    "# plt.savefig(\"residual\")"
   ]
  },
  {
   "cell_type": "code",
   "execution_count": null,
   "id": "6da737b1-e67d-4009-a2f8-1b216b4a17ac",
   "metadata": {
    "tags": []
   },
   "outputs": [],
   "source": [
    "convergence_criterion = tfp.optimizer.convergence_criteria.LossNotDecreasing(atol=.0000015*45*45*49*3, min_num_steps=50, window_size=15)\n",
    "#convergence_criterion = None\n",
    "lr_scheduler = tf.keras.optimizers.schedules.ExponentialDecay(initial_learning_rate=0.04, decay_steps=8, decay_rate=0.75, staircase=True)\n",
    "optimizer=tf.keras.optimizers.RMSprop(learning_rate=lr_scheduler)\n",
    "\n",
    "deb(convergence_criterion, optimizer=optimizer)"
   ]
  },
  {
   "cell_type": "code",
   "execution_count": null,
   "id": "3923d299-701a-4189-a122-4d84e8689d03",
   "metadata": {
    "tags": []
   },
   "outputs": [],
   "source": [
    "fig, ax = plt.subplots(len(blend['blend_list'][0]), 2, figsize=(5*2,5*len(blend['blend_list'][0])))\n",
    "\n",
    "for i in range(len(blend['blend_list'][0])):\n",
    "\n",
    "    #print(\"image number: \" + str(i))\n",
    "    #image_index = shuffled_indices[i]\n",
    "    im1 = ax[i, 0].imshow(crop_image(blend['isolated_images'][0][i]/80000, detected_positions[i], 9))\n",
    "    cbar = fig.colorbar(im1, ax=ax[i, 0])\n",
    "    cbar.ax.tick_params(labelsize=20)\n",
    "    ax[i, 0].set_title(\"ground truth\", fontsize=20)\n",
    "    ax[i, 0].scatter(22, 22, c=\"r\", marker=\"x\")\n",
    "    ax[i, 0].axis('off')\n",
    "\n",
    "\n",
    "    im2 = ax[i, 1].imshow(deb.components[i][:, :, 2])\n",
    "    cbar = fig.colorbar(im2, ax=ax[i, 1])\n",
    "    cbar.ax.tick_params(labelsize=20)\n",
    "    ax[i, 1].set_title(\"predicted\", fontsize=20)\n",
    "    ax[i, 1].axis('off')\n",
    "\n",
    "    \n",
    "#     im3 = ax[i, 2].imshow(crop_image(blend['isolated_images'][0][i]/80000, detected_positions[i], 9) - deb.components[i][:, :, 2])\n",
    "#     cbar = fig.colorbar(im3, ax=ax[i, 2])\n",
    "#     cbar.ax.tick_params(labelsize=15)\n",
    "#     ax[i, 2].set_title(\"actual - predicted\")\n",
    "#     plt.axis('off')\n",
    "\n",
    "plt.savefig(\"MAP_predictions\")\n",
    "plt.show()"
   ]
  },
  {
   "cell_type": "code",
   "execution_count": null,
   "id": "7af1602d-3bf4-439e-b771-71b71039efd8",
   "metadata": {},
   "outputs": [],
   "source": [
    "fig, ax = plt.subplots(1, len(blend['blend_list'][0]), figsize=(5*len(blend['blend_list'][0]), 5*1))\n",
    "for i in range(len(blend['blend_list'][0])):\n",
    "\n",
    "    #print(\"image number: \" + str(i))\n",
    "    #image_index = shuffled_indices[i]\n",
    "\n",
    "    im2 = ax[i].imshow(deb.components[i][:, :, 2])\n",
    "    cbar = fig.colorbar(im2, ax=ax[i])\n",
    "    cbar.ax.tick_params(labelsize=15)\n",
    "    ax[i].axis(\"off\")\n",
    "    #ax[i].set_title(\"predicted\")\n",
    "plt.savefig(\"predictions\")"
   ]
  },
  {
   "cell_type": "code",
   "execution_count": null,
   "id": "2345f208-6de3-4a14-b035-5f7803712f88",
   "metadata": {},
   "outputs": [],
   "source": [
    "fig = plt.figure(figsize=(10,10))\n",
    "plt.imshow(blend['blend_images'][0][1])"
   ]
  },
  {
   "cell_type": "code",
   "execution_count": null,
   "id": "23a8a44d-ff61-4ef9-98d4-4a7f1b1f3d04",
   "metadata": {},
   "outputs": [],
   "source": [
    "fig = plt.figure(figsize=(10,10))\n",
    "ax = fig.gca()\n",
    "tf.config.run_functions_eagerly(True)\n",
    "\n",
    "padding_infos = deb.get_padding_infos()\n",
    "residual = deb.compute_residual(blend['blend_images'][0]/80000, use_scatter_and_sub=True).numpy()\n",
    "#residual = np.transpose(deb.postage_stamp, \n",
    "im1 = ax.imshow(residual[:, :, 1])\n",
    "cbar =fig.colorbar(im1, ax=ax)\n",
    "cbar.ax.tick_params(labelsize=20)\n",
    "plt.axis(\"off\")\n",
    "plt.savefig(\"residual\")\n",
    "\n",
    "#for i in range(len(blend['blend_list'][0])):\n",
    "    #plt.scatter(blend['blend_list'][0]['x_peak'][i], blend['blend_list'][0]['y_peak'][i], marker=\"x\", linewidths=.5, s=120, c=\"r\")"
   ]
  },
  {
   "cell_type": "code",
   "execution_count": null,
   "id": "f57baa9c-50ec-4def-840c-a3ddf67ab4d8",
   "metadata": {},
   "outputs": [],
   "source": []
  },
  {
   "cell_type": "code",
   "execution_count": null,
   "id": "516f4ff2-65fd-4b00-a11e-c318dc96e69c",
   "metadata": {},
   "outputs": [],
   "source": [
    "print(deb.results)\n",
    "plt.plot(deb.results)"
   ]
  },
  {
   "cell_type": "code",
   "execution_count": null,
   "id": "d91c1f3c-17e4-46b8-8883-b5efa7858a19",
   "metadata": {},
   "outputs": [],
   "source": []
  },
  {
   "cell_type": "code",
   "execution_count": 18,
   "id": "f1f2021c-5898-42f7-9ee7-b0950942fa23",
   "metadata": {},
   "outputs": [],
   "source": [
    "from scripts.metrics import compute_reconstruction_metrics\n",
    "from scripts.extraction import extract_cutouts"
   ]
  },
  {
   "cell_type": "code",
   "execution_count": null,
   "id": "cc17f6c0-4e5b-48a9-ad89-c366e1a8f148",
   "metadata": {},
   "outputs": [],
   "source": [
    "field_size = np.shape(blend['isolated_images'][0][i])[1]"
   ]
  },
  {
   "cell_type": "code",
   "execution_count": null,
   "id": "214fc441-2a5c-4b4b-aafb-842bbb920e4b",
   "metadata": {},
   "outputs": [],
   "source": [
    "field_image=blend['blend_images'][0]"
   ]
  },
  {
   "cell_type": "code",
   "execution_count": null,
   "id": "db67437e-a13f-4de1-be4e-fd2113753a51",
   "metadata": {},
   "outputs": [],
   "source": [
    "np.amax(field_image[5])"
   ]
  },
  {
   "cell_type": "code",
   "execution_count": null,
   "id": "88cd5891-0193-481f-a975-d3354e37b061",
   "metadata": {},
   "outputs": [],
   "source": [
    "cutouts, list_idx = extract_cutouts(field_image=blend['blend_images'][0]/80000, galaxy_distances_to_center=np.array(detected_positions)-int(field_size/2), cutout_size=45, channel_last=False)"
   ]
  },
  {
   "cell_type": "code",
   "execution_count": null,
   "id": "b417ae5b-2d2f-487b-bc2f-2d208643e1f2",
   "metadata": {},
   "outputs": [],
   "source": [
    "np.shape(cutouts)"
   ]
  },
  {
   "cell_type": "code",
   "execution_count": null,
   "id": "e8fc754e-14d9-4ef4-8de5-6d1a5fe7f15e",
   "metadata": {},
   "outputs": [],
   "source": [
    "np.shape(deb.components)"
   ]
  },
  {
   "cell_type": "code",
   "execution_count": null,
   "id": "fd609f04-3c92-4b4f-be17-5bd80995787b",
   "metadata": {},
   "outputs": [],
   "source": [
    "results=compute_reconstruction_metrics(deb.components, cutouts)"
   ]
  },
  {
   "cell_type": "code",
   "execution_count": null,
   "id": "d22d2293-bf87-45af-957c-1652ba24da5a",
   "metadata": {},
   "outputs": [],
   "source": [
    "plt.hist(results[\"mse\"])"
   ]
  },
  {
   "cell_type": "code",
   "execution_count": null,
   "id": "cc9743cd-6928-427b-865e-74dc62fc5e1f",
   "metadata": {},
   "outputs": [],
   "source": [
    "plt.hist(results[\"ssim\"])"
   ]
  },
  {
   "cell_type": "code",
   "execution_count": null,
   "id": "0543da58-6c48-455d-942b-de15ff1b23c4",
   "metadata": {},
   "outputs": [],
   "source": [
    "plt.hist(results['psnr'])"
   ]
  },
  {
   "cell_type": "code",
   "execution_count": null,
   "id": "d0f89a4d-c8b8-46f9-a49e-8cf7b605c401",
   "metadata": {},
   "outputs": [],
   "source": []
  }
 ],
 "metadata": {
  "kernelspec": {
   "display_name": "debvader",
   "language": "python",
   "name": "debvader"
  },
  "language_info": {
   "codemirror_mode": {
    "name": "ipython",
    "version": 3
   },
   "file_extension": ".py",
   "mimetype": "text/x-python",
   "name": "python",
   "nbconvert_exporter": "python",
   "pygments_lexer": "ipython3",
   "version": "3.7.11"
  }
 },
 "nbformat": 4,
 "nbformat_minor": 5
}
