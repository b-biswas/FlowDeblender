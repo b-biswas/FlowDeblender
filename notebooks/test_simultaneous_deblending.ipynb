{
 "cells": [
  {
   "cell_type": "code",
   "execution_count": null,
   "id": "ce148f92-73e6-4496-a01c-0a02557847a4",
   "metadata": {},
   "outputs": [
    {
     "name": "stderr",
     "output_type": "stream",
     "text": [
      "2023-10-25 09:46:57.790027: W tensorflow/stream_executor/platform/default/dso_loader.cc:59] Could not load dynamic library 'libcudart.so.10.1'; dlerror: libcudart.so.10.1: cannot open shared object file: No such file or directory; LD_LIBRARY_PATH: /pbs/throng/lsst/users/bbiswas/miniconda3/envs/madness/lib/:\n",
      "2023-10-25 09:46:57.790067: I tensorflow/stream_executor/cuda/cudart_stub.cc:29] Ignore above cudart dlerror if you do not have a GPU set up on your machine.\n"
     ]
    }
   ],
   "source": [
    "%matplotlib inline\n",
    "%load_ext autoreload\n",
    "%autoreload 2\n",
    "\n",
    "from maddeb.Deblender import Deblend\n",
    "from maddeb.utils import listdir_fullpath\n",
    "from maddeb.extraction import extract_cutouts\n",
    "\n",
    "import numpy as np\n",
    "import os\n",
    "\n",
    "import matplotlib.pyplot as plt\n",
    "\n",
    "import btk\n",
    "import btk.plot_utils\n",
    "import btk.survey\n",
    "import btk.draw_blends\n",
    "import btk.catalog\n",
    "import btk.sampling_functions\n",
    "import galcheat\n",
    "\n",
    "import astropy.table\n",
    "\n",
    "import tensorflow as tf\n",
    "import tensorflow_probability as tfp\n",
    "tf.get_logger().setLevel('ERROR')\n",
    "\n",
    "from maddeb.utils import CustomSampling, get_data_dir_path"
   ]
  },
  {
   "cell_type": "code",
   "execution_count": null,
   "id": "7b95154a-ec07-4d51-bd2b-0d7d5a5c98f8",
   "metadata": {},
   "outputs": [],
   "source": [
    "import seaborn as sns\n",
    "sns.set_theme(style={\"axes.grid\": True,\n",
    "                     'axes.labelcolor': 'white',\n",
    "                     'figure.facecolor': '.15',\n",
    "                     'xtick.color': 'white',\n",
    "                     'ytick.color': 'white',\n",
    "                     'text.color': 'white',\n",
    "                     'image.cmap': 'viridis',})"
   ]
  },
  {
   "cell_type": "markdown",
   "id": "8951ef4a-0794-4ad7-90ff-343828dcdec7",
   "metadata": {},
   "source": [
    "# Generate the blended scene"
   ]
  },
  {
   "cell_type": "code",
   "execution_count": null,
   "id": "bb1cab59-95f9-4f28-bceb-5c3ebf61afb6",
   "metadata": {},
   "outputs": [
    {
     "ename": "TypeError",
     "evalue": "surveys must be a Survey object or an Iterable of Survey objects,but surveys is type <class 'galcheat.survey.Survey'>",
     "output_type": "error",
     "traceback": [
      "\u001b[0;31m---------------------------------------------------------------------------\u001b[0m",
      "\u001b[0;31mTypeError\u001b[0m                                 Traceback (most recent call last)",
      "Cell \u001b[0;32mIn[3], line 27\u001b[0m\n\u001b[1;32m     14\u001b[0m linear_norm_coeff \u001b[38;5;241m=\u001b[39m \u001b[38;5;241m10000\u001b[39m\n\u001b[1;32m     16\u001b[0m sampling_function \u001b[38;5;241m=\u001b[39m CustomSampling(\n\u001b[1;32m     17\u001b[0m     index_range\u001b[38;5;241m=\u001b[39mindex_range,\n\u001b[1;32m     18\u001b[0m     min_number\u001b[38;5;241m=\u001b[39mmin_number,\n\u001b[0;32m   (...)\u001b[0m\n\u001b[1;32m     23\u001b[0m     unique\u001b[38;5;241m=\u001b[39m\u001b[38;5;28;01mFalse\u001b[39;00m,\n\u001b[1;32m     24\u001b[0m )\n\u001b[0;32m---> 27\u001b[0m draw_generator \u001b[38;5;241m=\u001b[39m \u001b[43mbtk\u001b[49m\u001b[38;5;241;43m.\u001b[39;49m\u001b[43mdraw_blends\u001b[49m\u001b[38;5;241;43m.\u001b[39;49m\u001b[43mCatsimGenerator\u001b[49m\u001b[43m(\u001b[49m\n\u001b[1;32m     28\u001b[0m \u001b[43m    \u001b[49m\u001b[43mcatalog\u001b[49m\u001b[43m,\u001b[49m\n\u001b[1;32m     29\u001b[0m \u001b[43m    \u001b[49m\u001b[43msampling_function\u001b[49m\u001b[43m,\u001b[49m\n\u001b[1;32m     30\u001b[0m \u001b[43m    \u001b[49m\u001b[43msurvey\u001b[49m\u001b[43m,\u001b[49m\n\u001b[1;32m     31\u001b[0m \u001b[43m    \u001b[49m\u001b[43mbatch_size\u001b[49m\u001b[38;5;241;43m=\u001b[39;49m\u001b[43mbatch_size\u001b[49m\u001b[43m,\u001b[49m\n\u001b[1;32m     32\u001b[0m \u001b[43m    \u001b[49m\u001b[43mstamp_size\u001b[49m\u001b[38;5;241;43m=\u001b[39;49m\u001b[43mstamp_size\u001b[49m\u001b[43m,\u001b[49m\n\u001b[1;32m     33\u001b[0m \u001b[43m    \u001b[49m\u001b[43mcpus\u001b[49m\u001b[38;5;241;43m=\u001b[39;49m\u001b[38;5;241;43m1\u001b[39;49m\u001b[43m,\u001b[49m\n\u001b[1;32m     34\u001b[0m \u001b[43m    \u001b[49m\u001b[43madd_noise\u001b[49m\u001b[38;5;241;43m=\u001b[39;49m\u001b[38;5;124;43m\"\u001b[39;49m\u001b[38;5;124;43mall\u001b[39;49m\u001b[38;5;124;43m\"\u001b[39;49m\u001b[43m,\u001b[49m\n\u001b[1;32m     35\u001b[0m \u001b[43m    \u001b[49m\u001b[43maugment_data\u001b[49m\u001b[38;5;241;43m=\u001b[39;49m\u001b[38;5;28;43;01mFalse\u001b[39;49;00m\u001b[43m,\u001b[49m\n\u001b[1;32m     36\u001b[0m \u001b[43m    \u001b[49m\u001b[43mverbose\u001b[49m\u001b[38;5;241;43m=\u001b[39;49m\u001b[38;5;28;43;01mFalse\u001b[39;49;00m\u001b[43m,\u001b[49m\n\u001b[1;32m     37\u001b[0m \u001b[43m    \u001b[49m\u001b[43mseed\u001b[49m\u001b[38;5;241;43m=\u001b[39;49m\u001b[43mseed\u001b[49m\u001b[43m,\u001b[49m\n\u001b[1;32m     38\u001b[0m \u001b[43m)\u001b[49m\n",
      "File \u001b[0;32m/pbs/throng/lsst/users/bbiswas/BlendingToolKit/btk/draw_blends.py:200\u001b[0m, in \u001b[0;36mDrawBlendsGenerator.__init__\u001b[0;34m(self, catalog, sampling_function, surveys, batch_size, stamp_size, cpus, verbose, add_noise, shifts, indexes, channels_last, save_path, seed, apply_shear, augment_data, sky_level_factor)\u001b[0m\n\u001b[1;32m    198\u001b[0m     \u001b[38;5;28mself\u001b[39m\u001b[38;5;241m.\u001b[39msurveys \u001b[38;5;241m=\u001b[39m surveys\n\u001b[1;32m    199\u001b[0m \u001b[38;5;28;01melse\u001b[39;00m:\n\u001b[0;32m--> 200\u001b[0m     \u001b[38;5;28;01mraise\u001b[39;00m \u001b[38;5;167;01mTypeError\u001b[39;00m(\n\u001b[1;32m    201\u001b[0m         \u001b[38;5;124mf\u001b[39m\u001b[38;5;124m\"\u001b[39m\u001b[38;5;124msurveys must be a Survey object or an Iterable of Survey objects,\u001b[39m\u001b[38;5;124m\"\u001b[39m\n\u001b[1;32m    202\u001b[0m         \u001b[38;5;124mf\u001b[39m\u001b[38;5;124m\"\u001b[39m\u001b[38;5;124mbut surveys is type \u001b[39m\u001b[38;5;132;01m{\u001b[39;00m\u001b[38;5;28mtype\u001b[39m(surveys)\u001b[38;5;132;01m}\u001b[39;00m\u001b[38;5;124m\"\u001b[39m\n\u001b[1;32m    203\u001b[0m     )\n\u001b[1;32m    204\u001b[0m \u001b[38;5;28mself\u001b[39m\u001b[38;5;241m.\u001b[39mis_multiresolution \u001b[38;5;241m=\u001b[39m \u001b[38;5;28mlen\u001b[39m(\u001b[38;5;28mself\u001b[39m\u001b[38;5;241m.\u001b[39msurveys) \u001b[38;5;241m>\u001b[39m \u001b[38;5;241m1\u001b[39m\n\u001b[1;32m    206\u001b[0m \u001b[38;5;28mself\u001b[39m\u001b[38;5;241m.\u001b[39mstamp_size \u001b[38;5;241m=\u001b[39m stamp_size\n",
      "\u001b[0;31mTypeError\u001b[0m: surveys must be a Survey object or an Iterable of Survey objects,but surveys is type <class 'galcheat.survey.Survey'>"
     ]
    }
   ],
   "source": [
    "COSMOS_CATALOG_PATHS = \"/sps/lsst/users/bbiswas/OneDegSq_snr_10.fits\"\n",
    "\n",
    "stamp_size = 41\n",
    "min_number = 12\n",
    "max_number = 20\n",
    "batch_size = 2\n",
    "maxshift = 15\n",
    "num_repetations = 15\n",
    "catalog = btk.catalog.CatsimCatalog.from_file(COSMOS_CATALOG_PATHS)\n",
    "index_range = [200000, len(catalog.table)]\n",
    "survey = galcheat.get_survey(\"LSST\")\n",
    "seed = 13\n",
    "\n",
    "linear_norm_coeff = 10000\n",
    "\n",
    "sampling_function = CustomSampling(\n",
    "    index_range=index_range,\n",
    "    min_number=min_number,\n",
    "    max_number=max_number,\n",
    "    maxshift=maxshift,\n",
    "    stamp_size=stamp_size,\n",
    "    seed=seed,\n",
    "    unique=False,\n",
    ")\n",
    "\n",
    "\n",
    "draw_generator = btk.draw_blends.CatsimGenerator(\n",
    "    catalog,\n",
    "    sampling_function,\n",
    "    survey,\n",
    "    batch_size=batch_size,\n",
    "    stamp_size=stamp_size,\n",
    "    cpus=1,\n",
    "    add_noise=\"all\",\n",
    "    augment_data=False,\n",
    "    verbose=False,\n",
    "    seed=seed,\n",
    ")"
   ]
  },
  {
   "cell_type": "code",
   "execution_count": null,
   "id": "5eced710-4f53-43e5-bcb1-b6e17b55abc1",
   "metadata": {},
   "outputs": [],
   "source": [
    "len(catalog.table)"
   ]
  },
  {
   "cell_type": "code",
   "execution_count": null,
   "id": "18eb710f-8d26-44a8-9a31-9db76e05cc8c",
   "metadata": {},
   "outputs": [],
   "source": [
    "blend = next(draw_generator)\n",
    "\n",
    "blend['blend_list'][0]['x_peak']\n",
    "\n",
    "np.shape(blend['blend_images'][0])"
   ]
  },
  {
   "cell_type": "markdown",
   "id": "9dfea3cb-d82b-4778-bb0c-dc9724a5dd84",
   "metadata": {},
   "source": [
    "### choose the field to deblend"
   ]
  },
  {
   "cell_type": "code",
   "execution_count": null,
   "id": "61ee33bc-d5a7-4f21-ae1d-538e92ecb986",
   "metadata": {},
   "outputs": [],
   "source": [
    "field_to_process = 0"
   ]
  },
  {
   "cell_type": "code",
   "execution_count": null,
   "id": "af5f2092-cc02-44f4-a626-0857e15ac5f9",
   "metadata": {},
   "outputs": [],
   "source": [
    "#### print(\"input_image\")\n",
    "band_num = 2\n",
    "plt.imshow(blend['blend_images'][field_to_process, band_num])\n",
    "for i in range(len(blend['blend_list'][field_to_process])):\n",
    "    plt.text(blend['blend_list'][field_to_process]['x_peak'][i], blend['blend_list'][field_to_process]['y_peak'][i], str(i))"
   ]
  },
  {
   "cell_type": "code",
   "execution_count": null,
   "id": "77c9fd37-ee04-4a57-b0ae-27b1f51e6ae4",
   "metadata": {
    "tags": []
   },
   "outputs": [],
   "source": [
    "fig = plt.figure(figsize=(10,10))\n",
    "print(\"input_image\")\n",
    "fig=plt.figure(figsize=(10,10))\n",
    "ax=fig.gca()\n",
    "im1 = ax.imshow(blend['blend_images'][field_to_process, 2])\n",
    "#for i in range(len(blend['blend_list'][0])):\n",
    "#    plt.scatter(blend['blend_list'][0]['x_peak'][i], \n",
    "#                blend['blend_list'][0]['y_peak'][i], marker=\"x\", c=\"r\")\n",
    "    #plt.text(blend['blend_list'][0]['x_peak'][i]-1, blend['blend_list'][0]['y_peak'][i]-1, str(i), c='black', fontsize=15)\n",
    "bar = fig.colorbar(im1, ax=ax)\n",
    "bar.ax.tick_params(labelsize=20)\n",
    "plt.axis(\"off\")\n",
    "plt.savefig(\"input field\")\n"
   ]
  },
  {
   "cell_type": "markdown",
   "id": "ed940d38-f52e-4c62-b56e-737ae502cd18",
   "metadata": {},
   "source": [
    "# Initialize the Deblender"
   ]
  },
  {
   "cell_type": "code",
   "execution_count": null,
   "id": "2436007c-3128-40ff-b93e-71ad33b970ca",
   "metadata": {},
   "outputs": [],
   "source": [
    "tf.get_logger().setLevel('ERROR')\n",
    "\n",
    "latent_dim = 16\n",
    "kl_weight = 1\n",
    "\n",
    "weights_path = os.path.join(get_data_dir_path(), f\"LSST\")\n",
    "deb = Deblend(latent_dim=16, weights_path=weights_path)"
   ]
  },
  {
   "cell_type": "markdown",
   "id": "080c33fe-b32f-478d-9b3c-2e38a08040ab",
   "metadata": {},
   "source": [
    "# Run MADNESS"
   ]
  },
  {
   "cell_type": "code",
   "execution_count": null,
   "id": "6da737b1-e67d-4009-a2f8-1b216b4a17ac",
   "metadata": {
    "tags": []
   },
   "outputs": [],
   "source": [
    "import tensorflow_addons as tfa\n",
    "# convergence_criterion = tfp.optimizer.convergence_criteria.LossNotDecreasing(\n",
    "#     atol=0.000001 * 45 * 45 * len(blend) * 3, min_num_steps=80, window_size=20\n",
    "# )\n",
    "\n",
    "# convergence_criterion = tfp.optimizer.convergence_criteria.LossNotDecreasing(\n",
    "#     atol=0.0001 * 45 * 45 * len(blend) * 3, rtol=.001, min_num_steps=80, window_size=20\n",
    "# )\n",
    "\n",
    "convergence_criterion = tfp.optimizer.convergence_criteria.LossNotDecreasing(\n",
    "    rtol=0.05,\n",
    "    min_num_steps=40,\n",
    "    window_size=15,\n",
    ")\n",
    "# convergence_criterion = None\n",
    "lr_scheduler = tf.keras.optimizers.schedules.ExponentialDecay(\n",
    "    initial_learning_rate=0.25,\n",
    "    decay_steps=20,\n",
    "    decay_rate=0.9,\n",
    "    staircase=False,\n",
    ")\n",
    "optimizer = tf.keras.optimizers.Adam(learning_rate=lr_scheduler)\n",
    "#optimizer=tfa.optimizers.AdaBelief(learning_rate=lr_scheduler)\n",
    "\n",
    "detected_positions = []\n",
    "for i in range(len(blend['blend_list'][field_to_process])):\n",
    "    detected_positions.append([blend['blend_list'][field_to_process]['y_peak'][i], blend['blend_list'][field_to_process]['x_peak'][i]])\n",
    "\n",
    "deb(postage_stamp=blend['blend_images'][field_to_process], \n",
    "    detected_positions=detected_positions,\n",
    "    num_components=len(blend['blend_list'][field_to_process]), \n",
    "    use_log_prob=True, \n",
    "    linear_norm_coeff=linear_norm_coeff,\n",
    "    max_iter=500,\n",
    "    convergence_criterion=convergence_criterion,\n",
    "    optimizer=optimizer,\n",
    "    use_debvader=True,\n",
    "    compute_sig_dynamically=False,\n",
    ")"
   ]
  },
  {
   "cell_type": "code",
   "execution_count": null,
   "id": "516f4ff2-65fd-4b00-a11e-c318dc96e69c",
   "metadata": {},
   "outputs": [],
   "source": [
    "plt.plot(deb.results);"
   ]
  },
  {
   "cell_type": "code",
   "execution_count": null,
   "id": "3923d299-701a-4189-a122-4d84e8689d03",
   "metadata": {
    "tags": []
   },
   "outputs": [],
   "source": [
    "fig, ax = plt.subplots(len(blend['blend_list'][field_to_process]), 5, figsize=(5*5,5*len(blend['blend_list'][0])))\n",
    "\n",
    "for i in range(len(blend['blend_list'][field_to_process])):\n",
    "\n",
    "    #print(\"image number: \" + str(i))\n",
    "    #image_index = shuffled_indices[i]\n",
    "    field_cutout_r_band = extract_cutouts(blend['blend_images'][field_to_process], [detected_positions[i]], distances_to_center=False, channel_last=False, cutout_size=45)[0][0,:, :, 2]\n",
    "    galaxy_cutout_r_band = extract_cutouts(blend['isolated_images'][field_to_process][i], [detected_positions[i]], distances_to_center=False, cutout_size=45)[0][0, :, :, 2]\n",
    "    \n",
    "    im1 = ax[i, 0].imshow(field_cutout_r_band)\n",
    "    cbar = fig.colorbar(im1, ax=ax[i, 0])\n",
    "    cbar.ax.tick_params(labelsize=15)\n",
    "    ax[i, 0].set_title(\"field cutout\", fontsize=20)\n",
    "    ax[i, 0].scatter(22, 22, c=\"r\", marker=\"x\")\n",
    "    ax[i, 0].axis('off')\n",
    "\n",
    "    im1 = ax[i, 1].imshow(galaxy_cutout_r_band)\n",
    "    cbar = fig.colorbar(im1, ax=ax[i, 1])\n",
    "    cbar.ax.tick_params(labelsize=15)\n",
    "    ax[i, 1].set_title(\"ground truth\", fontsize=20)\n",
    "    ax[i, 1].scatter(22, 22, c=\"r\", marker=\"x\")\n",
    "    ax[i, 1].axis('off')\n",
    "\n",
    "\n",
    "    im2 = ax[i, 2].imshow(deb.components[i][:, :, 2])\n",
    "    cbar = fig.colorbar(im2, ax=ax[i, 2])\n",
    "    cbar.ax.tick_params(labelsize=15)\n",
    "    ax[i, 2].set_title(\"predicted\", fontsize=20)\n",
    "    ax[i, 2].axis('off')\n",
    "    \n",
    "    im3 = ax[i, 3].imshow(field_cutout_r_band - deb.components[i][:, :, 2])\n",
    "    cbar = fig.colorbar(im3, ax=ax[i, 3])\n",
    "    cbar.ax.tick_params(labelsize=15)\n",
    "    ax[i, 3].set_title(\"field residual\", fontsize=20)\n",
    "    ax[i, 3].axis('off')\n",
    "\n",
    "    \n",
    "    im3 = ax[i, 4].imshow(galaxy_cutout_r_band - deb.components[i][:, :, 2])\n",
    "    cbar = fig.colorbar(im3, ax=ax[i, 4])\n",
    "    cbar.ax.tick_params(labelsize=15)\n",
    "    ax[i, 4].set_title(\"ground truth - pred\", fontsize=20)\n",
    "    ax[i, 4].axis('off')\n",
    "\n",
    "plt.savefig(\"MAP_predictions\")\n",
    "plt.show()"
   ]
  },
  {
   "cell_type": "code",
   "execution_count": null,
   "id": "7af1602d-3bf4-439e-b771-71b71039efd8",
   "metadata": {},
   "outputs": [],
   "source": [
    "# fig, ax = plt.subplots(1, len(blend['blend_list'][0]), figsize=(5*len(blend['blend_list'][0]), 5*1))\n",
    "# for i in range(len(blend['blend_list'][0])):\n",
    "\n",
    "#     #print(\"image number: \" + str(i))\n",
    "#     #image_index = shuffled_indices[i]\n",
    "\n",
    "#     im2 = ax[i].imshow(deb.components[i][:, :, 2])\n",
    "#     cbar = fig.colorbar(im2, ax=ax[i])\n",
    "#     cbar.ax.tick_params(labelsize=15)\n",
    "#     ax[i].axis(\"off\")\n",
    "#     #ax[i].set_title(\"predicted\")\n",
    "# plt.savefig(\"predictions\")"
   ]
  },
  {
   "cell_type": "code",
   "execution_count": null,
   "id": "2345f208-6de3-4a14-b035-5f7803712f88",
   "metadata": {},
   "outputs": [],
   "source": [
    "# This is just to make the blends more visible\n",
    "\n",
    "sns.set_theme(style={\"axes.grid\": False,\n",
    "                     'axes.labelcolor': 'white',\n",
    "                     'figure.facecolor': '.15',\n",
    "                     'xtick.color': 'white',\n",
    "                     'ytick.color': 'white',\n",
    "                     'text.color': 'white',\n",
    "                     'image.cmap': 'viridis',})\n",
    "\n",
    "fig = plt.figure(figsize=(10,10))\n",
    "plt.axis(\"off\")\n",
    "plt.imshow(np.arcsinh(blend['blend_images'][field_to_process][0]))\n",
    "for i in range(len(blend['blend_list'][field_to_process])):\n",
    "    plt.scatter(blend['blend_list'][field_to_process]['x_peak'][i], \n",
    "                blend['blend_list'][field_to_process]['y_peak'][i], marker=\"x\", c=\"r\")"
   ]
  },
  {
   "cell_type": "code",
   "execution_count": null,
   "id": "23a8a44d-ff61-4ef9-98d4-4a7f1b1f3d04",
   "metadata": {},
   "outputs": [],
   "source": [
    "# Residual after MADNESS run\n",
    "fig = plt.figure(figsize=(10,10))\n",
    "ax = fig.gca()\n",
    "tf.config.run_functions_eagerly(True)\n",
    "\n",
    "padding_infos = deb.get_padding_infos()\n",
    "residual = deb.compute_residual(np.transpose(blend['blend_images'][field_to_process], axes=[1, 2, 0]), use_scatter_and_sub=True).numpy()\n",
    "#residual = np.transpose(deb.postage_stamp, \n",
    "im1 = ax.imshow(residual[:, :, 2])\n",
    "cbar =fig.colorbar(im1, ax=ax)\n",
    "cbar.ax.tick_params(labelsize=20)\n",
    "plt.axis(\"off\")\n",
    "plt.savefig(\"residual\")\n",
    "\n",
    "#for i in range(len(blend['blend_list'][0])):\n",
    "    #plt.scatter(blend['blend_list'][0]['x_peak'][i], blend['blend_list'][0]['y_peak'][i], marker=\"x\", linewidths=.5, s=120, c=\"r\")"
   ]
  },
  {
   "cell_type": "markdown",
   "id": "5504dcfc-bb11-4a46-9e3e-ba6ef0456989",
   "metadata": {},
   "source": [
    "##### sns.set_theme(style={\"axes.grid\": True,\n",
    "                     'axes.labelcolor': 'white',\n",
    "                     'figure.facecolor': '.15',\n",
    "                     'xtick.color': 'white',\n",
    "                     'ytick.color': 'white',\n",
    "                     'text.color': 'white',\n",
    "                     'image.cmap': 'viridis',})\n",
    "\n",
    "plt.figure(figsize=(8,3))\n",
    "residual_flattened = residual[:, :, 0].flatten()\n",
    "print(np.shape(residual_flattened))\n",
    "plt.hist(residual_flattened, bins=50)\n",
    "plt.xticks(fontsize=15)\n",
    "plt.yticks([])"
   ]
  },
  {
   "cell_type": "code",
   "execution_count": null,
   "id": "0de269d8-0d93-4119-a539-f3b0cbf94740",
   "metadata": {},
   "outputs": [],
   "source": [
    "sns.set_theme(style={\"axes.grid\": False,\n",
    "                     'axes.labelcolor': 'white',\n",
    "                     'figure.facecolor': '.15',\n",
    "                     'xtick.color': 'white',\n",
    "                     'ytick.color': 'white',\n",
    "                     'text.color': 'white',\n",
    "                     'image.cmap': 'viridis',})\n",
    "predicted_field = blend['blend_images'][field_to_process] - np.transpose(residual, axes=[2, 0, 1])\n",
    "fig = plt.figure(figsize=(10,10))\n",
    "ax = fig.gca()\n",
    "im1 = ax.imshow(predicted_field[2, :, :])\n",
    "cbar =fig.colorbar(im1, ax=ax)\n",
    "cbar.ax.tick_params(labelsize=20)\n",
    "plt.axis(\"off\")\n",
    "plt.show();"
   ]
  },
  {
   "cell_type": "code",
   "execution_count": null,
   "id": "1c4fb2a7-7964-4918-892f-99cb878fb7e3",
   "metadata": {},
   "outputs": [],
   "source": []
  },
  {
   "cell_type": "code",
   "execution_count": null,
   "id": "11bed05b-f641-4938-8a29-6ac7990bce5f",
   "metadata": {},
   "outputs": [],
   "source": []
  },
  {
   "cell_type": "code",
   "execution_count": null,
   "id": "80439fad-4cbe-46ac-b116-3edc2bcb5e1e",
   "metadata": {},
   "outputs": [],
   "source": []
  }
 ],
 "metadata": {
  "kernelspec": {
   "display_name": "madness",
   "language": "python",
   "name": "madness"
  },
  "language_info": {
   "codemirror_mode": {
    "name": "ipython",
    "version": 3
   },
   "file_extension": ".py",
   "mimetype": "text/x-python",
   "name": "python",
   "nbconvert_exporter": "python",
   "pygments_lexer": "ipython3",
   "version": "3.8.13"
  }
 },
 "nbformat": 4,
 "nbformat_minor": 5
}
